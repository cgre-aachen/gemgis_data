{
 "cells": [
  {
   "cell_type": "markdown",
   "id": "bearing-valuation",
   "metadata": {},
   "source": [
    "<img src=\"../../data/images/gempy_logo.png\" />\n",
    "\n",
    "# <center> From Maps to Models - Tutorials for structural geological modeling using GemPy and GemGIS</center>\n",
    "\n",
    "# Post-Processing Example 3 - Extracting Depth Maps from GemPy Models\n",
    "\n",
    "This post-processing example shows how to export depth maps created from GemPy Models to ZMAP Grids, which can be imported as rasters in QGIS."
   ]
  },
  {
   "cell_type": "markdown",
   "id": "allied-vessel",
   "metadata": {},
   "source": [
    "## Import GemGIS\n",
    "\n",
    "If you have installed ``GemGIS`` via pip or conda, you can import ``GemGIS`` like any other package. If you have downloaded the repository, append the path to the directory where the ``GemGIS`` repository is stored and then import ``GemGIS``. "
   ]
  },
  {
   "cell_type": "code",
   "execution_count": null,
   "id": "neither-funeral",
   "metadata": {
    "ExecuteTime": {
     "end_time": "2022-06-09T12:52:02.810780Z",
     "start_time": "2022-06-09T12:52:00.779448Z"
    }
   },
   "outputs": [],
   "source": [
    "import warnings\n",
    "warnings.filterwarnings(\"ignore\")\n",
    "import gemgis as gg"
   ]
  },
  {
   "cell_type": "markdown",
   "id": "amended-spiritual",
   "metadata": {},
   "source": [
    "## Importing Libraries"
   ]
  },
  {
   "cell_type": "code",
   "execution_count": null,
   "id": "silent-evaluation",
   "metadata": {
    "ExecuteTime": {
     "end_time": "2022-06-09T12:52:03.252692Z",
     "start_time": "2022-06-09T12:52:02.816760Z"
    }
   },
   "outputs": [],
   "source": [
    "import numpy as np\n",
    "import pyvista as pv\n",
    "import pandas as pd\n",
    "import matplotlib.pyplot as plt"
   ]
  },
  {
   "cell_type": "markdown",
   "id": "moved-conservative",
   "metadata": {},
   "source": [
    "## Loading and Plotting Meshes\n",
    "\n",
    "The meshes and colors of the meshes were exported from example 5 and will now be used for this example.\n",
    "\n"
   ]
  },
  {
   "cell_type": "code",
   "execution_count": null,
   "id": "wired-anderson",
   "metadata": {
    "ExecuteTime": {
     "end_time": "2022-06-09T12:52:03.284138Z",
     "start_time": "2022-06-09T12:52:03.255694Z"
    }
   },
   "outputs": [],
   "source": [
    "mesh1 = pv.read('../../data/postproc3_zmaps/mesh1.vtk')\n",
    "mesh1"
   ]
  },
  {
   "cell_type": "code",
   "execution_count": null,
   "id": "czech-millennium",
   "metadata": {
    "ExecuteTime": {
     "end_time": "2022-06-09T12:52:03.315144Z",
     "start_time": "2022-06-09T12:52:03.288119Z"
    }
   },
   "outputs": [],
   "source": [
    "mesh2 = pv.read('../../data/postproc3_zmaps/mesh2.vtk')\n",
    "mesh2"
   ]
  },
  {
   "cell_type": "code",
   "execution_count": null,
   "id": "eligible-involvement",
   "metadata": {
    "ExecuteTime": {
     "end_time": "2022-06-09T12:52:03.331156Z",
     "start_time": "2022-06-09T12:52:03.320129Z"
    }
   },
   "outputs": [],
   "source": [
    "colors = f = open('../../data/postproc3_zmaps/colors.txt', \"r\")\n",
    "colors = colors.read().split(\"\\n\")[:2]\n",
    "colors "
   ]
  },
  {
   "cell_type": "code",
   "execution_count": null,
   "id": "liquid-accent",
   "metadata": {
    "ExecuteTime": {
     "end_time": "2022-06-09T12:52:04.463707Z",
     "start_time": "2022-06-09T12:52:03.338139Z"
    }
   },
   "outputs": [],
   "source": [
    "p = pv.Plotter(notebook=True)\n",
    "\n",
    "p.add_mesh(mesh1, color=colors[0])\n",
    "p.add_mesh(mesh2, color=colors[1])\n",
    "\n",
    "p.show_grid(color= 'black')\n",
    "p.set_background('white')\n",
    "p.show()"
   ]
  },
  {
   "cell_type": "code",
   "execution_count": null,
   "id": "satisfied-champagne",
   "metadata": {
    "ExecuteTime": {
     "end_time": "2022-06-09T12:52:06.952227Z",
     "start_time": "2022-06-09T12:52:04.467691Z"
    }
   },
   "outputs": [],
   "source": [
    "z_values = gg.utils.extract_zmap_data(surface=mesh2,\n",
    "                                      cell_width=25)\n",
    "\n",
    "z_values[z_values == -9999] = np.nan\n",
    "im = plt.imshow(np.flipud(z_values.T), cmap='viridis')\n",
    "plt.gca().invert_yaxis()\n",
    "cbar = plt.colorbar(im)\n",
    "cbar.set_label('Height [m]')"
   ]
  },
  {
   "cell_type": "code",
   "execution_count": null,
   "id": "greenhouse-thunder",
   "metadata": {
    "ExecuteTime": {
     "end_time": "2022-06-09T12:52:09.355683Z",
     "start_time": "2022-06-09T12:52:06.956228Z"
    }
   },
   "outputs": [],
   "source": [
    "zmap_grid = gg.utils.create_zmap_grid(surface=mesh2,\n",
    "                                      cell_width=25, comments=['Unit B'], nodata=-9999\n",
    "                     )\n",
    "zmap_grid"
   ]
  },
  {
   "cell_type": "code",
   "execution_count": null,
   "id": "affecting-snowboard",
   "metadata": {
    "ExecuteTime": {
     "end_time": "2022-06-09T12:52:09.386693Z",
     "start_time": "2022-06-09T12:52:09.358671Z"
    }
   },
   "outputs": [],
   "source": [
    "gg.utils.save_zmap_grid(zmap_grid, path='../../data/postproc3_zmaps/ZMAP_Grid.dat')"
   ]
  },
  {
   "cell_type": "markdown",
   "id": "43adbe92",
   "metadata": {},
   "source": [
    "<a id='licensing'></a>\n",
    "\n",
    "## Licensing\n",
    "\n",
    "Institute for Computational Geoscience, Geothermics and Reservoir Geophysics, RWTH Aachen University & Fraunhofer IEG, Fraunhofer Research Institution for Energy Infrastructures and Geothermal Systems IEG, Authors: Alexander Juestel. For more information contact: alexander.juestel(at)ieg.fraunhofer.de\n",
    "\n",
    "All notebooks are licensed under a Creative Commons Attribution 4.0 International License (CC BY 4.0, http://creativecommons.org/licenses/by/4.0/). References for each displayed map are provided. Most of the maps originate from the books of [Powell (1992)](https://link.springer.com/book/9783540586074) and [Bennison (1990)](https://link.springer.com/book/10.1007/978-1-4615-9630-1). References for maps with unknown origin will gladly be added."
   ]
  }
 ],
 "metadata": {
  "hide_input": false,
  "kernelspec": {
   "display_name": "Python 3 (ipykernel)",
   "language": "python",
   "name": "python3"
  },
  "language_info": {
   "codemirror_mode": {
    "name": "ipython",
    "version": 3
   },
   "file_extension": ".py",
   "mimetype": "text/x-python",
   "name": "python",
   "nbconvert_exporter": "python",
   "pygments_lexer": "ipython3",
   "version": "3.9.15"
  },
  "varInspector": {
   "cols": {
    "lenName": 16,
    "lenType": 16,
    "lenVar": 40
   },
   "kernels_config": {
    "python": {
     "delete_cmd_postfix": "",
     "delete_cmd_prefix": "del ",
     "library": "var_list.py",
     "varRefreshCmd": "print(var_dic_list())"
    },
    "r": {
     "delete_cmd_postfix": ") ",
     "delete_cmd_prefix": "rm(",
     "library": "var_list.r",
     "varRefreshCmd": "cat(var_dic_list()) "
    }
   },
   "types_to_exclude": [
    "module",
    "function",
    "builtin_function_or_method",
    "instance",
    "_Feature"
   ],
   "window_display": false
  }
 },
 "nbformat": 4,
 "nbformat_minor": 5
}
