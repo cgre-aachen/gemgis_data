{
 "cells": [
  {
   "cell_type": "markdown",
   "id": "bearing-valuation",
   "metadata": {},
   "source": [
    "<img src=\"../../data/images/gempy_logo.png\" />\n",
    "\n",
    "# <center> From Maps to Models - Tutorials for structural geological modeling using GemPy and GemGIS</center>\n",
    "\n",
    "# Post-Processing Example 2 - Extracting virtual boreholes from Meshes\n",
    "\n",
    "This post-processing example shows how to extract vertical and deviated boreholes from PyVista meshes. This means getting the XYZ position where a well intersects with the respective mesh. "
   ]
  },
  {
   "cell_type": "markdown",
   "id": "allied-vessel",
   "metadata": {},
   "source": [
    "## Import GemGIS\n",
    "\n",
    "If you have installed ``GemGIS`` via pip or conda, you can import ``GemGIS`` like any other package. If you have downloaded the repository, append the path to the directory where the ``GemGIS`` repository is stored and then import ``GemGIS``. "
   ]
  },
  {
   "cell_type": "code",
   "execution_count": null,
   "id": "neither-funeral",
   "metadata": {
    "ExecuteTime": {
     "end_time": "2022-05-07T06:21:58.700198Z",
     "start_time": "2022-05-07T06:21:58.261873Z"
    }
   },
   "outputs": [],
   "source": [
    "import warnings\n",
    "warnings.filterwarnings(\"ignore\")\n",
    "import gemgis as gg"
   ]
  },
  {
   "cell_type": "markdown",
   "id": "amended-spiritual",
   "metadata": {},
   "source": [
    "## Importing Libraries"
   ]
  },
  {
   "cell_type": "code",
   "execution_count": null,
   "id": "silent-evaluation",
   "metadata": {
    "ExecuteTime": {
     "end_time": "2022-05-07T06:28:17.246519Z",
     "start_time": "2022-05-07T06:28:17.238510Z"
    }
   },
   "outputs": [],
   "source": [
    "import numpy as np\n",
    "import pyvista as pv\n",
    "import pandas as pd"
   ]
  },
  {
   "cell_type": "markdown",
   "id": "moved-conservative",
   "metadata": {},
   "source": [
    "## Loading and Plotting Meshes\n",
    "\n",
    "The meshes and colors of the meshes were exported from example 5 and will now be used for this example.\n",
    "\n"
   ]
  },
  {
   "cell_type": "code",
   "execution_count": null,
   "id": "wired-anderson",
   "metadata": {
    "ExecuteTime": {
     "end_time": "2022-05-07T06:11:34.053492Z",
     "start_time": "2022-05-07T06:11:34.033488Z"
    }
   },
   "outputs": [],
   "source": [
    "mesh1 = pv.read('../../data/postproc2_boreholes/mesh1.vtk')\n",
    "mesh1"
   ]
  },
  {
   "cell_type": "code",
   "execution_count": null,
   "id": "czech-millennium",
   "metadata": {
    "ExecuteTime": {
     "end_time": "2022-05-07T06:11:45.344231Z",
     "start_time": "2022-05-07T06:11:45.320710Z"
    }
   },
   "outputs": [],
   "source": [
    "mesh2 = pv.read('../../data/postproc2_boreholes/mesh2.vtk')\n",
    "mesh2"
   ]
  },
  {
   "cell_type": "code",
   "execution_count": null,
   "id": "eligible-involvement",
   "metadata": {
    "ExecuteTime": {
     "end_time": "2022-05-07T06:14:32.076789Z",
     "start_time": "2022-05-07T06:14:32.057786Z"
    }
   },
   "outputs": [],
   "source": [
    "colors = f = open('../../data/postproc2_boreholes/colors.txt', \"r\")\n",
    "colors = colors.read().split(\"\\n\")[:2]\n",
    "colors "
   ]
  },
  {
   "cell_type": "code",
   "execution_count": null,
   "id": "liquid-accent",
   "metadata": {
    "ExecuteTime": {
     "end_time": "2022-05-07T06:16:03.709937Z",
     "start_time": "2022-05-07T06:16:03.409807Z"
    }
   },
   "outputs": [],
   "source": [
    "p = pv.Plotter(notebook=True)\n",
    "\n",
    "p.add_mesh(mesh1, color=colors[0])\n",
    "p.add_mesh(mesh2, color=colors[1])\n",
    "\n",
    "p.show_grid(color= 'black')\n",
    "p.set_background('white')\n",
    "p.show()"
   ]
  },
  {
   "cell_type": "markdown",
   "id": "advance-pottery",
   "metadata": {},
   "source": [
    "## Extracting intersections between vertical boreholes and meshes\n",
    "\n",
    "Firstly, a PolyData set is created and visualized. The first attempt shows a straight vertical well. We define the X coordinate to be 1000 m and the Y coordinate to be 1500 m. The well starts at a altitude and is drilled to an altitude of -100 m."
   ]
  },
  {
   "cell_type": "code",
   "execution_count": null,
   "id": "optional-airline",
   "metadata": {
    "ExecuteTime": {
     "end_time": "2022-05-07T06:32:23.397099Z",
     "start_time": "2022-05-07T06:32:23.390098Z"
    }
   },
   "outputs": [],
   "source": [
    "well = pv.Line((1000,1500, 800), (1000,1500, -100))\n",
    "well_tube = well.tube(radius=20)\n",
    "well_tube"
   ]
  },
  {
   "cell_type": "code",
   "execution_count": null,
   "id": "positive-enterprise",
   "metadata": {
    "ExecuteTime": {
     "end_time": "2022-05-07T06:32:24.100363Z",
     "start_time": "2022-05-07T06:32:23.854287Z"
    }
   },
   "outputs": [],
   "source": [
    "p = pv.Plotter(notebook=True)\n",
    "\n",
    "p.add_mesh(mesh1, color=colors[0])\n",
    "p.add_mesh(mesh2, color=colors[1])\n",
    "p.add_mesh(well_tube, color='white')\n",
    "p.show_grid(color= 'black')\n",
    "p.set_background('white')\n",
    "p.show()"
   ]
  },
  {
   "cell_type": "code",
   "execution_count": null,
   "id": "portuguese-preserve",
   "metadata": {
    "ExecuteTime": {
     "end_time": "2022-05-07T06:32:41.424205Z",
     "start_time": "2022-05-07T06:32:41.406172Z"
    }
   },
   "outputs": [],
   "source": [
    "well_tops = gg.utils.create_virtual_profile(names_surfaces=['A', 'B'],\n",
    "                                            surfaces=[mesh1, mesh2],\n",
    "                                            borehole=well)\n",
    "well_tops"
   ]
  },
  {
   "cell_type": "markdown",
   "id": "substantial-bermuda",
   "metadata": {},
   "source": [
    "## Extracting intersections between deviated boreholes and meshes\n",
    "\n",
    "The second well represents a deviated well that intersects the meshes multiple times"
   ]
  },
  {
   "cell_type": "code",
   "execution_count": null,
   "id": "future-signature",
   "metadata": {
    "ExecuteTime": {
     "end_time": "2022-05-07T11:08:53.829411Z",
     "start_time": "2022-05-07T11:08:53.805738Z"
    }
   },
   "outputs": [],
   "source": [
    "points = np.array(([2500,1500, 800],\n",
    "                   [2500,1500, 400],\n",
    "                   [1000, 1500, 400],\n",
    "                   [0, 1500, 400],\n",
    "                  ))\n",
    "\n",
    "# From https://docs.pyvista.org/examples/00-load/create-spline.html\n",
    "def lines_from_points(points):\n",
    "    \"\"\"Given an array of points, make a line set\"\"\"\n",
    "    poly = pv.PolyData()\n",
    "    poly.points = points\n",
    "    cells = np.full((len(points) - 1, 3), 2, dtype=np.int_)\n",
    "    cells[:, 1] = np.arange(0, len(points) - 1, dtype=np.int_)\n",
    "    cells[:, 2] = np.arange(1, len(points), dtype=np.int_)\n",
    "    poly.lines = cells\n",
    "    return poly\n",
    "\n",
    "\n",
    "well = lines_from_points(points)\n",
    "\n",
    "well_tube = well.tube(radius=20)\n",
    "well_tube"
   ]
  },
  {
   "cell_type": "code",
   "execution_count": null,
   "id": "republican-scheme",
   "metadata": {
    "ExecuteTime": {
     "end_time": "2022-05-07T11:08:56.387123Z",
     "start_time": "2022-05-07T11:08:55.842056Z"
    }
   },
   "outputs": [],
   "source": [
    "p = pv.Plotter(notebook=True)\n",
    "\n",
    "p.add_mesh(mesh1, color=colors[0])\n",
    "p.add_mesh(mesh2, color=colors[1])\n",
    "p.add_mesh(well_tube, color='white')\n",
    "p.show_grid(color= 'black')\n",
    "p.set_background('white')\n",
    "p.show()"
   ]
  },
  {
   "cell_type": "code",
   "execution_count": null,
   "id": "superior-gateway",
   "metadata": {
    "ExecuteTime": {
     "end_time": "2022-05-07T11:04:23.701644Z",
     "start_time": "2022-05-07T11:04:23.689092Z"
    }
   },
   "outputs": [],
   "source": [
    "well_tube.points[0]"
   ]
  },
  {
   "cell_type": "code",
   "execution_count": null,
   "id": "defined-philippines",
   "metadata": {
    "ExecuteTime": {
     "end_time": "2022-05-07T11:23:38.455730Z",
     "start_time": "2022-05-07T11:23:38.433108Z"
    },
    "code_folding": [
     2
    ]
   },
   "outputs": [],
   "source": [
    "from typing import Union\n",
    "\n",
    "def create_virtual_profile(names_surfaces: list,\n",
    "                           surfaces: list,\n",
    "                           borehole_top: Union[np.ndarray, list],\n",
    "                           borehole_bottom: Union[np.ndarray, list],\n",
    "                           first_point: bool = False):\n",
    "    \"\"\" Function to filter and sort the resulting well tops\n",
    "    Parameters:\n",
    "    ___________\n",
    "        names_surfaces: list\n",
    "            List of the names of the calculated GemPy surfaces\n",
    "        surfaces: list\n",
    "            List of calculated GemPy surfaces\n",
    "        borehole_top:\n",
    "            Coordinates of the top of the well\n",
    "        borehole_bottom:\n",
    "            Coordinates of the bottom of the well\n",
    "        first_point: bool\n",
    "            Returns intersection of first point only\n",
    "    \"\"\"\n",
    "\n",
    "    # Extracting well tops\n",
    "    well_tops = gg.utils.ray_trace_multiple_surfaces(surfaces=surfaces,\n",
    "                                            borehole_top=borehole_top,\n",
    "                                            borehole_bottom=borehole_bottom)\n",
    "\n",
    "    # Creating dict from names and well tops\n",
    "    well_dict = dict(zip(names_surfaces, well_tops))\n",
    "\n",
    "    # Removing empty entries\n",
    "    for key in well_dict.copy():\n",
    "        if not well_dict[key][0].any():\n",
    "            well_dict.pop(key)\n",
    "\n",
    "    # Splitting layers if they have been encountered more than once\n",
    "    for key in well_dict.copy():\n",
    "        if len(well_dict[key][0]) > 1:\n",
    "            for i in range(1, len(well_dict[key][0])):\n",
    "                well_dict[key + '_%s' % str(i + 1)] = (well_dict[key][0][i].reshape(1, 3), well_dict[key][1][i])\n",
    "\n",
    "    # Extracting only Z value from dict\n",
    "    for key in well_dict.keys():\n",
    "        well_dict[key] = well_dict[key][0][0]\n",
    "\n",
    "    # Sorting well dict\n",
    "#     well_dict = dict(sorted(well_dict.items(), key=lambda item: item[1], reverse=True))\n",
    "\n",
    "    return well_dict"
   ]
  },
  {
   "cell_type": "code",
   "execution_count": null,
   "id": "anonymous-arizona",
   "metadata": {
    "ExecuteTime": {
     "end_time": "2022-05-07T11:29:48.914592Z",
     "start_time": "2022-05-07T11:29:48.875886Z"
    }
   },
   "outputs": [],
   "source": [
    "well_tops = [create_virtual_profile(names_surfaces=['A', 'B'],\n",
    "                                            surfaces=[mesh1, mesh2],\n",
    "                                            borehole_top=well.points[i],\n",
    "                                            borehole_bottom=well.points[i+1]) for i in range(len(well.points)-1)]\n",
    "\n",
    "\n",
    "\n",
    "well_tops_df = pd.concat([pd.DataFrame.from_dict(df, orient='index', columns=[ 'X', 'Y', 'Z']) for df in well_tops])\n",
    "\n",
    "well_tops_df"
   ]
  },
  {
   "cell_type": "markdown",
   "id": "5b2573e8",
   "metadata": {},
   "source": [
    "<a id='licensing'></a>\n",
    "\n",
    "## Licensing\n",
    "\n",
    "Institute for Computational Geoscience, Geothermics and Reservoir Geophysics, RWTH Aachen University & Fraunhofer IEG, Fraunhofer Research Institution for Energy Infrastructures and Geothermal Systems IEG, Authors: Alexander Juestel. For more information contact: alexander.juestel(at)ieg.fraunhofer.de\n",
    "\n",
    "All notebooks are licensed under a Creative Commons Attribution 4.0 International License (CC BY 4.0, http://creativecommons.org/licenses/by/4.0/). References for each displayed map are provided. Most of the maps originate from the books of [Powell (1992)](https://link.springer.com/book/9783540586074) and [Bennison (1990)](https://link.springer.com/book/10.1007/978-1-4615-9630-1). References for maps with unknown origin will gladly be added."
   ]
  }
 ],
 "metadata": {
  "hide_input": false,
  "kernelspec": {
   "display_name": "Python 3 (ipykernel)",
   "language": "python",
   "name": "python3"
  },
  "language_info": {
   "codemirror_mode": {
    "name": "ipython",
    "version": 3
   },
   "file_extension": ".py",
   "mimetype": "text/x-python",
   "name": "python",
   "nbconvert_exporter": "python",
   "pygments_lexer": "ipython3",
   "version": "3.9.15"
  },
  "varInspector": {
   "cols": {
    "lenName": 16,
    "lenType": 16,
    "lenVar": 40
   },
   "kernels_config": {
    "python": {
     "delete_cmd_postfix": "",
     "delete_cmd_prefix": "del ",
     "library": "var_list.py",
     "varRefreshCmd": "print(var_dic_list())"
    },
    "r": {
     "delete_cmd_postfix": ") ",
     "delete_cmd_prefix": "rm(",
     "library": "var_list.r",
     "varRefreshCmd": "cat(var_dic_list()) "
    }
   },
   "types_to_exclude": [
    "module",
    "function",
    "builtin_function_or_method",
    "instance",
    "_Feature"
   ],
   "window_display": false
  }
 },
 "nbformat": 4,
 "nbformat_minor": 5
}
