{
 "cells": [
  {
   "cell_type": "markdown",
   "id": "bearing-valuation",
   "metadata": {},
   "source": [
    "<img src=\"../../data/images/gempy_logo.png\" />\n",
    "\n",
    "# <center> From Maps to Models - Tutorials for structural geological modeling using GemPy and GemGIS</center>\n",
    "\n",
    "# Post-Processing Example 1 - Extracting Depth Maps from GemPy Models\n",
    "\n",
    "This post-processing example shows how to extract depth maps from GemPy Models to illustrate the depths of modeled surfaces. This can be used for further applications. "
   ]
  },
  {
   "cell_type": "markdown",
   "id": "allied-vessel",
   "metadata": {},
   "source": [
    "## Import GemGIS\n",
    "\n",
    "If you have installed ``GemGIS`` via pip or conda, you can import ``GemGIS`` like any other package. If you have downloaded the repository, append the path to the directory where the ``GemGIS`` repository is stored and then import ``GemGIS``. "
   ]
  },
  {
   "cell_type": "code",
   "execution_count": null,
   "id": "neither-funeral",
   "metadata": {
    "ExecuteTime": {
     "end_time": "2022-06-09T11:31:16.971617Z",
     "start_time": "2022-06-09T11:31:16.510811Z"
    }
   },
   "outputs": [],
   "source": [
    "import warnings\n",
    "warnings.filterwarnings(\"ignore\")\n",
    "import gemgis as gg"
   ]
  },
  {
   "cell_type": "markdown",
   "id": "amended-spiritual",
   "metadata": {},
   "source": [
    "## Importing Libraries"
   ]
  },
  {
   "cell_type": "code",
   "execution_count": null,
   "id": "silent-evaluation",
   "metadata": {
    "ExecuteTime": {
     "end_time": "2022-06-09T11:32:49.380062Z",
     "start_time": "2022-06-09T11:32:49.366954Z"
    }
   },
   "outputs": [],
   "source": [
    "import numpy as np\n",
    "import pyvista as pv\n",
    "import pandas as pd"
   ]
  },
  {
   "cell_type": "markdown",
   "id": "waiting-creator",
   "metadata": {},
   "source": [
    "## Recomputing Model Example 5\n",
    "Example 5 will be used to demonstrate how to extract depth maps from GemPy models. First, it will be recalculated. "
   ]
  },
  {
   "cell_type": "code",
   "execution_count": null,
   "id": "sorted-seafood",
   "metadata": {
    "ExecuteTime": {
     "end_time": "2022-06-09T11:15:24.835191Z",
     "start_time": "2022-06-09T11:15:24.139046Z"
    }
   },
   "outputs": [],
   "source": [
    "import matplotlib.pyplot as plt\n",
    "import matplotlib.image as mpimg\n",
    "img = mpimg.imread('../../data/images/example5/cover_example05.png')\n",
    "plt.figure(figsize=(10, 10))\n",
    "imgplot = plt.imshow(img)\n",
    "plt.axis('off')\n",
    "plt.tight_layout()"
   ]
  },
  {
   "cell_type": "markdown",
   "id": "0787ae9e",
   "metadata": {},
   "source": [
    "## Calculating the `GemPy` Model."
   ]
  },
  {
   "cell_type": "code",
   "execution_count": null,
   "id": "atlantic-stylus",
   "metadata": {
    "ExecuteTime": {
     "end_time": "2022-06-09T11:26:12.145932Z",
     "start_time": "2022-06-09T11:24:32.412374Z"
    }
   },
   "outputs": [],
   "source": [
    "import gempy as gp\n",
    "\n",
    "geo_model = gp.create_model('Model5')\n",
    "\n",
    "gp.init_data(geo_model, [0, 3942, 0, 2710, -200, 1000], [100, 100, 100],\n",
    "             path_i = '../../data/postproc1_depth_maps/interfaces_example05.csv',\n",
    "             path_o = '../../data/postproc1_depth_maps/orientations_example05.csv',\n",
    "             default_values=True)\n",
    "\n",
    "gp.map_stack_to_surfaces(geo_model,\n",
    "                         {\n",
    "                          'Strata1': ('A', 'B'),\n",
    "                         },\n",
    "                         remove_unused_series=True)\n",
    "geo_model.add_surfaces('Basement')\n",
    "geo_model.set_topography(source='gdal', filepath='../../data/postproc1_depth_maps/raster5.tif')\n",
    "gp.set_interpolator(geo_model,\n",
    "                    compile_theano=True,\n",
    "                    theano_optimizer='fast_compile',\n",
    "                    verbose=[],\n",
    "                    update_kriging=False\n",
    "                    )\n",
    "\n",
    "sol = gp.compute_model(geo_model, compute_mesh=True)"
   ]
  },
  {
   "cell_type": "code",
   "execution_count": null,
   "id": "known-webmaster",
   "metadata": {
    "ExecuteTime": {
     "end_time": "2022-06-09T11:28:00.781198Z",
     "start_time": "2022-06-09T11:27:59.661689Z"
    }
   },
   "outputs": [],
   "source": [
    "gpv = gp.plot_3d(geo_model, image=False, show_topography=False,\n",
    "                 plotter_type='basic', notebook=True, show_lith=True)"
   ]
  },
  {
   "cell_type": "markdown",
   "id": "continental-intro",
   "metadata": {},
   "source": [
    "## Extracting the meshes from the Gempy model\n"
   ]
  },
  {
   "cell_type": "code",
   "execution_count": null,
   "id": "beneficial-appointment",
   "metadata": {
    "ExecuteTime": {
     "end_time": "2022-06-09T11:31:34.491253Z",
     "start_time": "2022-06-09T11:31:34.430234Z"
    }
   },
   "outputs": [],
   "source": [
    "mesh_dict = gg.visualization.create_depth_maps_from_gempy(geo_model, ['A', 'B'])\n",
    "mesh_dict"
   ]
  },
  {
   "cell_type": "markdown",
   "id": "played-contact",
   "metadata": {},
   "source": [
    "## Plotting the meshes as depth maps"
   ]
  },
  {
   "cell_type": "code",
   "execution_count": null,
   "id": "liquid-accent",
   "metadata": {
    "ExecuteTime": {
     "end_time": "2022-06-09T11:35:20.883150Z",
     "start_time": "2022-06-09T11:35:20.472204Z"
    }
   },
   "outputs": [],
   "source": [
    "sargs = dict(height=0.25, vertical=True, position_x=0.05, position_y=0.05)\n",
    "\n",
    "p = pv.Plotter(notebook=True)\n",
    "\n",
    "p.add_mesh(mesh_dict['A'][0], scalars='Depth [m]', scalar_bar_args=sargs, clim=[0, 750])\n",
    "p.add_mesh(mesh_dict['B'][0], scalars='Depth [m]')\n",
    "\n",
    "p.add_mesh(mesh_dict['A'][0].contour(), color='white')\n",
    "p.add_mesh(mesh_dict['B'][0].contour(), color='white')\n",
    "\n",
    "p.show_grid(color= 'black')\n",
    "p.set_background('white')\n",
    "p.show()"
   ]
  },
  {
   "cell_type": "markdown",
   "id": "0532934f",
   "metadata": {},
   "source": [
    "<a id='licensing'></a>\n",
    "\n",
    "## Licensing\n",
    "\n",
    "Institute for Computational Geoscience, Geothermics and Reservoir Geophysics, RWTH Aachen University & Fraunhofer IEG, Fraunhofer Research Institution for Energy Infrastructures and Geotechnologies IEG, Authors: Alexander Juestel. For more information contact: alexander.juestel(at)ieg.fraunhofer.de\n",
    "\n",
    "All notebooks are licensed under a Creative Commons Attribution 4.0 International License (CC BY 4.0, http://creativecommons.org/licenses/by/4.0/). References for each displayed map are provided. Most of the maps originate from the books of [Powell (1992)](https://link.springer.com/book/9783540586074) and [Bennison (1990)](https://link.springer.com/book/10.1007/978-1-4615-9630-1). References for maps with unknown origin will gladly be added."
   ]
  }
 ],
 "metadata": {
  "hide_input": false,
  "kernelspec": {
   "display_name": "Python 3 (ipykernel)",
   "language": "python",
   "name": "python3"
  },
  "language_info": {
   "codemirror_mode": {
    "name": "ipython",
    "version": 3
   },
   "file_extension": ".py",
   "mimetype": "text/x-python",
   "name": "python",
   "nbconvert_exporter": "python",
   "pygments_lexer": "ipython3",
   "version": "3.9.15"
  },
  "varInspector": {
   "cols": {
    "lenName": 16,
    "lenType": 16,
    "lenVar": 40
   },
   "kernels_config": {
    "python": {
     "delete_cmd_postfix": "",
     "delete_cmd_prefix": "del ",
     "library": "var_list.py",
     "varRefreshCmd": "print(var_dic_list())"
    },
    "r": {
     "delete_cmd_postfix": ") ",
     "delete_cmd_prefix": "rm(",
     "library": "var_list.r",
     "varRefreshCmd": "cat(var_dic_list()) "
    }
   },
   "types_to_exclude": [
    "module",
    "function",
    "builtin_function_or_method",
    "instance",
    "_Feature"
   ],
   "window_display": false
  }
 },
 "nbformat": 4,
 "nbformat_minor": 5
}
