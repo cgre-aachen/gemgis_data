{
 "cells": [
  {
   "cell_type": "markdown",
   "id": "interracial-rebound",
   "metadata": {},
   "source": [
    "<img src=\"../../data/images/gempy_logo.png\" />\n",
    "\n",
    "# <center> From Maps to Models - Tutorials for structural geological modeling using GemPy and GemGIS</center>\n",
    "\n",
    "\n",
    "# Example 3 - Planar Dipping Layers\n",
    "This example will show how to convert the geological map below using ``GemGIS`` to a `GemPy` model. This example is based on digitized data. The area is 3000 m wide (W-E extent) and 3740 m high (N-S extent). The vertical model extent varies between 200 m and 1200 m. The model represents several planar stratigraphic units (blue to purple) dipping towards the east above an unspecified basement (light red).\n",
    "\n",
    "<div class=\"alert alert-block alert-success\">\n",
    "<b>In this tutorial, you will learn the following:</b> <br>\n",
    "- How to build your third <b>GemPy</b> model with input data generated through <b>GemGIS</b><br>\n",
    "- How to visualize the topography as <b>PyVista</b> mesh <br>\n",
    "- How to calculate the aparent and true thicknesses of the layers  from wells <br>\n",
    "- Concluding the first section of the main part of the tutorial series<br>\n",
    "\n",
    "</div>\n",
    "\n",
    "## Your Tasks\n",
    "1. Georeference the map in QGIS given the dimensions above using the coordinate reference system with the EPSG code 4326\n",
    "2. Digitize the layer boundaries (including a `formation` column) and the topographic lines (including a `Z` column)\n",
    "3. Digitize so-called strike lines for the different layers. The orientations used for `GemPy` will be calculated from the strike lines.\n",
    "\n",
    "## Contents\n",
    "\n",
    "1. [Installing GemPy and GemGIS](#installing-gempy)\n",
    "2. [Importing Libraries](#importing-libraries)\n",
    "3. [Data Preparation](#data-preparation)\n",
    "    1. [Creating Digital Elevation Model from Contour lines](#creating-digital-elevation-model-from-contour-lines)\n",
    "        1. [Loading Contour Lines](#loading-contour-lines)\n",
    "        2. [Plotting Contour Lines](#plotting-contour-lines)\n",
    "        3. [Interpolating Contour Lines](#interpolating-contour-lines)\n",
    "        4. [Plotting the raster](#plotting-the-raster)\n",
    "        5. [Saving the raster to disc](#saving-the-raster-to-disc)\n",
    "        6. [Opening raster](#opening-raster)\n",
    "    2. [Processing Stratigraphic Boundaries](#processing-stratigraphic-boundaries)\n",
    "        1. [Opening Stratigraphic Boundaries](#opening-stratigraphic-boundaries)\n",
    "        2. [Plotting Stratigraphic Boundaries](#plotting-stratigraphic-boundaries)\n",
    "        3. [Extracting Z coordinates from Digital Elevation Model](#extracting-z-coordinates-from-digital-elevation-model)\n",
    "        4. [Plotting the Interface Points](#plotting-the-interface-points)\n",
    "    3. [Processing Orientations](#processing-orientations)\n",
    "        1. [Orientations from Strike Lines](#orientations-from-strike-lines)\n",
    "        2. [Plotting Strike Lines](#plotting-strike-lines)\n",
    "        2. [Loading Strike Lines](#loading-strike-lines)\n",
    "        3. [Plotting Strike Lines](#plotting-strike-lines)\n",
    "        4. [Calculate Orientations for each formation](#calculate-orientations-for-each-formation)\n",
    "        5. [Merging Orientations for GemPy](#merging-orientations-for-gempy)\n",
    "        6. [Plotting Orientations](#plotting-orientations)\n",
    "4. [GemPy Model calculation](#gempy-model-calculation)\n",
    "    1. [Creating the GemPy Model](#creating-the-gempy-model)\n",
    "    2. [Data Initiation](#data-initiation)\n",
    "    3. [Inspecting the Surfaces](#inspecting-the-surfaces)\n",
    "    4. [Inspecting the Input Data](#inspecting-the-input-data)\n",
    "    5. [Map Stack to Surfaces](#map-stack-to-surfaces)\n",
    "    6. [Showing the Number of Data Points](#showing-the-number-of-data-points)\n",
    "    7. [Loading Digital Elevation Model](#loading-digital-elevation-model)\n",
    "    8. [Defining Custom Section](#defining-custom-section)\n",
    "    6. [Plotting Input Data in 2D](#plotting-the-input-data-in-2d)\n",
    "    7. [Plotting Input Data in 3D](#plotting-the-input-data-in-3d)\n",
    "    8. [Setting the Interpolator](#setting-the-interpolator)\n",
    "    9. [Computing the Model](#computing-the-model)\n",
    "5. [Model Visualization and Post-Processing](#model-visualization-and-post-processing)\n",
    "    1. [Visualizing the computed model in 2D](#visualizing-the-computed-model-in-2d)\n",
    "    2. [Visualizing the computed model in 3D](#visualizing-the-computed-model-in-3d) \n",
    "    3. [Post Processing](#post-processing)\n",
    "        1. [Visualizing Topography as Mesh](#visualize-topography-as-mesh)\n",
    "        1. [Calculating the aparent and true thicknesses of layers](#calculating-the-aparent-and-true-thicknesses-of-layers)\n",
    "\n",
    "<img src=\"../../data/images/example3/cover_example03.png\" />\n",
    "Source: Bennison, G.M. (1988): An Introduction to Geological Structures and Maps, page 7, figure 4, Springer Verlag Berlin, Heidelberg, New York, ISBN: 978-1-4615-9632-5"
   ]
  },
  {
   "cell_type": "markdown",
   "id": "1e8a932a",
   "metadata": {},
   "source": [
    "<a id='installing-gempy'></a>\n",
    "\n",
    "# Installing GemPy and GemGIS\n",
    "\n",
    "If you have not installed `GemPy` yet, please follow the [GemPy installation instructions](https://docs.gempy.org/installation.html) and the [GemGIS installation instructions](https://gemgis.readthedocs.io/en/latest/getting_started/installation.html). If you encounter any issues, feel free to open a new discussion at [GemPy Discussions](https://github.com/cgre-aachen/gempy/discussions) or [GemGIS Discussions](https://github.com/cgre-aachen/gemgis/discussions). If you encounter an error in the installation process, feel free to also open an issue at [GemPy Issues](https://github.com/cgre-aachen/gempy/issues) or [GemGIS Issues](https://github.com/cgre-aachen/gemgis/issues). There, the `GemPy` and `GemGIS` development teams will help you out. "
   ]
  },
  {
   "cell_type": "markdown",
   "id": "imported-figure",
   "metadata": {},
   "source": [
    "<a id='importing-libraries'></a>\n",
    "\n",
    "# Importing Libraries\n",
    "\n",
    "For this notebook, we need the `geopandas` library for the data preparation, `rasterio` for dealing with the created digital elevation model, `matplotlib` for plotting, `numpy` for some numerical calculations, `pandas` for manipulating `DataFrames`, `pyvista` for post-processing and of course the `gempy` and `gemgis` libraries. Any warnings that may appear can be ignored for now. The file path is set to load the data provided for this tutorial. "
   ]
  },
  {
   "cell_type": "code",
   "execution_count": null,
   "id": "neither-funeral",
   "metadata": {
    "ExecuteTime": {
     "end_time": "2022-04-04T15:08:47.963966Z",
     "start_time": "2022-04-04T15:08:46.998818Z"
    }
   },
   "outputs": [],
   "source": [
    "import geopandas as gpd\n",
    "import rasterio\n",
    "import warnings\n",
    "warnings.filterwarnings(\"ignore\")\n",
    "import gemgis as gg\n",
    "import matplotlib.pyplot as plt\n",
    "import numpy as np\n",
    "import gempy as gp\n",
    "import pyvista as pv\n",
    "import pandas as pd"
   ]
  },
  {
   "cell_type": "code",
   "execution_count": null,
   "id": "recorded-france",
   "metadata": {
    "ExecuteTime": {
     "end_time": "2022-04-04T15:08:47.995044Z",
     "start_time": "2022-04-04T15:08:47.980974Z"
    }
   },
   "outputs": [],
   "source": [
    "file_path = '../../data/example03_planar_dipping_layers/'"
   ]
  },
  {
   "cell_type": "markdown",
   "id": "humanitarian-stress",
   "metadata": {},
   "source": [
    "<a id='data-preparation'></a>\n",
    "# Data Preparation\n",
    "\n",
    "At his point, you should have the topographic contour lines (including a `Z` column) and the layer boundaries (including a `formation` column) digitized. If not, please generate the data before continuing with this tutorial. \n",
    "\n",
    "<a id='creating-digital-elevation-model-from-contour-lines'></a>\n",
    "## Creating Digital Elevation Model from Contour Lines\n",
    "\n",
    "The digital elevation model (DEM) will be created by interpolating the contour lines digitized from the georeferenced map using the `SciPy` [Radial Basis Function interpolation](https://docs.scipy.org/doc/scipy/reference/generated/scipy.interpolate.Rbf.html) wrapped in `GemGIS`. The respective function used for that is `gg.vector.interpolate_raster()`. \n",
    "\n",
    "There is also a [tutorial available for this task on the GemGIS Documentation page](https://gemgis.readthedocs.io/en/latest/getting_started/tutorial/05_interpolating_rasters.html).\n",
    "\n",
    "<img src=\"../../data/images/example3/dem_example03.png\" width=700/>\n",
    "Source: Bennison, G.M. (1988): An Introduction to Geological Structures and Maps, page 7, figure 4, Springer Verlag Berlin, Heidelberg, New York, ISBN: 978-1-4615-9632-5\n",
    "\n",
    "\n",
    "<a id='loading-contour-lines'></a>\n",
    "### Loading contour lines\n",
    "\n",
    "First, the contour lines are loaded using `GeoPandas`. Please provide here the name of your shape file containing the digitized topographic contour lines. "
   ]
  },
  {
   "cell_type": "code",
   "execution_count": null,
   "id": "informed-tomorrow",
   "metadata": {
    "ExecuteTime": {
     "end_time": "2022-04-04T15:08:48.250174Z",
     "start_time": "2022-04-04T15:08:48.174088Z"
    }
   },
   "outputs": [],
   "source": [
    "topo = gpd.read_file(file_path + 'topo3.shp')\n",
    "topo.head()"
   ]
  },
  {
   "cell_type": "markdown",
   "id": "c5b80f2b",
   "metadata": {},
   "source": [
    "<a id='plotting-contour-lines'></a>\n",
    "\n",
    "### Plotting the contour lines\n",
    "\n",
    "The contour lines are plotted using the built-in plotting function of `GeoPandas`. "
   ]
  },
  {
   "cell_type": "code",
   "execution_count": null,
   "id": "1a0eb8b5",
   "metadata": {},
   "outputs": [],
   "source": [
    "topo.plot(column='Z', aspect=1, legend=True, cmap='gist_earth')"
   ]
  },
  {
   "cell_type": "markdown",
   "id": "coated-olympus",
   "metadata": {},
   "source": [
    "<a id='interpolating-contour-lines'></a>\n",
    "\n",
    "### Interpolating the contour lines\n",
    "\n",
    "The digital elevation model (DEM) will be created by interpolating the contour lines digitized from the georeferenced map using the `SciPy` [Radial Basis Function interpolation](https://docs.scipy.org/doc/scipy/reference/generated/scipy.interpolate.Rbf.html) wrapped in `GemGIS`. The respective function used for that is `gg.vector.interpolate_raster()`. "
   ]
  },
  {
   "cell_type": "code",
   "execution_count": null,
   "id": "revolutionary-calibration",
   "metadata": {
    "ExecuteTime": {
     "end_time": "2022-04-04T15:08:48.707224Z",
     "start_time": "2022-04-04T15:08:48.253171Z"
    }
   },
   "outputs": [],
   "source": [
    "topo_raster = gg.vector.interpolate_raster(gdf=topo, value='Z', method='rbf', res=100)"
   ]
  },
  {
   "cell_type": "markdown",
   "id": "buried-nurse",
   "metadata": {},
   "source": [
    "<a id='plotting-the-raster'></a>\n",
    "\n",
    "### Plotting the raster\n",
    "\n",
    "The interpolated digital elevation model can be displayed using `matplotlib` and its `plt.imshow()` function and by providing the extent of the raster to align it with the contour lines. "
   ]
  },
  {
   "cell_type": "code",
   "execution_count": null,
   "id": "frozen-gazette",
   "metadata": {
    "ExecuteTime": {
     "end_time": "2022-04-04T15:08:48.993198Z",
     "start_time": "2022-04-04T15:08:48.710225Z"
    }
   },
   "outputs": [],
   "source": [
    "import matplotlib.pyplot as plt\n",
    "\n",
    "fix, ax = plt.subplots(1, figsize=(10, 10))\n",
    "topo.plot(ax=ax, aspect='equal', column='Z', cmap='gist_earth')\n",
    "im = plt.imshow(topo_raster, origin='lower', extent=[0, 3000, 0, 3740], cmap='gist_earth')\n",
    "cbar = plt.colorbar(im)\n",
    "cbar.set_label('Altitude [m]')\n",
    "ax.set_xlabel('X [m]')\n",
    "ax.set_ylabel('Y [m]')\n",
    "ax.set_xlim(0, 3000)\n",
    "ax.set_ylim(0, 3740)"
   ]
  },
  {
   "cell_type": "markdown",
   "id": "adopted-michigan",
   "metadata": {},
   "source": [
    "### Saving the raster to disc\n",
    "\n",
    "After the interpolation of the contour lines, the raster is saved to disc using `gg.raster.save_as_tiff()`. The function will not be executed as a raster is already provided with the example data. "
   ]
  },
  {
   "cell_type": "raw",
   "id": "structured-dinner",
   "metadata": {
    "ExecuteTime": {
     "end_time": "2021-03-28T17:20:29.282767Z",
     "start_time": "2021-03-28T17:20:29.257379Z"
    }
   },
   "source": [
    "gg.raster.save_as_tiff(raster=topo_raster, path=file_path + 'raster3.tif', extent=[0, 3000, 0, 3740], crs='EPSG:4326', overwrite_file=True)"
   ]
  },
  {
   "cell_type": "markdown",
   "id": "combined-bailey",
   "metadata": {},
   "source": [
    "### Opening Raster\n",
    "\n",
    "The previously computed and saved raster can now be opened using rasterio. "
   ]
  },
  {
   "cell_type": "code",
   "execution_count": null,
   "id": "silver-defendant",
   "metadata": {
    "ExecuteTime": {
     "end_time": "2022-04-04T15:08:49.039161Z",
     "start_time": "2022-04-04T15:08:48.995187Z"
    }
   },
   "outputs": [],
   "source": [
    "topo_raster = rasterio.open(file_path + 'raster3.tif')"
   ]
  },
  {
   "cell_type": "markdown",
   "id": "52519d84",
   "metadata": {},
   "source": [
    "<a id='processing-stratigraphic-boundaries'></a>\n",
    "\n",
    "## Processing Stratigraphic Boundaries\n",
    "\n",
    "The interface points will be extracted from LineStrings digitized from the georeferenced map using QGIS. It is important to provide a `formation` name for each layer boundary. Up until now, only the `X` and `Y` position are stored in the vertices of the LineStrings. Using the digital elevation model created already, we will now sample the elevation model at the locations of the vertices to extract the height at this point as the stratigraphic boundary was mapped at the surface.\n",
    "\n",
    "<img src=\"../../data/images/example3/interfaces_example03.png\" width=700/>\n",
    "Source: Bennison, G.M. (1988): An Introduction to Geological Structures and Maps, page 7, figure 4, Springer Verlag Berlin, Heidelberg, New York, ISBN: 978-1-4615-9632-5"
   ]
  },
  {
   "cell_type": "markdown",
   "id": "e2e76dbd",
   "metadata": {},
   "source": [
    "<a id='opening-stratigraphic-boundaries'></a>\n",
    "\n",
    "### Opening Stratigraphic Boundaries\n",
    "\n",
    "The stratigraphic units are opened using `GeoPandas`."
   ]
  },
  {
   "cell_type": "code",
   "execution_count": null,
   "id": "activated-namibia",
   "metadata": {
    "ExecuteTime": {
     "end_time": "2022-04-04T15:08:49.228208Z",
     "start_time": "2022-04-04T15:08:49.199202Z"
    }
   },
   "outputs": [],
   "source": [
    "interfaces = gpd.read_file(file_path + 'interfaces3.shp')\n",
    "interfaces.head()"
   ]
  },
  {
   "cell_type": "markdown",
   "id": "dbbd197b",
   "metadata": {},
   "source": [
    "<a id='plotting-stratigraphic-boundaries'></a>\n",
    "\n",
    "### Plotting Stratigraphic Boundaries"
   ]
  },
  {
   "cell_type": "code",
   "execution_count": null,
   "id": "ec1064cb",
   "metadata": {},
   "outputs": [],
   "source": [
    "fig, ax = plt.subplots(1, figsize=(5,5))\n",
    "\n",
    "interfaces.plot(ax=ax, column='formation', legend=True, aspect='equal')\n",
    "\n",
    "plt.grid()\n",
    "ax.set_xlabel('X [m]')\n",
    "ax.set_ylabel('Y [m]')\n",
    "ax.set_xlim(0, 3000)\n",
    "ax.set_ylim(0, 3740)"
   ]
  },
  {
   "cell_type": "markdown",
   "id": "australian-season",
   "metadata": {},
   "source": [
    "<a id='extracting-z-coordinates-from-digital-elevation-model'></a>\n",
    "\n",
    "### Extracting Z coordinates from Digital Elevation Model\n",
    "\n",
    "The vertical position of the interface point will be extracted from the digital elevation model using the `GemGIS` function `gg.vector.extract_xyz()`. The resulting GeoDataFrame now contains single points including the information about the respective `formation` as well as the `X`, `Y`, and `Z` location. This is all we need as preparational steps to generate input data for `GemPy`. \n",
    "\n",
    "There is also a [tutorial available for this task on the GemGIS Documentation page](https://gemgis.readthedocs.io/en/latest/getting_started/tutorial/02_extract_xyz.html)."
   ]
  },
  {
   "cell_type": "code",
   "execution_count": null,
   "id": "stopped-saint",
   "metadata": {
    "ExecuteTime": {
     "end_time": "2022-04-04T15:08:49.324336Z",
     "start_time": "2022-04-04T15:08:49.230213Z"
    }
   },
   "outputs": [],
   "source": [
    "interfaces_coords = gg.vector.extract_xyz(gdf=interfaces, dem=topo_raster)\n",
    "interfaces_coords = interfaces_coords.sort_values(by='formation', ascending=False)\n",
    "interfaces_coords"
   ]
  },
  {
   "cell_type": "markdown",
   "id": "urban-conservative",
   "metadata": {},
   "source": [
    "<a id='plotting-the-interface-points'></a>\n",
    "\n",
    "### Plotting the Interface Points\n",
    "\n",
    "The interface points incuding their altitude (Z-) values and the digitized LineString can be plotted using `matplotlib`. "
   ]
  },
  {
   "cell_type": "code",
   "execution_count": null,
   "id": "involved-association",
   "metadata": {
    "ExecuteTime": {
     "end_time": "2022-04-04T15:08:49.625546Z",
     "start_time": "2022-04-04T15:08:49.326345Z"
    }
   },
   "outputs": [],
   "source": [
    "fig, ax = plt.subplots(1, figsize=(10, 10))\n",
    "\n",
    "interfaces.plot(ax=ax, column='formation', legend=True, aspect='equal')\n",
    "interfaces_coords.plot(ax=ax, column='formation', legend=True, aspect='equal')\n",
    "plt.grid()\n",
    "ax.set_xlabel('X [m]')\n",
    "ax.set_ylabel('Y [m]')\n",
    "ax.set_xlim(0, 3000)\n",
    "ax.set_ylim(0, 3740)"
   ]
  },
  {
   "cell_type": "markdown",
   "id": "copyrighted-immunology",
   "metadata": {},
   "source": [
    "<a id='processing-orientations'></a>\n",
    "\n",
    "## Processing Orientations\n",
    "\n",
    "For this example, orientations must be calculated yourself. They will be calculated using functions implemented in GemGIS and the previously digitized strike lines. \n",
    "\n",
    "<img src=\"../../data/images/example3/orientations_example03.png\" width=700/>\n",
    "Source: Bennison, G.M. (1988): An Introduction to Geological Structures and Maps, page 7, figure 4, Springer Verlag Berlin, Heidelberg, New York, ISBN: 978-1-4615-9632-5\n",
    "\n",
    "<a id='orientations-from-strike-lines'></a>\n",
    "### Orientations from Strike Lines\n",
    "\n",
    "Strike lines connect outcropping stratigraphic boundaries (interfaces) of the same altitude. In other words: the intersections between topographic contours and stratigraphic boundaries at the surface. The height difference and the horizontal difference between two digitized lines is used to calculate the dip and azimuth and hence an orientation that is necessary for `GemPy`.\n",
    "\n",
    "The calculation of orientations from strike lines has been implemented into `GemPy` for simple cases like these. In order to calculate the orientations, each set of strikes lines/LineStrings for one formation must be given an id number next to the altitude of the strike line. The id field is already predefined in QGIS. The strike line with the lowest altitude gets the id number `1`, the strike line with the highest altitude the the number according to the number of digitized strike lines. It is currently recommended to use one set of strike lines for each structural element of one formation as illustrated. \n",
    "\n",
    "<img src=\"../../data/images/fig3.png\" width=500/>\n",
    "\n",
    "By CrunchyRocks, after Karla Panchuck - https://openpress.usask.ca/physicalgeology/chapter/13-5-measuring-geological-structures/, CC BY 4.0, https://commons.wikimedia.org/w/index.php?curid=113554289\n",
    "\n",
    "\n",
    "<img src=\"../../data/images/model1_strike_lines.PNG\" width=500/>\n",
    "Source: Powell, D. (1995): Interpretation geologischer Strukturen durch Karten - Eine praktische Anleitung mit Aufgaben und Lösungen, page 14, figure 8, Springer Verlag Berlin, Heidelberg, New York, ISBN: 978-3-540-58607-4."
   ]
  },
  {
   "cell_type": "markdown",
   "id": "dc44fc91",
   "metadata": {},
   "source": [
    "<a id='loading-strike-lines'></a>\n",
    "### Loading Strike Lines\n",
    "\n",
    "We are using `GeoPandas` to load the strike lines. "
   ]
  },
  {
   "cell_type": "code",
   "execution_count": null,
   "id": "whole-segment",
   "metadata": {
    "ExecuteTime": {
     "end_time": "2022-04-04T15:08:49.816596Z",
     "start_time": "2022-04-04T15:08:49.786584Z"
    }
   },
   "outputs": [],
   "source": [
    "strikes = gpd.read_file(file_path + 'strikes3.shp')\n",
    "strikes"
   ]
  },
  {
   "cell_type": "markdown",
   "id": "6a3c15ec",
   "metadata": {},
   "source": [
    "<a id='plotting-strike-lines'></a>\n",
    "\n",
    "### Plotting Strike Lines\n",
    "\n",
    "The strike lines can be plotted using `matplotlib`. "
   ]
  },
  {
   "cell_type": "code",
   "execution_count": null,
   "id": "2169bd59",
   "metadata": {},
   "outputs": [],
   "source": [
    "fig, ax = plt.subplots(1, figsize=(5,5))\n",
    "\n",
    "strikes.plot(ax=ax,column='id', aspect=1)\n",
    "interfaces.plot(ax=ax, column='formation', legend=True, aspect='equal')\n",
    "ax.set_xlabel('X [m]')\n",
    "ax.set_ylabel('Y [m]')\n",
    "ax.set_xlim(0, 2932)\n",
    "ax.set_ylim(0, 3677)\n",
    "ax.grid()"
   ]
  },
  {
   "cell_type": "markdown",
   "id": "seasonal-cleanup",
   "metadata": {},
   "source": [
    "<a id='calculate-orientations-for-each-formation'></a>\n",
    "\n",
    "### Calculate Orientations for each formation\n",
    "\n",
    "The calculations will be calculated using the function `gg.vector.calculate_orientations_from_strike_lines()` where the strike lines for each single formation will be provided and calculated separately. The result is a `GeoDataFrame` ready to be used in `GemPy`."
   ]
  },
  {
   "cell_type": "code",
   "execution_count": null,
   "id": "occupational-emergency",
   "metadata": {
    "ExecuteTime": {
     "end_time": "2022-04-04T15:08:49.894821Z",
     "start_time": "2022-04-04T15:08:49.818594Z"
    }
   },
   "outputs": [],
   "source": [
    "orientations_b = gg.vector.calculate_orientations_from_strike_lines(gdf=strikes[strikes['formation'] == 'B'].sort_values(by='id', ascending=True).reset_index())\n",
    "orientations_b"
   ]
  },
  {
   "cell_type": "code",
   "execution_count": null,
   "id": "nonprofit-editing",
   "metadata": {
    "ExecuteTime": {
     "end_time": "2022-04-04T15:08:49.957901Z",
     "start_time": "2022-04-04T15:08:49.896823Z"
    }
   },
   "outputs": [],
   "source": [
    "orientations_c = gg.vector.calculate_orientations_from_strike_lines(gdf=strikes[strikes['formation'] == 'C'].sort_values(by='id', ascending=True).reset_index())\n",
    "orientations_c"
   ]
  },
  {
   "cell_type": "code",
   "execution_count": null,
   "id": "particular-mobility",
   "metadata": {
    "ExecuteTime": {
     "end_time": "2022-04-04T15:08:50.021346Z",
     "start_time": "2022-04-04T15:08:49.959902Z"
    }
   },
   "outputs": [],
   "source": [
    "orientations_d = gg.vector.calculate_orientations_from_strike_lines(gdf=strikes[strikes['formation'] == 'D'].sort_values(by='id', ascending=True).reset_index())\n",
    "orientations_d"
   ]
  },
  {
   "cell_type": "code",
   "execution_count": null,
   "id": "norwegian-summary",
   "metadata": {
    "ExecuteTime": {
     "end_time": "2022-04-04T15:08:50.085352Z",
     "start_time": "2022-04-04T15:08:50.023322Z"
    }
   },
   "outputs": [],
   "source": [
    "orientations_e = gg.vector.calculate_orientations_from_strike_lines(gdf=strikes[strikes['formation'] == 'E'].sort_values(by='Z', ascending=True).reset_index())\n",
    "orientations_e"
   ]
  },
  {
   "cell_type": "code",
   "execution_count": null,
   "id": "covered-quest",
   "metadata": {
    "ExecuteTime": {
     "end_time": "2022-04-04T15:08:50.147587Z",
     "start_time": "2022-04-04T15:08:50.087337Z"
    }
   },
   "outputs": [],
   "source": [
    "orientations_f = gg.vector.calculate_orientations_from_strike_lines(gdf=strikes[strikes['formation'] == 'F'].sort_values(by='id', ascending=True).reset_index())\n",
    "orientations_f"
   ]
  },
  {
   "cell_type": "markdown",
   "id": "incredible-disposal",
   "metadata": {},
   "source": [
    "<a id='merging-orientations-for-gempy'></a>\n",
    "\n",
    "### Merging Orientations for GemPy\n",
    "\n",
    "Since `GemPy` only takes one `DataFrame` for the necessary orientations, the single `DataFrames` are concatenated using `pd.concat()`. "
   ]
  },
  {
   "cell_type": "code",
   "execution_count": null,
   "id": "sitting-reproduction",
   "metadata": {
    "ExecuteTime": {
     "end_time": "2022-04-04T15:08:50.179496Z",
     "start_time": "2022-04-04T15:08:50.149588Z"
    }
   },
   "outputs": [],
   "source": [
    "import pandas as pd\n",
    "orientations = pd.concat([orientations_b, orientations_c, orientations_d, orientations_e, orientations_f])\n",
    "orientations = orientations[orientations['formation'].isin(['F', 'E', 'D', 'C', 'B'])].reset_index()\n",
    "orientations"
   ]
  },
  {
   "cell_type": "markdown",
   "id": "western-metallic",
   "metadata": {},
   "source": [
    "<a id='plotting-orientations'></a>\n",
    "\n",
    "### Plotting the Orientations\n",
    "\n",
    "The orientations can be plotted using `matplotlib`."
   ]
  },
  {
   "cell_type": "code",
   "execution_count": null,
   "id": "departmental-cliff",
   "metadata": {
    "ExecuteTime": {
     "end_time": "2022-04-04T15:08:50.540586Z",
     "start_time": "2022-04-04T15:08:50.183500Z"
    }
   },
   "outputs": [],
   "source": [
    "fig, ax = plt.subplots(1, figsize=(10, 10))\n",
    "\n",
    "interfaces.plot(ax=ax, column='formation', legend=True, aspect='equal')\n",
    "interfaces_coords.plot(ax=ax, column='formation', legend=True, aspect='equal')\n",
    "orientations.plot(ax=ax, color='red', aspect='equal')\n",
    "plt.grid()\n",
    "ax.set_xlabel('X [m]')\n",
    "ax.set_ylabel('Y [m]')\n",
    "ax.set_xlim(0, 3000)\n",
    "ax.set_ylim(0, 3740)"
   ]
  },
  {
   "cell_type": "markdown",
   "id": "horizontal-bristol",
   "metadata": {},
   "source": [
    "<a id='gempy-model-calculation'></a>\n",
    "\n",
    "# GemPy Model Calculation\n",
    "\n",
    "\n",
    "The creation of a `GemPy` Model follows particular steps which will be performed in the following:\n",
    "\n",
    "1. Create new model: `gp.create_model()`\n",
    "2. Data Initiation: `gp.init_data()`\n",
    "3. Map Stack to Surfaces: `gp.map_stack_to_surfaces()`\n",
    "4. [...]\n",
    "5. Set the Interpolator: `gp.set_interpolator()`\n",
    "6. Computing the Model: `gp.compute_model()`\n",
    "\n",
    "<a id='creating-the-gempy-model'></a>\n",
    "\n",
    "## Creating the GemPy Model\n",
    "\n",
    "The first step is to create a new empty `GemPy` model by providing a name for it. "
   ]
  },
  {
   "cell_type": "code",
   "execution_count": null,
   "id": "binding-fishing",
   "metadata": {
    "ExecuteTime": {
     "end_time": "2022-04-04T15:08:53.058985Z",
     "start_time": "2022-04-04T15:08:52.325250Z"
    }
   },
   "outputs": [],
   "source": [
    "geo_model = gp.create_model('Model3')\n",
    "geo_model"
   ]
  },
  {
   "cell_type": "markdown",
   "id": "classical-legend",
   "metadata": {},
   "source": [
    "<a id='data-initiation'></a>\n",
    "\n",
    "## Data Initiation\n",
    "\n",
    "During this step, the `extent` of the model (`xmin`, `xmax`, `ymin`, `ymax`, `zmin`, `zmax`) and the `resolution` in `X`, `Y`and `Z` direction (`res_x`, `res_y`, `res_z`, equal to the number of cells in each direction) will be set using lists of values. \n",
    "\n",
    "The interface points (`surface_points_df`) and orientations (`orientations_df`) will be passed as `pandas` `DataFrames`. "
   ]
  },
  {
   "cell_type": "code",
   "execution_count": null,
   "id": "assisted-nothing",
   "metadata": {
    "ExecuteTime": {
     "end_time": "2022-04-04T15:08:53.294340Z",
     "start_time": "2022-04-04T15:08:53.060973Z"
    }
   },
   "outputs": [],
   "source": [
    "gp.init_data(geo_model, [0, 3000, 0, 3740, 200, 1200], [50, 50, 50],\n",
    "             surface_points_df=interfaces_coords[interfaces_coords['Z'] != 0],\n",
    "             orientations_df=orientations,\n",
    "             default_values=True)"
   ]
  },
  {
   "cell_type": "markdown",
   "id": "russian-messaging",
   "metadata": {},
   "source": [
    "<a id='inspecting-the-surfaces'></a>\n",
    "\n",
    "## Inspecting the Surfaces\n",
    "\n",
    "The model consists of five different layers or surfaces now which all belong to the `Default series`. During the next step, the proper `Series` will be assigned to the surfaces. Using the `surfaces`-attribute again, we can check which layers were loaded."
   ]
  },
  {
   "cell_type": "code",
   "execution_count": null,
   "id": "cutting-energy",
   "metadata": {
    "ExecuteTime": {
     "end_time": "2022-04-04T15:08:53.372236Z",
     "start_time": "2022-04-04T15:08:53.296342Z"
    }
   },
   "outputs": [],
   "source": [
    "geo_model.surfaces"
   ]
  },
  {
   "cell_type": "markdown",
   "id": "c731755a",
   "metadata": {},
   "source": [
    "<a id='inspecting-the-input-data'></a>\n",
    "\n",
    "## Inspecting the Input Data\n",
    "\n",
    "The loaded interface points and orientations can again be inspected using the `surface_points`- and `orientations`-attributes. Using the `df`-attribute of this object will convert the displayed table in a `pandas` `DataFrame`."
   ]
  },
  {
   "cell_type": "code",
   "execution_count": null,
   "id": "8ac7f25c",
   "metadata": {},
   "outputs": [],
   "source": [
    "geo_model.surface_points.df.head()"
   ]
  },
  {
   "cell_type": "code",
   "execution_count": null,
   "id": "521ce9fe",
   "metadata": {},
   "outputs": [],
   "source": [
    "geo_model.orientations.df.head()"
   ]
  },
  {
   "cell_type": "markdown",
   "id": "mobile-ground",
   "metadata": {},
   "source": [
    "<a id='map-stack-to-surfaces'></a>\n",
    "\n",
    "## Map Stack to Surfaces\n",
    "\n",
    "During this step, all five layers of the model are assigned to different series (`Strata1` to `Strata5`). We know that the layers modeled here are parallel. However, we defined different series to better model the different layers. We will also add a `Basement` here (`geo_model.add_surfaces('Basement')`). The order within one series also defines the age relations within this series and has to be according to the depositional events of the layers."
   ]
  },
  {
   "cell_type": "code",
   "execution_count": null,
   "id": "formed-thought",
   "metadata": {
    "ExecuteTime": {
     "end_time": "2022-04-04T15:08:53.530274Z",
     "start_time": "2022-04-04T15:08:53.373240Z"
    }
   },
   "outputs": [],
   "source": [
    "gp.map_stack_to_surfaces(geo_model,\n",
    "                         {\n",
    "                          'Strata1': ('F'),\n",
    "                          'Strata2': ('E'),\n",
    "                          'Strata3': ('D'),\n",
    "                          'Strata4': ('C'),\n",
    "                          'Strata5': ('B'),\n",
    "                         },\n",
    "                         remove_unused_series=True)\n",
    "geo_model.add_surfaces('A')"
   ]
  },
  {
   "cell_type": "markdown",
   "id": "intermediate-brazilian",
   "metadata": {},
   "source": [
    "<a id='showing-the-number-of-data-points'></a>\n",
    "\n",
    "## Showing the Number of Data Points\n",
    "\n",
    "You can also return the number of interfaces and orientations for each formation using `gg.utils.show_number_of_data_points()`"
   ]
  },
  {
   "cell_type": "code",
   "execution_count": null,
   "id": "forty-treaty",
   "metadata": {
    "ExecuteTime": {
     "end_time": "2022-04-04T15:08:53.674306Z",
     "start_time": "2022-04-04T15:08:53.532276Z"
    }
   },
   "outputs": [],
   "source": [
    "gg.utils.show_number_of_data_points(geo_model=geo_model)"
   ]
  },
  {
   "cell_type": "markdown",
   "id": "amateur-anger",
   "metadata": {},
   "source": [
    "<a id='loading-digital-elevation-model'></a>\n",
    "\n",
    "## Loading Digital Elevation Model\n",
    "\n",
    "`GemPy` is capable of including a topography into the modeling process. Here, we use the topography that we have interpolated in one of the previous steps. `GemPy` takes the file path of the raster/digital elevation model and loads it as grid into the `geo_model` object."
   ]
  },
  {
   "cell_type": "code",
   "execution_count": null,
   "id": "subsequent-technique",
   "metadata": {
    "ExecuteTime": {
     "end_time": "2022-04-04T15:08:53.975378Z",
     "start_time": "2022-04-04T15:08:53.676307Z"
    }
   },
   "outputs": [],
   "source": [
    "geo_model.set_topography(source='gdal', filepath=file_path + 'raster3.tif')"
   ]
  },
  {
   "cell_type": "markdown",
   "id": "delayed-alberta",
   "metadata": {},
   "source": [
    "<a id='defining-custom-section'></a>\n",
    "\n",
    "## Defining Custom Section\n",
    "\n",
    "It is possible to define straight (no bending) custom sections in `GemPy` that will be calculated additionally with a provided resolution and that can be displayed separately using `matplotlib`.\n",
    "\n",
    "For this example, the bold black line indicates the location of the custom section. This custom section can be digitized with a LineString (line shape file) with vertices at both ends and loaded using `GeoPandas`. \n",
    "\n",
    "The function `gg.utils.to_section_dict()` converts the `GeoDataFrame` into a custom section dict before it can be set as section grid for the `geo_model` object and plotted using the built-in plotting function. "
   ]
  },
  {
   "cell_type": "code",
   "execution_count": null,
   "id": "bigger-consciousness",
   "metadata": {
    "ExecuteTime": {
     "end_time": "2022-04-04T15:08:54.323969Z",
     "start_time": "2022-04-04T15:08:53.977380Z"
    }
   },
   "outputs": [],
   "source": [
    "custom_section = gpd.read_file(file_path + 'customsection3.shp')\n",
    "custom_section_dict = gg.utils.to_section_dict(custom_section, section_column='name')\n",
    "geo_model.set_section_grid(custom_section_dict)"
   ]
  },
  {
   "cell_type": "code",
   "execution_count": null,
   "id": "valuable-turkish",
   "metadata": {
    "ExecuteTime": {
     "end_time": "2022-04-04T15:08:54.496247Z",
     "start_time": "2022-04-04T15:08:54.325973Z"
    }
   },
   "outputs": [],
   "source": [
    "gp.plot.plot_section_traces(geo_model)"
   ]
  },
  {
   "cell_type": "markdown",
   "id": "extreme-drink",
   "metadata": {},
   "source": [
    "<a id='plotting-the-input-data-in-2d'></a>\n",
    "\n",
    "## Plotting the input data in 2D using Matplotlib\n",
    "\n",
    "The input data can now be visualized in 2D using `matplotlib`. This might for example be useful to check if all points and measurements are defined the way we want them to. Using the function `plot_2d()`, we attain a 2D projection of our data points onto a plane of chosen direction (we can choose this attribute to be either `'x'`, `'y'`, or `'z'`)."
   ]
  },
  {
   "cell_type": "code",
   "execution_count": null,
   "id": "conservative-philip",
   "metadata": {
    "ExecuteTime": {
     "end_time": "2022-04-04T15:08:54.750346Z",
     "start_time": "2022-04-04T15:08:54.498249Z"
    }
   },
   "outputs": [],
   "source": [
    "gp.plot_2d(geo_model, direction='z', show_lith=False, show_boundaries=False)\n",
    "plt.grid()"
   ]
  },
  {
   "cell_type": "markdown",
   "id": "70026df0",
   "metadata": {},
   "source": [
    "<a id='plotting-the-input-data-in-3d'></a>\n",
    "\n",
    "## Plotting the input data in 3D using PyVista\n",
    "\n",
    "The input data can also be viszualized using the `pyvista` package. In this view, the interface points are visible as well as the orientations (marked as arrows) which indicate the normals of each orientation value. "
   ]
  },
  {
   "cell_type": "code",
   "execution_count": null,
   "id": "vocational-intranet",
   "metadata": {
    "ExecuteTime": {
     "end_time": "2022-04-04T15:08:55.207183Z",
     "start_time": "2022-04-04T15:08:54.751329Z"
    }
   },
   "outputs": [],
   "source": [
    "gp.plot_3d(geo_model, image=False, plotter_type='basic', notebook=True)"
   ]
  },
  {
   "cell_type": "markdown",
   "id": "geological-triple",
   "metadata": {},
   "source": [
    "<a id='setting-the-interpolator'></a>\n",
    "## Setting the interpolator\n",
    "\n",
    "Once we have made sure that we have defined all our primary information, we can continue with the next step towards creating our geological model: preparing the input data for interpolation.\n",
    "\n",
    "Setting the interpolator is necessary before computing the actual model. Here, the most important kriging parameters can be defined. "
   ]
  },
  {
   "cell_type": "code",
   "execution_count": null,
   "id": "external-clerk",
   "metadata": {
    "ExecuteTime": {
     "end_time": "2022-04-04T15:08:57.985560Z",
     "start_time": "2022-04-04T15:08:55.209170Z"
    }
   },
   "outputs": [],
   "source": [
    "gp.set_interpolator(geo_model,\n",
    "                    compile_theano=True,\n",
    "                    theano_optimizer='fast_compile',\n",
    "                    verbose=[],\n",
    "                    update_kriging=False\n",
    "                    )"
   ]
  },
  {
   "cell_type": "markdown",
   "id": "above-lending",
   "metadata": {},
   "source": [
    "<a id='computing-the-model'></a>\n",
    "\n",
    "## Computing the model\n",
    "\n",
    "At this point, we have all we need to compute our full model via `gp.compute_model()`. By default, this will return two separate solutions in the form of arrays. The first provides information on the lithological formations, the second on the fault network in the model, which is not present in this example. "
   ]
  },
  {
   "cell_type": "code",
   "execution_count": null,
   "id": "impressed-adams",
   "metadata": {
    "ExecuteTime": {
     "end_time": "2022-04-04T15:11:25.423586Z",
     "start_time": "2022-04-04T15:08:57.987554Z"
    }
   },
   "outputs": [],
   "source": [
    "sol = gp.compute_model(geo_model, compute_mesh=True)"
   ]
  },
  {
   "cell_type": "code",
   "execution_count": null,
   "id": "8c2db608",
   "metadata": {},
   "outputs": [],
   "source": [
    "sol"
   ]
  },
  {
   "cell_type": "code",
   "execution_count": null,
   "id": "a2ac8530",
   "metadata": {},
   "outputs": [],
   "source": [
    "geo_model.solutions"
   ]
  },
  {
   "cell_type": "markdown",
   "id": "developing-wallet",
   "metadata": {},
   "source": [
    "<a id='model-visualization-and-post-processing'></a>\n",
    "\n",
    "# Model Visualization and Post-Processing\n",
    "\n",
    "<a id='visualizing-the-computed-model-in-2d'></a>\n",
    "\n",
    "## Visulazing Cross Sections of the computed model\n",
    "\n",
    "Cross sections in different `direction`s and at different `cell_number`s can be displayed. Here, we see the layers of the model in the different directions. \n",
    "\n",
    "The first section to be plotted is the custom section `Section1` followed by an array of cross sections."
   ]
  },
  {
   "cell_type": "code",
   "execution_count": null,
   "id": "intensive-portal",
   "metadata": {
    "ExecuteTime": {
     "end_time": "2022-04-04T15:11:25.737155Z",
     "start_time": "2022-04-04T15:11:25.429588Z"
    }
   },
   "outputs": [],
   "source": [
    "gp.plot_2d(geo_model, section_names=['Section1'], show_topography=True, show_data=False)"
   ]
  },
  {
   "cell_type": "code",
   "execution_count": null,
   "id": "champion-collectible",
   "metadata": {
    "ExecuteTime": {
     "end_time": "2022-04-04T15:11:26.553051Z",
     "start_time": "2022-04-04T15:11:25.740161Z"
    }
   },
   "outputs": [],
   "source": [
    "gp.plot_2d(geo_model, direction=['x', 'x', 'y', 'y'], cell_number=[25, 75, 25, 75], show_topography=True, show_data=False)"
   ]
  },
  {
   "cell_type": "markdown",
   "id": "c8052cb3",
   "metadata": {},
   "source": [
    "Next to the lithology data, we can also plot the calculated scalar field."
   ]
  },
  {
   "cell_type": "code",
   "execution_count": null,
   "id": "571ef3a6",
   "metadata": {},
   "outputs": [],
   "source": [
    "gp.plot_2d(geo_model, direction='y', show_data=False, show_scalar=True, show_lith=False)"
   ]
  },
  {
   "cell_type": "markdown",
   "id": "intimate-connectivity",
   "metadata": {},
   "source": [
    "<a id='visualizing-the-computed-model-in-3d'></a>\n",
    "\n",
    "## Visualizing the computed model in 3D\n",
    "\n",
    "The computed model can be visualized in 3D using the `pyvista` library. Setting `notebook=False` will open an interactive windows and the model can be rotated and zooming is possible. "
   ]
  },
  {
   "cell_type": "code",
   "execution_count": null,
   "id": "developing-comparison",
   "metadata": {
    "ExecuteTime": {
     "end_time": "2022-04-04T15:11:28.634395Z",
     "start_time": "2022-04-04T15:11:26.556055Z"
    }
   },
   "outputs": [],
   "source": [
    "gpv = gp.plot_3d(geo_model, image=False, show_topography=True,\n",
    "                 plotter_type='basic', notebook=False, show_lith=True)"
   ]
  },
  {
   "cell_type": "markdown",
   "id": "6dcf6b12",
   "metadata": {},
   "source": [
    "<a id='post-processing'></a>\n",
    "\n",
    "## Post Processing\n",
    "\n",
    "Now that the model has been created, we would like to utilize it. In this notebook, you will learn how to export the surfaces from `GemPy` to 2.5D `PyVista` Meshes and how to extract orientations from them. These will be compared with the orientations you calculated and that were loaded.\n",
    "\n",
    "\n",
    "<a id='visualize-topography-as-mesh'></a>\n",
    "\n",
    "### Visualizing Topography as Mesh\n",
    "\n",
    "Apart from displaying the layers as `PyVista` meshes, it is also possible to display to used topography as `PyVista` mesh. First, the raster is loaded using `gg.visualization.read_raster()` prior to wrapping the mesh by the elevation values. The parameter `factor` defines the vertical exaggeration."
   ]
  },
  {
   "cell_type": "code",
   "execution_count": null,
   "id": "181f786c",
   "metadata": {},
   "outputs": [],
   "source": [
    "mesh = gg.visualization.read_raster(path=file_path + 'raster3.tif',\n",
    "                                    nodata_val=9999.0,\n",
    "                                    name='Elevation [m]')\n",
    "\n",
    "topo = mesh.warp_by_scalar(scalars=\"Elevation [m]\", factor=1)\n",
    "topo"
   ]
  },
  {
   "cell_type": "code",
   "execution_count": null,
   "id": "f662ac1a",
   "metadata": {},
   "outputs": [],
   "source": [
    "sargs = dict(fmt=\"%.0f\", color='black')\n",
    "\n",
    "\n",
    "p = pv.Plotter(notebook=True)\n",
    "p.add_mesh(mesh=topo, cmap='gist_earth', scalar_bar_args=sargs, clim=[500,1200])\n",
    "p.add_mesh(mesh=topo.contour(), color='white')\n",
    "\n",
    "p.set_background('white')\n",
    "p.show_grid(color='black')\n",
    "p.show()"
   ]
  },
  {
   "cell_type": "markdown",
   "id": "22d81a71",
   "metadata": {},
   "source": [
    "<a id='calculating-the-aparent-and-true-thicknesses-of-layers'></a>\n",
    "\n",
    "### Calculating the aparent and true thicknesses of the layers\n",
    "\n",
    "The thickness of the layers can be calculated using thickness maps or boreholes. Firstly, the depth maps for every surface is extracted using `gg.visualization.create_depth_maps_from_gempy()`. All surfaces can be plotted using `PyVista`. "
   ]
  },
  {
   "cell_type": "code",
   "execution_count": null,
   "id": "e7a9cf63",
   "metadata": {},
   "outputs": [],
   "source": [
    "dict_all = gg.visualization.create_depth_maps_from_gempy(geo_model=geo_model,\n",
    "                                                         surfaces=['F', 'E', 'D', 'C', 'B'])\n",
    "\n",
    "dict_all['F']"
   ]
  },
  {
   "cell_type": "code",
   "execution_count": null,
   "id": "2114cbc2",
   "metadata": {},
   "outputs": [],
   "source": [
    "dict_all.keys()"
   ]
  },
  {
   "cell_type": "code",
   "execution_count": null,
   "id": "7a37fed2",
   "metadata": {},
   "outputs": [],
   "source": [
    "sargs = dict(fmt=\"%.0f\", color='black')\n",
    "\n",
    "\n",
    "p = pv.Plotter(notebook=True)\n",
    "p.add_mesh(mesh=topo, cmap='gist_earth', scalar_bar_args=sargs, clim=[500,1200], opacity=0.5)\n",
    "p.add_mesh(mesh=topo.contour(), color='white', opacity=0.5)\n",
    "\n",
    "p.add_mesh(dict_all['F'][0], scalars='Depth [m]')\n",
    "\n",
    "p.add_mesh(dict_all['E'][0], scalars='Depth [m]')\n",
    "\n",
    "p.add_mesh(dict_all['D'][0], scalars='Depth [m]')\n",
    "\n",
    "p.add_mesh(dict_all['C'][0], scalars='Depth [m]')\n",
    "\n",
    "# p.add_mesh(dict_all['B'][0], scalars='Depth [m]')\n",
    "\n",
    "p.set_background('white')\n",
    "p.show_grid(color='black')\n",
    "p.show()"
   ]
  },
  {
   "cell_type": "markdown",
   "id": "fa754d1b",
   "metadata": {},
   "source": [
    "The thickness map can be calculated using `gg.visualization.create_thickness_maps(..)`. The thickness is calculated using normal vectors of the bottom surface and intersecting them with the upper surface. In places where no upper surface is available, the value is set to 0."
   ]
  },
  {
   "cell_type": "code",
   "execution_count": null,
   "id": "e9c6b265",
   "metadata": {},
   "outputs": [],
   "source": [
    "thickness_map = gg.visualization.create_thickness_maps(top_surface=dict_all['D'][0],\n",
    "                                                       base_surface=dict_all['C'][0])\n",
    "thickness_map"
   ]
  },
  {
   "cell_type": "markdown",
   "id": "1133e6b3",
   "metadata": {},
   "source": [
    "The thickness map can now be plotted using `PyVista`. The `nan_opacity` value is set to 0 so that `nan` values are not shown. The array `Thickness [m]` contains the thickness values and is plotted as `scalars` of the mesh. The thickness map is plotted at the location of the `base_surface`."
   ]
  },
  {
   "cell_type": "code",
   "execution_count": null,
   "id": "7dd96498",
   "metadata": {},
   "outputs": [],
   "source": [
    "mesh = dict_all['C'][0].compute_normals()\n",
    "arrows = mesh.glyph(scale=\"Normals\", orient=\"Normals\", tolerance=0.05, factor=0.15)"
   ]
  },
  {
   "cell_type": "code",
   "execution_count": null,
   "id": "c270ae1f",
   "metadata": {},
   "outputs": [],
   "source": [
    "import pyvista as pv\n",
    "\n",
    "p = pv.Plotter(notebook=True)\n",
    "\n",
    "p.add_mesh(thickness_map, scalars= 'Thickness [m]', nan_opacity=0)\n",
    "p.add_mesh(dict_all['D'][0], color=True, opacity=0.5)\n",
    "p.add_mesh(dict_all['C'][0], color=True, opacity=0.5)\n",
    "p.add_mesh(arrows, color=\"black\")\n",
    "\n",
    "\n",
    "p.set_background('white')\n",
    "p.show_grid(color='black')\n",
    "p.show()"
   ]
  },
  {
   "cell_type": "markdown",
   "id": "ae8d288f",
   "metadata": {},
   "source": [
    "Using the thickness map function of `GemGIS`, the median and mean true thicknesses are approximately 105 m. Plotting the thickness values as histogram shows the spread of thicknesses between 50 m and 150 m. "
   ]
  },
  {
   "cell_type": "code",
   "execution_count": null,
   "id": "206540e3",
   "metadata": {},
   "outputs": [],
   "source": [
    "np.median(thickness_map['Thickness [m]'][~np.isnan(thickness_map['Thickness [m]'])])"
   ]
  },
  {
   "cell_type": "code",
   "execution_count": null,
   "id": "436b339b",
   "metadata": {},
   "outputs": [],
   "source": [
    "np.mean(thickness_map['Thickness [m]'][~np.isnan(thickness_map['Thickness [m]'])])"
   ]
  },
  {
   "cell_type": "code",
   "execution_count": null,
   "id": "361cabb6",
   "metadata": {},
   "outputs": [],
   "source": [
    "fig, ax = plt.subplots(1, figsize=(5,5))\n",
    "plt.hist(thickness_map['Thickness [m]'], bins=25)\n",
    "plt.grid()"
   ]
  },
  {
   "cell_type": "markdown",
   "id": "559f8a2d",
   "metadata": {},
   "source": [
    "A second more local way to calculate the thickness of a layer at a certain location is using virtual vertical wells and intersecting them with the surfaces. The length of the intersected section (vertical thickness VT) in this vertical well is per definition longer than the true thickness (T) of the layer. Using the dip of the layer, we can calculate the true thickness:\n",
    "\n",
    "$$T = VT*cos(\\alpha)$$\n",
    "\n",
    "<img src=\"../../data/images/model3_fig_thicknesses.PNG\" width=400/>\n",
    "Source: Bennison, G.M. (1988): An Introduction to Geological Structures and Maps, page 8, figure 7, Springer Verlag Berlin, Heidelberg, New York, ISBN: 978-1-4615-9632-5\n",
    "\n",
    "\n",
    "We define two wells as `PyVista` lines and convert them to tubes. We can use `gg.utils.create_virtual_profile()` to intersect the well with the surfaces and create a `GeoDataFrame` containing the surface names and the depth the surface was intersected. From that, we can calculate the vertical thickness and finally the true thickness. "
   ]
  },
  {
   "cell_type": "code",
   "execution_count": null,
   "id": "d4b5fe3a",
   "metadata": {},
   "outputs": [],
   "source": [
    "well1 = pv.Line((1250,1100,1200), (1250, 1100, 200))\n",
    "well1_tube = well1.tube(radius=50)\n",
    "well1_tube"
   ]
  },
  {
   "cell_type": "code",
   "execution_count": null,
   "id": "6f83b2a8",
   "metadata": {},
   "outputs": [],
   "source": [
    "well2 = pv.Line((1000,3250,1200), (1000, 3250, 200))\n",
    "well2_tube = well2.tube(radius=50)\n",
    "well2_tube"
   ]
  },
  {
   "cell_type": "code",
   "execution_count": null,
   "id": "4545f515",
   "metadata": {},
   "outputs": [],
   "source": [
    "poly = pv.PolyData(np.array([[1250,1100,1200], [1000,3250,1200]]))\n",
    "poly[\"My Labels\"] = [f\"Well {i+1}\" for i in range(poly.n_points)]\n",
    "poly"
   ]
  },
  {
   "cell_type": "markdown",
   "id": "2a84528f",
   "metadata": {},
   "source": [
    "Calculating the true thickness at well location 1 results in 133.69 m for well 1 and 133.00 m for the thickness map at the closest point to the well. The values for well 2 are 95.13 m and 96.11 m. A difference of approximately 1% for the well value and the thickness map value is a pretty good result also taking into account that an average dip of 11° was chosen."
   ]
  },
  {
   "cell_type": "code",
   "execution_count": null,
   "id": "9be388d2",
   "metadata": {},
   "outputs": [],
   "source": [
    "gdf_well1 = gg.utils.create_virtual_profile(names_surfaces=['D', 'C'],\n",
    "                                            surfaces=[dict_all['D'][0], dict_all['C'][0]],\n",
    "                                            borehole=well1)\n",
    "gdf_well1"
   ]
  },
  {
   "cell_type": "code",
   "execution_count": null,
   "id": "9605fe90",
   "metadata": {},
   "outputs": [],
   "source": [
    "vt1 = gdf_well1.loc[0]['Z']-gdf_well1.loc[1]['Z']\n",
    "print(vt1)\n",
    "t1 = vt1 * np.cos(np.deg2rad(11))\n",
    "print(t1)"
   ]
  },
  {
   "cell_type": "code",
   "execution_count": null,
   "id": "cdc3c0dc",
   "metadata": {},
   "outputs": [],
   "source": [
    "gdf_well2 = gg.utils.create_virtual_profile(names_surfaces=['D', 'C'],\n",
    "                                            surfaces=[dict_all['D'][0], dict_all['C'][0]],\n",
    "                                            borehole=well2)\n",
    "gdf_well2"
   ]
  },
  {
   "cell_type": "code",
   "execution_count": null,
   "id": "b31ba7f7",
   "metadata": {},
   "outputs": [],
   "source": [
    "vt2 = gdf_well2.loc[0]['Z']-gdf_well2.loc[1]['Z']\n",
    "print(vt2)\n",
    "t2 = vt2 * np.cos(np.deg2rad(11))\n",
    "print(t2)"
   ]
  },
  {
   "cell_type": "markdown",
   "id": "aa1aa4bf",
   "metadata": {},
   "source": [
    "Sampling from thickness map"
   ]
  },
  {
   "cell_type": "code",
   "execution_count": null,
   "id": "dfe43153",
   "metadata": {},
   "outputs": [],
   "source": [
    "index1 = thickness_map.find_closest_point((1250,1100,gdf_well1.loc[0]['Z']))\n",
    "index1"
   ]
  },
  {
   "cell_type": "code",
   "execution_count": null,
   "id": "08c3151f",
   "metadata": {},
   "outputs": [],
   "source": [
    "thickness_map['Thickness [m]'][index1]"
   ]
  },
  {
   "cell_type": "code",
   "execution_count": null,
   "id": "ff9827a9",
   "metadata": {},
   "outputs": [],
   "source": [
    "index2 = thickness_map.find_closest_point((1000,3250,gdf_well2.loc[0]['Z']))\n",
    "index2"
   ]
  },
  {
   "cell_type": "code",
   "execution_count": null,
   "id": "617dc099",
   "metadata": {},
   "outputs": [],
   "source": [
    "thickness_map['Thickness [m]'][index2]"
   ]
  },
  {
   "cell_type": "code",
   "execution_count": null,
   "id": "a66e80b3",
   "metadata": {},
   "outputs": [],
   "source": [
    "import pyvista as pv\n",
    "\n",
    "p = pv.Plotter(notebook=True)\n",
    "\n",
    "p.add_mesh(dict_all['D'][0], scalars='Depth [m]')\n",
    "p.add_mesh(dict_all['C'][0], scalars='Depth [m]')\n",
    "p.add_mesh(well1_tube, color='gray')\n",
    "p.add_mesh(well2_tube, color='gray')\n",
    "p.add_point_labels(poly, \"My Labels\", point_size=20, font_size=36)\n",
    "\n",
    "p.set_background('white')\n",
    "p.show_grid(color='black')\n",
    "p.show()"
   ]
  },
  {
   "cell_type": "markdown",
   "id": "3bed2029",
   "metadata": {},
   "source": [
    "<a id='conclusions'></a>\n",
    "# Conclusions\n",
    "\n",
    "<div class=\"alert alert-block alert-success\">\n",
    "<b>In this tutorial, you have learnt the following:</b> <br>\n",
    "- How to build your third <b>GemPy</b> model with input data generated through <b>GemGIS</b><br>\n",
    "- How to visualize the topography as <b>PyVista</b> mesh <br>\n",
    "- How to calculate the aparent and true thicknesses of the layers  from wells <br>\n",
    "- Concluding the first section of the main part of the tutorial series<br>\n",
    "</div>\n",
    "\n",
    "<a id='outlook'></a>\n",
    "# Outlook\n",
    "\n",
    "<div class=\"alert alert-block alert-success\">\n",
    "<b>In the next tutorial, you will learn the following:</b> <br>\n",
    "- How to build your fourth <b>GemPy</b> model with input data generated through <b>GemGIS</b><br>\n",
    "- How to build a GemPy model with folded layers<br>\n",
    "- How to obtain the the fold axis of a structure<br>\n",
    "- How to extract contour lines from a <b>PyVista</b> depth map and to save them as GeoDataFrame<br>\n",
    "- How to convert a depth map to an array/raster<br>\n",
    "- How to convert contour lines from that raster<br>\n",
    "</div>\n",
    "\n",
    "[Take me to the next notebook on Github](https://github.com/cgre-aachen/gemgis_data/blob/main/notebooks/03_folded_layers/example01_folded_layers.ipynb)\n",
    "\n",
    "<img src=\"../../data/images/example5/cover_example05.png\" />\n",
    "Source: Bennison, G.M. (1988): An Introduction to Geological Structures and Maps, page 22, figure 9, Springer Verlag Berlin, Heidelberg, New York, ISBN: 978-1-4615-9632-5\n",
    "\n",
    "\n",
    "<a id='licensing'></a>\n",
    "\n",
    "## Licensing\n",
    "\n",
    "Institute for Computational Geoscience, Geothermics and Reservoir Geophysics, RWTH Aachen University & Fraunhofer IEG, Fraunhofer Research Institution for Energy Infrastructures and Geothermal Systems IEG, Authors: Alexander Juestel. For more information contact: alexander.juestel(at)ieg.fraunhofer.de\n",
    "\n",
    "All notebooks are licensed under a Creative Commons Attribution 4.0 International License (CC BY 4.0, http://creativecommons.org/licenses/by/4.0/). References for each displayed map are provided. Most of the maps originate from the books of [Powell (1992)](https://link.springer.com/book/9783540586074) and [Bennison (1990)](https://link.springer.com/book/10.1007/978-1-4615-9630-1). References for maps with unknown origin will gladly be added."
   ]
  }
 ],
 "metadata": {
  "hide_input": false,
  "kernelspec": {
   "display_name": "Python 3 (ipykernel)",
   "language": "python",
   "name": "python3"
  },
  "language_info": {
   "codemirror_mode": {
    "name": "ipython",
    "version": 3
   },
   "file_extension": ".py",
   "mimetype": "text/x-python",
   "name": "python",
   "nbconvert_exporter": "python",
   "pygments_lexer": "ipython3",
   "version": "3.9.15"
  },
  "varInspector": {
   "cols": {
    "lenName": 16,
    "lenType": 16,
    "lenVar": 40
   },
   "kernels_config": {
    "python": {
     "delete_cmd_postfix": "",
     "delete_cmd_prefix": "del ",
     "library": "var_list.py",
     "varRefreshCmd": "print(var_dic_list())"
    },
    "r": {
     "delete_cmd_postfix": ") ",
     "delete_cmd_prefix": "rm(",
     "library": "var_list.r",
     "varRefreshCmd": "cat(var_dic_list()) "
    }
   },
   "types_to_exclude": [
    "module",
    "function",
    "builtin_function_or_method",
    "instance",
    "_Feature"
   ],
   "window_display": false
  }
 },
 "nbformat": 4,
 "nbformat_minor": 5
}
