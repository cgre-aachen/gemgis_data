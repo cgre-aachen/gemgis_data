{
 "cells": [
  {
   "cell_type": "markdown",
   "metadata": {},
   "source": [
    "<img src=\"../../data/images/gempy_logo.png\" />\n",
    "\n",
    "# <center> From Maps to Models - Tutorials for structural geological modeling using GemPy and GemGIS</center>\n",
    "\n",
    "# Example 2 - Planar Dipping Layers\n",
    "\n",
    "This example will show how to convert the geological map below using ``GemGIS`` to a `GemPy` model. This example is based on digitized data. The area is 2932 m wide (W-E extent) and 3677 m high (N-S extent). The vertical model extent varies between -700 m and 1000 m. The model represents several planar stratigraphic units (blue to purple) dipping towards the south above an unspecified basement (light red). \n",
    "\n",
    "<div class=\"alert alert-block alert-success\">\n",
    "<b>In this tutorial, you will learn the following:</b> <br>\n",
    "- How to use valleys and V-structures to constrain the dip of the layers <br>\n",
    "- How to create orientations from strike lines with <b>GemGIS</b> for <b>GemPy</b><br>\n",
    "- How to build your second GemPy model with input data generated through GemGIS<br>\n",
    "- How to extract the geological map as <b>PyVista</b> mesh<br>\n",
    "- How to extract the geological map as <b>GeoPandas</b> polygon GeoDataFrame to save it as shape file and display it in QGIS <br>\n",
    "- How to extract the lith_block of a <b>GemPy</b> model cropped to the topography\n",
    "\n",
    "</div>\n",
    "\n",
    "## Your Tasks\n",
    "1. Georeference the map in QGIS given the dimensions above using the coordinate reference system with the EPSG code 4326\n",
    "2. Digitize the layer boundaries (including a `formation` column) and the topographic lines (including a `Z` column)\n",
    "3. Digitize so-called strike lines for the different layers. The orientations used for `GemPy` will be calculated from the strike lines.\n",
    "\n",
    "## Contents\n",
    "\n",
    "1. [Installing GemPy and GemGIS](#installing-gempy)\n",
    "2. [Importing Libraries](#importing-libraries)\n",
    "3. [Data Preparation](#data-preparation)\n",
    "    1. [Creating Digital Elevation Model from Contour lines](#creating-digital-elevation-model-from-contour-lines)\n",
    "        1. [Loading Contour Lines](#loading-contour-lines)\n",
    "        2. [Plotting Contour Lines](#plotting-contour-lines)\n",
    "        3. [Interpolating Contour Lines](#interpolating-contour-lines)\n",
    "        4. [Plotting the raster](#plotting-the-raster)\n",
    "        5. [Saving the raster to disc](#saving-the-raster-to-disc)\n",
    "        6. [Opening raster](#opening-raster)\n",
    "    2. [Processing Stratigraphic Boundaries](#processing-stratigraphic-boundaries)\n",
    "        1. [Opening Stratigraphic Boundaries](#opening-stratigraphic-boundaries)\n",
    "        2. [Plotting Stratigraphic Boundaries](#plotting-stratigraphic-boundaries)\n",
    "        3. [Extracting Z coordinates from Digital Elevation Model](#extracting-z-coordinates-from-digital-elevation-model)\n",
    "        4. [Plotting the Interface Points](#plotting-the-interface-points)\n",
    "    3. [Processing Orientations](#processing-orientations)\n",
    "        1. [Orientations from Strike Lines](#orientations-from-strike-lines)\n",
    "        2. [Plotting Strike Lines](#plotting-strike-lines)\n",
    "        2. [Loading Strike Lines](#loading-strike-lines)\n",
    "        3. [Plotting Strike Lines](#plotting-strike-lines)\n",
    "        4. [Calculate Orientations for each formation](#calculate-orientations-for-each-formation)\n",
    "        5. [Merging Orientations for GemPy](#merging-orientations-for-gempy)\n",
    "        6. [Plotting Orientations](#plotting-orientations)\n",
    "4. [GemPy Model calculation](#gempy-model-calculation)\n",
    "    1. [Creating the GemPy Model](#creating-the-gempy-model)\n",
    "    2. [Data Initiation](#data-initiation)\n",
    "    3. [Inspecting the Surfaces](#inspecting-the-surfaces)\n",
    "    4. [Inspecting the Input Data](#inspecting-the-input-data)\n",
    "    5. [Map Stack to Surfaces](#map-stack-to-surfaces)\n",
    "    6. [Showing the Number of Data Points](#showing-the-number-of-data-points)\n",
    "    7. [Loading Digital Elevation Model](#loading-digital-elevation-model)\n",
    "    8. [Defining Custom Section](#defining-custom-section)\n",
    "    6. [Plotting Input Data in 2D](#plotting-the-input-data-in-2d)\n",
    "    7. [Plotting Input Data in 3D](#plotting-the-input-data-in-3d)\n",
    "    8. [Setting the Interpolator](#setting-the-interpolator)\n",
    "    9. [Computing the Model](#computing-the-model)\n",
    "5. [Model Visualization and Post-Processing](#model-visualization-and-post-processing)\n",
    "    1. [Visualizing the computed model in 2D](#visualizing-the-computed-model-in-2d)\n",
    "    2. [Visualizing the computed model in 3D](#visualizing-the-computed-model-in-3d)    \n",
    "    3. [Post Processing](#post-processing)\n",
    "        1. [Extracting the Geological Map as PyVista Mesh](#extracting-the-geological-map-as-pyvista-mesh)\n",
    "        2. [Extracting the Geological Map as GeoDataFrame](#extracting-the-geological-map-as-geo_dataframe)\n",
    "        3. [Extracting the lith_block cropped to the topography](#extracting-the-lith-block-cropped-to-the-topography)\n",
    "\n",
    "\n",
    "\n",
    "<img src=\"../../data/images/example2/cover_example02.png\" />\n",
    "Source: Bennison, G.M. (1988): An Introduction to Geological Structures and Maps, page 4, figure 3, Springer Verlag Berlin, Heidelberg, New York, ISBN: 978-1-4615-9632-5\n"
   ]
  },
  {
   "cell_type": "markdown",
   "metadata": {},
   "source": [
    "<a id='v-structures-in-valleys'></a>\n",
    "\n",
    "# \"V\"-Structures in valleys and what they mean\n",
    "\n",
    "The Rule of V’s is a graphical methodology of determining the direction of the dip that is caused by two geological contacts. This determination of dip angle and direction is done via observing the pattern made by the contacts as they cross a stream or valley.\n",
    "\n",
    "The dipping contacts or units make a “V” shape where they intersect. The vertex of this V indicates the direction of dip between the two contacts.\n",
    "\n",
    "The Rule of V’s is a great tool to determine the direction of dipping contacts and observe the contacts’ deflection. However, this rule and the V formed by the contacts should not be confused with contour lines as they act independently to the dipping of the contacts.\n",
    "\n",
    "This rule does not always hold, but it is used as a general guiding principle which is helpful in most cases.\n",
    "\n",
    "So why exactly are we discussing Rule of V’s, and why is it so crucial in structural geology, topography, and mapping?\n",
    "\n",
    "We know that we can use contour lines to depict and determine the topography elevation, or lack thereof. Contour lines help us indefinitely while trying to understand the topography of an area.\n",
    "\n",
    "However, when contour lines are unavailable, or you can not make out the elevation of the contour lines, the rule of V’s comes in and saves the day. This V formed by the intersection of two contacts tells us the direction of the contact, where it originates from, and points in the upstream direction. This means that you can quickly figure out the direction of the flow of water running across this intersection of geological contacts by observing the point of the V.\n",
    "\n",
    "This information can be beneficial when navigating new lands, rocky terrain, and exploring valleys and landmarks. The rule of V’s equips us with the sense of figuring out maps with ease. Rule of V’s has also allowed scientists and geologists to describe the geometry of strata and predict where the strata lie on the surface of Earth.\n",
    "\n",
    "Source: https://keckcaves.org/rule-of-v-s-geology/\n",
    "\n",
    "<img src=\"../../data/images/model2_v_shapes.png\" />\n",
    "\n",
    "Source: Lisle, R.J. (2004): Geological Structures and Maps - A Practical Guide, Elsevier, Amsterdam, Netherlands, ISBN: 0 7506 5780 4. "
   ]
  },
  {
   "cell_type": "markdown",
   "metadata": {},
   "source": [
    "<a id='installing-gempy'></a>\n",
    "\n",
    "# Installing GemPy and GemGIS\n",
    "\n",
    "If you have not installed `GemPy` yet, please follow the [GemPy installation instructions](https://docs.gempy.org/installation.html) and the [GemGIS installation instructions](https://gemgis.readthedocs.io/en/latest/getting_started/installation.html). If you encounter any issues, feel free to open a new discussion at [GemPy Discussions](https://github.com/cgre-aachen/gempy/discussions) or [GemGIS Discussions](https://github.com/cgre-aachen/gemgis/discussions). If you encounter an error in the installation process, feel free to also open an issue at [GemPy Issues](https://github.com/cgre-aachen/gempy/issues) or [GemGIS Issues](https://github.com/cgre-aachen/gemgis/issues). There, the `GemPy` and `GemGIS` development teams will help you out. "
   ]
  },
  {
   "cell_type": "markdown",
   "metadata": {},
   "source": [
    "<a id='importing-libraries'></a>\n",
    "\n",
    "# Importing Libraries\n",
    "\n",
    "For this notebook, we need the `geopandas` library for the data preparation, `rasterio` for dealing with the created digital elevation model, `matplotlib` for plotting, `numpy` for some numerical calculations, `pandas` for manipulating `DataFrames`, `pyvista` for post-processing tasks and of course the `gempy` and `gemgis` libraries. Any warnings that may appear can be ignored for now. The file path is set to load the data provided for this tutorial. "
   ]
  },
  {
   "cell_type": "code",
   "execution_count": null,
   "metadata": {
    "ExecuteTime": {
     "end_time": "2022-04-04T11:42:40.387504Z",
     "start_time": "2022-04-04T11:42:40.373502Z"
    }
   },
   "outputs": [],
   "source": [
    "import geopandas as gpd\n",
    "import rasterio\n",
    "import warnings\n",
    "warnings.filterwarnings(\"ignore\")\n",
    "import gemgis as gg\n",
    "import matplotlib.pyplot as plt\n",
    "import numpy as np\n",
    "import gempy as gp\n",
    "import pyvista as pv\n",
    "import pandas as pd"
   ]
  },
  {
   "cell_type": "code",
   "execution_count": null,
   "metadata": {
    "ExecuteTime": {
     "end_time": "2022-04-04T11:42:40.402508Z",
     "start_time": "2022-04-04T11:42:40.389505Z"
    }
   },
   "outputs": [],
   "source": [
    "file_path = '../../data/example02_planar_dipping_layers/'"
   ]
  },
  {
   "cell_type": "markdown",
   "metadata": {},
   "source": [
    "<a id='data-preparation'></a>\n",
    "# Data Preparation\n",
    "\n",
    "At his point, you should have the topographic contour lines (including a `Z` column) and the layer boundaries (including a `formation` column) digitized. If not, please generate the data before continuing with this tutorial. \n",
    "\n",
    "<a id='creating-digital-elevation-model-from-contour-lines'></a>\n",
    "## Creating Digital Elevation Model from Contour Lines\n",
    "\n",
    "The digital elevation model (DEM) will be created by interpolating the contour lines digitized from the georeferenced map using the `SciPy` [Radial Basis Function interpolation](https://docs.scipy.org/doc/scipy/reference/generated/scipy.interpolate.Rbf.html) wrapped in `GemGIS`. The respective function used for that is `gg.vector.interpolate_raster()`. \n",
    "\n",
    "There is also a [tutorial available for this task on the GemGIS Documentation page](https://gemgis.readthedocs.io/en/latest/getting_started/tutorial/05_interpolating_rasters.html).\n",
    "\n",
    "\n",
    "<img src=\"../../data/images/example2/dem_example2.png\" width=700/>\n",
    "Source: Powell, D. (1995): Interpretation geologischer Strukturen durch Karten - Eine praktische Anleitung mit Aufgaben und Lösungen, page 15, figure 10 A, Springer Verlag Berlin, Heidelberg, New York, ISBN: 978-3-540-58607-4.\n",
    "\n",
    "\n",
    "<a id='loading-contour-lines'></a>\n",
    "### Loading contour lines\n",
    "\n",
    "First, the contour lines are loaded using `GeoPandas`. Please provide here the name of your shape file containing the digitized topographic contour lines. "
   ]
  },
  {
   "cell_type": "code",
   "execution_count": null,
   "metadata": {
    "ExecuteTime": {
     "end_time": "2022-04-04T11:42:40.697663Z",
     "start_time": "2022-04-04T11:42:40.591559Z"
    }
   },
   "outputs": [],
   "source": [
    "topo = gpd.read_file(file_path + 'topo2.shp')\n",
    "topo.head()"
   ]
  },
  {
   "cell_type": "markdown",
   "metadata": {},
   "source": [
    "<a id='plotting-contour-lines'></a>\n",
    "\n",
    "### Plotting the contour lines\n",
    "\n",
    "The contour lines are plotted using the built-in plotting function of `GeoPandas`. "
   ]
  },
  {
   "cell_type": "code",
   "execution_count": null,
   "metadata": {},
   "outputs": [],
   "source": [
    "topo.plot(column='Z', aspect=1, legend=True, cmap='gist_earth')"
   ]
  },
  {
   "cell_type": "markdown",
   "metadata": {},
   "source": [
    "<a id='interpolating-contour-lines'></a>\n",
    "\n",
    "### Interpolating the contour lines\n",
    "\n",
    "The digital elevation model (DEM) will be created by interpolating the contour lines digitized from the georeferenced map using the `SciPy` [Radial Basis Function interpolation](https://docs.scipy.org/doc/scipy/reference/generated/scipy.interpolate.Rbf.html) wrapped in `GemGIS`. The respective function used for that is `gg.vector.interpolate_raster()`. "
   ]
  },
  {
   "cell_type": "code",
   "execution_count": null,
   "metadata": {
    "ExecuteTime": {
     "end_time": "2022-04-04T11:42:41.776567Z",
     "start_time": "2022-04-04T11:42:40.699662Z"
    }
   },
   "outputs": [],
   "source": [
    "topo_raster = gg.vector.interpolate_raster(gdf=topo, value='Z', method='rbf', res=10)"
   ]
  },
  {
   "cell_type": "markdown",
   "metadata": {},
   "source": [
    "<a id='plotting-the-raster'></a>\n",
    "\n",
    "### Plotting the raster\n",
    "\n",
    "The interpolated digital elevation model can be displayed using `matplotlib` and its `plt.imshow()` function and by providing the extent of the raster to align it with the contour lines. "
   ]
  },
  {
   "cell_type": "code",
   "execution_count": null,
   "metadata": {
    "ExecuteTime": {
     "end_time": "2022-04-04T11:42:42.119640Z",
     "start_time": "2022-04-04T11:42:41.778575Z"
    },
    "scrolled": false
   },
   "outputs": [],
   "source": [
    "import matplotlib.pyplot as plt\n",
    "\n",
    "fix, ax = plt.subplots(1, figsize=(5,5))\n",
    "topo.plot(ax=ax, aspect='equal', column='Z', cmap='gist_earth')\n",
    "im = plt.imshow(topo_raster, origin='lower', extent=[0, 2932, 0, 3677], cmap='gist_earth')\n",
    "cbar = plt.colorbar(im)\n",
    "cbar.set_label('Altitude [m]')\n",
    "ax.set_xlabel('X [m]')\n",
    "ax.set_ylabel('Y [m]')\n",
    "ax.set_xlim(0, 2932)\n",
    "ax.set_ylim(0, 3677)"
   ]
  },
  {
   "cell_type": "markdown",
   "metadata": {},
   "source": [
    "<a id='saving-the-raster-to-disc'></a>\n",
    "\n",
    "### Saving the raster to disc\n",
    "\n",
    "After the interpolation of the contour lines, the raster is saved to disc using `gg.raster.save_as_tiff()`. The function will not be executed as a raster is already provided with the example data. "
   ]
  },
  {
   "cell_type": "raw",
   "metadata": {
    "ExecuteTime": {
     "end_time": "2021-03-28T07:39:30.569945Z",
     "start_time": "2021-03-28T07:39:30.538906Z"
    }
   },
   "source": [
    "gg.raster.save_as_tiff(raster=topo_raster, path=file_path + 'raster2.tif', extent=[0, 2932, 0, 3677], crs='EPSG:4326', overwrite_file=True)"
   ]
  },
  {
   "cell_type": "markdown",
   "metadata": {},
   "source": [
    "<a id='opening-raster'></a>\n",
    "\n",
    "### Opening Raster\n",
    "\n",
    "The previously computed and saved raster can now be opened using rasterio. "
   ]
  },
  {
   "cell_type": "code",
   "execution_count": null,
   "metadata": {
    "ExecuteTime": {
     "end_time": "2022-04-04T11:42:42.181978Z",
     "start_time": "2022-04-04T11:42:42.121634Z"
    }
   },
   "outputs": [],
   "source": [
    "topo_raster = rasterio.open(file_path + 'raster2.tif')"
   ]
  },
  {
   "cell_type": "markdown",
   "metadata": {},
   "source": [
    "<a id='processing-stratigraphic-boundaries'></a>\n",
    "\n",
    "## Processing Stratigraphic Boundaries\n",
    "\n",
    "The interface points will be extracted from LineStrings digitized from the georeferenced map using QGIS. It is important to provide a `formation` name for each layer boundary. Up until now, only the `X` and `Y` position are stored in the vertices of the LineStrings. Using the digital elevation model created already, we will now sample the elevation model at the locations of the vertices to extract the height at this point as the stratigraphic boundary was mapped at the surface.\n",
    "\n",
    "<img src=\"../../data/images/example2/interfaces_example2.png\" width=700/>\n",
    "Source: Bennison, G.M. (1988): An Introduction to Geological Structures and Maps, page 4, figure 3, Springer Verlag Berlin, Heidelberg, New York, ISBN: 978-1-4615-9632-5"
   ]
  },
  {
   "cell_type": "markdown",
   "metadata": {},
   "source": [
    "<a id='opening-stratigraphic-boundaries'></a>\n",
    "\n",
    "### Opening Stratigraphic Boundaries\n",
    "\n",
    "The stratigraphic units are opened using `GeoPandas`."
   ]
  },
  {
   "cell_type": "code",
   "execution_count": null,
   "metadata": {
    "ExecuteTime": {
     "end_time": "2022-04-04T11:42:42.386140Z",
     "start_time": "2022-04-04T11:42:42.340123Z"
    }
   },
   "outputs": [],
   "source": [
    "interfaces = gpd.read_file(file_path + 'interfaces2.shp')\n",
    "interfaces.head()"
   ]
  },
  {
   "cell_type": "markdown",
   "metadata": {},
   "source": [
    "<a id='plotting-stratigraphic-boundaries'></a>\n",
    "\n",
    "### Plotting Stratigraphic Boundaries"
   ]
  },
  {
   "cell_type": "code",
   "execution_count": null,
   "metadata": {},
   "outputs": [],
   "source": [
    "fig, ax = plt.subplots(1, figsize=(5,5))\n",
    "\n",
    "interfaces.plot(ax=ax, column='formation', legend=True, aspect='equal')\n",
    "\n",
    "plt.grid()\n",
    "ax.set_xlabel('X [m]')\n",
    "ax.set_ylabel('Y [m]')\n",
    "ax.set_xlim(0, 2932)\n",
    "ax.set_ylim(0, 3677)"
   ]
  },
  {
   "cell_type": "markdown",
   "metadata": {},
   "source": [
    "<a id='extracting-z-coordinates-from-digital-elevation-model'></a>\n",
    "\n",
    "### Extracting Z coordinates from Digital Elevation Model\n",
    "\n",
    "The vertical position of the interface point will be extracted from the digital elevation model using the `GemGIS` function `gg.vector.extract_xyz()`. The resulting GeoDataFrame now contains single points including the information about the respective `formation` as well as the `X`, `Y`, and `Z` location. This is all we need as preparational steps to generate input data for `GemPy`. \n",
    "\n",
    "There is also a [tutorial available for this task on the GemGIS Documentation page](https://gemgis.readthedocs.io/en/latest/getting_started/tutorial/02_extract_xyz.html)."
   ]
  },
  {
   "cell_type": "code",
   "execution_count": null,
   "metadata": {
    "ExecuteTime": {
     "end_time": "2022-04-04T11:42:42.481126Z",
     "start_time": "2022-04-04T11:42:42.388134Z"
    }
   },
   "outputs": [],
   "source": [
    "interfaces_coords = gg.vector.extract_xyz(gdf=interfaces, dem=topo_raster)\n",
    "interfaces_coords"
   ]
  },
  {
   "cell_type": "markdown",
   "metadata": {},
   "source": [
    "<a id='plotting-the-interface-points'></a>\n",
    "\n",
    "### Plotting the Interface Points\n",
    "\n",
    "The interface points incuding their altitude (Z-) values and the digitized LineString can be plotted using `matplotlib`. "
   ]
  },
  {
   "cell_type": "code",
   "execution_count": null,
   "metadata": {
    "ExecuteTime": {
     "end_time": "2022-04-04T11:42:42.778039Z",
     "start_time": "2022-04-04T11:42:42.483106Z"
    }
   },
   "outputs": [],
   "source": [
    "fig, ax = plt.subplots(1, figsize=(5,5))\n",
    "\n",
    "interfaces.plot(ax=ax, column='formation', legend=True, aspect='equal')\n",
    "interfaces_coords.plot(ax=ax, column='formation', legend=True, aspect='equal')\n",
    "plt.grid()\n",
    "ax.set_xlabel('X [m]')\n",
    "ax.set_ylabel('Y [m]')\n",
    "ax.set_xlim(0, 2932)\n",
    "ax.set_ylim(0, 3677)"
   ]
  },
  {
   "cell_type": "markdown",
   "metadata": {},
   "source": [
    "<a id='processing-orientations'></a>\n",
    "\n",
    "## Processing Orientations\n",
    "\n",
    "For this example, orientations must be calculated yourself. They will be calculated using functions implemented in GemGIS and the previously digitized strike lines. \n",
    "\n",
    "<img src=\"../../data/images/example2/orientations_example2.png\" width=700/>\n",
    "Source: Bennison, G.M. (1988): An Introduction to Geological Structures and Maps, page 4, figure 3, Springer Verlag Berlin, Heidelberg, New York, ISBN: 978-1-4615-9632-5\n",
    "\n",
    "<a id='orientations-from-strike-lines'></a>\n",
    "### Orientations from Strike Lines\n",
    "\n",
    "Strike lines connect outcropping stratigraphic boundaries (interfaces) of the same altitude. In other words: the intersections between topographic contours and stratigraphic boundaries at the surface. The height difference and the horizontal difference between two digitized lines is used to calculate the dip and azimuth and hence an orientation that is necessary for `GemPy`.\n",
    "\n",
    "The calculation of orientations from strike lines has been implemented into `GemPy` for simple cases like these. In order to calculate the orientations, each set of strikes lines/LineStrings for one formation must be given an id number next to the altitude of the strike line. The id field is already predefined in QGIS. The strike line with the lowest altitude gets the id number `1`, the strike line with the highest altitude the the number according to the number of digitized strike lines. It is currently recommended to use one set of strike lines for each structural element of one formation as illustrated. \n",
    "\n",
    "<img src=\"../../data/images/fig3.png\" width=500/>\n",
    "\n",
    "By CrunchyRocks, after Karla Panchuck - https://openpress.usask.ca/physicalgeology/chapter/13-5-measuring-geological-structures/, CC BY 4.0, https://commons.wikimedia.org/w/index.php?curid=113554289\n",
    "\n",
    "\n",
    "<img src=\"../../data/images/model1_strike_lines.PNG\" width=500/>\n",
    "Source: Powell, D. (1995): Interpretation geologischer Strukturen durch Karten - Eine praktische Anleitung mit Aufgaben und Lösungen, page 14, figure 8, Springer Verlag Berlin, Heidelberg, New York, ISBN: 978-3-540-58607-4."
   ]
  },
  {
   "cell_type": "markdown",
   "metadata": {},
   "source": [
    "<a id='loading-strike-lines'></a>\n",
    "### Loading Strike Lines\n",
    "\n",
    "We are using `GeoPandas` to load the strike lines. "
   ]
  },
  {
   "cell_type": "code",
   "execution_count": null,
   "metadata": {
    "ExecuteTime": {
     "end_time": "2022-04-04T11:42:42.997031Z",
     "start_time": "2022-04-04T11:42:42.953269Z"
    }
   },
   "outputs": [],
   "source": [
    "strikes = gpd.read_file(file_path + 'strikes2.shp')\n",
    "strikes"
   ]
  },
  {
   "cell_type": "markdown",
   "metadata": {},
   "source": [
    "<a id='plotting-strike-lines'></a>\n",
    "\n",
    "### Plotting Strike Lines\n",
    "\n",
    "The strike lines can be plotted using `matplotlib`. "
   ]
  },
  {
   "cell_type": "code",
   "execution_count": null,
   "metadata": {},
   "outputs": [],
   "source": [
    "fig, ax = plt.subplots(1, figsize=(5,5))\n",
    "\n",
    "strikes.plot(ax=ax,column='id', aspect=1)\n",
    "interfaces.plot(ax=ax, column='formation', legend=True, aspect='equal')\n",
    "ax.set_xlabel('X [m]')\n",
    "ax.set_ylabel('Y [m]')\n",
    "ax.set_xlim(0, 2932)\n",
    "ax.set_ylim(0, 3677)\n",
    "ax.grid()"
   ]
  },
  {
   "cell_type": "markdown",
   "metadata": {},
   "source": [
    "<a id='calculate-orientations-for-each-formation'></a>\n",
    "\n",
    "### Calculate Orientations for each formation\n",
    "\n",
    "The orientations will be calculated using the function `gg.vector.calculate_orientations_from_strike_lines()` where the strike lines for each single formation will be provided and calculated separately. The result is a `GeoDataFrame` ready to be used in `GemPy`."
   ]
  },
  {
   "cell_type": "code",
   "execution_count": null,
   "metadata": {
    "ExecuteTime": {
     "end_time": "2022-04-04T11:42:43.089483Z",
     "start_time": "2022-04-04T11:42:42.998033Z"
    }
   },
   "outputs": [],
   "source": [
    "orientations_p = gg.vector.calculate_orientations_from_strike_lines(gdf=strikes[strikes['formation'] == 'P'].sort_values(by='id', ascending=True).reset_index())\n",
    "orientations_p"
   ]
  },
  {
   "cell_type": "code",
   "execution_count": null,
   "metadata": {
    "ExecuteTime": {
     "end_time": "2022-04-04T11:42:43.151506Z",
     "start_time": "2022-04-04T11:42:43.090479Z"
    }
   },
   "outputs": [],
   "source": [
    "orientations_q = gg.vector.calculate_orientations_from_strike_lines(gdf=strikes[strikes['formation'] == 'Q'].reset_index())\n",
    "orientations_q"
   ]
  },
  {
   "cell_type": "code",
   "execution_count": null,
   "metadata": {
    "ExecuteTime": {
     "end_time": "2022-04-04T11:42:43.213549Z",
     "start_time": "2022-04-04T11:42:43.153501Z"
    }
   },
   "outputs": [],
   "source": [
    "orientations_r = gg.vector.calculate_orientations_from_strike_lines(gdf=strikes[strikes['formation'] == 'R'].reset_index())\n",
    "orientations_r"
   ]
  },
  {
   "cell_type": "code",
   "execution_count": null,
   "metadata": {
    "ExecuteTime": {
     "end_time": "2022-04-04T11:42:43.275562Z",
     "start_time": "2022-04-04T11:42:43.214548Z"
    }
   },
   "outputs": [],
   "source": [
    "orientations_s = gg.vector.calculate_orientations_from_strike_lines(gdf=strikes[strikes['formation'] == 'S'].reset_index())\n",
    "orientations_s"
   ]
  },
  {
   "cell_type": "code",
   "execution_count": null,
   "metadata": {
    "ExecuteTime": {
     "end_time": "2022-04-04T11:42:43.352588Z",
     "start_time": "2022-04-04T11:42:43.276562Z"
    }
   },
   "outputs": [],
   "source": [
    "orientations_t = gg.vector.calculate_orientations_from_strike_lines(gdf=strikes[strikes['formation'] == 'T'].reset_index())\n",
    "orientations_t"
   ]
  },
  {
   "cell_type": "markdown",
   "metadata": {},
   "source": [
    "<a id='merging-orientations-for-gempy'></a>\n",
    "\n",
    "### Merging Orientations for GemPy\n",
    "\n",
    "Since `GemPy` only takes one `DataFrame` for the necessary orientations, the single `DataFrames` are concatenated using `pd.concat()`. "
   ]
  },
  {
   "cell_type": "code",
   "execution_count": null,
   "metadata": {
    "ExecuteTime": {
     "end_time": "2022-04-04T11:42:43.383587Z",
     "start_time": "2022-04-04T11:42:43.354580Z"
    }
   },
   "outputs": [],
   "source": [
    "orientations = pd.concat([orientations_p, orientations_q, orientations_r, orientations_s, orientations_t]).reset_index()\n",
    "orientations"
   ]
  },
  {
   "cell_type": "markdown",
   "metadata": {},
   "source": [
    "<a id='plotting-orientations'></a>\n",
    "\n",
    "### Plotting the Orientations\n",
    "\n",
    "The orientations can be plotted using `matplotlib`."
   ]
  },
  {
   "cell_type": "code",
   "execution_count": null,
   "metadata": {
    "ExecuteTime": {
     "end_time": "2022-04-04T11:42:43.742594Z",
     "start_time": "2022-04-04T11:42:43.388596Z"
    }
   },
   "outputs": [],
   "source": [
    "fig, ax = plt.subplots(1, figsize=(5,5))\n",
    "\n",
    "interfaces.plot(ax=ax, column='formation', legend=True, aspect='equal')\n",
    "interfaces_coords.plot(ax=ax, column='formation', legend=True, aspect='equal')\n",
    "orientations.plot(ax=ax, color='red', aspect='equal')\n",
    "plt.grid()\n",
    "ax.set_xlabel('X [m]')\n",
    "ax.set_ylabel('Y [m]')\n",
    "ax.set_xlim(0, 2932)\n",
    "ax.set_ylim(0, 3677)"
   ]
  },
  {
   "cell_type": "markdown",
   "metadata": {},
   "source": [
    "<a id='gempy-model-calculation'></a>\n",
    "\n",
    "# GemPy Model Calculation\n",
    "\n",
    "\n",
    "The creation of a `GemPy` Model follows particular steps which will be performed in the following:\n",
    "\n",
    "1. Create new model: `gp.create_model()`\n",
    "2. Data Initiation: `gp.init_data()`\n",
    "3. Map Stack to Surfaces: `gp.map_stack_to_surfaces()`\n",
    "4. [...]\n",
    "5. Set the Interpolator: `gp.set_interpolator()`\n",
    "6. Computing the Model: `gp.compute_model()`\n",
    "\n",
    "<a id='creating-the-gempy-model'></a>\n",
    "\n",
    "## Creating the GemPy Model\n",
    "\n",
    "The first step is to create a new empty `GemPy` model by providing a name for it. "
   ]
  },
  {
   "cell_type": "code",
   "execution_count": null,
   "metadata": {
    "ExecuteTime": {
     "end_time": "2022-04-04T11:42:46.633790Z",
     "start_time": "2022-04-04T11:42:45.824571Z"
    }
   },
   "outputs": [],
   "source": [
    "geo_model = gp.create_model('Model2')\n",
    "geo_model"
   ]
  },
  {
   "cell_type": "markdown",
   "metadata": {},
   "source": [
    "<a id='data-initiation'></a>\n",
    "\n",
    "## Data Initiation\n",
    "\n",
    "During this step, the `extent` of the model (`xmin`, `xmax`, `ymin`, `ymax`, `zmin`, `zmax`) and the `resolution` in `X`, `Y`and `Z` direction (`res_x`, `res_y`, `res_z`, equal to the number of cells in each direction) will be set using lists of values. \n",
    "\n",
    "The interface points (`surface_points_df`) and orientations (`orientations_df`) will be passed as `pandas` `DataFrames`. "
   ]
  },
  {
   "cell_type": "code",
   "execution_count": null,
   "metadata": {
    "ExecuteTime": {
     "end_time": "2022-04-04T11:42:46.850531Z",
     "start_time": "2022-04-04T11:42:46.635775Z"
    }
   },
   "outputs": [],
   "source": [
    "gp.init_data(geo_model, [0, 2932, 0, 3677, -700, 1000], [50,50,50],\n",
    "             surface_points_df=interfaces_coords,\n",
    "             orientations_df=orientations,\n",
    "             default_values=True)"
   ]
  },
  {
   "cell_type": "markdown",
   "metadata": {},
   "source": [
    "<a id='inspecting-the-surfaces'></a>\n",
    "\n",
    "## Inspecting the Surfaces\n",
    "\n",
    "The model consists of five different layers or surfaces now which all belong to the `Default series`. During the next step, the proper `Series` will be assigned to the surfaces. Using the `surfaces`-attribute again, we can check which layers were loaded."
   ]
  },
  {
   "cell_type": "code",
   "execution_count": null,
   "metadata": {
    "ExecuteTime": {
     "end_time": "2022-04-03T08:34:49.219030Z",
     "start_time": "2022-04-03T08:34:49.158185Z"
    }
   },
   "outputs": [],
   "source": [
    "geo_model.surfaces"
   ]
  },
  {
   "cell_type": "markdown",
   "metadata": {},
   "source": [
    "<a id='inspecting-the-input-data'></a>\n",
    "\n",
    "## Inspecting the Input Data\n",
    "\n",
    "The loaded interface points and orientations can again be inspected using the `surface_points`- and `orientations`-attributes. Using the `df`-attribute of this object will convert the displayed table in a `pandas` `DataFrame`."
   ]
  },
  {
   "cell_type": "code",
   "execution_count": null,
   "metadata": {},
   "outputs": [],
   "source": [
    "geo_model.surface_points.df.head()"
   ]
  },
  {
   "cell_type": "code",
   "execution_count": null,
   "metadata": {},
   "outputs": [],
   "source": [
    "geo_model.orientations.df.head()"
   ]
  },
  {
   "cell_type": "markdown",
   "metadata": {},
   "source": [
    "### Model Surfaces"
   ]
  },
  {
   "cell_type": "code",
   "execution_count": null,
   "metadata": {
    "ExecuteTime": {
     "end_time": "2022-04-04T11:42:46.943335Z",
     "start_time": "2022-04-04T11:42:46.851533Z"
    }
   },
   "outputs": [],
   "source": [
    "geo_model.surfaces"
   ]
  },
  {
   "cell_type": "markdown",
   "metadata": {},
   "source": [
    "<a id='map-stack-to-surfaces'></a>\n",
    "\n",
    "## Map Stack to Surfaces\n",
    "\n",
    "During this step, all five layers of the model are assigned to the `Strata1` series. We know that the layers modeled here are parallel. If the layers were not parallel as shown in the next models, multiple series would be defined. We will also add a `Basement` here (`geo_model.add_surfaces('Basement')`). The order within one series also defines the age relations within this series and has to be according to the depositional events of the layers."
   ]
  },
  {
   "cell_type": "code",
   "execution_count": null,
   "metadata": {
    "ExecuteTime": {
     "end_time": "2022-04-04T11:42:47.052516Z",
     "start_time": "2022-04-04T11:42:46.945330Z"
    }
   },
   "outputs": [],
   "source": [
    "gp.map_stack_to_surfaces(geo_model,\n",
    "                         {'Strata': ('P', 'Q', 'R', 'S', 'T')},\n",
    "                         remove_unused_series=True)\n",
    "geo_model.add_surfaces('U')"
   ]
  },
  {
   "cell_type": "markdown",
   "metadata": {},
   "source": [
    "<a id='showing-the-number-of-data-points'></a>\n",
    "\n",
    "## Showing the Number of Data Points\n",
    "\n",
    "You can also return the number of interfaces and orientations for each formation using `gg.utils.show_number_of_data_points()`"
   ]
  },
  {
   "cell_type": "code",
   "execution_count": null,
   "metadata": {
    "ExecuteTime": {
     "end_time": "2022-04-04T11:42:47.115540Z",
     "start_time": "2022-04-04T11:42:47.054509Z"
    }
   },
   "outputs": [],
   "source": [
    "gg.utils.show_number_of_data_points(geo_model=geo_model)"
   ]
  },
  {
   "cell_type": "markdown",
   "metadata": {},
   "source": [
    "<a id='loading-digital-elevation-model'></a>\n",
    "\n",
    "## Loading Digital Elevation Model\n",
    "\n",
    "`GemPy` is capable of including a topography into the modeling process. Here, we use the topography that we have interpolated in one of the previous steps. `GemPy` takes the file path of the raster/digital elevation model and loads it as grid into the `geo_model` object."
   ]
  },
  {
   "cell_type": "code",
   "execution_count": null,
   "metadata": {
    "ExecuteTime": {
     "end_time": "2022-04-04T11:42:47.538144Z",
     "start_time": "2022-04-04T11:42:47.117526Z"
    }
   },
   "outputs": [],
   "source": [
    "geo_model.set_topography(source='gdal', filepath=file_path + 'raster2.tif')"
   ]
  },
  {
   "cell_type": "markdown",
   "metadata": {},
   "source": [
    "<a id='defining-custom-section'></a>\n",
    "\n",
    "## Defining Custom Section\n",
    "\n",
    "It is possible to define straight (no bending) custom sections in `GemPy` that will be calculated additionally with a provided resolution and that can be displayed separately using `matplotlib`.\n",
    "\n",
    "For this example, the bold black line indicates the location of the custom section. This custom section can be digitized with a LineString (line shape file) with vertices at both ends and loaded using `GeoPandas`. \n",
    "\n",
    "The function `gg.utils.to_section_dict()` converts the `GeoDataFrame` into a custom section dict before it can be set as section grid for the `geo_model` object and plotted using the built-in plotting function. "
   ]
  },
  {
   "cell_type": "code",
   "execution_count": null,
   "metadata": {
    "ExecuteTime": {
     "end_time": "2022-04-04T11:42:47.754954Z",
     "start_time": "2022-04-04T11:42:47.541165Z"
    }
   },
   "outputs": [],
   "source": [
    "custom_section = gpd.read_file(file_path + 'customsection2.shp')\n",
    "custom_section_dict = gg.utils.to_section_dict(custom_section, section_column='name')\n",
    "geo_model.set_section_grid(custom_section_dict)"
   ]
  },
  {
   "cell_type": "code",
   "execution_count": null,
   "metadata": {
    "ExecuteTime": {
     "end_time": "2022-04-04T11:42:47.927013Z",
     "start_time": "2022-04-04T11:42:47.757971Z"
    }
   },
   "outputs": [],
   "source": [
    "gp.plot.plot_section_traces(geo_model)"
   ]
  },
  {
   "cell_type": "markdown",
   "metadata": {},
   "source": [
    "<a id='plotting-the-input-data-in-2d'></a>\n",
    "\n",
    "## Plotting the input data in 2D using Matplotlib\n",
    "\n",
    "The input data can now be visualized in 2D using `matplotlib`. This might for example be useful to check if all points and measurements are defined the way we want them to. Using the function `plot_2d()`, we attain a 2D projection of our data points onto a plane of chosen direction (we can choose this attribute to be either `'x'`, `'y'`, or `'z'`)."
   ]
  },
  {
   "cell_type": "code",
   "execution_count": null,
   "metadata": {
    "ExecuteTime": {
     "end_time": "2022-04-04T11:42:48.191160Z",
     "start_time": "2022-04-04T11:42:47.929006Z"
    }
   },
   "outputs": [],
   "source": [
    "gp.plot_2d(geo_model, direction='z', show_lith=False, show_boundaries=False)\n",
    "plt.grid()"
   ]
  },
  {
   "cell_type": "markdown",
   "metadata": {},
   "source": [
    "<a id='plotting-the-input-data-in-3d'></a>\n",
    "\n",
    "## Plotting the input data in 3D using PyVista\n",
    "\n",
    "The input data can also be viszualized using the `pyvista` package. In this view, the interface points are visible as well as the orientations (marked as arrows) which indicate the normals of each orientation value. "
   ]
  },
  {
   "cell_type": "code",
   "execution_count": null,
   "metadata": {
    "ExecuteTime": {
     "end_time": "2022-04-04T11:42:48.733025Z",
     "start_time": "2022-04-04T11:42:48.193162Z"
    }
   },
   "outputs": [],
   "source": [
    "gp.plot_3d(geo_model, image=False, plotter_type='basic', notebook=True)"
   ]
  },
  {
   "cell_type": "markdown",
   "metadata": {},
   "source": [
    "<a id='setting-the-interpolator'></a>\n",
    "## Setting the interpolator\n",
    "\n",
    "Once we have made sure that we have defined all our primary information, we can continue with the next step towards creating our geological model: preparing the input data for interpolation.\n",
    "\n",
    "Setting the interpolator is necessary before computing the actual model. Here, the most important kriging parameters can be defined. "
   ]
  },
  {
   "cell_type": "code",
   "execution_count": null,
   "metadata": {
    "ExecuteTime": {
     "end_time": "2022-04-04T11:42:51.505371Z",
     "start_time": "2022-04-04T11:42:48.735025Z"
    }
   },
   "outputs": [],
   "source": [
    "gp.set_interpolator(geo_model,\n",
    "                    compile_theano=True,\n",
    "                    theano_optimizer='fast_compile',\n",
    "                    verbose=[],\n",
    "                    update_kriging=False\n",
    "                    )"
   ]
  },
  {
   "cell_type": "markdown",
   "metadata": {},
   "source": [
    "<a id='computing-the-model'></a>\n",
    "\n",
    "## Computing the model\n",
    "\n",
    "At this point, we have all we need to compute our full model via `gp.compute_model()`. By default, this will return two separate solutions in the form of arrays. The first provides information on the lithological formations, the second on the fault network in the model, which is not present in this example. "
   ]
  },
  {
   "cell_type": "code",
   "execution_count": null,
   "metadata": {
    "ExecuteTime": {
     "end_time": "2022-04-04T11:43:52.798102Z",
     "start_time": "2022-04-04T11:42:51.507376Z"
    }
   },
   "outputs": [],
   "source": [
    "sol = gp.compute_model(geo_model, compute_mesh=True)"
   ]
  },
  {
   "cell_type": "code",
   "execution_count": null,
   "metadata": {},
   "outputs": [],
   "source": [
    "sol"
   ]
  },
  {
   "cell_type": "code",
   "execution_count": null,
   "metadata": {},
   "outputs": [],
   "source": [
    "geo_model.solutions"
   ]
  },
  {
   "cell_type": "markdown",
   "metadata": {},
   "source": [
    "<a id='model-visualization-and-post-processing'></a>\n",
    "\n",
    "# Model Visualization and Post-Processing\n",
    "\n",
    "<a id='visualizing-the-computed-model-in-2d'></a>\n",
    "\n",
    "## Visulazing Cross Sections of the computed model\n",
    "\n",
    "Cross sections in different `direction`s and at different `cell_number`s can be displayed. Here, we see the layers of the model in the different directions. \n",
    "\n",
    "The first section to be plotted is the custom section `Section1` followed by an array of cross sections."
   ]
  },
  {
   "cell_type": "code",
   "execution_count": null,
   "metadata": {
    "ExecuteTime": {
     "end_time": "2022-04-04T11:43:53.014692Z",
     "start_time": "2022-04-04T11:43:52.800122Z"
    }
   },
   "outputs": [],
   "source": [
    "gp.plot_2d(geo_model, section_names=['Section1'], show_topography=True, show_data=False)"
   ]
  },
  {
   "cell_type": "code",
   "execution_count": null,
   "metadata": {
    "ExecuteTime": {
     "end_time": "2022-04-04T11:43:53.971085Z",
     "start_time": "2022-04-04T11:43:53.016692Z"
    }
   },
   "outputs": [],
   "source": [
    "gp.plot_2d(geo_model, direction=['x', 'x', 'y', 'y'], cell_number=[25, 75, 25, 75], show_topography=True, show_data=False)"
   ]
  },
  {
   "cell_type": "markdown",
   "metadata": {},
   "source": [
    "Next to the lithology data, we can also plot the calculated scalar field."
   ]
  },
  {
   "cell_type": "code",
   "execution_count": null,
   "metadata": {},
   "outputs": [],
   "source": [
    "gp.plot_2d(geo_model, direction='y', show_data=False, show_scalar=True, show_lith=False)"
   ]
  },
  {
   "cell_type": "markdown",
   "metadata": {},
   "source": [
    "<a id='visualizing-the-computed-model-in-3d'></a>\n",
    "\n",
    "## Visualizing the computed model in 3D\n",
    "\n",
    "The computed model can be visualized in 3D using the `pyvista` library. Setting `notebook=False` will open an interactive windows and the model can be rotated and zooming is possible. "
   ]
  },
  {
   "cell_type": "code",
   "execution_count": null,
   "metadata": {
    "ExecuteTime": {
     "end_time": "2022-04-04T11:43:57.436110Z",
     "start_time": "2022-04-04T11:43:53.973085Z"
    }
   },
   "outputs": [],
   "source": [
    "gpv = gp.plot_3d(geo_model, image=False, show_topography=True,\n",
    "                 plotter_type='basic', notebook=True, show_lith=True)"
   ]
  },
  {
   "cell_type": "markdown",
   "metadata": {},
   "source": [
    "<a id='post-processing'></a>\n",
    "\n",
    "## Post Processing\n",
    "\n",
    "Now that the model has been created, we would like to utilize it. In this notebook, you will learn how to extract the geological map as `PyVista` meshes,  how to extract the geological map as `GeoPandas` polygon `GeoDataFrame` and how to save it shape file to display it in QGIS. The last processing task will be to extract the lith_block of a `GemPy` model cropped to the topography.\n",
    "\n",
    "<a id='extracting-the-geological-map-as-pyvista-mesh'></a>\n",
    "### Extracting the geological map as PyVista Mesh\n",
    "\n",
    "The first post processing task in this notebook is to extract the geological map of the resulting model as `PyVista` mesh. We use the function `gg.visualization.get_mesh_geological_map()` to extract the mesh. This mesh can be further used to intersect it with other information. When plotting the mesh, it is necessary to set `scalars='id'` and provide `geol_map[1]` as `cmap`. `rgb` should also be set to true. "
   ]
  },
  {
   "cell_type": "code",
   "execution_count": null,
   "metadata": {},
   "outputs": [],
   "source": [
    "geol_map = gg.visualization.get_mesh_geological_map(geo_model)\n",
    "geol_map[0]"
   ]
  },
  {
   "cell_type": "code",
   "execution_count": null,
   "metadata": {},
   "outputs": [],
   "source": [
    "geol_map[1]"
   ]
  },
  {
   "cell_type": "code",
   "execution_count": null,
   "metadata": {},
   "outputs": [],
   "source": [
    "sargs = dict(color='black')\n",
    "\n",
    "p = pv.Plotter(notebook=True)\n",
    "\n",
    "p.add_mesh(geol_map[0], scalars='id',cmap=geol_map[1], rgb=True)\n",
    "\n",
    "p.show_grid(color='black')\n",
    "p.set_background(color='white')\n",
    "p.set_scale(1,1,1)\n",
    "\n",
    "p.show()"
   ]
  },
  {
   "cell_type": "markdown",
   "metadata": {},
   "source": [
    "<a id='extracting-the-geological-map-as-geo_dataframe'></a>\n",
    "### Extract Geological Map as GeoDataFrame\n",
    "\n",
    "The geological map can also be exported as `GeoDataFrame` and then saved shape file for later visualization in QGIS. For the plotting, we use the color map generated above. Here, we use `gg.postprocessing.extract_lithologies()` to accomplish that. \n"
   ]
  },
  {
   "cell_type": "code",
   "execution_count": null,
   "metadata": {},
   "outputs": [],
   "source": [
    "gdf = gg.postprocessing.extract_lithologies(geo_model, geo_model.grid.regular_grid.extent[:4], crs='EPSG:4326')\n",
    "gdf"
   ]
  },
  {
   "cell_type": "code",
   "execution_count": null,
   "metadata": {},
   "outputs": [],
   "source": [
    "fig, ax = plt.subplots(1, figsize=(7,7))\n",
    "\n",
    "gdf.plot(ax=ax, column='formation', cmap=geol_map[1])\n",
    "gdf.boundary.plot(ax=ax, color='black', linewidth=0.4)\n",
    "plt.grid()\n",
    "plt.show()"
   ]
  },
  {
   "cell_type": "markdown",
   "metadata": {},
   "source": [
    "The `GeoDataFrame` can also be saved as shape file."
   ]
  },
  {
   "cell_type": "code",
   "execution_count": null,
   "metadata": {},
   "outputs": [],
   "source": [
    "gdf.to_file('test.shp')"
   ]
  },
  {
   "cell_type": "markdown",
   "metadata": {},
   "source": [
    "<a id='extracting-the-lith-block-cropped-to-the-topography'></a>\n",
    "### Extracting the lith_block cropped to the topography\n",
    "\n",
    "The last post processing task in this tutorial is how to crop the resulting `GemPy` lith_block to the tropography. This is accomplished using `gg.postprocessing.crop_block_to_topography()`. "
   ]
  },
  {
   "cell_type": "code",
   "execution_count": null,
   "metadata": {},
   "outputs": [],
   "source": [
    "grid = gg.postprocessing.crop_block_to_topography(geo_model=geo_model)\n",
    "grid"
   ]
  },
  {
   "cell_type": "code",
   "execution_count": null,
   "metadata": {},
   "outputs": [],
   "source": [
    "sargs = dict(color='black')\n",
    "\n",
    "p = pv.Plotter(notebook=True)\n",
    "\n",
    "# p.add_mesh(geol_map[0], scalars='id',cmap=geol_map[1], rgb=True)\n",
    "p.add_mesh(grid, scalars='values', cmap=geol_map[1], scalar_bar_args=sargs)\n",
    "p.show_grid(color='black')\n",
    "p.set_background(color='white')\n",
    "p.set_scale(1,1,1)\n",
    "\n",
    "p.show()"
   ]
  },
  {
   "cell_type": "markdown",
   "metadata": {},
   "source": [
    "<a id='conclusions'></a>\n",
    "# Conclusions\n",
    "\n",
    "<div class=\"alert alert-block alert-success\">\n",
    "<b>In this tutorial, you have learnt the following:</b> <br>\n",
    "- How to use valleys and V-structures to constrain the dip of the layers <br>\n",
    "- How to create orientations from strike lines with <b>GemGIS</b> for <b>GemPy</b><br>\n",
    "- How to build your second GemPy model with input data generated through GemGIS<br>\n",
    "- How to extract the geological map as <b>PyVista</b> mesh<br>\n",
    "- How to extract the geological map as <b>GeoPandas</b> polygon GeoDataFrame to save it as shape file and display it in QGIS <br>\n",
    "- How to extract the lith_block of a <b>GemPy</b> model cropped to the topography\n",
    "</div>\n",
    "\n",
    "<a id='outlook'></a>\n",
    "# Outlook\n",
    "\n",
    "<div class=\"alert alert-block alert-success\">\n",
    "<b>In the next tutorial, you will learn the following:</b> <br>\n",
    "- How to build your third <b>GemPy</b> model with input data generated through <b>GemGIS</b><br>\n",
    "- How to visualize the topography as <b>PyVista</b> mesh <br>\n",
    "- How to calculate the aparent and true thicknesses of the layers  from wells <br>\n",
    "- Concluding the first section of the main part of the tutorial series<br>\n",
    "\n",
    "</div>\n",
    "\n",
    "[Take me to the next notebook on Github](https://nbviewer.org/github/cgre-aachen/gemgis_data/blob/main/notebooks/02_planar_dipping_layers/example03_planar_dipping_layers.ipynb)\n",
    "\n",
    "[Take me to the next notebook locally](example03_planar_dipping_layers.ipynb)\n",
    "\n",
    "<img src=\"../../data/images/example3/cover_example03.png\" />\n",
    "Source: Bennison, G.M. (1988): An Introduction to Geological Structures and Maps, page 7, figure 4, Springer Verlag Berlin, Heidelberg, New York, ISBN: 978-1-4615-9632-5\n",
    "\n",
    "\n",
    "<a id='licensing'></a>\n",
    "\n",
    "## Licensing\n",
    "\n",
    "Institute for Computational Geoscience, Geothermics and Reservoir Geophysics, RWTH Aachen University & Fraunhofer IEG, Fraunhofer Research Institution for Energy Infrastructures and Geothermal Systems IEG, Authors: Alexander Juestel. For more information contact: alexander.juestel(at)ieg.fraunhofer.de\n",
    "\n",
    "All notebooks are licensed under a Creative Commons Attribution 4.0 International License (CC BY 4.0, http://creativecommons.org/licenses/by/4.0/). References for each displayed map are provided. Most of the maps originate from the books of [Powell (1992)](https://link.springer.com/book/9783540586074) and [Bennison (1990)](https://link.springer.com/book/10.1007/978-1-4615-9630-1). References for maps with unknown origin will gladly be added."
   ]
  }
 ],
 "metadata": {
  "hide_input": false,
  "kernelspec": {
   "display_name": "Python 3 (ipykernel)",
   "language": "python",
   "name": "python3"
  },
  "language_info": {
   "codemirror_mode": {
    "name": "ipython",
    "version": 3
   },
   "file_extension": ".py",
   "mimetype": "text/x-python",
   "name": "python",
   "nbconvert_exporter": "python",
   "pygments_lexer": "ipython3",
   "version": "3.9.15"
  },
  "varInspector": {
   "cols": {
    "lenName": 16,
    "lenType": 16,
    "lenVar": 40
   },
   "kernels_config": {
    "python": {
     "delete_cmd_postfix": "",
     "delete_cmd_prefix": "del ",
     "library": "var_list.py",
     "varRefreshCmd": "print(var_dic_list())"
    },
    "r": {
     "delete_cmd_postfix": ") ",
     "delete_cmd_prefix": "rm(",
     "library": "var_list.r",
     "varRefreshCmd": "cat(var_dic_list()) "
    }
   },
   "types_to_exclude": [
    "module",
    "function",
    "builtin_function_or_method",
    "instance",
    "_Feature"
   ],
   "window_display": false
  }
 },
 "nbformat": 4,
 "nbformat_minor": 4
}
