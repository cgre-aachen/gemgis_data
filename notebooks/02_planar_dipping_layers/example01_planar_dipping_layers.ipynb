{
 "cells": [
  {
   "attachments": {},
   "cell_type": "markdown",
   "metadata": {},
   "source": [
    "<img src=\"../../data/images/gempy_logo.png\" />\n",
    "\n",
    "# <center> From Maps to Models - Tutorials for structural geological modeling using GemPy and GemGIS</center>\n",
    "\n",
    "# Example 1 - Planar Dipping Layers\n",
    "\n",
    "This example will show how to convert the geological map below using ``GemGIS`` to a `GemPy` model. This example is based on digitized data. The area is 972 m wide (W-E extent) and 1069 m high (N-S extent). The vertical model extents varies between 200 m and 800 m. The model represents two planar stratigraphic units (blue=Sand and red=Clay) dipping towards the south above an unspecified basement (yellow=Sand). \n",
    "\n",
    "<div class=\"alert alert-block alert-success\">\n",
    "<b>In this tutorial, you will learn the following:</b> <br>\n",
    "- How to create a digital elevation model/topography from digitized topographic contour lines <br>\n",
    "- How to extract the Z coordinates of interface points (=vertices of the digitized layer boundaries) from the digital elevation model<br>\n",
    "- How to calculate orientations based on intersections between topographic contour lines and layer boundaries (strike lines)<br>\n",
    "- How to build your first <b>GemPy</b> model with input data generated through <b>GemGIS</b><br>\n",
    "- How to create, calculate and display a custom-section using <b>GemGIS</b> and <b>GemPy</b> <br>\n",
    "- How to export the calculated layers as <b>PyVista</b> meshes <br>\n",
    "- How to sample orientations from the mesh to compare it to your calculated and the provided orientations <br>\n",
    "- How to display the dip and azimuth values as scalars on the mesh\n",
    "</div>\n",
    "\n",
    "## Your Tasks\n",
    "1. Georeference the map in QGIS given the dimensions above using the coordinate reference system with the EPSG code 4326\n",
    "2. Digitize the layer boundaries (including a `formation` column) and the topographic lines (including a `Z` column)\n",
    "3. Digitize so-called strike lines for the top and the base of the clay layer and calculate the dip of the layer for its top and base (predefined orientation values will be provided for the modeling in GemPy\n",
    "4. Digitize a so-called custom-section along the bold black horizontal line. You will create a custom section at this location of the model\n",
    "\n",
    "\n",
    "## Contents\n",
    "\n",
    "1. [Installing GemPy and GemGIS](#installing-gempy)\n",
    "2. [Importing Libraries](#importing-libraries)\n",
    "3. [Data Preparation](#data-preparation)\n",
    "    1. [Creating Digital Elevation Model from Contour lines](#creating-digital-elevation-model-from-contour-lines)\n",
    "        1. [Loading Contour Lines](#loading-contour-lines)\n",
    "        2. [Plotting Contour Lines](#plotting-contour-lines)\n",
    "        3. [Interpolating Contour Lines](#interpolating-contour-lines)\n",
    "        4. [Plotting the raster](#plotting-the-raster)\n",
    "        5. [Saving the raster to disc](#saving-the-raster-to-disc)\n",
    "        6. [Opening raster](#opening-raster)\n",
    "    2. [Processing Stratigraphic Boundaries](#processing-stratigraphic-boundaries)\n",
    "        1. [Opening Stratigraphic Boundaries](#opening-stratigraphic-boundaries)\n",
    "        2. [Plotting Stratigraphic Boundaries](#plotting-stratigraphic-boundaries)\n",
    "        3. [Extractin X-Y Coordinates from GeoDataFrame](#extracting-xy-coordinates-from-geodataframe)\n",
    "        3. [Extracting Z coordinates from Digital Elevation Model](#extracting-z-coordinates-from-digital-elevation-model)\n",
    "        4. [Plotting the Interface Points](#plotting-the-interface-points)\n",
    "    3. [Processing Orientations](#processing-orientations)\n",
    "        1. [Orientations from Strike Lines](#orientations-from-strike-lines)\n",
    "        2. [Loading Strike Lines](#loading-strike-lines)\n",
    "        3. [Plotting Strike Lines](#plotting-strike-lines)\n",
    "        4. [Calculate Dipping Angles](#calculate-dipping-angles)\n",
    "        5. [Opening Orientations](#opening-orientations)\n",
    "        6. [Plotting Orientations](#plotting-orientations)\n",
    "4. [GemPy Model calculation](#gempy-model-calculation)\n",
    "    1. [Creating the GemPy Model](#creating-the-gempy-model)\n",
    "    2. [Data Initiation](#data-initiation)\n",
    "    3. [Inspecting the Surfaces](#inspecting-the-surfaces)\n",
    "    4. [Inspecting the Input Data](#inspecting-the-input-data)\n",
    "    5. [Map Stack to Surfaces](#map-stack-to-surfaces)\n",
    "    6. [Showing the Number of Data Points](#showing-the-number-of-data-points)\n",
    "    7. [Loading Digital Elevation Model](#loading-digital-elevation-model)\n",
    "    8. [Defining Custom Section](#defining-custom-section)\n",
    "    6. [Plotting Input Data in 2D](#plotting-the-input-data-in-2d)\n",
    "    7. [Plotting Input Data in 3D](#plotting-the-input-data-in-3d)\n",
    "    8. [Setting the Interpolator](#setting-the-interpolator)\n",
    "    9. [Computing the Model](#computing-the-model)\n",
    "5. [Post Processing](#post-processing)\n",
    "    1. [Export Depth Maps from PyVista Model](#export-depth-maps-from-gempy-model)\n",
    "    2. [Calculating Orientations from Meshes](#calculating-orientations-from-meshes)\n",
    "        1. [Calculating Orientations for one point](#calculating-orientations-for-one-point)\n",
    "        2. [Calculating Orientations for all normals](#calculating-orientations-for-all-normals)\n",
    "        3. [Plotting Dip and Azimuth as Scalars](#plotting-dip-and-azimuth-as-scalars)\n",
    "\n",
    "\n",
    "\n",
    "\n",
    "<img src=\"../../data/images/example1/cover.png\" width=700 />\n",
    "Source: Powell, D. (1995): Interpretation geologischer Strukturen durch Karten - Eine praktische Anleitung mit Aufgaben und Lösungen, page 15, figure 10 A, Springer Verlag Berlin, Heidelberg, New York, ISBN: 978-3-540-58607-4."
   ]
  },
  {
   "cell_type": "markdown",
   "metadata": {},
   "source": [
    "<a id='installing-gempy'></a>\n",
    "\n",
    "# Installing GemPy and GemGIS\n",
    "\n",
    "If you have not installed `GemPy` yet, please follow the [GemPy installation instructions](https://docs.gempy.org/installation.html) and the [GemGIS installation instructions](https://gemgis.readthedocs.io/en/latest/getting_started/installation.html). If you encounter any issues, feel free to open a new discussion at [GemPy Discussions](https://github.com/cgre-aachen/gempy/discussions) or [GemGIS Discussions](https://github.com/cgre-aachen/gemgis/discussions). If you encounter an error in the installation process, feel free to also open an issue at [GemPy Issues](https://github.com/cgre-aachen/gempy/issues) or [GemGIS Issues](https://github.com/cgre-aachen/gemgis/issues). There, the `GemPy` and `GemGIS` development teams will help you out. "
   ]
  },
  {
   "cell_type": "markdown",
   "metadata": {},
   "source": [
    "<a id='importing-libraries'></a>\n",
    "\n",
    "# Importing Libraries\n",
    "\n",
    "For this notebook, we need the `geopandas` library for the data preparation, `rasterio` for dealing with the created digital elevation model, `matplotlib` for plotting, `numpy` for some numerical calculations and of course the `gempy` and `gemgis` libraries. Any warnings that may appear can be ignored for now. The file path is set to load the data provided for this tutorial. "
   ]
  },
  {
   "cell_type": "code",
   "execution_count": null,
   "metadata": {
    "ExecuteTime": {
     "end_time": "2022-04-03T08:34:44.817640Z",
     "start_time": "2022-04-03T08:34:44.804120Z"
    },
    "scrolled": true
   },
   "outputs": [],
   "source": [
    "import geopandas as gpd\n",
    "import rasterio\n",
    "import warnings\n",
    "warnings.filterwarnings(\"ignore\")\n",
    "import gemgis as gg\n",
    "import matplotlib.pyplot as plt\n",
    "import numpy as np\n",
    "import gempy as gp\n",
    "import pyvista as pv"
   ]
  },
  {
   "cell_type": "code",
   "execution_count": null,
   "metadata": {
    "ExecuteTime": {
     "end_time": "2022-04-03T08:34:44.833136Z",
     "start_time": "2022-04-03T08:34:44.819639Z"
    }
   },
   "outputs": [],
   "source": [
    "file_path = '../../data/example01_planar_dipping_layers/'"
   ]
  },
  {
   "cell_type": "markdown",
   "metadata": {},
   "source": [
    "<a id='data-preparation'></a>\n",
    "# Data Preparation\n",
    "\n",
    "At this point, you should have the topographic contour lines (including a `Z` column) and the layer boundaries (including a `formation` column) digitized. If not, please generate the data before continuing with this tutorial. \n",
    "\n",
    "<a id='creating-digital-elevation-model-from-contour-lines'></a>\n",
    "## Creating Digital Elevation Model from Contour Lines\n",
    "\n",
    "The digital elevation model (DEM) will be created by interpolating the contour lines digitized from the georeferenced map using the `SciPy` [Radial Basis Function interpolation](https://docs.scipy.org/doc/scipy/reference/generated/scipy.interpolate.Rbf.html) wrapped in `GemGIS`. The respective function used for that is `gg.vector.interpolate_raster()`. \n",
    "\n",
    "\n",
    "<img src=\"../../data/images/example1/dem_example1.png\" width=700/>\n",
    "Source: Powell, D. (1995): Interpretation geologischer Strukturen durch Karten - Eine praktische Anleitung mit Aufgaben und Lösungen, page 15, figure 10 A, Springer Verlag Berlin, Heidelberg, New York, ISBN: 978-3-540-58607-4.\n",
    "\n",
    "\n",
    "<a id='loading-contour-lines'></a>\n",
    "### Loading contour lines\n",
    "\n",
    "First, the contour lines are loaded using `GeoPandas`. Please provide here the name of your shape file containing the digitized topographic contour lines. "
   ]
  },
  {
   "cell_type": "code",
   "execution_count": null,
   "metadata": {
    "ExecuteTime": {
     "end_time": "2022-04-03T08:34:45.065193Z",
     "start_time": "2022-04-03T08:34:45.002175Z"
    }
   },
   "outputs": [],
   "source": [
    "topo = gpd.read_file(file_path + 'topo1.shp')\n",
    "topo.head()"
   ]
  },
  {
   "cell_type": "markdown",
   "metadata": {},
   "source": [
    "<a id='plotting-contour-lines'></a>\n",
    "\n",
    "### Plotting the contour lines\n",
    "\n",
    "The contour lines are plotted using the built-in plotting function of `GeoPandas`. "
   ]
  },
  {
   "cell_type": "code",
   "execution_count": null,
   "metadata": {},
   "outputs": [],
   "source": [
    "topo.plot(column='Z', aspect=1, legend=True, cmap='gist_earth')"
   ]
  },
  {
   "cell_type": "markdown",
   "metadata": {},
   "source": [
    "<a id='interpolating-contour-lines'></a>\n",
    "\n",
    "### Interpolating the contour lines\n",
    "\n",
    "The digital elevation model (DEM) will be created by interpolating the contour lines digitized from the georeferenced map using the `SciPy` [Radial Basis Function interpolation](https://docs.scipy.org/doc/scipy/reference/generated/scipy.interpolate.Rbf.html) wrapped in `GemGIS`. The respective function used for that is `gg.vector.interpolate_raster()`. \n",
    "\n",
    "There is also a [tutorial available for this task on the GemGIS Documentation page](https://gemgis.readthedocs.io/en/latest/getting_started/tutorial/05_interpolating_rasters.html)."
   ]
  },
  {
   "cell_type": "code",
   "execution_count": null,
   "metadata": {
    "ExecuteTime": {
     "end_time": "2022-04-03T08:34:45.393301Z",
     "start_time": "2022-04-03T08:34:45.067196Z"
    }
   },
   "outputs": [],
   "source": [
    "topo_raster = gg.vector.interpolate_raster(gdf=topo, value='Z', method='rbf', res=5)"
   ]
  },
  {
   "cell_type": "markdown",
   "metadata": {},
   "source": [
    "<a id='plotting-the-raster'></a>\n",
    "\n",
    "### Plotting the raster\n",
    "\n",
    "The interpolated digital elevation model can be displayed using `matplotlib` and its `plt.imshow()` function and by providing the extent of the raster to align it with the contour lines. "
   ]
  },
  {
   "cell_type": "code",
   "execution_count": null,
   "metadata": {
    "ExecuteTime": {
     "end_time": "2022-04-03T08:34:45.691434Z",
     "start_time": "2022-04-03T08:34:45.396302Z"
    },
    "scrolled": false
   },
   "outputs": [],
   "source": [
    "fig, ax = plt.subplots(1, figsize=(5, 5))\n",
    "topo.plot(ax=ax, aspect='equal', column='Z', cmap='gist_earth')\n",
    "im = plt.imshow(topo_raster, origin='lower', extent=[0, 972, 0, 1069], cmap='gist_earth')\n",
    "cbar = plt.colorbar(im)\n",
    "cbar.set_label('Altitude [m]')\n",
    "ax.set_xlabel('X [m]')\n",
    "ax.set_ylabel('Y [m]')\n",
    "ax.set_xlim(0, 972)\n",
    "ax.set_ylim(0, 1069)"
   ]
  },
  {
   "cell_type": "markdown",
   "metadata": {},
   "source": [
    "<a id='saving-the-raster-to-disc'></a>\n",
    "\n",
    "### Saving the raster to disc\n",
    "\n",
    "After the interpolation of the contour lines, the raster is saved to disc using `gg.raster.save_as_tiff()`. The function will not be executed as a raster is already provided with the example data. "
   ]
  },
  {
   "cell_type": "raw",
   "metadata": {},
   "source": [
    "gg.raster.save_as_tiff(raster=topo_raster, path=file_path + 'raster1.tif', extent=[0, 972, 0, 1069], crs='EPSG:4326', overwrite_file=True)"
   ]
  },
  {
   "cell_type": "markdown",
   "metadata": {},
   "source": [
    "<a id='opening-raster'></a>\n",
    "\n",
    "### Opening Raster\n",
    "\n",
    "The previously computed and saved raster can now be opened using rasterio. "
   ]
  },
  {
   "cell_type": "code",
   "execution_count": null,
   "metadata": {
    "ExecuteTime": {
     "end_time": "2022-04-03T08:34:45.738380Z",
     "start_time": "2022-04-03T08:34:45.694439Z"
    }
   },
   "outputs": [],
   "source": [
    "topo_raster = rasterio.open(file_path + 'raster1.tif')"
   ]
  },
  {
   "cell_type": "markdown",
   "metadata": {},
   "source": [
    "<a id='processing-stratigraphic-boundaries'></a>\n",
    "\n",
    "## Processing Stratigraphic Boundaries\n",
    "\n",
    "The interface points will be extracted from LineStrings digitized from the georeferenced map using QGIS. It is important to provide a `formation` name for each layer boundary. Up until now, only the `X` and `Y` position are stored in the vertices of the LineStrings. Using the digital elevation model created already, we will now sample the elevation model at the locations of the vertices to extract the height at this point as the stratigraphic boundary was mapped at the surface.\n",
    "\n",
    "<img src=\"../../data/images/example1/interfaces_example1.png\" width=700/>\n",
    "Source: Powell, D. (1995): Interpretation geologischer Strukturen durch Karten - Eine praktische Anleitung mit Aufgaben und Lösungen, page 15, figure 10 A, Springer Verlag Berlin, Heidelberg, New York, ISBN: 978-3-540-58607-4."
   ]
  },
  {
   "cell_type": "markdown",
   "metadata": {},
   "source": [
    "<a id='opening-stratigraphic-boundaries'></a>\n",
    "\n",
    "### Opening Stratigraphic Boundaries\n",
    "\n",
    "The stratigraphic units are opened using `GeoPandas`."
   ]
  },
  {
   "cell_type": "code",
   "execution_count": null,
   "metadata": {
    "ExecuteTime": {
     "end_time": "2022-04-03T08:34:45.969025Z",
     "start_time": "2022-04-03T08:34:45.926016Z"
    }
   },
   "outputs": [],
   "source": [
    "interfaces = gpd.read_file(file_path + 'interfaces1_lines.shp')\n",
    "interfaces.head()"
   ]
  },
  {
   "cell_type": "markdown",
   "metadata": {},
   "source": [
    "<a id='plotting-stratigraphic-boundaries'></a>\n",
    "\n",
    "### Plotting Stratigraphic Boundaries"
   ]
  },
  {
   "cell_type": "code",
   "execution_count": null,
   "metadata": {},
   "outputs": [],
   "source": [
    "interfaces.plot(column='formation', aspect=1, legend=True)"
   ]
  },
  {
   "cell_type": "markdown",
   "metadata": {},
   "source": [
    "<a id='extracting-xy-coordinates-from-geodataframe'></a>\n",
    "\n",
    "### Extracting X-Y coordinates from GeoDataFrame\n",
    "\n",
    "\n",
    "`GemPy` needs the `X`, `Y`, and `Z` location of interface points to constrain a model. For the case that `Z` coordinates are added in a later step or are not needed anymore since they are already stored in the `GeoDataFrame` we can use the `gg.vector.extract_xy()` function to extract the `X` and `Y` coordinates from the stratigraphic boundaries.\n",
    "\n",
    "There is also a [tutorial available for this task on the GemGIS Documentation page](https://gemgis.readthedocs.io/en/latest/getting_started/tutorial/01_extract_xy.html)."
   ]
  },
  {
   "cell_type": "code",
   "execution_count": null,
   "metadata": {},
   "outputs": [],
   "source": [
    "interfaces_xy = gg.vector.extract_xy(gdf=interfaces)\n",
    "interfaces_xy"
   ]
  },
  {
   "cell_type": "markdown",
   "metadata": {},
   "source": [
    "<a id='extracting-z-coordinates-from-digital-elevation-model'></a>\n",
    "\n",
    "### Extracting Z coordinates from Digital Elevation Model\n",
    "\n",
    "The vertical position of the interface point will be extracted from the digital elevation model using the `GemGIS` function `gg.vector.extract_xyz()`. The resulting GeoDataFrame now contains single points including the information about the respective `formation` as well as the `X`, `Y`, and `Z` location. This is all we need as preparational steps to generate input data for `GemPy`. \n",
    "\n",
    "There is also a [tutorial available for this task on the GemGIS Documentation page](https://gemgis.readthedocs.io/en/latest/getting_started/tutorial/02_extract_xyz.html)."
   ]
  },
  {
   "cell_type": "code",
   "execution_count": null,
   "metadata": {
    "ExecuteTime": {
     "end_time": "2022-04-03T08:34:46.047313Z",
     "start_time": "2022-04-03T08:34:45.971026Z"
    }
   },
   "outputs": [],
   "source": [
    "interfaces_coords = gg.vector.extract_xyz(gdf=interfaces, dem=topo_raster)\n",
    "interfaces_coords"
   ]
  },
  {
   "cell_type": "markdown",
   "metadata": {},
   "source": [
    "<a id='plotting-the-interface-points'></a>\n",
    "\n",
    "### Plotting the Interface Points\n",
    "\n",
    "The interface points incuding their altitude (Z-) values and the digitized LineString can be plotted using `matplotlib`. "
   ]
  },
  {
   "cell_type": "code",
   "execution_count": null,
   "metadata": {
    "ExecuteTime": {
     "end_time": "2022-04-03T08:34:46.300386Z",
     "start_time": "2022-04-03T08:34:46.049315Z"
    }
   },
   "outputs": [],
   "source": [
    "fig, ax = plt.subplots(1, figsize=(5,5))\n",
    "\n",
    "interfaces.plot(ax=ax, column='formation', legend=True, aspect='equal')\n",
    "interfaces_coords.plot(ax=ax, column='Z', legend=True, aspect='equal', cmap='gist_earth', zorder=5)\n",
    "plt.grid()\n",
    "ax.set_xlabel('X [m]')\n",
    "ax.set_ylabel('Y [m]')\n",
    "ax.set_xlim(0, 972)\n",
    "ax.set_ylim(0, 1069)"
   ]
  },
  {
   "cell_type": "markdown",
   "metadata": {},
   "source": [
    "<a id='processing-orientations'></a>\n",
    "\n",
    "## Processing Orientations\n",
    "\n",
    "For this example, orientations are provided. However, you are asked to digitize strike lines constructed from the topographic contour lines and the layer boundaries. You will then manually calculate the distance between the strike lines of different altitude and use the height difference to calculate the dipping angle. The dip direction or azimuth is the normal to the strike line. \n",
    "\n",
    "<img src=\"../../data/images/example1/orientations_example1.png\" width=700/>\n",
    "Source: Powell, D. (1995): Interpretation geologischer Strukturen durch Karten - Eine praktische Anleitung mit Aufgaben und Lösungen, page 15, figure 10 A, Springer Verlag Berlin, Heidelberg, New York, ISBN: 978-3-540-58607-4.\n",
    "\n",
    "<a id='orientations-strike-lines'></a>\n",
    "### Orientations from Strike Lines\n",
    "\n",
    "Strike lines connect outcropping stratigraphic boundaries (interfaces) of the same altitude. In other words: the intersections between topographic contours and stratigraphic boundaries at the surface. The height difference and the horizontal difference between two digitized lines is used to calculate the dip and azimuth and hence an orientation that is necessary for `GemPy`.\n",
    "\n",
    "The slope between two strike lines and hence the dip is defined as\n",
    "\n",
    "$$ tan(\\alpha) = \\frac{y_2-y_1}{x_2-x_1}$$\n",
    "\n",
    "where $y_i$ represents the vertical positions and $x_i$ the horizontal positions \n",
    "\n",
    "<img src=\"../../data/images/fig3.png\" width=500/>\n",
    "\n",
    "By CrunchyRocks, after Karla Panchuck - https://openpress.usask.ca/physicalgeology/chapter/13-5-measuring-geological-structures/, CC BY 4.0, https://commons.wikimedia.org/w/index.php?curid=113554289\n",
    "\n",
    "\n",
    "<img src=\"../../data/images/model1_strike_lines.png\" width=500/>\n",
    "Source: Powell, D. (1995): Interpretation geologischer Strukturen durch Karten - Eine praktische Anleitung mit Aufgaben und Lösungen, page 14, figure 8, Springer Verlag Berlin, Heidelberg, New York, ISBN: 978-3-540-58607-4."
   ]
  },
  {
   "cell_type": "markdown",
   "metadata": {},
   "source": [
    "<a id='loading-strike-lines'></a>\n",
    "### Loading Strike Lines\n",
    "\n",
    "We are using `GeoPandas` to load the strike lines. "
   ]
  },
  {
   "cell_type": "code",
   "execution_count": null,
   "metadata": {},
   "outputs": [],
   "source": [
    "strike_lines = gpd.read_file(file_path + 'strike_lines1.shp')\n",
    "strike_lines"
   ]
  },
  {
   "cell_type": "markdown",
   "metadata": {},
   "source": [
    "<a id='plotting-strike-lines'></a>\n",
    "\n",
    "### Plotting Strike Lines\n",
    "\n",
    "We can plot the strike lines as the contour lines and stratigraphic interfaces before. Here, we plot the strike lines for the top of the clay formation (red)."
   ]
  },
  {
   "cell_type": "code",
   "execution_count": null,
   "metadata": {},
   "outputs": [],
   "source": [
    "fig, ax = plt.subplots(1, figsize=(5, 5))\n",
    "topo.plot(ax=ax, aspect='equal', column='Z', cmap='gist_earth', vmax=1000)\n",
    "strike_lines.plot(ax=ax, aspect='equal', color='red')\n",
    "interfaces.plot(ax=ax, column='formation', legend=True, aspect='equal')\n",
    "cbar = plt.colorbar(im)\n",
    "cbar.set_label('Altitude [m]')\n",
    "ax.set_xlabel('X [m]')\n",
    "ax.set_ylabel('Y [m]')\n",
    "ax.set_xlim(0, 972)\n",
    "ax.set_ylim(0, 1069)\n",
    "plt.grid()"
   ]
  },
  {
   "cell_type": "markdown",
   "metadata": {},
   "source": [
    "<a id='calculate-dipping-angles'></a>\n",
    "\n",
    "### Calculate dipping angles\n",
    "\n",
    "We demonstrate here how to manually calculate the dipping angles using strike lines. First, we calculate the horizontal distance between the strike lines. From the plot above, we can see that the lines are parallel. Therefore, we are usinge the `shapely` distance function to calculate the distance between each pair of strike lines using list comprehension. "
   ]
  },
  {
   "cell_type": "code",
   "execution_count": null,
   "metadata": {},
   "outputs": [],
   "source": [
    "x_distances =[strike_lines.loc[i].geometry.distance(strike_lines.loc[i+1].geometry) for i in range(len(strike_lines)-1)]\n",
    "x_distances"
   ]
  },
  {
   "cell_type": "markdown",
   "metadata": {},
   "source": [
    "We then define the vertical offsets to be 100 m for each pair of strike lines. "
   ]
  },
  {
   "cell_type": "code",
   "execution_count": null,
   "metadata": {},
   "outputs": [],
   "source": [
    "y_distances = [100,100,100,100]\n",
    "y_distances"
   ]
  },
  {
   "cell_type": "markdown",
   "metadata": {},
   "source": [
    "Using the formula from above, we can calculate the tangent values of the slopes."
   ]
  },
  {
   "cell_type": "code",
   "execution_count": null,
   "metadata": {},
   "outputs": [],
   "source": [
    "tan_slopes = [y_distance/x_distance for y_distance, x_distance in zip(y_distances, x_distances)]\n",
    "tan_slopes          "
   ]
  },
  {
   "cell_type": "markdown",
   "metadata": {},
   "source": [
    "Using the arctangent, we can convert the tangents of the slopes int radians before converting them to degrees. We can see that the mean dip is equal to approximately 30.3°. "
   ]
  },
  {
   "cell_type": "code",
   "execution_count": null,
   "metadata": {},
   "outputs": [],
   "source": [
    "dip = [np.rad2deg(np.arctan(tan_slope)) for tan_slope in tan_slopes]\n",
    "print('Mean dip: ' + str(np.mean(dip)) + '°')\n",
    "dip"
   ]
  },
  {
   "cell_type": "markdown",
   "metadata": {},
   "source": [
    "<a id='calculate-dipping-directions'></a>\n",
    "\n",
    "### Calculate dipping directions\n",
    "\n",
    "Apart from calculating the dipping angle, we also need to calculate the dipping direction or azimuth. From the plot above, we can expect a dipping towards the south (180°). Let us check if that is the case. \n",
    "\n",
    "We are using the arccosine and converting radians to degrees to get the angle of the line. As we can see the line strikes with approximately 90°. The normal of the line therefore strikes 90°+90° = 180° and is the expected result (discarding the little geometric variations during the generation of the strike lines). "
   ]
  },
  {
   "cell_type": "code",
   "execution_count": null,
   "metadata": {},
   "outputs": [],
   "source": [
    "linestring = strike_lines.loc[1].geometry\n",
    "\n",
    "angle = np.rad2deg(np.arccos((linestring.coords[0][1] - linestring.coords[1][1]) / linestring.length))\n",
    "angle"
   ]
  },
  {
   "cell_type": "code",
   "execution_count": null,
   "metadata": {},
   "outputs": [],
   "source": [
    "azimuth = angle + 90\n",
    "azimuth"
   ]
  },
  {
   "cell_type": "markdown",
   "metadata": {},
   "source": [
    "<a id='opening-orientations'></a>\n",
    "\n",
    "### Opening Orientations\n",
    "\n",
    "For this example, the orientations have already been prepared and can be loaded via `GeoPandas`. After extracting the altitude values and assigning a fixed `polarity` value of 1, we can check out the dip and azimuth of the provided orientations and see that they nicely match our calculations above. We determined that the clay layer was of equal thickness resulting in equivalent dipping angles for the top and the base of the layer. Hence, we provide only orientations for the top and let `GemPy` do the rest. "
   ]
  },
  {
   "cell_type": "code",
   "execution_count": null,
   "metadata": {
    "ExecuteTime": {
     "end_time": "2022-04-03T08:34:46.768147Z",
     "start_time": "2022-04-03T08:34:46.692134Z"
    }
   },
   "outputs": [],
   "source": [
    "orientations = gpd.read_file(file_path + 'orientations1.shp')\n",
    "orientations = gg.vector.extract_xyz(gdf=orientations, dem=topo_raster)\n",
    "orientations['polarity'] = 1\n",
    "orientations"
   ]
  },
  {
   "cell_type": "markdown",
   "metadata": {},
   "source": [
    "<a id='plotting-orientations'></a>\n",
    "\n",
    "### Plotting the Orientations\n",
    "\n",
    "The locations of the orientations can be plotted as before. They are all located at the top of the clay layer. "
   ]
  },
  {
   "cell_type": "code",
   "execution_count": null,
   "metadata": {
    "ExecuteTime": {
     "end_time": "2022-04-03T08:34:47.046212Z",
     "start_time": "2022-04-03T08:34:46.770151Z"
    }
   },
   "outputs": [],
   "source": [
    "fig, ax = plt.subplots(1, figsize=(5,5))\n",
    "\n",
    "interfaces.plot(ax=ax, column='formation', legend=True, aspect='equal')\n",
    "interfaces_coords.plot(ax=ax, column='formation', legend=True, aspect='equal')\n",
    "orientations.plot(ax=ax, color='red', aspect='equal')\n",
    "plt.grid()\n",
    "ax.set_xlabel('X [m]')\n",
    "ax.set_ylabel('Y [m]')\n",
    "ax.set_xlim(0, 972)\n",
    "ax.set_ylim(0, 1069)"
   ]
  },
  {
   "cell_type": "markdown",
   "metadata": {},
   "source": [
    "<a id='gempy-model-calculation'></a>\n",
    "\n",
    "# GemPy Model Calculation\n",
    "\n",
    "\n",
    "The creation of a `GemPy` Model follows particular steps which will be performed in the following:\n",
    "\n",
    "1. Create new model: `gp.create_model()`\n",
    "2. Data Initiation: `gp.init_data()`\n",
    "3. Map Stack to Surfaces: `gp.map_stack_to_surfaces()`\n",
    "4. [...]\n",
    "5. Set the Interpolator: `gp.set_interpolator()`\n",
    "6. Computing the Model: `gp.compute_model()`\n",
    "\n",
    "<a id='creating-the-gempy-model'></a>\n",
    "\n",
    "## Creating the GemPy Model\n",
    "\n",
    "The first step is to create a new empty `GemPy` model by providing a name for it. "
   ]
  },
  {
   "cell_type": "code",
   "execution_count": null,
   "metadata": {
    "ExecuteTime": {
     "end_time": "2022-04-03T08:34:48.935166Z",
     "start_time": "2022-04-03T08:34:48.186268Z"
    }
   },
   "outputs": [],
   "source": [
    "geo_model = gp.create_model('Model1')\n",
    "geo_model"
   ]
  },
  {
   "cell_type": "markdown",
   "metadata": {},
   "source": [
    "<a id='data-initiation'></a>\n",
    "\n",
    "## Data Initiation\n",
    "\n",
    "During this step, the `extent` of the model (`xmin`, `xmax`, `ymin`, `ymax`, `zmin`, `zmax`) and the `resolution` in `X`, `Y`and `Z` direction (`res_x`, `res_y`, `res_z`, equal to the number of cells in each direction) will be set using lists of values. \n",
    "\n",
    "The interface points (`surface_points_df`) and orientations (`orientations_df`) will be passed as `pandas` `DataFrames`. "
   ]
  },
  {
   "cell_type": "code",
   "execution_count": null,
   "metadata": {
    "ExecuteTime": {
     "end_time": "2022-04-03T08:34:49.156191Z",
     "start_time": "2022-04-03T08:34:48.939161Z"
    }
   },
   "outputs": [],
   "source": [
    "gp.init_data(geo_model, [0, 972, 0, 1069, 200, 800], [100,100,100],\n",
    "             surface_points_df=interfaces_coords,\n",
    "             orientations_df=orientations,\n",
    "             default_values=True)"
   ]
  },
  {
   "cell_type": "markdown",
   "metadata": {},
   "source": [
    "<a id='inspecting-the-surfaces'></a>\n",
    "\n",
    "## Inspecting the Surfaces\n",
    "\n",
    "The model consists of four different layers or surfaces now which all belong to the `Default series`. During the next step, the proper `Series` will be assigned to the surfaces. Using the `surfaces`-attribute again, we can check which layers were loaded."
   ]
  },
  {
   "cell_type": "code",
   "execution_count": null,
   "metadata": {
    "ExecuteTime": {
     "end_time": "2022-04-03T08:34:49.219030Z",
     "start_time": "2022-04-03T08:34:49.158185Z"
    }
   },
   "outputs": [],
   "source": [
    "geo_model.surfaces"
   ]
  },
  {
   "cell_type": "markdown",
   "metadata": {},
   "source": [
    "<a id='inspecting-the-input-data'></a>\n",
    "\n",
    "## Inspecting the Input Data\n",
    "\n",
    "The loaded interface points and orientations can again be inspected using the `surface_points`- and `orientations`-attributes. Using the `df`-attribute of this object will convert the displayed table in a `pandas` `DataFrame`."
   ]
  },
  {
   "cell_type": "code",
   "execution_count": null,
   "metadata": {},
   "outputs": [],
   "source": [
    "geo_model.surface_points.df.head()"
   ]
  },
  {
   "cell_type": "code",
   "execution_count": null,
   "metadata": {},
   "outputs": [],
   "source": [
    "geo_model.orientations.df.head()"
   ]
  },
  {
   "cell_type": "markdown",
   "metadata": {},
   "source": [
    "<a id='map-stack-to-surfaces'></a>\n",
    "\n",
    "## Map Stack to Surfaces\n",
    "\n",
    "During this step, all two layers of the model are assigned to the `Strata1` series. We know that the layers modeled here are parallel. If the layers were not parallel as shown in the next models, multiple series would be defined. We will also add a `Basement` here (`geo_model.add_surfaces('Basement')`). The order within one series also defines the age relations within this series and has to be according to the depositional events of the layers."
   ]
  },
  {
   "cell_type": "code",
   "execution_count": null,
   "metadata": {
    "ExecuteTime": {
     "end_time": "2022-04-03T08:34:49.328072Z",
     "start_time": "2022-04-03T08:34:49.223019Z"
    }
   },
   "outputs": [],
   "source": [
    "gp.map_stack_to_surfaces(geo_model,\n",
    "                         {'Strata1': ('Sand1', 'Ton')},\n",
    "                         remove_unused_series=True)\n",
    "geo_model.add_surfaces('Basement')"
   ]
  },
  {
   "cell_type": "code",
   "execution_count": null,
   "metadata": {},
   "outputs": [],
   "source": [
    "geo_model.stack"
   ]
  },
  {
   "cell_type": "markdown",
   "metadata": {},
   "source": [
    "<a id='showing-the-number-of-data-points'></a>\n",
    "\n",
    "## Showing the Number of Data Points\n",
    "\n",
    "You can also return the number of interfaces and orientations for each formation using `gg.utils.show_number_of_data_points()`"
   ]
  },
  {
   "cell_type": "code",
   "execution_count": null,
   "metadata": {
    "ExecuteTime": {
     "end_time": "2022-04-03T08:34:49.391097Z",
     "start_time": "2022-04-03T08:34:49.332073Z"
    }
   },
   "outputs": [],
   "source": [
    "gg.utils.show_number_of_data_points(geo_model=geo_model)"
   ]
  },
  {
   "cell_type": "markdown",
   "metadata": {},
   "source": [
    "<a id='loading-digital-elevation-model'></a>\n",
    "\n",
    "## Loading Digital Elevation Model\n",
    "\n",
    "`GemPy` is capable of including a topography into the modeling process. Here, we use the topography that we have interpolated in one of the previous steps. `GemPy` takes the file path of the raster/digital elevation model and loads it as grid into the `geo_model` object."
   ]
  },
  {
   "cell_type": "code",
   "execution_count": null,
   "metadata": {
    "ExecuteTime": {
     "end_time": "2022-04-03T08:34:49.719231Z",
     "start_time": "2022-04-03T08:34:49.393087Z"
    }
   },
   "outputs": [],
   "source": [
    "geo_model.set_topography(source='gdal', filepath=file_path + 'raster1.tif')"
   ]
  },
  {
   "cell_type": "markdown",
   "metadata": {},
   "source": [
    "<a id='defining-custom-section'></a>\n",
    "\n",
    "## Defining Custom Section\n",
    "\n",
    "It is possible to define straight (no bending) custom sections in `GemPy` that will be calculated additionally with a provided resolution and that can be displayed separately using `matplotlib`.\n",
    "\n",
    "For this example, the bold black line indicates the location of the custom section. This custom section can be digitized with a LineString (line shape file) with vertices at both ends and loaded using `GeoPandas`. \n",
    "\n",
    "<img src=\"../../data/images/example1/cover.png\" width=700/>\n",
    "Source: Powell, D. (1995): Interpretation geologischer Strukturen durch Karten - Eine praktische Anleitung mit Aufgaben und Lösungen, page 15, figure 10 A, Springer Verlag Berlin, Heidelberg, New York, ISBN: 978-3-540-58607-4."
   ]
  },
  {
   "cell_type": "code",
   "execution_count": null,
   "metadata": {
    "ExecuteTime": {
     "end_time": "2022-04-03T08:34:49.953293Z",
     "start_time": "2022-04-03T08:34:49.721218Z"
    }
   },
   "outputs": [],
   "source": [
    "custom_section = gpd.read_file(file_path + 'customsections1.shp')\n",
    "custom_section"
   ]
  },
  {
   "cell_type": "markdown",
   "metadata": {},
   "source": [
    "The function `gg.utils.to_section_dict()` converts the `GeoDataFrame` into a custom section dict before it can be set as section grid for the `geo_model` object and plotted using the built-in plotting function. "
   ]
  },
  {
   "cell_type": "code",
   "execution_count": null,
   "metadata": {},
   "outputs": [],
   "source": [
    "custom_section_dict = gg.utils.to_section_dict(custom_section, section_column='section')\n",
    "custom_section_dict"
   ]
  },
  {
   "cell_type": "code",
   "execution_count": null,
   "metadata": {},
   "outputs": [],
   "source": [
    "geo_model.set_section_grid(custom_section_dict)"
   ]
  },
  {
   "cell_type": "code",
   "execution_count": null,
   "metadata": {
    "ExecuteTime": {
     "end_time": "2022-04-03T08:34:50.171644Z",
     "start_time": "2022-04-03T08:34:49.956292Z"
    }
   },
   "outputs": [],
   "source": [
    "gp.plot.plot_section_traces(geo_model)"
   ]
  },
  {
   "cell_type": "markdown",
   "metadata": {},
   "source": [
    "<a id='plotting-the-input-data-in-2d'></a>\n",
    "\n",
    "## Plotting the input data in 2D using Matplotlib\n",
    "\n",
    "The input data can now be visualized in 2D using `matplotlib`. This might for example be useful to check if all points and measurements are defined the way we want them to. Using the function `plot_2d()`, we attain a 2D projection of our data points onto a plane of chosen direction (we can choose this attribute to be either `'x'`, `'y'`, or `'z'`)."
   ]
  },
  {
   "cell_type": "code",
   "execution_count": null,
   "metadata": {
    "ExecuteTime": {
     "end_time": "2022-04-03T08:34:50.391723Z",
     "start_time": "2022-04-03T08:34:50.173650Z"
    }
   },
   "outputs": [],
   "source": [
    "gp.plot_2d(geo_model, direction='z', show_lith=False, show_boundaries=False)\n",
    "plt.grid()"
   ]
  },
  {
   "cell_type": "markdown",
   "metadata": {},
   "source": [
    "<a id='plotting-the-input-data-in-3d'></a>\n",
    "\n",
    "## Plotting the input data in 3D using PyVista\n",
    "\n",
    "The input data can also be viszualized using the `pyvista` package. In this view, the interface points are visible as well as the orientations (marked as arrows) which indicate the normals of each orientation value. "
   ]
  },
  {
   "cell_type": "code",
   "execution_count": null,
   "metadata": {
    "ExecuteTime": {
     "end_time": "2022-04-03T08:34:50.833529Z",
     "start_time": "2022-04-03T08:34:50.394717Z"
    }
   },
   "outputs": [],
   "source": [
    "gp.plot_3d(geo_model, image=False, plotter_type='basic', notebook=True)"
   ]
  },
  {
   "cell_type": "markdown",
   "metadata": {},
   "source": [
    "<a id='setting-the-interpolator'></a>\n",
    "## Setting the interpolator\n",
    "\n",
    "Once we have made sure that we have defined all our primary information, we can continue with the next step towards creating our geological model: preparing the input data for interpolation.\n",
    "\n",
    "Setting the interpolator is necessary before computing the actual model. Here, the most important kriging parameters can be defined. "
   ]
  },
  {
   "cell_type": "code",
   "execution_count": null,
   "metadata": {
    "ExecuteTime": {
     "end_time": "2022-04-03T08:34:53.969307Z",
     "start_time": "2022-04-03T08:34:50.834529Z"
    }
   },
   "outputs": [],
   "source": [
    "gp.set_interpolator(geo_model,\n",
    "                    compile_theano=True,\n",
    "                    theano_optimizer='fast_compile',\n",
    "                    verbose=[],\n",
    "                    update_kriging=False\n",
    "                    )"
   ]
  },
  {
   "cell_type": "markdown",
   "metadata": {},
   "source": [
    "<a id='computing-the-model'></a>\n",
    "\n",
    "## Computing the model\n",
    "\n",
    "At this point, we have all we need to compute our full model via `gp.compute_model()`. By default, this will return two separate solutions in the form of arrays. The first provides information on the lithological formations, the second on the fault network in the model, which is not present in this example. "
   ]
  },
  {
   "cell_type": "code",
   "execution_count": null,
   "metadata": {
    "ExecuteTime": {
     "end_time": "2022-04-03T08:35:58.580324Z",
     "start_time": "2022-04-03T08:34:53.970303Z"
    }
   },
   "outputs": [],
   "source": [
    "sol = gp.compute_model(geo_model, compute_mesh=True)"
   ]
  },
  {
   "cell_type": "code",
   "execution_count": null,
   "metadata": {},
   "outputs": [],
   "source": [
    "sol"
   ]
  },
  {
   "cell_type": "code",
   "execution_count": null,
   "metadata": {},
   "outputs": [],
   "source": [
    "geo_model.solutions"
   ]
  },
  {
   "cell_type": "markdown",
   "metadata": {},
   "source": [
    "<a id='model-visualization-and-post-processing'></a>\n",
    "\n",
    "# Model Visualization and Post-Processing\n",
    "\n",
    "<a id='visualizing-cross-sections-of-the-computed-model'></a>\n",
    "\n",
    "## Visulazing Cross Sections of the computed model\n",
    "\n",
    "Cross sections in different `direction`s and at different `cell_number`s can be displayed. Here, we see the folded layers of the model in the different directions. \n",
    "\n",
    "The first section to be plotted is the custom section `Section1` followed by an array of cross sections."
   ]
  },
  {
   "cell_type": "code",
   "execution_count": null,
   "metadata": {
    "ExecuteTime": {
     "end_time": "2022-04-03T08:35:58.814376Z",
     "start_time": "2022-04-03T08:35:58.582325Z"
    }
   },
   "outputs": [],
   "source": [
    "gp.plot_2d(geo_model, section_names=['Section1'], show_topography=True, show_data=False)"
   ]
  },
  {
   "cell_type": "code",
   "execution_count": null,
   "metadata": {
    "ExecuteTime": {
     "end_time": "2022-04-03T08:35:59.881063Z",
     "start_time": "2022-04-03T08:35:58.816377Z"
    }
   },
   "outputs": [],
   "source": [
    "gp.plot_2d(geo_model, direction=['x', 'x', 'y', 'y'], cell_number=[25, 75, 25, 75], show_topography=True, show_data=False)"
   ]
  },
  {
   "cell_type": "markdown",
   "metadata": {},
   "source": [
    "Next to the lithology data, we can also plot the calculated scalar field."
   ]
  },
  {
   "cell_type": "code",
   "execution_count": null,
   "metadata": {},
   "outputs": [],
   "source": [
    "gp.plot_2d(geo_model, direction='y', show_data=False, show_scalar=True, show_lith=False)"
   ]
  },
  {
   "cell_type": "markdown",
   "metadata": {},
   "source": [
    "<a id='visualizing-the-computed-model-in-3d'></a>\n",
    "\n",
    "# Visualizing the computed model in 3D\n",
    "\n",
    "The computed model can be visualized in 3D using the `pyvista` library. Setting `notebook=False` will open an interactive windows and the model can be rotated and zooming is possible. "
   ]
  },
  {
   "cell_type": "code",
   "execution_count": null,
   "metadata": {
    "ExecuteTime": {
     "end_time": "2022-04-03T08:36:02.117260Z",
     "start_time": "2022-04-03T08:35:59.884064Z"
    }
   },
   "outputs": [],
   "source": [
    "gpv = gp.plot_3d(geo_model, \n",
    "                 image=False, \n",
    "                 show_topography=True,\n",
    "                 plotter_type='basic', \n",
    "                 notebook=True, \n",
    "                 show_lith=True,\n",
    "                 show_boundaries=True)"
   ]
  },
  {
   "cell_type": "markdown",
   "metadata": {},
   "source": [
    "<a id='post-processing'></a>\n",
    "\n",
    "# Post Processing\n",
    "\n",
    "Now that the model has been created, we would like to utilize it. In this notebook, you will learn how to export the surfaces from `GemPy` to 2.5D `PyVista` Meshes and how to extract orientations from them. These will be compared with the orientations you calculated and that were loaded.\n",
    "\n",
    "<a id='export-depth-maps-from-gempy-model'></a>\n",
    " \n",
    "## Export Depth Maps from GemPy Model\n",
    "\n",
    "Depth maps are used for a wide range of purposes in Geosciences but the simplest one is to determine the depth of a layer boundary in the subsurface. Here, we are using the function `gg.visualization.create_depth_maps_from_gempy()` to extract the mesh and the color that was previously assigned in `GemPy` as dict. The `surfaces` argument takes a string, the `formation` name, or a list of `formation` names. The depth values are automatically stored as `Data Array` or `scalar` with the name `Depth [m]`.\n",
    "\n",
    "There is also a [tutorial available for this task on the GemGIS Documentation page](https://gemgis.readthedocs.io/en/latest/getting_started/tutorial/18_creating_depth_maps_from_gempy_models.html)."
   ]
  },
  {
   "cell_type": "code",
   "execution_count": null,
   "metadata": {},
   "outputs": [],
   "source": [
    "dict_sand1 = gg.visualization.create_depth_maps_from_gempy(geo_model=geo_model,\n",
    "                                                           surfaces='Sand1')\n",
    "\n",
    "dict_sand1"
   ]
  },
  {
   "cell_type": "code",
   "execution_count": null,
   "metadata": {},
   "outputs": [],
   "source": [
    "dict_sand1['Sand1'][0]"
   ]
  },
  {
   "cell_type": "code",
   "execution_count": null,
   "metadata": {},
   "outputs": [],
   "source": [
    "dict_sand1['Sand1'][1]"
   ]
  },
  {
   "cell_type": "code",
   "execution_count": null,
   "metadata": {},
   "outputs": [],
   "source": [
    "dict_all = gg.visualization.create_depth_maps_from_gempy(geo_model=geo_model,\n",
    "                                                         surfaces=['Sand1', 'Ton'])\n",
    "\n",
    "dict_all"
   ]
  },
  {
   "cell_type": "markdown",
   "metadata": {},
   "source": [
    "<a id='plotting-depth-maps-using-pyvista'></a>\n",
    " \n",
    "## Plotting depth maps using PyVista\n",
    "\n",
    "The extracted meshes can now be plotted using `PyVista`. This allows for more flexibility than the `GemPy` implementation as additional elements may be added manually (e.g. wells, administrative boundaries, etc.). Using `mesh.contour()` we also add some contours to the meshes."
   ]
  },
  {
   "cell_type": "code",
   "execution_count": null,
   "metadata": {},
   "outputs": [],
   "source": [
    "import pyvista as pv\n",
    "\n",
    "p = pv.Plotter(notebook=True)\n",
    "\n",
    "p.add_mesh(dict_all['Sand1'][0], scalars='Depth [m]')\n",
    "p.add_mesh(dict_all['Sand1'][0].contour(), color='white')\n",
    "p.add_mesh(dict_all['Ton'][0], scalars='Depth [m]')\n",
    "p.add_mesh(dict_all['Ton'][0].contour(), color='white')\n",
    "           \n",
    "           \n",
    "p.set_background('white')\n",
    "p.show_grid(color='black')\n",
    "p.show()"
   ]
  },
  {
   "cell_type": "markdown",
   "metadata": {},
   "source": [
    "Plotting the meshes with the original `GemPy` colors."
   ]
  },
  {
   "cell_type": "code",
   "execution_count": null,
   "metadata": {},
   "outputs": [],
   "source": [
    "import pyvista as pv\n",
    "\n",
    "p = pv.Plotter(notebook=True)\n",
    "\n",
    "p.add_mesh(dict_all['Sand1'][0], color=dict_all['Sand1'][1])\n",
    "p.add_mesh(dict_all['Sand1'][0].contour(), color='white')\n",
    "p.add_mesh(dict_all['Ton'][0], color=dict_all['Ton'][1])\n",
    "p.add_mesh(dict_all['Ton'][0].contour(), color='white')\n",
    "\n",
    "p.set_background('white')\n",
    "p.show_grid(color='black')\n",
    "p.show()"
   ]
  },
  {
   "cell_type": "markdown",
   "metadata": {},
   "source": [
    "<a id='calculating-orientations-from-meshes'></a>\n",
    " \n",
    "## Calculating Orientations from Meshes\n",
    "\n",
    "After extracting the meshes for the geological boundaries from the `GemPy` model, we want to check if the orientations of the meshes are approximately the same that we put into the model in the beginning (30.5°/180° for dip/azimuth). This can be done by calculating the normals of the mesh using the PyVista function `mesh.compute_normals()`. The function will return arrays with three entries `l`, `m`, `n`. These vector components are made up by a combination of `sin` and `cos` functions incorporating the plunge/dip (P) and the trend/azimuth/dip direction (T):\n",
    "\n",
    "$$l = sin(T) * cos(P)$$\n",
    "$$ m = cos(T) * cos(P)$$\n",
    "$$ n = -sin(P)$$\n",
    "\n",
    "Solving this for the plunge and trend will return the following equations:\n",
    "\n",
    "$$ T = tan^{-1}(l/m)+180$$ (+180 as m is negative)\n",
    "$$ P = 90 - sin^{-1}$$\n",
    "\n"
   ]
  },
  {
   "cell_type": "code",
   "execution_count": null,
   "metadata": {},
   "outputs": [],
   "source": [
    "mesh = dict_all['Sand1'][0].compute_normals()\n",
    "mesh['Normals']"
   ]
  },
  {
   "cell_type": "code",
   "execution_count": null,
   "metadata": {},
   "outputs": [],
   "source": [
    "arrows = mesh.glyph(scale=\"Normals\", orient=\"Normals\", tolerance=0.05, factor=50)\n",
    "\n",
    "p = pv.Plotter(notebook=True)\n",
    "actor = p.add_mesh(arrows, color=\"black\")\n",
    "actor = p.add_mesh(mesh, scalars=\"Depth [m]\", cmap=\"gist_earth\", show_scalar_bar=False)\n",
    "\n",
    "p.set_background('white')\n",
    "p.show_grid(color='black')\n",
    "p.show()"
   ]
  },
  {
   "cell_type": "markdown",
   "metadata": {},
   "source": [
    "<a id='calculating-orientations-for-one-point'></a>\n",
    " \n",
    "## Calculating Orientations for one point\n",
    "\n",
    "First we apply the functions shown above to the first element of the `Normals` array. We can see that the dipping angle of 27.3° fits well with the 30.5° and that the azimuth of 169° fits well with the provided 180°. "
   ]
  },
  {
   "cell_type": "code",
   "execution_count": null,
   "metadata": {},
   "outputs": [],
   "source": [
    "dip = 90 - np.rad2deg(-np.arcsin(mesh['Normals'][0][2]))*(-1)\n",
    "dip"
   ]
  },
  {
   "cell_type": "code",
   "execution_count": null,
   "metadata": {},
   "outputs": [],
   "source": [
    "azimuth = np.rad2deg(np.arctan(mesh['Normals'][0][0]/mesh['Normals'][0][1]))+180\n",
    "azimuth"
   ]
  },
  {
   "cell_type": "markdown",
   "metadata": {},
   "source": [
    "<a id='calculating-orientations-for-all-normals'></a>\n",
    " \n",
    "## Calculating Orientations for all normals\n",
    "\n",
    "After calculating the orientations for one of the normals, we will automate it to calculate the orientations of all normals. "
   ]
  },
  {
   "cell_type": "code",
   "execution_count": null,
   "metadata": {},
   "outputs": [],
   "source": [
    "dips = [90 - np.rad2deg(-np.arcsin(mesh['Normals'][i][2]))*(-1) for i in range(len(mesh['Normals']))]\n",
    "dips[:5]"
   ]
  },
  {
   "cell_type": "code",
   "execution_count": null,
   "metadata": {},
   "outputs": [],
   "source": [
    "azimuths = [np.rad2deg(np.arctan(mesh['Normals'][i][0]/mesh['Normals'][i][1]))+180 for i in range(len(mesh['Normals']))]\n",
    "azimuths[:5]"
   ]
  },
  {
   "cell_type": "markdown",
   "metadata": {},
   "source": [
    "Extracting the dips and azimuths reveals that the extracted values range around the defined 30° for the dip and 180° for the azimuths. "
   ]
  },
  {
   "cell_type": "code",
   "execution_count": null,
   "metadata": {},
   "outputs": [],
   "source": [
    "fig, (ax1, ax2) = plt.subplots(1,2, figsize=(10,5))\n",
    "ax1.hist(dips)\n",
    "ax1.grid()\n",
    "\n",
    "ax2.hist(azimuths)\n",
    "ax2.grid()"
   ]
  },
  {
   "cell_type": "markdown",
   "metadata": {},
   "source": [
    "The extracted orientations can also be converted to a `GeoDataFrame`."
   ]
  },
  {
   "cell_type": "code",
   "execution_count": null,
   "metadata": {},
   "outputs": [],
   "source": [
    "from shapely.geometry import Point\n",
    "\n",
    "points_z = [Point(point) for point in mesh.cell_centers().points]\n",
    "\n",
    "gdf_orientations = gpd.GeoDataFrame(geometry=points_z, crs='EPSG:4326')\n",
    "gdf_orientations['X'] = mesh.cell_centers().points[:,0]\n",
    "gdf_orientations['Y'] = mesh.cell_centers().points[:,1]\n",
    "gdf_orientations['Z'] = mesh.cell_centers().points[:,2]\n",
    "gdf_orientations['dip'] = dips\n",
    "gdf_orientations['azimuth'] = azimuths\n",
    "gdf_orientations"
   ]
  },
  {
   "cell_type": "code",
   "execution_count": null,
   "metadata": {},
   "outputs": [],
   "source": [
    "fig, (ax1, ax2) = plt.subplots(1,2, figsize=(10,5))\n",
    "\n",
    "gdf_orientations[::150].plot(ax=ax1, column='dip', aspect=1, legend=True, cmap='viridis')\n",
    "ax1.grid()\n",
    "gdf_orientations[::150].plot(ax=ax2, column='azimuth', aspect=1, legend=True, cmap='viridis')\n",
    "ax2.grid()"
   ]
  },
  {
   "cell_type": "markdown",
   "metadata": {},
   "source": [
    "<a id='plotting-dip-and-azimuth-as-scalars'></a>\n",
    "\n",
    "### Plotting Dip and Azimuth as Scalars\n",
    "\n",
    "The calculated dips and azimuths can also be assigned as Data Arrays to the `PyVista` meshes and plotted using the name of the Data Array `'dips'` or `'azimuths'` for setting the `scalar` parameter."
   ]
  },
  {
   "cell_type": "code",
   "execution_count": null,
   "metadata": {},
   "outputs": [],
   "source": [
    "mesh['dips'] = dips\n",
    "mesh['azimuths'] = azimuths"
   ]
  },
  {
   "cell_type": "raw",
   "metadata": {},
   "source": [
    "sargs = dict(color='black')\n",
    "\n",
    "p = pv.Plotter(notebook=True, shape=(1,2))\n",
    "\n",
    "p.subplot(0, 0)\n",
    "p.add_mesh(mesh, scalars=\"dips\", cmap=\"gist_earth\", show_scalar_bar=True, scalar_bar_args=sargs, clim=[15,50])\n",
    "\n",
    "p.set_background('white')\n",
    "p.show_grid(color='black')\n",
    "\n",
    "p.subplot(0,1)\n",
    "p.add_mesh(mesh, scalars=\"azimuths\", cmap=\"viridis\", show_scalar_bar=True, scalar_bar_args=sargs, clim=[150,210])\n",
    "p.set_background('white')\n",
    "p.show_grid(color='black')\n",
    "p.show()"
   ]
  },
  {
   "cell_type": "code",
   "execution_count": null,
   "metadata": {},
   "outputs": [],
   "source": [
    "sargs = dict(color='black')\n",
    "\n",
    "p = pv.Plotter(notebook=True)\n",
    "\n",
    "p.add_mesh(mesh, scalars=\"dips\", cmap=\"gist_earth\", show_scalar_bar=True, scalar_bar_args=sargs)\n",
    "\n",
    "p.set_background('white')\n",
    "p.show_grid(color='black')\n",
    "p.show()"
   ]
  },
  {
   "cell_type": "code",
   "execution_count": null,
   "metadata": {},
   "outputs": [],
   "source": [
    "sargs = dict(color='black')\n",
    "\n",
    "p = pv.Plotter(notebook=True)\n",
    "\n",
    "p.add_mesh(mesh, scalars=\"azimuths\", cmap=\"gist_earth\", show_scalar_bar=True, scalar_bar_args=sargs)\n",
    "\n",
    "p.set_background('white')\n",
    "p.show_grid(color='black')\n",
    "p.show()"
   ]
  },
  {
   "cell_type": "markdown",
   "metadata": {},
   "source": [
    "<a id='conclusions'></a>\n",
    "# Conclusions\n",
    "\n",
    "<div class=\"alert alert-block alert-success\">\n",
    "<b>In this tutorial, you have learnt the following:</b> <br>\n",
    "- How to create a digital elevation model/topography from digitized topographic contour lines <br>\n",
    "- How to extract the Z coordinates of interface points (=vertices of the digitized layer boundaries) from the digital elevation model<br>\n",
    "- How to calculate orientations based on intersections between topographic contour lines and layer boundaries (strike lines)<br>\n",
    "- How to build your first <b>GemPy</b> model with input data generated through <b>GemGIS</b><br>\n",
    "- How to create, calculate and display a custom-section using <b>GemGIS</b> and <b>GemPy</b> <br>\n",
    "- How to export the calculated layers as <b>PyVista</b> meshes <br>\n",
    "- How to sample orientations from the mesh to compare it to your calculated and the provided orientations <br>\n",
    "- How to display the dip and azimuth values as scalars on the mesh\n",
    "\n",
    "</div>\n",
    "\n",
    "<a id='outlook'></a>\n",
    "# Outlook\n",
    "\n",
    "<div class=\"alert alert-block alert-success\">\n",
    "<b>In the next tutorial, you will learn the following:</b> <br>\n",
    "- How to create orientations from strike lines with <b>GemGIS</b> for <b>GemPy</b><br>\n",
    "- How to build your second GemPy model with input data generated through GemGIS<br>\n",
    "- How to extract the geological map as <b>PyVista</b> mesh<br>\n",
    "- How to extract the geological map as <b>GeoPandas</b> polygon GeoDataFrame to save it as shape file and display it in QGIS <br>\n",
    "- How to extract the lith_block of a <b>GemPy</b> model cropped to the topography\n",
    "\n",
    "</div>\n",
    "\n",
    "[Take me to the next notebook on Github](https://github.com/cgre-aachen/gemgis_data/blob/main/notebooks/02_planar_dipping_layers/example02_planar_dipping_layers.ipynb)\n",
    "\n",
    "<img src=\"../../data/images/example2/cover_example02.png\" />\n",
    "Source: Bennison, G.M. (1988): An Introduction to Geological Structures and Maps, page 4, figure 3, Springer Verlag Berlin, Heidelberg, New York, ISBN: 978-1-4615-9632-5\n",
    "\n",
    "\n",
    "<a id='licensing'></a>\n",
    "\n",
    "## Licensing\n",
    "\n",
    "Institute for Computational Geoscience, Geothermics and Reservoir Geophysics, RWTH Aachen University & Fraunhofer IEG, Fraunhofer Research Institution for Energy Infrastructures and Geothermal Systems IEG, Authors: Alexander Juestel. For more information contact: alexander.juestel(at)ieg.fraunhofer.de\n",
    "\n",
    "All notebooks are licensed under a Creative Commons Attribution 4.0 International License (CC BY 4.0, http://creativecommons.org/licenses/by/4.0/). References for each displayed map are provided. Most of the maps originate from the books of [Powell (1992)](https://link.springer.com/book/9783540586074) and [Bennison (1990)](https://link.springer.com/book/10.1007/978-1-4615-9630-1). References for maps with unknown origin will gladly be added."
   ]
  }
 ],
 "metadata": {
  "hide_input": false,
  "kernelspec": {
   "display_name": "Python 3 (ipykernel)",
   "language": "python",
   "name": "python3"
  },
  "language_info": {
   "codemirror_mode": {
    "name": "ipython",
    "version": 3
   },
   "file_extension": ".py",
   "mimetype": "text/x-python",
   "name": "python",
   "nbconvert_exporter": "python",
   "pygments_lexer": "ipython3",
   "version": "3.9.15"
  },
  "latex_envs": {
   "LaTeX_envs_menu_present": true,
   "autoclose": false,
   "autocomplete": true,
   "bibliofile": "biblio.bib",
   "cite_by": "apalike",
   "current_citInitial": 1,
   "eqLabelWithNumbers": true,
   "eqNumInitial": 1,
   "hotkeys": {
    "equation": "Ctrl-E",
    "itemize": "Ctrl-I"
   },
   "labels_anchors": false,
   "latex_user_defs": false,
   "report_style_numbering": false,
   "user_envs_cfg": false
  },
  "toc": {
   "base_numbering": 1,
   "nav_menu": {},
   "number_sections": true,
   "sideBar": true,
   "skip_h1_title": false,
   "title_cell": "Table of Contents",
   "title_sidebar": "Contents",
   "toc_cell": false,
   "toc_position": {},
   "toc_section_display": true,
   "toc_window_display": false
  },
  "varInspector": {
   "cols": {
    "lenName": 16,
    "lenType": 16,
    "lenVar": 40
   },
   "kernels_config": {
    "python": {
     "delete_cmd_postfix": "",
     "delete_cmd_prefix": "del ",
     "library": "var_list.py",
     "varRefreshCmd": "print(var_dic_list())"
    },
    "r": {
     "delete_cmd_postfix": ") ",
     "delete_cmd_prefix": "rm(",
     "library": "var_list.r",
     "varRefreshCmd": "cat(var_dic_list()) "
    }
   },
   "types_to_exclude": [
    "module",
    "function",
    "builtin_function_or_method",
    "instance",
    "_Feature"
   ],
   "window_display": false
  }
 },
 "nbformat": 4,
 "nbformat_minor": 4
}
