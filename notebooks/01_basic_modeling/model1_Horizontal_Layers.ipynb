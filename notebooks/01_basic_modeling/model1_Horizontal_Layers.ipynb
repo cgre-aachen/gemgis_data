{
 "cells": [
  {
   "cell_type": "markdown",
   "id": "worldwide-contact",
   "metadata": {},
   "source": [
    "<img src=\"../../data/images/gempy_logo.png\" />\n",
    "\n",
    "# <center> From Maps to Models - Tutorials for structural geological modeling using GemPy and GemGIS</center>\n",
    "\n",
    "# Model 1 - Horizontal Layers\n",
    "\n",
    "\n",
    "This first notebook illustrates how to create a simple sample model of horizontal layers in `GemPy`. The model consists of four parallel layers plus basement layers and has an extent of 1000 m by 1000 m with a vertical extent of 600 m. No folded, faulted or truncated layers are present in this model.\n",
    "\n",
    "If you have not gone through the introduction notebook for the course, please check it out: [Introduction Notebook](../00_introduction_to_structural_modeling.ipynb) ([notebook on Github](https://nbviewer.org/github/cgre-aachen/gemgis_data/blob/main/notebooks/00_introduction_to_structural_modeling.ipynb))\n",
    "\n",
    "\n",
    "<div class=\"alert alert-block alert-success\">\n",
    "<b>In this tutorial, you will learn the following:</b> <br>\n",
    "- How to import input data into <b>GemPy</b> via CSV-Files (comma-separated-values) and what the files have to look like<br>\n",
    "- How to build a simple model consisting of <b>horizontal layers</b> belonging to <b>one Series</b><br>\n",
    "- How to visualize the resulting model with cross sections in 2D and the entire model in 3D\n",
    "\n",
    "</div>\n",
    "\n",
    "## Contents\n",
    "\n",
    "1. [Installing GemPy](#installing-gempy)\n",
    "2. [Importing Libraries](#importing-libraries)\n",
    "3. [Data Preparation](#data-preparation)\n",
    "    1. [Importing Interface Points](#importing-interface-points)\n",
    "    2. [Importing Orientations](#importing-orientations)\n",
    "4. [GemPy Model Calculation](#gempy-model-calculation)\n",
    "    1. [Creating the GemPy Model](#creating-the-gempy-model)\n",
    "    2. [Inspecting the Surfaces](#inspecting-the-surfaces)\n",
    "    3. [Inspecting the Input Data](#inspecting-the-input-data)\n",
    "    4. [Map Stack to Surfaces](#map-stack-to-surfaces)\n",
    "    5. [Plotting Input Data in 2D](#plotting-the-input-data-in-2d)\n",
    "    6. [Plotting Input Data in 3D](#plotting-the-input-data-in-3d)\n",
    "    7. [Setting the Interpolator](#setting-the-interpolator)\n",
    "    8. [Computing the Model](#computing-the-model)\n",
    "5. [Model Visualization and Post-Processing](#model-visualization-and-post-processing)\n",
    "    1. [Visualizing Cross Sections of the Computed Model](#visualizing-cross-sections-of-the-computed-model)\n",
    "    2. [Visualizing the computed model in 3D](#visualizing-the-computed-model-in-3d)\n",
    "6. [Conclusions](#conclusions)\n",
    "7. [Outlook](#outlook)\n",
    "8. [Licensing](#licensing)\n",
    "\n",
    "\n",
    "\n",
    "<img src=\"../images/model1.png\" width=500/>\n"
   ]
  },
  {
   "cell_type": "markdown",
   "id": "a4e7c892",
   "metadata": {},
   "source": [
    "The input data is provided as already prepared CSV-files (comma-separated-values) and will be loaded as Pandas `DataFrames` (see Figure below, [DataFrame](https://pandas.pydata.org/docs/reference/api/pandas.DataFrame.html)). The first file contains the interface points, the boundaries between the four stratigraphic units. It should consist of four columns with the headers `X`, `Y`, `Z` for the location of the interface points in meter and `formation` for name of the layer the interface belongs to (see Figure below). The second file contains the orientation of the layers with the same columns as before plus three more columns, `dip`, `azimuth`, and `polarity` indicating the dip the layer and the dip direction (azimuth, see Figure below) in degrees. The dip varies from 0° for horizontal layers to 90° for vertical layers. The azimuth varies from 0° (N) via 180° (S) to 360° (N). Here, we only provide the orientations for one layer. This will be explained later on in more detail. The `polarity` value is mostly set to 1.\n",
    "\n",
    "<div class=\"alert alert-block alert-warning\">\n",
    "<b>Important:</b> Interface points always represent the <b>base</b> of the respective layer. However, orientations of layers must not be located at the location of the layer boundaries but may also be located within the layer itself as the orientations will \"only\" constrain the gradient of the scalar field interpolated by GemPy.   \n",
    "    \n",
    "</div>\n",
    "\n",
    "<img src=\"../../data/images/model1_fig1.png\" width=700/>\n",
    "<img src=\"../../data/images/fig3.png\" width=500/>\n",
    "\n",
    "By CrunchyRocks, after Karla Panchuck - https://openpress.usask.ca/physicalgeology/chapter/13-5-measuring-geological-structures/, CC BY 4.0, https://commons.wikimedia.org/w/index.php?curid=113554289"
   ]
  },
  {
   "cell_type": "markdown",
   "id": "solid-hormone",
   "metadata": {},
   "source": [
    "<a id='installing-gempy'></a>\n",
    "\n",
    "# Installing GemPy\n",
    "\n",
    "If you have not installed `GemPy` yet, please follow the [installation instructions](https://docs.gempy.org/installation.html). If you encounter any issues, feel free to open a new discussion at [GemPy Discussions](https://github.com/cgre-aachen/gempy/discussions). If you encounter an error in the installation process, feel free to also open an issue at [GemPy Issues](https://github.com/cgre-aachen/gempy/issues). There, the `GemPy` development team will help you out. "
   ]
  },
  {
   "cell_type": "markdown",
   "id": "artificial-customs",
   "metadata": {},
   "source": [
    "<a id='importing-libraries'></a>\n",
    "\n",
    "# Importing Libraries\n",
    "\n",
    "For this notebook, we need the `pandas` library for the data preparation, `matplotlib` for plotting and of course the `gempy` library. The `gempy_viewer` library is used to plot the modeling results. Any warnings that may appear can be ignored for now. "
   ]
  },
  {
   "cell_type": "code",
   "execution_count": null,
   "id": "2f498618",
   "metadata": {
    "ExecuteTime": {
     "end_time": "2023-02-23T07:41:01.590117Z",
     "start_time": "2023-02-23T07:40:57.359047Z"
    }
   },
   "outputs": [
    {
     "name": "stdout",
     "output_type": "stream",
     "text": [
      "Setting Backend To: AvailableBackends.numpy\n"
     ]
    }
   ],
   "source": [
    "import pandas as pd\n",
    "import gempy as gp\n",
    "import gempy_viewer as gpv\n",
    "import matplotlib.pyplot as plt"
   ]
  },
  {
   "cell_type": "markdown",
   "id": "jewish-complex",
   "metadata": {},
   "source": [
    "<a id='data-preparation'></a>\n",
    "# Data Preparation\n",
    "\n",
    "For this model, the only thing that needs to be done is loading the already created interface points and orientations. In the next tutorials, you will create the data yourself and process it further to make it usable for GemPy. \n",
    "\n",
    "<a id='importing-interface-points'></a>\n",
    "## Importing Interface Points\n",
    "\n",
    "We are using the `pandas` library ([Pandas](https://pandas.pydata.org/docs/)) to load the interface points that were prepared beforehand and stored as CSV-file (comma-separated-file). The only information that is needed are the location of the interface point (`X`, `Y`, `Z`) and the `formation` it belongs to. You may have to adjust the `delimiter` (`'\\t'`, `','`, `';'`, `' '`) when loading the file."
   ]
  },
  {
   "cell_type": "code",
   "execution_count": null,
   "id": "9c8c178c",
   "metadata": {
    "ExecuteTime": {
     "end_time": "2023-02-23T07:41:01.601668Z",
     "start_time": "2023-02-23T07:41:01.601668Z"
    }
   },
   "outputs": [],
   "source": [
    "interfaces = pd.read_csv('../../data/model1/model1_interfaces.csv', \n",
    "                         delimiter = '\\t')\n",
    "interfaces.head()"
   ]
  },
  {
   "cell_type": "markdown",
   "id": "occupied-simulation",
   "metadata": {},
   "source": [
    "<a id='importing-orientations'></a>\n",
    "\n",
    "## Importing Orientations\n",
    "\n",
    "The orientations will also be loaded using `pandas`. In addition to the location and the formation the orientation belongs to, the dip value, azimuth value (dip direction) and a polarity value (mostly set to 1 by default) needs to be provided. As the model will feature horizontal layers, the dip is equal to 0. These three provided orientations belonging to `Layer1` are all the orientations that are needed to compute the model. There are no other orientations needed as the potential field approach implemented in `GemPy` allows to combine subparallel layers in on so-called `Series` where only at least one orientation is needed for the entire series."
   ]
  },
  {
   "cell_type": "code",
   "execution_count": null,
   "id": "bd8aa29b",
   "metadata": {
    "ExecuteTime": {
     "end_time": "2022-03-27T11:06:09.081242Z",
     "start_time": "2022-03-27T11:06:09.055240Z"
    }
   },
   "outputs": [],
   "source": [
    "orientations = pd.read_csv('../../data/model1/model1_orientations.csv', \n",
    "                           delimiter='\\t')\n",
    "orientations.head()"
   ]
  },
  {
   "cell_type": "markdown",
   "id": "veterinary-acceptance",
   "metadata": {},
   "source": [
    "<a id='gempy-model-calculation'></a>\n",
    "\n",
    "# GemPy Model Calculation\n",
    "\n",
    "The following part introduces the main steps of creating a model in `GemPy`. \n",
    "\n",
    "The creation of a `GemPy` Model follows particular steps which will be performed in the following:\n",
    "\n",
    "1. Create new model and data initiation: `gp.create_geomodel()`\n",
    "2. Map Stack to Surfaces: `gp.map_stack_to_surfaces()`\n",
    "3. [...]\n",
    "4. Computing the Model: `gp.compute_model()`\n",
    "\n",
    "<a id='creating-the-gempy-model'></a>\n",
    "\n",
    "## Creating the GemPy Model and Data Initiation\n",
    "\n",
    "The first step is to create a new empty `GemPy` model by providing a name for it. \n",
    "\n",
    "In addition, the `extent` of the model (`xmin`, `xmax`, `ymin`, `ymax`, `zmin`, `zmax`) and the `resolution` in `X`, `Y`and `Z` direction (`res_x`, `res_y`, `res_z`, equal to the number of cells in each direction) will be set using lists of values. If you want to provide cells with a certain size, you would have to calculate the following. It is important to convert the resulting number of cells into an `int` as only integer values for the number of cells are valid. \n",
    "\n",
    "```python\n",
    "res_x = int((xmax-xmin)/cell_size_x)\n",
    "res_y = int((ymax-ymin)/cell_size_y)\n",
    "res_z = int((zmax-zmin)/cell_size_z)\n",
    "```\n",
    "\n",
    "The interface points (`surface_points_df`) and orientations (`orientations_df`) will be passed as strings with the location of the CSV files. Please mind that you may have to edit the `pandas_reader_kwargs` by adding the `'sep'` key and the delimiter `'\\t'` as item of a dictionary."
   ]
  },
  {
   "cell_type": "code",
   "execution_count": null,
   "id": "eb3ec438",
   "metadata": {
    "ExecuteTime": {
     "end_time": "2022-03-27T11:06:11.168832Z",
     "start_time": "2022-03-27T11:06:09.084241Z"
    }
   },
   "outputs": [],
   "source": [
    "geo_model: gp.data.GeoModel = gp.create_geomodel(\n",
    "    project_name='Model1_Horizontal_Layers',\n",
    "    extent=[0, 1000, 0, 1000, -600, 0], \n",
    "    resolution=[100, 100, 100],  # * Here we define the number of octree levels. If octree levels are defined, the resolution is ignored.\n",
    "    importer_helper=gp.data.ImporterHelper(\n",
    "        path_to_orientations='../../data/model1/model1_orientations.csv',\n",
    "        path_to_surface_points='../../data/model1/model1_interfaces.csv',\n",
    "        pandas_reader_kwargs = {'sep': '\\t'}\n",
    "    )\n",
    ")"
   ]
  },
  {
   "cell_type": "markdown",
   "id": "e7b16e48",
   "metadata": {},
   "source": [
    "It is possible to check out the different attributes of the `GemPy` model object using `vars()`. It is mostly empty for now but will be filled in the following steps. The most important attributes/objects of the `GemPy` model are:\n",
    "\n",
    "1. `meta`\n",
    "2. `structural_frame`\n",
    "3. `grid`\n",
    "4. `geophysics_input`\n",
    "5. `input_transform`\n",
    "6. `interpolation_grid`\n"
   ]
  },
  {
   "cell_type": "code",
   "execution_count": null,
   "id": "c85daba5",
   "metadata": {},
   "outputs": [],
   "source": [
    "vars(geo_model)"
   ]
  },
  {
   "cell_type": "markdown",
   "id": "51d0e2dd",
   "metadata": {},
   "source": [
    "The attributes can easily be accessed via the `geo_model`."
   ]
  },
  {
   "cell_type": "code",
   "execution_count": null,
   "id": "8284ddcb",
   "metadata": {},
   "outputs": [],
   "source": [
    "geo_model.meta"
   ]
  },
  {
   "cell_type": "code",
   "execution_count": null,
   "id": "5c6a0b1c",
   "metadata": {},
   "outputs": [],
   "source": [
    "geo_model.structural_frame"
   ]
  },
  {
   "cell_type": "code",
   "execution_count": null,
   "id": "1253e5f4",
   "metadata": {},
   "outputs": [],
   "source": [
    "geo_model.geophysics_input"
   ]
  },
  {
   "cell_type": "code",
   "execution_count": null,
   "id": "3bc1e8f0",
   "metadata": {},
   "outputs": [],
   "source": [
    "geo_model.input_transform"
   ]
  },
  {
   "cell_type": "code",
   "execution_count": null,
   "id": "d93cd05e",
   "metadata": {},
   "outputs": [],
   "source": [
    "geo_model.interpolation_grid"
   ]
  },
  {
   "cell_type": "markdown",
   "id": "armed-story",
   "metadata": {},
   "source": [
    "<a id='inspecting-the-surfaces'></a>\n",
    "\n",
    "## Inspecting the Surfaces\n",
    "\n",
    "The model consists of four different layers or surfaces now which all belong to the `Default series`. During the next step, the proper `Series` will be assigned to the surface. Using the `structural_frame`-attribute again, we can check which layers were loaded."
   ]
  },
  {
   "cell_type": "code",
   "execution_count": null,
   "id": "9e8519ea",
   "metadata": {
    "ExecuteTime": {
     "end_time": "2022-03-27T11:06:11.756189Z",
     "start_time": "2022-03-27T11:06:11.542858Z"
    }
   },
   "outputs": [],
   "source": [
    "geo_model.structural_frame"
   ]
  },
  {
   "cell_type": "markdown",
   "id": "a2dbc68b",
   "metadata": {},
   "source": [
    "<a id='inspecting-the-input-data'></a>\n",
    "\n",
    "## Inspecting the Input Data\n",
    "\n",
    "The loaded interface points and orientations can again be inspected using the `surface_points`- and `orientations`-attributes. Using the `df`-attribute of this object will convert the displayed table in a `pandas` `DataFrame`."
   ]
  },
  {
   "cell_type": "code",
   "execution_count": null,
   "id": "2fd4f8d8",
   "metadata": {},
   "outputs": [],
   "source": [
    "geo_model.surface_points_copy.df.head()"
   ]
  },
  {
   "cell_type": "code",
   "execution_count": null,
   "id": "8caf7f95",
   "metadata": {},
   "outputs": [],
   "source": [
    "geo_model.orientations_copy.df.head()"
   ]
  },
  {
   "cell_type": "markdown",
   "id": "occupational-coaching",
   "metadata": {},
   "source": [
    "<a id='map-stack-to-surfaces'></a>\n",
    "\n",
    "## Map Stack to Surfaces\n",
    "\n",
    "We want our geological units to appear in the correct order relative to age. Such order might for example be given by a depositional sequence of stratigraphy, unconformities due to erosion or other lithological genesis events such as igneous intrusions. Defining the correct order of series is vital to the construction of the model!\n",
    "\n",
    "During this step, all four layers of the model are assigned to the `Strata1` series. Per definition, only orientations for one layer are necessary to compute the model. However, it is of course possible to provide orientation measurements for the other layers as well. If the layers were not parallel as shown in the next models, multiple series would be defined. The order within one series also defines the age relations within this series and has to be according to the depositional events of the layers."
   ]
  },
  {
   "cell_type": "code",
   "execution_count": null,
   "id": "ca6dfa3e",
   "metadata": {
    "ExecuteTime": {
     "end_time": "2022-03-27T11:06:11.992240Z",
     "start_time": "2022-03-27T11:06:11.760192Z"
    }
   },
   "outputs": [],
   "source": [
    "gp.map_stack_to_surfaces(gempy_model=geo_model,\n",
    "                         mapping_object=\n",
    "                         {\n",
    "                          'Strata1': ('Layer1', 'Layer2', 'Layer3', 'Layer4'),                          \n",
    "                         },\n",
    "                         remove_unused_series=True)\n",
    "geo_model.structural_frame"
   ]
  },
  {
   "cell_type": "markdown",
   "id": "directed-immigration",
   "metadata": {},
   "source": [
    "<a id='plotting-the-input-data-in-2d'></a>\n",
    "\n",
    "## Plotting the input data in 2D using Matplotlib\n",
    "\n",
    "The input data can now be visualized in 2D using `matplotlib`. This might for example be useful to check if all points and measurements are defined the way we want them to. Using the function `plot_2d()`, we attain a 2D projection of our data points onto a plane of chosen direction (we can choose this attribute to be either `'x'`, `'y'`, or `'z'`)."
   ]
  },
  {
   "cell_type": "code",
   "execution_count": null,
   "id": "ee36f42b",
   "metadata": {
    "ExecuteTime": {
     "end_time": "2022-03-27T11:06:12.543419Z",
     "start_time": "2022-03-27T11:06:12.000245Z"
    }
   },
   "outputs": [],
   "source": [
    "plot = gpv.plot_2d(geo_model, \n",
    "                   direction='z', \n",
    "                   show_lith=False, \n",
    "                   show_boundaries=False)\n",
    "\n",
    "plt.grid()"
   ]
  },
  {
   "cell_type": "markdown",
   "id": "objective-standard",
   "metadata": {},
   "source": [
    "<a id='plotting-the-input-data-in-3d'></a>\n",
    "\n",
    "## Plotting the input data in 3D using PyVista\n",
    "\n",
    "The input data can also be viszualized using the `pyvista` package. In this view, the interface points are visible as well as the orientations (marked as arrows) which indicate the normals of each orientation value. \n",
    "\n",
    "The `pyvista` package requires the Visualization Toolkit (VTK) to be installed."
   ]
  },
  {
   "cell_type": "code",
   "execution_count": null,
   "id": "03cfc42d",
   "metadata": {
    "ExecuteTime": {
     "end_time": "2022-03-27T11:06:13.610826Z",
     "start_time": "2022-03-27T11:06:12.551420Z"
    }
   },
   "outputs": [],
   "source": [
    "gpv.plot_3d(geo_model, \n",
    "            image=False, \n",
    "            show_lith=False,\n",
    "            plotter_type='basic',\n",
    "            kwargs_plotter= {'notebook':True},)"
   ]
  },
  {
   "cell_type": "markdown",
   "id": "elementary-camping",
   "metadata": {},
   "source": [
    "<a id='setting-the-interpolator'></a>\n",
    "## Setting the interpolator\n",
    "\n",
    "Unlike previous versions, GemPy 3 doesn’t rely on theano or asera. Instead, it utilizes numpy or tensorflow. Consequently, we no longer need to recompile all theano functions (TensorFlow uses eager execution; we found no notable speed difference after profiling the XLA compiler).\n",
    "\n",
    "The parameters used for the interpolation are stored in gempy.core.data.GeoModel.interpolation_options. These parameters have sensible default values that you can modify if necessary. However, we advise caution when changing these parameters unless you fully understand their implications.\n",
    "\n",
    "Display the current interpolation options"
   ]
  },
  {
   "cell_type": "code",
   "execution_count": null,
   "id": "8e27b70d",
   "metadata": {
    "ExecuteTime": {
     "end_time": "2022-03-27T11:06:18.212432Z",
     "start_time": "2022-03-27T11:06:13.614839Z"
    }
   },
   "outputs": [],
   "source": [
    "geo_model.interpolation_options"
   ]
  },
  {
   "cell_type": "markdown",
   "id": "innovative-cradle",
   "metadata": {},
   "source": [
    "<a id='computing-the-model'></a>\n",
    "\n",
    "## Computing the model\n",
    "\n",
    "At this point, we have all we need to compute our full model via `gp.compute_model()`. By default, this will return two separate solutions in the form of arrays. The first provides information on the lithological formations, the second on the fault network in the model, which is not present in this example. "
   ]
  },
  {
   "cell_type": "code",
   "execution_count": null,
   "id": "5b7b2377",
   "metadata": {
    "ExecuteTime": {
     "end_time": "2022-03-27T11:06:35.778810Z",
     "start_time": "2022-03-27T11:06:18.217433Z"
    }
   },
   "outputs": [],
   "source": [
    "sol = gp.compute_model(geo_model, \n",
    "                       compute_mesh=True)"
   ]
  },
  {
   "cell_type": "code",
   "execution_count": null,
   "id": "779580c4",
   "metadata": {},
   "outputs": [],
   "source": [
    "sol"
   ]
  },
  {
   "cell_type": "code",
   "execution_count": null,
   "id": "ea2d8eee",
   "metadata": {},
   "outputs": [],
   "source": [
    "geo_model.solutions"
   ]
  },
  {
   "cell_type": "markdown",
   "id": "protected-parcel",
   "metadata": {},
   "source": [
    "<a id='model-visualization-and-post-processing'></a>\n",
    "\n",
    "# Model Visualization and Post-Processing\n",
    "\n",
    "<a id='visualizing-cross-sections-of-the-computed-model'></a>\n",
    "\n",
    "## Visulazing Cross Sections of the computed model\n",
    "\n",
    "Cross sections in different `direction`s and at different `cell_number`s can be displayed. Here, we only see the horizontal layers of the model. Not very much exciting yet. "
   ]
  },
  {
   "cell_type": "code",
   "execution_count": null,
   "id": "eb54b87a",
   "metadata": {
    "ExecuteTime": {
     "end_time": "2022-03-27T11:06:36.846561Z",
     "start_time": "2022-03-27T11:06:35.780806Z"
    }
   },
   "outputs": [],
   "source": [
    "gpv.plot_2d(geo_model, \n",
    "           direction=['x', 'x', 'y', 'y'], \n",
    "           cell_number=[25, 50, 25, 75], \n",
    "           show_topography=False, \n",
    "           show_data=True)"
   ]
  },
  {
   "cell_type": "markdown",
   "id": "74135615",
   "metadata": {},
   "source": [
    "Next to the lithology data, we can also plot the calculated scalar field."
   ]
  },
  {
   "cell_type": "code",
   "execution_count": null,
   "id": "e7181346",
   "metadata": {},
   "outputs": [],
   "source": [
    "gpv.plot_2d(geo_model, show_data=False, show_scalar=True, show_lith=False)"
   ]
  },
  {
   "cell_type": "markdown",
   "id": "several-artwork",
   "metadata": {},
   "source": [
    "<a id='visualizing-the-computed-model-in-3d'></a>\n",
    "\n",
    "## Visualizing the computed model in 3D\n",
    "\n",
    "The computed model can be visualized in 3D using the `pyvista` library. Setting `notebook=False` will open an interactive windows and the model can be rotated and zooming is possible. "
   ]
  },
  {
   "cell_type": "code",
   "execution_count": null,
   "id": "838f0e34",
   "metadata": {
    "ExecuteTime": {
     "end_time": "2022-03-27T11:06:37.661135Z",
     "start_time": "2022-03-27T11:06:36.848563Z"
    }
   },
   "outputs": [],
   "source": [
    "gpv.plot_3d(geo_model, \n",
    "                 image=False, \n",
    "                 show_topography=True,\n",
    "                 plotter_type='basic', \n",
    "                 kwargs_plotter= {'notebook':True},\n",
    "                 show_lith=True)"
   ]
  },
  {
   "cell_type": "markdown",
   "id": "smooth-characterization",
   "metadata": {},
   "source": [
    "<a id='conclusions'></a>\n",
    "# Conclusions\n",
    "\n",
    "<div class=\"alert alert-block alert-success\">\n",
    "<b>In this tutorial, you learnt the following:</b> <br>\n",
    "- How to import input data into <b>GemPy</b> via CSV-Files (comma-separated-values) and what the files have to look like<br>\n",
    "- How to build a simple model consisting of <b>horizontal layers</b> belonging to <b>one Series</b><br>\n",
    "- How to visualize the resulting model with cross sections in 2D and the entire model in 3D\n",
    "\n",
    "</div>\n",
    "\n",
    "\n",
    "<a id='outlook'></a>\n",
    "# Outlook\n",
    "\n",
    "<div class=\"alert alert-block alert-success\">\n",
    "<b>In the next tutorial, you will learn the following:</b> <br>\n",
    "- Get a better undestanding of what orientations mean in GemPy and how to plot them using <b>mplstereonet</b><br>\n",
    "- How to build a simple model consisting of <b>folded layers</b> belonging to <b>one Series</b><br>\n",
    "\n",
    "\n",
    "</div>\n",
    "\n",
    "[Take me to the next notebook on Github](https://nbviewer.org/github/cgre-aachen/gemgis_data/blob/main/notebooks/01_basic_modeling/model2_Folded_Layers.ipynb)\n",
    "\n",
    "[Take me to the next notebook locally](model2_Folded_Layers.ipynb)\n",
    "\n",
    "<img src=\"../../jose/images/fig1.png\" />"
   ]
  },
  {
   "cell_type": "markdown",
   "id": "4190b239",
   "metadata": {},
   "source": [
    "<a id='licensing'></a>\n",
    "\n",
    "## Licensing\n",
    "\n",
    "Institute for Computational Geoscience, Geothermics and Reservoir Geophysics, RWTH Aachen University & Fraunhofer IEG, Fraunhofer Research Institution for Energy Infrastructures and Geotechnologies IEG, Authors: Alexander Juestel. For more information contact: alexander.juestel(at)ieg.fraunhofer.de\n",
    "\n",
    "All notebooks are licensed under a Creative Commons Attribution 4.0 International License (CC BY 4.0, http://creativecommons.org/licenses/by/4.0/). References for each displayed map are provided. Most of the maps originate from the books of [Powell (1992)](https://link.springer.com/book/9783540586074) and [Bennison (1990)](https://link.springer.com/book/10.1007/978-1-4615-9630-1). References for maps with unknown origin will gladly be added."
   ]
  }
 ],
 "metadata": {
  "hide_input": false,
  "kernelspec": {
   "display_name": "Python 3 (ipykernel)",
   "language": "python",
   "name": "python3"
  },
  "language_info": {
   "codemirror_mode": {
    "name": "ipython",
    "version": 3
   },
   "file_extension": ".py",
   "mimetype": "text/x-python",
   "name": "python",
   "nbconvert_exporter": "python",
   "pygments_lexer": "ipython3",
   "version": "3.11.0"
  },
  "varInspector": {
   "cols": {
    "lenName": 16,
    "lenType": 16,
    "lenVar": 40
   },
   "kernels_config": {
    "python": {
     "delete_cmd_postfix": "",
     "delete_cmd_prefix": "del ",
     "library": "var_list.py",
     "varRefreshCmd": "print(var_dic_list())"
    },
    "r": {
     "delete_cmd_postfix": ") ",
     "delete_cmd_prefix": "rm(",
     "library": "var_list.r",
     "varRefreshCmd": "cat(var_dic_list()) "
    }
   },
   "types_to_exclude": [
    "module",
    "function",
    "builtin_function_or_method",
    "instance",
    "_Feature"
   ],
   "window_display": false
  }
 },
 "nbformat": 4,
 "nbformat_minor": 5
}
