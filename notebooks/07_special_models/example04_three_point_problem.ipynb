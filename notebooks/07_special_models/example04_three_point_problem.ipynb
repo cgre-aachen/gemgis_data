{
 "cells": [
  {
   "cell_type": "markdown",
   "id": "arranged-tenant",
   "metadata": {},
   "source": [
    "# Example 15 - Three Point Problem\n",
    "\n"
   ]
  },
  {
   "cell_type": "markdown",
   "id": "offensive-sociology",
   "metadata": {
    "ExecuteTime": {
     "end_time": "2021-04-27T05:56:52.775398Z",
     "start_time": "2021-04-27T05:56:52.762394Z"
    }
   },
   "source": [
    "This example will show how to convert the geological map below using ``GemGIS`` to a `GemPy` model. This example is based on digitized data. The area is 1187 m wide (W-E extent) and 1479 m high (N-S extent). The vertical model extent varies between 100 m and 300 m. This example represents a classic \"three-point-problem\" of planar dipping layers (green and yellow) above an unspecified basement (purple) which are separated by a fault (blue). The interface points were not recorded at the surface but rather in boreholes at depth. The fault has an offset of 20 m but no further interface points are located beyond the fault. This will be dealt with in a two model approach.\n",
    "\n",
    "The map has been georeferenced with QGIS. The outcrops of the layers were digitized in QGIS. The contour lines were also digitized and will be interpolated with `GemGIS` to create a topography for the model. \n",
    "\n",
    "Map Source: An Introduction to Geological Structures and Maps by G.M. Bennison"
   ]
  },
  {
   "cell_type": "code",
   "execution_count": null,
   "id": "communist-content",
   "metadata": {
    "ExecuteTime": {
     "end_time": "2022-04-06T10:15:07.237607Z",
     "start_time": "2022-04-06T10:15:06.520422Z"
    }
   },
   "outputs": [],
   "source": [
    "import matplotlib.pyplot as plt\n",
    "import matplotlib.image as mpimg\n",
    "img = mpimg.imread('../data/images/example15/cover_example15.png')\n",
    "plt.figure(figsize=(10, 10))\n",
    "imgplot = plt.imshow(img)\n",
    "plt.axis('off')\n",
    "plt.tight_layout()"
   ]
  },
  {
   "cell_type": "markdown",
   "id": "alike-configuration",
   "metadata": {},
   "source": [
    "## Licensing\n",
    "\n",
    "Computational Geosciences and Reservoir Engineering, RWTH Aachen University, Authors: Alexander Juestel. For more information contact: alexander.juestel(at)rwth-aachen.de\n",
    "\n",
    "\n",
    "This work is licensed under a Creative Commons Attribution 4.0 International License (http://creativecommons.org/licenses/by/4.0/)"
   ]
  },
  {
   "cell_type": "markdown",
   "id": "allied-vessel",
   "metadata": {},
   "source": [
    "## Import GemGIS\n",
    "\n",
    "If you have installed ``GemGIS`` via pip or conda, you can import ``GemGIS`` like any other package. If you have downloaded the repository, append the path to the directory where the ``GemGIS`` repository is stored and then import ``GemGIS``. "
   ]
  },
  {
   "cell_type": "code",
   "execution_count": null,
   "id": "neither-funeral",
   "metadata": {
    "ExecuteTime": {
     "end_time": "2022-04-06T10:15:08.237420Z",
     "start_time": "2022-04-06T10:15:07.240590Z"
    }
   },
   "outputs": [],
   "source": [
    "import warnings\n",
    "warnings.filterwarnings(\"ignore\")\n",
    "import gemgis as gg"
   ]
  },
  {
   "cell_type": "markdown",
   "id": "latin-packaging",
   "metadata": {},
   "source": [
    "## Importing Libraries and loading Data\n",
    "\n",
    "All remaining packages can be loaded in order to prepare the data and to construct the model. The example data is downloaded from an external server using `pooch`. It will be stored in a data folder in the same directory where this notebook is stored.  "
   ]
  },
  {
   "cell_type": "code",
   "execution_count": null,
   "id": "polar-appliance",
   "metadata": {
    "ExecuteTime": {
     "end_time": "2022-04-06T10:15:08.253421Z",
     "start_time": "2022-04-06T10:15:08.239422Z"
    }
   },
   "outputs": [],
   "source": [
    "import geopandas as gpd\n",
    "import rasterio "
   ]
  },
  {
   "cell_type": "code",
   "execution_count": null,
   "id": "healthy-queens",
   "metadata": {
    "ExecuteTime": {
     "end_time": "2022-04-06T10:15:08.269425Z",
     "start_time": "2022-04-06T10:15:08.255423Z"
    }
   },
   "outputs": [],
   "source": [
    "file_path = '../data/example15_three_point_problem/'"
   ]
  },
  {
   "cell_type": "markdown",
   "id": "impressed-database",
   "metadata": {},
   "source": [
    "## Creating Digital Elevation Model from Contour Lines\n",
    "\n",
    "The digital elevation model (DEM) will be created by interpolating contour lines digitized from the georeferenced map using the `SciPy` Radial Basis Function interpolation wrapped in `GemGIS`. The respective function used for that is `gg.vector.interpolate_raster()`. \n"
   ]
  },
  {
   "cell_type": "code",
   "execution_count": null,
   "id": "bulgarian-uniform",
   "metadata": {
    "ExecuteTime": {
     "end_time": "2022-04-06T10:15:08.491476Z",
     "start_time": "2022-04-06T10:15:08.271427Z"
    }
   },
   "outputs": [],
   "source": [
    "import matplotlib.pyplot as plt\n",
    "import matplotlib.image as mpimg\n",
    "img = mpimg.imread('../data/images/example15/dem_example15.png')\n",
    "plt.figure(figsize=(10, 10))\n",
    "imgplot = plt.imshow(img)\n",
    "plt.axis('off')\n",
    "plt.tight_layout()"
   ]
  },
  {
   "cell_type": "code",
   "execution_count": null,
   "id": "informed-tomorrow",
   "metadata": {
    "ExecuteTime": {
     "end_time": "2022-04-06T10:15:08.571494Z",
     "start_time": "2022-04-06T10:15:08.493478Z"
    }
   },
   "outputs": [],
   "source": [
    "topo = gpd.read_file(file_path + 'topo15.shp')\n",
    "topo.head()"
   ]
  },
  {
   "cell_type": "markdown",
   "id": "inclusive-florence",
   "metadata": {},
   "source": [
    "### Interpolating the contour lines"
   ]
  },
  {
   "cell_type": "code",
   "execution_count": null,
   "id": "revolutionary-calibration",
   "metadata": {
    "ExecuteTime": {
     "end_time": "2022-04-06T10:15:09.669998Z",
     "start_time": "2022-04-06T10:15:08.574504Z"
    }
   },
   "outputs": [],
   "source": [
    "topo_raster = gg.vector.interpolate_raster(gdf=topo, value='Z', method='rbf', res=5)"
   ]
  },
  {
   "cell_type": "markdown",
   "id": "experimental-press",
   "metadata": {},
   "source": [
    "### Plotting the raster"
   ]
  },
  {
   "cell_type": "code",
   "execution_count": null,
   "id": "frozen-gazette",
   "metadata": {
    "ExecuteTime": {
     "end_time": "2022-04-06T10:15:10.038067Z",
     "start_time": "2022-04-06T10:15:09.672991Z"
    }
   },
   "outputs": [],
   "source": [
    "import matplotlib.pyplot as plt\n",
    "\n",
    "fix, ax = plt.subplots(1, figsize=(10, 10))\n",
    "topo.plot(ax=ax, aspect='equal', column='Z', cmap='gist_earth')\n",
    "im = plt.imshow(topo_raster, origin='lower', extent=[0, 1187, 0, 1479], cmap='gist_earth')\n",
    "cbar = plt.colorbar(im)\n",
    "cbar.set_label('Altitude [m]')\n",
    "ax.set_xlabel('X [m]')\n",
    "ax.set_ylabel('Y [m]')\n",
    "ax.set_xlim(0, 1187)\n",
    "ax.set_ylim(0, 1479)"
   ]
  },
  {
   "cell_type": "markdown",
   "id": "common-franklin",
   "metadata": {},
   "source": [
    "### Saving the raster to disc\n",
    "\n",
    "After the interpolation of the contour lines, the raster is saved to disc using `gg.raster.save_as_tiff()`. The function will not be executed as a raster is already provided with the example data. "
   ]
  },
  {
   "cell_type": "raw",
   "id": "proved-tourist",
   "metadata": {
    "ExecuteTime": {
     "end_time": "2021-04-03T12:17:31.197855Z",
     "start_time": "2021-04-03T12:17:31.146715Z"
    }
   },
   "source": [
    "gg.raster.save_as_tiff(raster=topo_raster, path=file_path + 'raster15.tif', extent=[0, 1187, 0, 1479], crs='EPSG:4326', overwrite_file=True)"
   ]
  },
  {
   "cell_type": "markdown",
   "id": "under-pursuit",
   "metadata": {},
   "source": [
    "### Opening Raster\n",
    "\n",
    "The previously computed and saved raster can now be opened using rasterio. "
   ]
  },
  {
   "cell_type": "code",
   "execution_count": null,
   "id": "silver-defendant",
   "metadata": {
    "ExecuteTime": {
     "end_time": "2022-04-06T10:15:10.086079Z",
     "start_time": "2022-04-06T10:15:10.040067Z"
    }
   },
   "outputs": [],
   "source": [
    "topo_raster = rasterio.open(file_path + 'raster15.tif')"
   ]
  },
  {
   "cell_type": "markdown",
   "id": "central-option",
   "metadata": {
    "ExecuteTime": {
     "end_time": "2021-03-28T12:43:27.113805Z",
     "start_time": "2021-03-28T12:43:27.067793Z"
    }
   },
   "source": [
    "## Interface Points of stratigraphic boundaries\n",
    "\n",
    "The interface points for this three point example will be digitized as points with the respective height value as given by the borehole information and the respective formation.  \n"
   ]
  },
  {
   "cell_type": "code",
   "execution_count": null,
   "id": "chemical-bracelet",
   "metadata": {
    "ExecuteTime": {
     "end_time": "2022-04-06T10:15:10.323131Z",
     "start_time": "2022-04-06T10:15:10.088079Z"
    }
   },
   "outputs": [],
   "source": [
    "import matplotlib.pyplot as plt\n",
    "import matplotlib.image as mpimg\n",
    "img = mpimg.imread('../data/images/example15/interfaces_example15.png')\n",
    "plt.figure(figsize=(10, 10))\n",
    "imgplot = plt.imshow(img)\n",
    "plt.axis('off')\n",
    "plt.tight_layout()"
   ]
  },
  {
   "cell_type": "code",
   "execution_count": null,
   "id": "activated-namibia",
   "metadata": {
    "ExecuteTime": {
     "end_time": "2022-04-06T10:15:10.387146Z",
     "start_time": "2022-04-06T10:15:10.325132Z"
    }
   },
   "outputs": [],
   "source": [
    "interfaces = gpd.read_file(file_path + 'interfaces15.shp')\n",
    "interfaces.head()"
   ]
  },
  {
   "cell_type": "markdown",
   "id": "happy-fireplace",
   "metadata": {},
   "source": [
    "### Extracting Z coordinate from Digital Elevation Model"
   ]
  },
  {
   "cell_type": "code",
   "execution_count": null,
   "id": "stopped-saint",
   "metadata": {
    "ExecuteTime": {
     "end_time": "2022-04-06T10:15:10.419153Z",
     "start_time": "2022-04-06T10:15:10.389147Z"
    }
   },
   "outputs": [],
   "source": [
    "interfaces_coords = gg.vector.extract_xyz(gdf=interfaces, dem=None)\n",
    "interfaces_coords"
   ]
  },
  {
   "cell_type": "code",
   "execution_count": null,
   "id": "cultural-senior",
   "metadata": {
    "ExecuteTime": {
     "end_time": "2022-04-06T10:15:10.531197Z",
     "start_time": "2022-04-06T10:15:10.421154Z"
    }
   },
   "outputs": [],
   "source": [
    "fault = gpd.read_file(file_path + 'fault15.shp')\n",
    "fault = gg.vector.extract_xyz(gdf=fault, dem=topo_raster)\n",
    "fault"
   ]
  },
  {
   "cell_type": "code",
   "execution_count": null,
   "id": "approximate-attention",
   "metadata": {
    "ExecuteTime": {
     "end_time": "2022-04-06T10:15:10.563205Z",
     "start_time": "2022-04-06T10:15:10.533181Z"
    }
   },
   "outputs": [],
   "source": [
    "import pandas as pd\n",
    "\n",
    "interfaces_coords = pd.concat([interfaces_coords, fault]).reset_index()\n",
    "interfaces_coords"
   ]
  },
  {
   "cell_type": "markdown",
   "id": "valued-coast",
   "metadata": {},
   "source": [
    "### Plotting the Interface Points"
   ]
  },
  {
   "cell_type": "code",
   "execution_count": null,
   "id": "involved-association",
   "metadata": {
    "ExecuteTime": {
     "end_time": "2022-04-06T10:15:10.883196Z",
     "start_time": "2022-04-06T10:15:10.566189Z"
    }
   },
   "outputs": [],
   "source": [
    "fig, ax = plt.subplots(1, figsize=(10, 10))\n",
    "\n",
    "interfaces.plot(ax=ax, column='formation', legend=True, aspect='equal')\n",
    "interfaces_coords.plot(ax=ax, column='formation', legend=True, aspect='equal')\n",
    "plt.grid()\n",
    "ax.set_xlabel('X [m]')\n",
    "ax.set_ylabel('Y [m]')\n",
    "ax.set_xlim(0, 1187)\n",
    "ax.set_ylim(0, 1479)"
   ]
  },
  {
   "cell_type": "markdown",
   "id": "inner-mathematics",
   "metadata": {},
   "source": [
    "## Orientations from Strike Lines\n",
    "\n",
    "For this three point example, an orientation is calculated using `gg.vector.calculate_orientation_for_three_point_problem()`. \n"
   ]
  },
  {
   "cell_type": "code",
   "execution_count": null,
   "id": "bound-latitude",
   "metadata": {
    "ExecuteTime": {
     "end_time": "2022-04-06T10:15:11.090238Z",
     "start_time": "2022-04-06T10:15:10.885190Z"
    }
   },
   "outputs": [],
   "source": [
    "import matplotlib.pyplot as plt\n",
    "import matplotlib.image as mpimg\n",
    "img = mpimg.imread('../data/images/example15/orientations_example15.png')\n",
    "plt.figure(figsize=(10, 10))\n",
    "imgplot = plt.imshow(img)\n",
    "plt.axis('off')\n",
    "plt.tight_layout()"
   ]
  },
  {
   "cell_type": "code",
   "execution_count": null,
   "id": "bulgarian-turtle",
   "metadata": {
    "ExecuteTime": {
     "end_time": "2022-04-06T10:15:11.136791Z",
     "start_time": "2022-04-06T10:15:11.092241Z"
    }
   },
   "outputs": [],
   "source": [
    "orientations1 = gpd.read_file(file_path + 'interfaces15.shp')\n",
    "orientations1 = orientations1[orientations1['formation']=='Ironstone']\n",
    "orientations1"
   ]
  },
  {
   "cell_type": "code",
   "execution_count": null,
   "id": "configured-evaluation",
   "metadata": {
    "ExecuteTime": {
     "end_time": "2022-04-06T10:15:11.168800Z",
     "start_time": "2022-04-06T10:15:11.138793Z"
    }
   },
   "outputs": [],
   "source": [
    "orientations1 = gg.vector.calculate_orientation_for_three_point_problem(gdf=orientations1)\n",
    "orientations1"
   ]
  },
  {
   "cell_type": "markdown",
   "id": "robust-tongue",
   "metadata": {},
   "source": [
    "### Changing the Data Type of Fields"
   ]
  },
  {
   "cell_type": "code",
   "execution_count": null,
   "id": "rolled-manhattan",
   "metadata": {
    "ExecuteTime": {
     "end_time": "2022-04-06T10:15:11.201804Z",
     "start_time": "2022-04-06T10:15:11.170799Z"
    }
   },
   "outputs": [],
   "source": [
    "orientations1['Z'] = orientations1['Z'].astype(float)\n",
    "orientations1['azimuth'] = orientations1['azimuth'].astype(float)\n",
    "orientations1['dip'] = orientations1['dip'].astype(float)\n",
    "orientations1['dip'] = 180 - orientations1['dip']\n",
    "orientations1['azimuth'] = 180 - orientations1['azimuth']\n",
    "orientations1['polarity'] = orientations1['polarity'].astype(float)\n",
    "orientations1['X'] = orientations1['X'].astype(float)\n",
    "orientations1['Y'] = orientations1['Y'].astype(float)\n",
    "orientations1.info()"
   ]
  },
  {
   "cell_type": "code",
   "execution_count": null,
   "id": "super-isaac",
   "metadata": {
    "ExecuteTime": {
     "end_time": "2022-04-06T10:15:11.248817Z",
     "start_time": "2022-04-06T10:15:11.204806Z"
    }
   },
   "outputs": [],
   "source": [
    "orientations2 = gpd.read_file(file_path + 'interfaces15.shp')\n",
    "orientations2 = orientations2[orientations2['formation']=='Shale']\n",
    "orientations2"
   ]
  },
  {
   "cell_type": "code",
   "execution_count": null,
   "id": "stone-bangkok",
   "metadata": {
    "ExecuteTime": {
     "end_time": "2022-04-06T10:15:11.296826Z",
     "start_time": "2022-04-06T10:15:11.251816Z"
    }
   },
   "outputs": [],
   "source": [
    "orientations2 = gg.vector.calculate_orientation_for_three_point_problem(gdf=orientations2)\n",
    "orientations2"
   ]
  },
  {
   "cell_type": "markdown",
   "id": "demographic-wedding",
   "metadata": {},
   "source": [
    "### Changing the Data Type of Fields"
   ]
  },
  {
   "cell_type": "code",
   "execution_count": null,
   "id": "danish-jumping",
   "metadata": {
    "ExecuteTime": {
     "end_time": "2022-04-06T10:15:11.328845Z",
     "start_time": "2022-04-06T10:15:11.301827Z"
    }
   },
   "outputs": [],
   "source": [
    "orientations2['Z'] = orientations2['Z'].astype(float)\n",
    "orientations2['azimuth'] = orientations2['azimuth'].astype(float)\n",
    "orientations2['dip'] = orientations2['dip'].astype(float)\n",
    "orientations2['dip'] = 180 - orientations2['dip']\n",
    "orientations2['azimuth'] = 180 - orientations2['azimuth']\n",
    "orientations2['polarity'] = orientations2['polarity'].astype(float)\n",
    "orientations2['X'] = orientations2['X'].astype(float)\n",
    "orientations2['Y'] = orientations2['Y'].astype(float)\n",
    "orientations2.info()"
   ]
  },
  {
   "cell_type": "code",
   "execution_count": null,
   "id": "australian-pipeline",
   "metadata": {
    "ExecuteTime": {
     "end_time": "2022-04-06T10:15:11.424856Z",
     "start_time": "2022-04-06T10:15:11.331843Z"
    }
   },
   "outputs": [],
   "source": [
    "orientations_fault = gpd.read_file(file_path + 'orientations15_fault.shp')\n",
    "orientations_fault = gg.vector.extract_xyz(gdf=orientations_fault, dem=topo_raster)\n",
    "orientations_fault"
   ]
  },
  {
   "cell_type": "markdown",
   "id": "demonstrated-correlation",
   "metadata": {},
   "source": [
    "### Merging Orientations"
   ]
  },
  {
   "cell_type": "code",
   "execution_count": null,
   "id": "velvet-toyota",
   "metadata": {
    "ExecuteTime": {
     "end_time": "2022-04-06T10:15:11.456878Z",
     "start_time": "2022-04-06T10:15:11.426865Z"
    }
   },
   "outputs": [],
   "source": [
    "orientations = pd.concat([orientations1, orientations2, orientations_fault]).reset_index()\n",
    "orientations"
   ]
  },
  {
   "cell_type": "markdown",
   "id": "textile-christianity",
   "metadata": {},
   "source": [
    "### Plotting the Orientations"
   ]
  },
  {
   "cell_type": "code",
   "execution_count": null,
   "id": "detected-certificate",
   "metadata": {
    "ExecuteTime": {
     "end_time": "2022-04-06T10:15:11.821587Z",
     "start_time": "2022-04-06T10:15:11.459872Z"
    }
   },
   "outputs": [],
   "source": [
    "fig, ax = plt.subplots(1, figsize=(10,10))\n",
    "\n",
    "interfaces.plot(ax=ax, column='formation', legend=True, aspect='equal')\n",
    "interfaces_coords.plot(ax=ax, column='formation', legend=True, aspect='equal')\n",
    "orientations.plot(ax=ax, color='red', aspect='equal')\n",
    "plt.grid()\n",
    "plt.xlim(0,1187)\n",
    "plt.ylim(0,1479)\n",
    "plt.xlabel('X [m]')\n",
    "plt.ylabel('Y [m]')"
   ]
  },
  {
   "cell_type": "markdown",
   "id": "wired-vietnamese",
   "metadata": {},
   "source": [
    "## GemPy Model Construction (Part A)\n",
    "\n",
    "The structural geological model will be constructed using the `GemPy` package. The first model is calculated without the fault. "
   ]
  },
  {
   "cell_type": "code",
   "execution_count": null,
   "id": "governing-brazilian",
   "metadata": {
    "ExecuteTime": {
     "end_time": "2022-04-06T10:15:13.188784Z",
     "start_time": "2022-04-06T10:15:11.823586Z"
    }
   },
   "outputs": [],
   "source": [
    "import gempy as gp"
   ]
  },
  {
   "cell_type": "markdown",
   "id": "associate-visitor",
   "metadata": {},
   "source": [
    "### Creating New Model"
   ]
  },
  {
   "cell_type": "code",
   "execution_count": null,
   "id": "recorded-delicious",
   "metadata": {
    "ExecuteTime": {
     "end_time": "2022-04-06T10:15:13.967962Z",
     "start_time": "2022-04-06T10:15:13.190776Z"
    }
   },
   "outputs": [],
   "source": [
    "geo_model = gp.create_model('Model15a')\n",
    "geo_model"
   ]
  },
  {
   "cell_type": "markdown",
   "id": "fitted-female",
   "metadata": {},
   "source": [
    "### Initiate Data\n",
    "\n",
    "The fault interfaces and orientations will be removed from the first model to model the layers also beyond the fault. As the information is provided that the fault has an offset of 20 m, the layers will be exported, the boundaries will be digitized and the elevation will be reduced by 20 m. "
   ]
  },
  {
   "cell_type": "code",
   "execution_count": null,
   "id": "complete-birth",
   "metadata": {
    "ExecuteTime": {
     "end_time": "2022-04-06T10:15:13.983476Z",
     "start_time": "2022-04-06T10:15:13.969947Z"
    }
   },
   "outputs": [],
   "source": [
    "interfaces_coords_new=interfaces_coords[interfaces_coords['formation'] != 'Fault']\n",
    "interfaces_coords_new"
   ]
  },
  {
   "cell_type": "code",
   "execution_count": null,
   "id": "clean-layout",
   "metadata": {
    "ExecuteTime": {
     "end_time": "2022-04-06T10:15:13.999490Z",
     "start_time": "2022-04-06T10:15:13.984492Z"
    }
   },
   "outputs": [],
   "source": [
    "orientations_new=orientations[orientations['formation'] != 'Fault']\n",
    "orientations_new"
   ]
  },
  {
   "cell_type": "code",
   "execution_count": null,
   "id": "assisted-nothing",
   "metadata": {
    "ExecuteTime": {
     "end_time": "2022-04-06T10:15:14.218518Z",
     "start_time": "2022-04-06T10:15:14.001493Z"
    }
   },
   "outputs": [],
   "source": [
    "gp.init_data(geo_model, [0, 1187, 0, 1479, 100, 300], [100, 100, 100],\n",
    "             surface_points_df=interfaces_coords_new[interfaces_coords_new['Z'] != 0],\n",
    "             orientations_df=orientations_new,\n",
    "             default_values=True)"
   ]
  },
  {
   "cell_type": "markdown",
   "id": "integrated-pension",
   "metadata": {},
   "source": [
    "### Model Surfaces"
   ]
  },
  {
   "cell_type": "code",
   "execution_count": null,
   "id": "cutting-energy",
   "metadata": {
    "ExecuteTime": {
     "end_time": "2022-04-06T10:15:14.297816Z",
     "start_time": "2022-04-06T10:15:14.220504Z"
    }
   },
   "outputs": [],
   "source": [
    "geo_model.surfaces"
   ]
  },
  {
   "cell_type": "markdown",
   "id": "younger-young",
   "metadata": {},
   "source": [
    "### Mapping the Stack to Surfaces"
   ]
  },
  {
   "cell_type": "code",
   "execution_count": null,
   "id": "formed-thoughts",
   "metadata": {
    "ExecuteTime": {
     "end_time": "2022-04-06T10:15:14.409842Z",
     "start_time": "2022-04-06T10:15:14.299809Z"
    }
   },
   "outputs": [],
   "source": [
    "gp.map_stack_to_surfaces(geo_model,\n",
    "                         {\n",
    "                          'Strata1': ('Shale', 'Ironstone'),\n",
    "                         },\n",
    "                         remove_unused_series=True)\n",
    "geo_model.add_surfaces('Basement')"
   ]
  },
  {
   "cell_type": "markdown",
   "id": "subtle-techno",
   "metadata": {},
   "source": [
    "### Showing the Number of Data Points"
   ]
  },
  {
   "cell_type": "code",
   "execution_count": null,
   "id": "forty-treaty",
   "metadata": {
    "ExecuteTime": {
     "end_time": "2022-04-06T10:15:14.457836Z",
     "start_time": "2022-04-06T10:15:14.410826Z"
    }
   },
   "outputs": [],
   "source": [
    "gg.utils.show_number_of_data_points(geo_model=geo_model)"
   ]
  },
  {
   "cell_type": "markdown",
   "id": "medieval-deployments",
   "metadata": {},
   "source": [
    "### Loading Digital Elevation Model"
   ]
  },
  {
   "cell_type": "code",
   "execution_count": null,
   "id": "subsequent-technique",
   "metadata": {
    "ExecuteTime": {
     "end_time": "2022-04-06T10:15:14.766265Z",
     "start_time": "2022-04-06T10:15:14.459846Z"
    }
   },
   "outputs": [],
   "source": [
    "geo_model.set_topography(\n",
    "    source='gdal', filepath=file_path + 'raster15.tif')"
   ]
  },
  {
   "cell_type": "markdown",
   "id": "extreme-drink",
   "metadata": {},
   "source": [
    "### Plotting Input Data"
   ]
  },
  {
   "cell_type": "code",
   "execution_count": null,
   "id": "conservative-philip",
   "metadata": {
    "ExecuteTime": {
     "end_time": "2022-04-06T10:15:15.017529Z",
     "start_time": "2022-04-06T10:15:14.768258Z"
    }
   },
   "outputs": [],
   "source": [
    "gp.plot_2d(geo_model, direction='z', show_lith=False, show_boundaries=False)\n",
    "plt.grid()"
   ]
  },
  {
   "cell_type": "code",
   "execution_count": null,
   "id": "vocational-intranet",
   "metadata": {
    "ExecuteTime": {
     "end_time": "2022-04-06T10:15:15.381640Z",
     "start_time": "2022-04-06T10:15:15.019522Z"
    }
   },
   "outputs": [],
   "source": [
    "gp.plot_3d(geo_model, image=False, plotter_type='basic', notebook=True)"
   ]
  },
  {
   "cell_type": "markdown",
   "id": "geological-triple",
   "metadata": {},
   "source": [
    "### Setting the Interpolator"
   ]
  },
  {
   "cell_type": "code",
   "execution_count": null,
   "id": "external-clerk",
   "metadata": {
    "ExecuteTime": {
     "end_time": "2022-04-06T10:15:18.221060Z",
     "start_time": "2022-04-06T10:15:15.383633Z"
    }
   },
   "outputs": [],
   "source": [
    "gp.set_interpolator(geo_model,\n",
    "                    compile_theano=True,\n",
    "                    theano_optimizer='fast_compile',\n",
    "                    verbose=[],\n",
    "                    update_kriging=False\n",
    "                    )"
   ]
  },
  {
   "cell_type": "markdown",
   "id": "above-lending",
   "metadata": {},
   "source": [
    "### Computing Model"
   ]
  },
  {
   "cell_type": "code",
   "execution_count": null,
   "id": "impressed-adams",
   "metadata": {
    "ExecuteTime": {
     "end_time": "2022-04-06T10:15:23.287380Z",
     "start_time": "2022-04-06T10:15:18.224040Z"
    }
   },
   "outputs": [],
   "source": [
    "sol = gp.compute_model(geo_model, compute_mesh=True)"
   ]
  },
  {
   "cell_type": "markdown",
   "id": "developing-wallet",
   "metadata": {},
   "source": [
    "### Plotting Cross Sections"
   ]
  },
  {
   "cell_type": "code",
   "execution_count": null,
   "id": "champion-collectible",
   "metadata": {
    "ExecuteTime": {
     "end_time": "2022-04-06T10:15:23.948461Z",
     "start_time": "2022-04-06T10:15:23.289404Z"
    }
   },
   "outputs": [],
   "source": [
    "gp.plot_2d(geo_model, direction=['x', 'x', 'y', 'y'], cell_number=[25, 75, 25, 75], show_topography=True, show_data=False)"
   ]
  },
  {
   "cell_type": "markdown",
   "id": "intimate-connectivity",
   "metadata": {},
   "source": [
    "### Plotting 3D Model"
   ]
  },
  {
   "cell_type": "code",
   "execution_count": null,
   "id": "developing-comparison",
   "metadata": {
    "ExecuteTime": {
     "end_time": "2022-04-06T10:15:26.117665Z",
     "start_time": "2022-04-06T10:15:23.949045Z"
    }
   },
   "outputs": [],
   "source": [
    "gpv = gp.plot_3d(geo_model, image=False, show_topography=True,\n",
    "                 plotter_type='basic', notebook=True, show_lith=True)"
   ]
  },
  {
   "cell_type": "markdown",
   "id": "three-nutrition",
   "metadata": {},
   "source": [
    "### Creating Polygons from GemPy Model\n",
    "\n",
    "A GeoDataFrame containing polygons representing the geological map can be created using `gg.post.extract_lithologies()`. This data is now being saved and the constructed layer boundaries beyond the fault in the east are being digitized. Their elevation values will be reduced by 20 m to simulate the offset of the fault. The model will then be recalculated again."
   ]
  },
  {
   "cell_type": "code",
   "execution_count": null,
   "id": "annual-clarity",
   "metadata": {
    "ExecuteTime": {
     "end_time": "2022-04-06T10:15:26.208434Z",
     "start_time": "2022-04-06T10:15:26.119849Z"
    }
   },
   "outputs": [],
   "source": [
    "gdf = gg.post.extract_lithologies(geo_model, [0, 1187, 0, 1479], 'EPSG:4326')\n",
    "gdf"
   ]
  },
  {
   "cell_type": "code",
   "execution_count": null,
   "id": "structural-malawi",
   "metadata": {
    "ExecuteTime": {
     "end_time": "2022-04-06T10:15:26.289587Z",
     "start_time": "2022-04-06T10:15:26.210472Z"
    }
   },
   "outputs": [],
   "source": [
    "gdf = gpd.read_file(file_path + 'geolmap.shp')\n",
    "gdf"
   ]
  },
  {
   "cell_type": "code",
   "execution_count": null,
   "id": "insured-psychiatry",
   "metadata": {
    "ExecuteTime": {
     "end_time": "2022-04-06T10:15:26.480903Z",
     "start_time": "2022-04-06T10:15:26.291636Z"
    }
   },
   "outputs": [],
   "source": [
    "gdf.plot(column='formation',  alpha=0.9, aspect='equal')\n",
    "plt.grid()"
   ]
  },
  {
   "cell_type": "markdown",
   "id": "superior-fundamentals",
   "metadata": {},
   "source": [
    "### Preparing Interfaces beyond the fault"
   ]
  },
  {
   "cell_type": "code",
   "execution_count": null,
   "id": "special-integer",
   "metadata": {
    "ExecuteTime": {
     "end_time": "2022-04-06T10:15:26.621502Z",
     "start_time": "2022-04-06T10:15:26.482488Z"
    }
   },
   "outputs": [],
   "source": [
    "interfaces_beyond_fault =  gpd.read_file(file_path + 'interfaces15_beyond_fault.shp')\n",
    "interfaces_beyond_fault = gg.vector.extract_xyz(gdf=interfaces_beyond_fault, dem=topo_raster)\n",
    "interfaces_beyond_fault"
   ]
  },
  {
   "cell_type": "markdown",
   "id": "accomplished-sample",
   "metadata": {},
   "source": [
    "### Substracting the fault offset"
   ]
  },
  {
   "cell_type": "code",
   "execution_count": null,
   "id": "ultimate-process",
   "metadata": {
    "ExecuteTime": {
     "end_time": "2022-04-06T10:15:26.645469Z",
     "start_time": "2022-04-06T10:15:26.621502Z"
    }
   },
   "outputs": [],
   "source": [
    "interfaces_beyond_fault['Z']=interfaces_beyond_fault['Z']-20\n",
    "interfaces_beyond_fault"
   ]
  },
  {
   "cell_type": "markdown",
   "id": "whole-amplifier",
   "metadata": {},
   "source": [
    "### Mergin old and new interfaces"
   ]
  },
  {
   "cell_type": "code",
   "execution_count": null,
   "id": "eight-omega",
   "metadata": {
    "ExecuteTime": {
     "end_time": "2022-04-06T10:15:26.677624Z",
     "start_time": "2022-04-06T10:15:26.647465Z"
    }
   },
   "outputs": [],
   "source": [
    "interfaces_coords = pd.concat([interfaces_coords, interfaces_beyond_fault.sample(n=50)]).reset_index()\n",
    "interfaces_coords"
   ]
  },
  {
   "cell_type": "markdown",
   "id": "hybrid-productivity",
   "metadata": {},
   "source": [
    "## GemPy Model Construction (Part B)\n",
    "\n",
    "The structural geological model will be constructed using the `GemPy` package. "
   ]
  },
  {
   "cell_type": "code",
   "execution_count": null,
   "id": "changing-repeat",
   "metadata": {
    "ExecuteTime": {
     "end_time": "2022-04-06T10:15:26.697878Z",
     "start_time": "2022-04-06T10:15:26.679667Z"
    }
   },
   "outputs": [],
   "source": [
    "import gempy as gp"
   ]
  },
  {
   "cell_type": "markdown",
   "id": "protecting-selection",
   "metadata": {},
   "source": [
    "### Creating new Model"
   ]
  },
  {
   "cell_type": "code",
   "execution_count": null,
   "id": "separate-florida",
   "metadata": {
    "ExecuteTime": {
     "end_time": "2022-04-06T10:15:26.799132Z",
     "start_time": "2022-04-06T10:15:26.699920Z"
    }
   },
   "outputs": [],
   "source": [
    "geo_model = gp.create_model('Model15b')\n",
    "geo_model"
   ]
  },
  {
   "cell_type": "markdown",
   "id": "inclusive-complement",
   "metadata": {},
   "source": [
    "### Initiate Data\n"
   ]
  },
  {
   "cell_type": "code",
   "execution_count": null,
   "id": "varied-tender",
   "metadata": {
    "ExecuteTime": {
     "end_time": "2022-04-06T10:15:27.022838Z",
     "start_time": "2022-04-06T10:15:26.799132Z"
    }
   },
   "outputs": [],
   "source": [
    "gp.init_data(geo_model, [0, 1187, 0, 1479, 100, 300], [100, 100, 100],\n",
    "             surface_points_df=interfaces_coords[interfaces_coords['Z'] != 0],\n",
    "             orientations_df=orientations,\n",
    "             default_values=True)"
   ]
  },
  {
   "cell_type": "markdown",
   "id": "compatible-james",
   "metadata": {},
   "source": [
    "### Model Surfaces"
   ]
  },
  {
   "cell_type": "code",
   "execution_count": null,
   "id": "round-morning",
   "metadata": {
    "ExecuteTime": {
     "end_time": "2022-04-06T10:15:27.038404Z",
     "start_time": "2022-04-06T10:15:27.025394Z"
    }
   },
   "outputs": [],
   "source": [
    "geo_model.surfaces"
   ]
  },
  {
   "cell_type": "markdown",
   "id": "coupled-thompson",
   "metadata": {},
   "source": [
    "### Mapping the Stack to Surfaces"
   ]
  },
  {
   "cell_type": "code",
   "execution_count": null,
   "id": "formed-thought",
   "metadata": {
    "ExecuteTime": {
     "end_time": "2022-04-06T10:15:27.224962Z",
     "start_time": "2022-04-06T10:15:27.041503Z"
    }
   },
   "outputs": [],
   "source": [
    "gp.map_stack_to_surfaces(geo_model,\n",
    "                         {\n",
    "                          'Fault1' : ('Fault'),\n",
    "                          'Strata1': ('Shale', 'Ironstone'),\n",
    "                         },\n",
    "                         remove_unused_series=True)\n",
    "geo_model.add_surfaces('Basement')\n",
    "geo_model.set_is_fault(['Fault1'])"
   ]
  },
  {
   "cell_type": "markdown",
   "id": "subtle-technos",
   "metadata": {},
   "source": [
    "### Showing the Number of Data Points"
   ]
  },
  {
   "cell_type": "code",
   "execution_count": null,
   "id": "forty-treaties",
   "metadata": {
    "ExecuteTime": {
     "end_time": "2022-04-06T10:15:27.299163Z",
     "start_time": "2022-04-06T10:15:27.226961Z"
    }
   },
   "outputs": [],
   "source": [
    "gg.utils.show_number_of_data_points(geo_model=geo_model)"
   ]
  },
  {
   "cell_type": "markdown",
   "id": "medieval-deployment",
   "metadata": {},
   "source": [
    "### Loading Digital Elevation Model"
   ]
  },
  {
   "cell_type": "code",
   "execution_count": null,
   "id": "subsequent-techniques",
   "metadata": {
    "ExecuteTime": {
     "end_time": "2022-04-06T10:15:27.628779Z",
     "start_time": "2022-04-06T10:15:27.300682Z"
    }
   },
   "outputs": [],
   "source": [
    "geo_model.set_topography(\n",
    "    source='gdal', filepath=file_path + 'raster15.tif')"
   ]
  },
  {
   "cell_type": "markdown",
   "id": "extreme-drinks",
   "metadata": {},
   "source": [
    "### Plotting Input Data"
   ]
  },
  {
   "cell_type": "code",
   "execution_count": null,
   "id": "conservative-philips",
   "metadata": {
    "ExecuteTime": {
     "end_time": "2022-04-06T10:15:27.840595Z",
     "start_time": "2022-04-06T10:15:27.628779Z"
    }
   },
   "outputs": [],
   "source": [
    "gp.plot_2d(geo_model, direction='z', show_lith=False, show_boundaries=False)\n",
    "plt.grid()"
   ]
  },
  {
   "cell_type": "code",
   "execution_count": null,
   "id": "vocational-intranets",
   "metadata": {
    "ExecuteTime": {
     "end_time": "2022-04-06T10:15:28.115495Z",
     "start_time": "2022-04-06T10:15:27.841609Z"
    }
   },
   "outputs": [],
   "source": [
    "gp.plot_3d(geo_model, image=False, plotter_type='basic', notebook=True)"
   ]
  },
  {
   "cell_type": "markdown",
   "id": "geological-triples",
   "metadata": {},
   "source": [
    "### Setting the Interpolator"
   ]
  },
  {
   "cell_type": "code",
   "execution_count": null,
   "id": "external-clerks",
   "metadata": {
    "ExecuteTime": {
     "end_time": "2022-04-06T10:15:31.229930Z",
     "start_time": "2022-04-06T10:15:28.116491Z"
    }
   },
   "outputs": [],
   "source": [
    "gp.set_interpolator(geo_model,\n",
    "                    compile_theano=True,\n",
    "                    theano_optimizer='fast_compile',\n",
    "                    verbose=[],\n",
    "                    update_kriging = False\n",
    "                    )"
   ]
  },
  {
   "cell_type": "markdown",
   "id": "above-lendings",
   "metadata": {},
   "source": [
    "### Computing Model"
   ]
  },
  {
   "cell_type": "code",
   "execution_count": null,
   "id": "impressed-adamss",
   "metadata": {
    "ExecuteTime": {
     "end_time": "2022-04-06T10:16:00.281554Z",
     "start_time": "2022-04-06T10:15:31.231919Z"
    }
   },
   "outputs": [],
   "source": [
    "sol = gp.compute_model(geo_model, compute_mesh=True)"
   ]
  },
  {
   "cell_type": "markdown",
   "id": "developing-wallets",
   "metadata": {},
   "source": [
    "### Plotting Cross Sections"
   ]
  },
  {
   "cell_type": "code",
   "execution_count": null,
   "id": "champion-collectibles",
   "metadata": {
    "ExecuteTime": {
     "end_time": "2022-04-06T10:16:00.905698Z",
     "start_time": "2022-04-06T10:16:00.282555Z"
    }
   },
   "outputs": [],
   "source": [
    "gp.plot_2d(geo_model, direction=['x', 'x', 'y', 'y'], cell_number=[25, 75, 25, 75], show_topography=True, show_data=False)"
   ]
  },
  {
   "cell_type": "markdown",
   "id": "intimate-connectivitys",
   "metadata": {},
   "source": [
    "### Plotting 3D Model"
   ]
  },
  {
   "cell_type": "code",
   "execution_count": null,
   "id": "developing-comparisons",
   "metadata": {
    "ExecuteTime": {
     "end_time": "2022-04-06T10:16:03.154316Z",
     "start_time": "2022-04-06T10:16:00.907698Z"
    }
   },
   "outputs": [],
   "source": [
    "gpv = gp.plot_3d(geo_model, image=False, show_topography=True,\n",
    "                 plotter_type='basic', notebook=True, show_lith=True)"
   ]
  },
  {
   "cell_type": "code",
   "execution_count": null,
   "id": "known-timings",
   "metadata": {},
   "outputs": [],
   "source": []
  }
 ],
 "metadata": {
  "hide_input": false,
  "kernelspec": {
   "display_name": "Python 3 (ipykernel)",
   "language": "python",
   "name": "python3"
  },
  "language_info": {
   "codemirror_mode": {
    "name": "ipython",
    "version": 3
   },
   "file_extension": ".py",
   "mimetype": "text/x-python",
   "name": "python",
   "nbconvert_exporter": "python",
   "pygments_lexer": "ipython3",
   "version": "3.9.15"
  },
  "varInspector": {
   "cols": {
    "lenName": 16,
    "lenType": 16,
    "lenVar": 40
   },
   "kernels_config": {
    "python": {
     "delete_cmd_postfix": "",
     "delete_cmd_prefix": "del ",
     "library": "var_list.py",
     "varRefreshCmd": "print(var_dic_list())"
    },
    "r": {
     "delete_cmd_postfix": ") ",
     "delete_cmd_prefix": "rm(",
     "library": "var_list.r",
     "varRefreshCmd": "cat(var_dic_list()) "
    }
   },
   "types_to_exclude": [
    "module",
    "function",
    "builtin_function_or_method",
    "instance",
    "_Feature"
   ],
   "window_display": false
  }
 },
 "nbformat": 4,
 "nbformat_minor": 5
}
