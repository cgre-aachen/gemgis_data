{
 "cells": [
  {
   "cell_type": "markdown",
   "id": "arranged-tenant",
   "metadata": {},
   "source": [
    "# Example 22 - Coal Measures\n",
    "\n"
   ]
  },
  {
   "cell_type": "markdown",
   "id": "average-publication",
   "metadata": {},
   "source": [
    "This example will show how to convert the geological map below using ``GemGIS`` to a `GemPy` model. This example is based on digitized data. The area is 6875 m wide (W-E extent) and 9954 m high (N-S extent). The vertical model extent varies 500 m and 1250 m. The model represents coal measures which were mapped on the surface and at depth using boreholes. \n",
    "\n",
    "The map has been georeferenced with QGIS. The stratigraphic boundaries were digitized in QGIS. Strikes lines were digitized in QGIS as well and will be used to calculate orientations for the `GemPy` model. The contour lines were also digitized and will be interpolated with `GemGIS` to create a topography for the model. \n",
    "\n",
    "\n",
    "\n",
    "Map Source: An Introduction to Geological Structures and Maps by G.M. Bennison"
   ]
  },
  {
   "cell_type": "code",
   "execution_count": null,
   "id": "innovative-colors",
   "metadata": {
    "ExecuteTime": {
     "end_time": "2022-04-06T10:26:14.404390Z",
     "start_time": "2022-04-06T10:26:13.310878Z"
    }
   },
   "outputs": [],
   "source": [
    "import matplotlib.pyplot as plt\n",
    "import matplotlib.image as mpimg\n",
    "img = mpimg.imread('../data/images/example22/cover_example22.png')\n",
    "plt.figure(figsize=(10, 10))\n",
    "imgplot = plt.imshow(img)\n",
    "plt.axis('off')\n",
    "plt.tight_layout()"
   ]
  },
  {
   "cell_type": "markdown",
   "id": "alike-configuration",
   "metadata": {},
   "source": [
    "## Licensing\n",
    "\n",
    "Computational Geosciences and Reservoir Engineering, RWTH Aachen University, Authors: Alexander Juestel. For more information contact: alexander.juestel(at)rwth-aachen.de\n",
    "\n",
    "\n",
    "This work is licensed under a Creative Commons Attribution 4.0 International License (http://creativecommons.org/licenses/by/4.0/)"
   ]
  },
  {
   "cell_type": "markdown",
   "id": "allied-vessel",
   "metadata": {},
   "source": [
    "## Import GemGIS\n",
    "\n",
    "If you have installed ``GemGIS`` via pip or conda, you can import ``GemGIS`` like any other package. If you have downloaded the repository, append the path to the directory where the ``GemGIS`` repository is stored and then import ``GemGIS``. "
   ]
  },
  {
   "cell_type": "code",
   "execution_count": null,
   "id": "neither-funeral",
   "metadata": {
    "ExecuteTime": {
     "end_time": "2022-04-06T10:26:16.454052Z",
     "start_time": "2022-04-06T10:26:14.406414Z"
    }
   },
   "outputs": [],
   "source": [
    "import warnings\n",
    "warnings.filterwarnings(\"ignore\")\n",
    "import gemgis as gg"
   ]
  },
  {
   "cell_type": "markdown",
   "id": "latin-packaging",
   "metadata": {},
   "source": [
    "## Importing Libraries and loading Data\n",
    "\n",
    "All remaining packages can be loaded in order to prepare the data and to construct the model. The example data is downloaded from an external server using `pooch`. It will be stored in a data folder in the same directory where this notebook is stored.  "
   ]
  },
  {
   "cell_type": "code",
   "execution_count": null,
   "id": "polar-appliance",
   "metadata": {
    "ExecuteTime": {
     "end_time": "2022-04-06T10:26:16.470053Z",
     "start_time": "2022-04-06T10:26:16.456050Z"
    }
   },
   "outputs": [],
   "source": [
    "import geopandas as gpd\n",
    "import rasterio "
   ]
  },
  {
   "cell_type": "code",
   "execution_count": null,
   "id": "healthy-queens",
   "metadata": {
    "ExecuteTime": {
     "end_time": "2022-04-06T10:26:16.485452Z",
     "start_time": "2022-04-06T10:26:16.472043Z"
    }
   },
   "outputs": [],
   "source": [
    "file_path = '../data/example22_coal_measures/'"
   ]
  },
  {
   "cell_type": "markdown",
   "id": "impressed-database",
   "metadata": {},
   "source": [
    "## Creating Digital Elevation Model from Contour Lines\n",
    "\n",
    "The digital elevation model (DEM) will be created by interpolating contour lines digitized from the georeferenced map using the `SciPy` Radial Basis Function interpolation wrapped in `GemGIS`. The respective function used for that is `gg.vector.interpolate_raster()`. \n"
   ]
  },
  {
   "cell_type": "code",
   "execution_count": null,
   "id": "studied-typing",
   "metadata": {
    "ExecuteTime": {
     "end_time": "2022-04-06T10:26:16.818976Z",
     "start_time": "2022-04-06T10:26:16.485452Z"
    }
   },
   "outputs": [],
   "source": [
    "import matplotlib.pyplot as plt\n",
    "import matplotlib.image as mpimg\n",
    "img = mpimg.imread('../data/images/example22/dem_example22.png')\n",
    "plt.figure(figsize=(10, 10))\n",
    "imgplot = plt.imshow(img)\n",
    "plt.axis('off')\n",
    "plt.tight_layout()"
   ]
  },
  {
   "cell_type": "code",
   "execution_count": null,
   "id": "informed-tomorrow",
   "metadata": {
    "ExecuteTime": {
     "end_time": "2022-04-06T10:26:16.930024Z",
     "start_time": "2022-04-06T10:26:16.820979Z"
    }
   },
   "outputs": [],
   "source": [
    "topo = gpd.read_file(file_path + 'topo22.shp')\n",
    "topo.head()"
   ]
  },
  {
   "cell_type": "markdown",
   "id": "inclusive-florence",
   "metadata": {},
   "source": [
    "### Interpolating the contour lines"
   ]
  },
  {
   "cell_type": "code",
   "execution_count": null,
   "id": "revolutionary-calibration",
   "metadata": {
    "ExecuteTime": {
     "end_time": "2022-04-06T10:26:32.809745Z",
     "start_time": "2022-04-06T10:26:16.934008Z"
    }
   },
   "outputs": [],
   "source": [
    "topo_raster = gg.vector.interpolate_raster(gdf=topo, value='Z', method='rbf', res=10)"
   ]
  },
  {
   "cell_type": "markdown",
   "id": "experimental-press",
   "metadata": {},
   "source": [
    "### Plotting the raster"
   ]
  },
  {
   "cell_type": "code",
   "execution_count": null,
   "id": "frozen-gazette",
   "metadata": {
    "ExecuteTime": {
     "end_time": "2022-04-06T10:26:33.480495Z",
     "start_time": "2022-04-06T10:26:32.840067Z"
    }
   },
   "outputs": [],
   "source": [
    "import matplotlib.pyplot as plt\n",
    "\n",
    "from mpl_toolkits.axes_grid1 import make_axes_locatable\n",
    "\n",
    "fix, ax = plt.subplots(1, figsize=(10, 10))\n",
    "topo.plot(ax=ax, aspect='equal', column='Z', cmap='gist_earth')\n",
    "im = ax.imshow(topo_raster, origin='lower', extent=[0, 6875, 0, 9954], cmap='gist_earth')\n",
    "divider = make_axes_locatable(ax)\n",
    "cax = divider.append_axes(\"right\", size=\"5%\", pad=0.05)\n",
    "cbar = plt.colorbar(im, cax=cax)\n",
    "cbar.set_label('Altitude [m]')\n",
    "ax.set_xlabel('X [m]')\n",
    "ax.set_ylabel('Y [m]')\n",
    "ax.set_xlim(0, 6875)\n",
    "ax.set_ylim(0, 9954)"
   ]
  },
  {
   "cell_type": "markdown",
   "id": "common-franklin",
   "metadata": {},
   "source": [
    "### Saving the raster to disc\n",
    "\n",
    "After the interpolation of the contour lines, the raster is saved to disc using `gg.raster.save_as_tiff()`. The function will not be executed as a raster is already provided with the example data. "
   ]
  },
  {
   "cell_type": "raw",
   "id": "extraordinary-session",
   "metadata": {
    "ExecuteTime": {
     "end_time": "2021-04-05T08:59:13.442382Z",
     "start_time": "2021-04-05T08:59:13.379512Z"
    }
   },
   "source": [
    "gg.raster.save_as_tiff(raster=topo_raster, path=file_path + 'raster22.tif', extent=[0, 6875, 0, 9954], crs='EPSG:4326', overwrite_file=True)"
   ]
  },
  {
   "cell_type": "markdown",
   "id": "under-pursuit",
   "metadata": {},
   "source": [
    "### Opening Raster\n",
    "\n",
    "The previously computed and saved raster can now be opened using rasterio. "
   ]
  },
  {
   "cell_type": "code",
   "execution_count": null,
   "id": "silver-defendant",
   "metadata": {
    "ExecuteTime": {
     "end_time": "2022-04-06T10:26:33.646021Z",
     "start_time": "2022-04-06T10:26:33.483494Z"
    }
   },
   "outputs": [],
   "source": [
    "topo_raster = rasterio.open(file_path + 'raster22.tif')"
   ]
  },
  {
   "cell_type": "markdown",
   "id": "central-option",
   "metadata": {
    "ExecuteTime": {
     "end_time": "2021-03-28T12:43:27.113805Z",
     "start_time": "2021-03-28T12:43:27.067793Z"
    }
   },
   "source": [
    "## Interface Points of stratigraphic boundaries\n",
    "\n",
    "The interface points will be extracted from LineStrings digitized from the georeferenced map using QGIS. It is important to provide a formation name for each layer boundary. The vertical position of the interface point will be extracted from the digital elevation model using the `GemGIS` function `gg.vector.extract_xyz()`. The resulting GeoDataFrame now contains single points including the information about the respective formation. \n"
   ]
  },
  {
   "cell_type": "code",
   "execution_count": null,
   "id": "senior-river",
   "metadata": {
    "ExecuteTime": {
     "end_time": "2022-04-06T10:26:33.918974Z",
     "start_time": "2022-04-06T10:26:33.648048Z"
    }
   },
   "outputs": [],
   "source": [
    "import matplotlib.pyplot as plt\n",
    "import matplotlib.image as mpimg\n",
    "img = mpimg.imread('../data/images/example22/interfaces_example22.png')\n",
    "plt.figure(figsize=(10, 10))\n",
    "imgplot = plt.imshow(img)\n",
    "plt.axis('off')\n",
    "plt.tight_layout()"
   ]
  },
  {
   "cell_type": "code",
   "execution_count": null,
   "id": "activated-namibia",
   "metadata": {
    "ExecuteTime": {
     "end_time": "2022-04-06T10:26:34.036094Z",
     "start_time": "2022-04-06T10:26:33.921002Z"
    }
   },
   "outputs": [],
   "source": [
    "interfaces = gpd.read_file(file_path + 'interfaces22.shp')\n",
    "interfaces.head()"
   ]
  },
  {
   "cell_type": "markdown",
   "id": "prospective-drink",
   "metadata": {},
   "source": [
    "### Extracting Z coordinate from Digital Elevation Model"
   ]
  },
  {
   "cell_type": "code",
   "execution_count": null,
   "id": "stopped-saint",
   "metadata": {
    "ExecuteTime": {
     "end_time": "2022-04-06T10:26:34.231942Z",
     "start_time": "2022-04-06T10:26:34.038076Z"
    }
   },
   "outputs": [],
   "source": [
    "interfaces_coords = gg.vector.extract_xyz(gdf=interfaces, dem=topo_raster)\n",
    "interfaces_coords = interfaces_coords.sort_values(by='formation', ascending=False)\n",
    "interfaces_coords.head()"
   ]
  },
  {
   "cell_type": "code",
   "execution_count": null,
   "id": "sapphire-tribute",
   "metadata": {
    "ExecuteTime": {
     "end_time": "2022-04-06T10:26:34.311957Z",
     "start_time": "2022-04-06T10:26:34.233949Z"
    }
   },
   "outputs": [],
   "source": [
    "interfaces_lowercoal = gpd.read_file(file_path + 'interfaces22a.shp')\n",
    "interfaces_lowercoal['Z'] = interfaces_lowercoal['Z']+600\n",
    "interfaces_lowercoal.head()"
   ]
  },
  {
   "cell_type": "code",
   "execution_count": null,
   "id": "conceptual-chocolate",
   "metadata": {
    "ExecuteTime": {
     "end_time": "2022-04-06T10:26:34.375971Z",
     "start_time": "2022-04-06T10:26:34.314959Z"
    }
   },
   "outputs": [],
   "source": [
    "interfaces_coords_lowercoal = gg.vector.extract_xy(gdf=interfaces_lowercoal)\n",
    "interfaces_coords_lowercoal = interfaces_coords_lowercoal.sort_values(by='formation', ascending=False)\n",
    "interfaces_coords_lowercoal.head()"
   ]
  },
  {
   "cell_type": "code",
   "execution_count": null,
   "id": "prescribed-concentrate",
   "metadata": {
    "ExecuteTime": {
     "end_time": "2022-04-06T10:26:34.407979Z",
     "start_time": "2022-04-06T10:26:34.378972Z"
    }
   },
   "outputs": [],
   "source": [
    "import pandas as pd\n",
    "interfaces_coords = pd.concat([interfaces_coords, interfaces_coords_lowercoal])\n",
    "interfaces_coords = interfaces_coords[interfaces_coords['formation'].isin(['MiddleCoal', 'LowerCoal'])].reset_index() \n",
    "interfaces_coords"
   ]
  },
  {
   "cell_type": "markdown",
   "id": "valued-coast",
   "metadata": {},
   "source": [
    "### Plotting the Interface Points"
   ]
  },
  {
   "cell_type": "code",
   "execution_count": null,
   "id": "involved-association",
   "metadata": {
    "ExecuteTime": {
     "end_time": "2022-04-06T10:26:34.804071Z",
     "start_time": "2022-04-06T10:26:34.410980Z"
    }
   },
   "outputs": [],
   "source": [
    "fig, ax = plt.subplots(1, figsize=(10, 10))\n",
    "\n",
    "interfaces.plot(ax=ax, column='formation', legend=True, aspect='equal')\n",
    "interfaces_lowercoal.plot(ax=ax, column='formation', legend=True, aspect='equal')\n",
    "interfaces_coords.plot(ax=ax, column='formation', legend=True, aspect='equal')\n",
    "plt.grid()\n",
    "ax.set_xlabel('X [m]')\n",
    "ax.set_ylabel('Y [m]')\n",
    "ax.set_xlim(0, 6875)\n",
    "ax.set_ylim(0, 9954)"
   ]
  },
  {
   "cell_type": "markdown",
   "id": "inner-mathematics",
   "metadata": {},
   "source": [
    "## Orientations from Strike Lines\n",
    "\n",
    "Strike lines connect outcropping stratigraphic boundaries (interfaces) of the same altitude. In other words: the intersections between topographic contours and stratigraphic boundaries at the surface. The height difference and the horizontal difference between two digitized lines is used to calculate the dip and azimuth and hence an orientation that is necessary for `GemPy`. In order to calculate the orientations, each set of strikes lines/LineStrings for one formation must be given an id number next to the altitude of the strike line. The id field is already predefined in QGIS. The strike line with the lowest altitude gets the id number `1`, the strike line with the highest altitude the the number according to the number of digitized strike lines. It is currently recommended to use one set of strike lines for each structural element of one formation as illustrated. \n"
   ]
  },
  {
   "cell_type": "code",
   "execution_count": null,
   "id": "satisfactory-final",
   "metadata": {
    "ExecuteTime": {
     "end_time": "2022-04-06T10:26:35.246188Z",
     "start_time": "2022-04-06T10:26:34.807073Z"
    }
   },
   "outputs": [],
   "source": [
    "import matplotlib.pyplot as plt\n",
    "import matplotlib.image as mpimg\n",
    "img = mpimg.imread('../data/images/example22/orientations_example22.png')\n",
    "plt.figure(figsize=(10, 10))\n",
    "imgplot = plt.imshow(img)\n",
    "plt.axis('off')\n",
    "plt.tight_layout()"
   ]
  },
  {
   "cell_type": "code",
   "execution_count": null,
   "id": "configured-evaluation",
   "metadata": {
    "ExecuteTime": {
     "end_time": "2022-04-06T10:26:35.266177Z",
     "start_time": "2022-04-06T10:26:13.364Z"
    }
   },
   "outputs": [],
   "source": [
    "strikes = gpd.read_file(file_path + 'strikes22.shp')\n",
    "strikes.head()"
   ]
  },
  {
   "cell_type": "markdown",
   "id": "imposed-elite",
   "metadata": {},
   "source": [
    "### Calculate Orientations for each formation"
   ]
  },
  {
   "cell_type": "code",
   "execution_count": null,
   "id": "durable-fault",
   "metadata": {
    "ExecuteTime": {
     "end_time": "2022-04-06T10:26:35.268177Z",
     "start_time": "2022-04-06T10:26:13.368Z"
    }
   },
   "outputs": [],
   "source": [
    "orientations_coal1 = gg.vector.calculate_orientations_from_strike_lines(gdf=strikes[strikes['formation'] == 'MiddleCoal1'].sort_values(by='Z', ascending=True).reset_index())\n",
    "orientations_coal1"
   ]
  },
  {
   "cell_type": "code",
   "execution_count": null,
   "id": "induced-albuquerque",
   "metadata": {
    "ExecuteTime": {
     "end_time": "2022-04-06T10:26:35.269176Z",
     "start_time": "2022-04-06T10:26:13.371Z"
    }
   },
   "outputs": [],
   "source": [
    "gradients = gpd.read_file(file_path + 'gradients22.shp')\n",
    "gradients.head()"
   ]
  },
  {
   "cell_type": "code",
   "execution_count": null,
   "id": "adaptive-edition",
   "metadata": {
    "ExecuteTime": {
     "end_time": "2022-04-06T10:26:35.270175Z",
     "start_time": "2022-04-06T10:26:13.374Z"
    }
   },
   "outputs": [],
   "source": [
    "orientations_lowercoal = gg.vector.extract_orientations_from_map(gdf=gradients)\n",
    "orientations_lowercoal = gg.vector.extract_xyz(gdf=orientations_lowercoal, dem=topo_raster)\n",
    "orientations_lowercoal"
   ]
  },
  {
   "cell_type": "markdown",
   "id": "friendly-token",
   "metadata": {},
   "source": [
    "### Merging Orientations"
   ]
  },
  {
   "cell_type": "code",
   "execution_count": null,
   "id": "sitting-reproduction",
   "metadata": {
    "ExecuteTime": {
     "end_time": "2022-04-06T10:26:35.271176Z",
     "start_time": "2022-04-06T10:26:13.376Z"
    }
   },
   "outputs": [],
   "source": [
    "import pandas as pd\n",
    "orientations = pd.concat([orientations_coal1]).reset_index()\n",
    "orientations['formation'] = ['MiddleCoal', 'MiddleCoal', 'MiddleCoal']\n",
    "orientations = pd.concat([orientations, orientations_lowercoal]).reset_index()\n",
    "orientations = orientations[orientations['formation'].isin(['LowerCoal', 'MiddleCoal'])]\n",
    "orientations.head()"
   ]
  },
  {
   "cell_type": "markdown",
   "id": "textile-christianity",
   "metadata": {},
   "source": [
    "### Plotting the Orientations"
   ]
  },
  {
   "cell_type": "code",
   "execution_count": null,
   "id": "detected-certificate",
   "metadata": {
    "ExecuteTime": {
     "end_time": "2022-04-06T10:26:35.272177Z",
     "start_time": "2022-04-06T10:26:13.379Z"
    }
   },
   "outputs": [],
   "source": [
    "fig, ax = plt.subplots(1, figsize=(10, 10))\n",
    "\n",
    "interfaces.plot(ax=ax, column='formation', legend=True, aspect='equal')\n",
    "interfaces_lowercoal.plot(ax=ax, column='formation', legend=True, aspect='equal')\n",
    "interfaces_coords.plot(ax=ax, column='formation', legend=True, aspect='equal')\n",
    "orientations.plot(ax=ax, color='red', aspect='equal')\n",
    "plt.grid()\n",
    "ax.set_xlabel('X [m]')\n",
    "ax.set_ylabel('Y [m]')\n",
    "ax.set_xlim(0, 6875)\n",
    "ax.set_ylim(0, 9954)"
   ]
  },
  {
   "cell_type": "markdown",
   "id": "wired-vietnamese",
   "metadata": {},
   "source": [
    "## GemPy Model Construction\n",
    "\n",
    "The structural geological model will be constructed using the `GemPy` package. "
   ]
  },
  {
   "cell_type": "code",
   "execution_count": null,
   "id": "governing-brazilian",
   "metadata": {
    "ExecuteTime": {
     "end_time": "2022-04-06T10:26:35.273178Z",
     "start_time": "2022-04-06T10:26:13.382Z"
    }
   },
   "outputs": [],
   "source": [
    "import gempy as gp"
   ]
  },
  {
   "cell_type": "markdown",
   "id": "optical-realtor",
   "metadata": {},
   "source": [
    "### Creating new Model"
   ]
  },
  {
   "cell_type": "code",
   "execution_count": null,
   "id": "binding-fishing",
   "metadata": {
    "ExecuteTime": {
     "end_time": "2022-04-06T10:26:35.275178Z",
     "start_time": "2022-04-06T10:26:13.386Z"
    }
   },
   "outputs": [],
   "source": [
    "geo_model = gp.create_model('Model22')\n",
    "geo_model"
   ]
  },
  {
   "cell_type": "markdown",
   "id": "stopped-poster",
   "metadata": {},
   "source": [
    "### Initiate Data"
   ]
  },
  {
   "cell_type": "code",
   "execution_count": null,
   "id": "assisted-nothing",
   "metadata": {
    "ExecuteTime": {
     "end_time": "2022-04-06T10:26:35.276178Z",
     "start_time": "2022-04-06T10:26:13.388Z"
    }
   },
   "outputs": [],
   "source": [
    "gp.init_data(geo_model, [0, 6875, 0, 9954, 500, 1250], [100, 100, 100],\n",
    "             surface_points_df=interfaces_coords[interfaces_coords['Z'] != 0],\n",
    "             orientations_df=orientations,\n",
    "             default_values=True)"
   ]
  },
  {
   "cell_type": "markdown",
   "id": "integrated-pension",
   "metadata": {},
   "source": [
    "### Model Surfaces"
   ]
  },
  {
   "cell_type": "code",
   "execution_count": null,
   "id": "cutting-energy",
   "metadata": {
    "ExecuteTime": {
     "end_time": "2022-04-06T10:26:35.277178Z",
     "start_time": "2022-04-06T10:26:13.391Z"
    }
   },
   "outputs": [],
   "source": [
    "geo_model.surfaces"
   ]
  },
  {
   "cell_type": "markdown",
   "id": "younger-young",
   "metadata": {},
   "source": [
    "### Mapping the Stack to Surfaces"
   ]
  },
  {
   "cell_type": "code",
   "execution_count": null,
   "id": "formed-thought",
   "metadata": {
    "ExecuteTime": {
     "end_time": "2022-04-06T10:26:35.279179Z",
     "start_time": "2022-04-06T10:26:13.393Z"
    }
   },
   "outputs": [],
   "source": [
    "gp.map_stack_to_surfaces(geo_model,\n",
    "                         {\n",
    "                          'Strata1': ('MiddleCoal', 'LowerCoal'),   \n",
    "                         },\n",
    "                         remove_unused_series=True)\n",
    "geo_model.add_surfaces('Basement')"
   ]
  },
  {
   "cell_type": "markdown",
   "id": "romance-denver",
   "metadata": {},
   "source": [
    "### Adding additional Orientations"
   ]
  },
  {
   "cell_type": "code",
   "execution_count": null,
   "id": "entitled-handling",
   "metadata": {
    "ExecuteTime": {
     "end_time": "2022-04-06T10:26:35.280179Z",
     "start_time": "2022-04-06T10:26:13.396Z"
    }
   },
   "outputs": [],
   "source": [
    "geo_model.add_orientations(X=380, Y=9550, Z=1025, surface='MiddleCoal', orientation=[107, 15, 1])\n",
    "geo_model.add_orientations(X=1700, Y=9775, Z=1025, surface='MiddleCoal', orientation=[107, 15, 1])"
   ]
  },
  {
   "cell_type": "markdown",
   "id": "subtle-techno",
   "metadata": {},
   "source": [
    "### Showing the Number of Data Points"
   ]
  },
  {
   "cell_type": "code",
   "execution_count": null,
   "id": "forty-treaty",
   "metadata": {
    "ExecuteTime": {
     "end_time": "2022-04-06T10:26:35.281179Z",
     "start_time": "2022-04-06T10:26:13.399Z"
    }
   },
   "outputs": [],
   "source": [
    "gg.utils.show_number_of_data_points(geo_model=geo_model)"
   ]
  },
  {
   "cell_type": "markdown",
   "id": "medieval-deployment",
   "metadata": {},
   "source": [
    "### Loading Digital Elevation Model"
   ]
  },
  {
   "cell_type": "code",
   "execution_count": null,
   "id": "subsequent-technique",
   "metadata": {
    "ExecuteTime": {
     "end_time": "2022-04-06T10:26:35.282179Z",
     "start_time": "2022-04-06T10:26:13.402Z"
    }
   },
   "outputs": [],
   "source": [
    "geo_model.set_topography(\n",
    "    source='gdal', filepath=file_path + 'raster22.tif')"
   ]
  },
  {
   "cell_type": "markdown",
   "id": "extreme-drink",
   "metadata": {},
   "source": [
    "### Plotting Input Data"
   ]
  },
  {
   "cell_type": "code",
   "execution_count": null,
   "id": "conservative-philip",
   "metadata": {
    "ExecuteTime": {
     "end_time": "2022-04-06T10:26:35.284181Z",
     "start_time": "2022-04-06T10:26:13.404Z"
    }
   },
   "outputs": [],
   "source": [
    "gp.plot_2d(geo_model, direction='z', show_lith=False, show_boundaries=False)\n",
    "plt.grid()"
   ]
  },
  {
   "cell_type": "code",
   "execution_count": null,
   "id": "vocational-intranet",
   "metadata": {
    "ExecuteTime": {
     "end_time": "2022-04-06T10:26:35.285180Z",
     "start_time": "2022-04-06T10:26:13.407Z"
    }
   },
   "outputs": [],
   "source": [
    "gp.plot_3d(geo_model, image=False, plotter_type='basic', notebook=True)"
   ]
  },
  {
   "cell_type": "markdown",
   "id": "geological-triple",
   "metadata": {},
   "source": [
    "### Setting the Interpolator"
   ]
  },
  {
   "cell_type": "code",
   "execution_count": null,
   "id": "external-clerk",
   "metadata": {
    "ExecuteTime": {
     "end_time": "2022-04-06T10:26:35.287181Z",
     "start_time": "2022-04-06T10:26:13.409Z"
    }
   },
   "outputs": [],
   "source": [
    "gp.set_interpolator(geo_model,\n",
    "                    compile_theano=True,\n",
    "                    theano_optimizer='fast_compile',\n",
    "                    verbose=[],\n",
    "                    update_kriging=False\n",
    "                    )"
   ]
  },
  {
   "cell_type": "markdown",
   "id": "above-lending",
   "metadata": {},
   "source": [
    "### Computing Model"
   ]
  },
  {
   "cell_type": "code",
   "execution_count": null,
   "id": "impressed-adams",
   "metadata": {
    "ExecuteTime": {
     "end_time": "2022-04-06T10:26:35.288182Z",
     "start_time": "2022-04-06T10:26:13.411Z"
    }
   },
   "outputs": [],
   "source": [
    "sol = gp.compute_model(geo_model, compute_mesh=True)"
   ]
  },
  {
   "cell_type": "markdown",
   "id": "developing-wallet",
   "metadata": {},
   "source": [
    "### Plotting Cross Sections"
   ]
  },
  {
   "cell_type": "code",
   "execution_count": null,
   "id": "middle-master",
   "metadata": {
    "ExecuteTime": {
     "end_time": "2022-04-06T10:26:35.289182Z",
     "start_time": "2022-04-06T10:26:13.415Z"
    }
   },
   "outputs": [],
   "source": [
    "gp.plot_2d(geo_model, direction=['x', 'x', 'y', 'y'], cell_number=[25, 75, 25, 75], show_topography=True, show_data=False)"
   ]
  },
  {
   "cell_type": "markdown",
   "id": "intimate-connectivity",
   "metadata": {},
   "source": [
    "### Plotting 3D Model"
   ]
  },
  {
   "cell_type": "code",
   "execution_count": null,
   "id": "developing-comparison",
   "metadata": {
    "ExecuteTime": {
     "end_time": "2022-04-06T10:26:35.290182Z",
     "start_time": "2022-04-06T10:26:13.418Z"
    }
   },
   "outputs": [],
   "source": [
    "gpv = gp.plot_3d(geo_model, image=False, show_topography=True,\n",
    "                 plotter_type='basic', notebook=True, show_lith=True, ve=5)"
   ]
  },
  {
   "cell_type": "code",
   "execution_count": null,
   "id": "annual-clarity",
   "metadata": {},
   "outputs": [],
   "source": []
  }
 ],
 "metadata": {
  "hide_input": false,
  "kernelspec": {
   "display_name": "Python 3 (ipykernel)",
   "language": "python",
   "name": "python3"
  },
  "language_info": {
   "codemirror_mode": {
    "name": "ipython",
    "version": 3
   },
   "file_extension": ".py",
   "mimetype": "text/x-python",
   "name": "python",
   "nbconvert_exporter": "python",
   "pygments_lexer": "ipython3",
   "version": "3.9.15"
  },
  "varInspector": {
   "cols": {
    "lenName": 16,
    "lenType": 16,
    "lenVar": 40
   },
   "kernels_config": {
    "python": {
     "delete_cmd_postfix": "",
     "delete_cmd_prefix": "del ",
     "library": "var_list.py",
     "varRefreshCmd": "print(var_dic_list())"
    },
    "r": {
     "delete_cmd_postfix": ") ",
     "delete_cmd_prefix": "rm(",
     "library": "var_list.r",
     "varRefreshCmd": "cat(var_dic_list()) "
    }
   },
   "types_to_exclude": [
    "module",
    "function",
    "builtin_function_or_method",
    "instance",
    "_Feature"
   ],
   "window_display": false
  }
 },
 "nbformat": 4,
 "nbformat_minor": 5
}
