{
 "cells": [
  {
   "cell_type": "markdown",
   "id": "arranged-tenant",
   "metadata": {},
   "source": [
    "# Example 20 - Sill\n",
    "\n"
   ]
  },
  {
   "cell_type": "markdown",
   "id": "japanese-fitting",
   "metadata": {},
   "source": [
    "This example will show how to convert the geological map below using ``GemGIS`` to a `GemPy` model. This example is based on digitized data. The area is 1381 m wide (W-E extent) and 1768 m high (N-S extent). The vertical model extent varies between -500 m and 250 m. The model represents a wedge shaped sill that was encountered in boreholes. \n",
    "\n",
    "The map has been georeferenced with QGIS. The stratigraphic boundaries were digitized in QGIS. Strikes lines were digitized in QGIS as well and will be used to calculate orientations for the `GemPy` model. The contour lines were also digitized and will be interpolated with `GemGIS` to create a topography for the model. \n",
    "\n",
    "Map Source: An Introduction to Geological Structures and Maps by G.M. Bennison"
   ]
  },
  {
   "cell_type": "code",
   "execution_count": null,
   "id": "documented-hurricane",
   "metadata": {
    "ExecuteTime": {
     "end_time": "2022-04-06T10:22:58.568762Z",
     "start_time": "2022-04-06T10:22:57.358484Z"
    }
   },
   "outputs": [],
   "source": [
    "import matplotlib.pyplot as plt\n",
    "import matplotlib.image as mpimg\n",
    "img = mpimg.imread('../data/images/example20/cover_example20.png')\n",
    "plt.figure(figsize=(10, 10))\n",
    "imgplot = plt.imshow(img)\n",
    "plt.axis('off')\n",
    "plt.tight_layout()"
   ]
  },
  {
   "cell_type": "markdown",
   "id": "alike-configuration",
   "metadata": {},
   "source": [
    "## Licensing\n",
    "\n",
    "Computational Geosciences and Reservoir Engineering, RWTH Aachen University, Authors: Alexander Juestel. For more information contact: alexander.juestel(at)rwth-aachen.de\n",
    "\n",
    "\n",
    "This work is licensed under a Creative Commons Attribution 4.0 International License (http://creativecommons.org/licenses/by/4.0/)"
   ]
  },
  {
   "cell_type": "markdown",
   "id": "allied-vessel",
   "metadata": {},
   "source": [
    "## Import GemGIS\n",
    "\n",
    "If you have installed ``GemGIS`` via pip and conda, you can import ``GemGIS`` like any other package. If you have downloaded the repository, append the path to the directory where the ``GemGIS`` repository is stored and then import ``GemGIS``. "
   ]
  },
  {
   "cell_type": "code",
   "execution_count": null,
   "id": "neither-funeral",
   "metadata": {
    "ExecuteTime": {
     "end_time": "2022-04-06T10:23:01.127351Z",
     "start_time": "2022-04-06T10:22:58.571763Z"
    }
   },
   "outputs": [],
   "source": [
    "import warnings\n",
    "warnings.filterwarnings(\"ignore\")\n",
    "import gemgis as gg"
   ]
  },
  {
   "cell_type": "markdown",
   "id": "latin-packaging",
   "metadata": {},
   "source": [
    "## Importing Libraries and loading Data\n",
    "\n",
    "All remaining packages can be loaded in order to prepare the data and to construct the model. The example data is downloaded from an external server using `pooch`. It will be stored in a data folder in the same directory where this notebook is stored.  "
   ]
  },
  {
   "cell_type": "code",
   "execution_count": null,
   "id": "polar-appliance",
   "metadata": {
    "ExecuteTime": {
     "end_time": "2022-04-06T10:23:01.143354Z",
     "start_time": "2022-04-06T10:23:01.130352Z"
    }
   },
   "outputs": [],
   "source": [
    "import geopandas as gpd\n",
    "import rasterio "
   ]
  },
  {
   "cell_type": "code",
   "execution_count": null,
   "id": "healthy-queens",
   "metadata": {
    "ExecuteTime": {
     "end_time": "2022-04-06T10:23:01.159359Z",
     "start_time": "2022-04-06T10:23:01.148355Z"
    }
   },
   "outputs": [],
   "source": [
    "file_path = '../data/example20_sill/'"
   ]
  },
  {
   "cell_type": "markdown",
   "id": "impressed-database",
   "metadata": {},
   "source": [
    "## Creating Digital Elevation Model from Contour Lines\n",
    "\n",
    "The digital elevation model (DEM) will be created by creating a NumPy array containing the height values. For this example, the height is 0, meaning that a flat topography at sea level is present. \n",
    "\n"
   ]
  },
  {
   "cell_type": "markdown",
   "id": "inclusive-florence",
   "metadata": {},
   "source": [
    "### Creating the raster"
   ]
  },
  {
   "cell_type": "code",
   "execution_count": null,
   "id": "revolutionary-calibration",
   "metadata": {
    "ExecuteTime": {
     "end_time": "2022-04-06T10:23:01.175362Z",
     "start_time": "2022-04-06T10:23:01.163359Z"
    }
   },
   "outputs": [],
   "source": [
    "import numpy as np\n",
    "topo_raster = np.zeros((138, 176))"
   ]
  },
  {
   "cell_type": "markdown",
   "id": "experimental-press",
   "metadata": {},
   "source": [
    "### Plotting the raster"
   ]
  },
  {
   "cell_type": "code",
   "execution_count": null,
   "id": "frozen-gazette",
   "metadata": {
    "ExecuteTime": {
     "end_time": "2022-04-06T10:23:01.796503Z",
     "start_time": "2022-04-06T10:23:01.179364Z"
    }
   },
   "outputs": [],
   "source": [
    "import matplotlib.pyplot as plt\n",
    "\n",
    "fix, ax = plt.subplots(1, figsize=(10, 10))\n",
    "im = plt.imshow(topo_raster, origin='lower', extent=[0, 1381, 0, 1768], cmap='gist_earth')\n",
    "cbar = plt.colorbar(im)\n",
    "cbar.set_label('Altitude [m]')\n",
    "ax.set_xlabel('X [m]')\n",
    "ax.set_ylabel('Y [m]')\n",
    "ax.set_xlim(0, 1381)\n",
    "ax.set_ylim(0, 1768)"
   ]
  },
  {
   "cell_type": "markdown",
   "id": "common-franklin",
   "metadata": {},
   "source": [
    "### Saving the raster to disc\n",
    "\n",
    "After the interpolation of the contour lines, the raster is saved to disc using `gg.raster.save_as_tiff()`. The function will not be executed as a raster is already provided with the example data. "
   ]
  },
  {
   "cell_type": "raw",
   "id": "strategic-constant",
   "metadata": {
    "ExecuteTime": {
     "end_time": "2021-04-04T14:30:44.324227Z",
     "start_time": "2021-04-04T14:30:44.268772Z"
    }
   },
   "source": [
    "gg.raster.save_as_tiff(raster=topo_raster, path=file_path + 'raster20.tif', extent=[0, 1381, 0, 1768], crs='EPSG:4326', overwrite_file=True)"
   ]
  },
  {
   "cell_type": "markdown",
   "id": "under-pursuit",
   "metadata": {},
   "source": [
    "### Opening Raster\n",
    "\n",
    "The previously computed and saved raster can now be opened using rasterio. "
   ]
  },
  {
   "cell_type": "code",
   "execution_count": null,
   "id": "silver-defendant",
   "metadata": {
    "ExecuteTime": {
     "end_time": "2022-04-06T10:23:01.892528Z",
     "start_time": "2022-04-06T10:23:01.800504Z"
    }
   },
   "outputs": [],
   "source": [
    "topo_raster = rasterio.open(file_path + 'raster20.tif')"
   ]
  },
  {
   "cell_type": "markdown",
   "id": "central-option",
   "metadata": {
    "ExecuteTime": {
     "end_time": "2021-03-28T12:43:27.113805Z",
     "start_time": "2021-03-28T12:43:27.067793Z"
    }
   },
   "source": [
    "## Interface Points of stratigraphic boundaries\n",
    "\n",
    "The interface points will be extracted from LineStrings digitized from the georeferenced map using QGIS. It is important to provide a formation name for each layer boundary. The vertical position of the interface point will be extracted from the digital elevation model using the `GemGIS` function `gg.vector.extract_xyz()`. The resulting GeoDataFrame now contains single points including the information about the respective formation. \n"
   ]
  },
  {
   "cell_type": "code",
   "execution_count": null,
   "id": "inclusive-subscription",
   "metadata": {
    "ExecuteTime": {
     "end_time": "2022-04-06T10:23:02.193596Z",
     "start_time": "2022-04-06T10:23:01.896528Z"
    }
   },
   "outputs": [],
   "source": [
    "import matplotlib.pyplot as plt\n",
    "import matplotlib.image as mpimg\n",
    "img = mpimg.imread('../data/images/example20/interfaces_example20.png')\n",
    "plt.figure(figsize=(10, 10))\n",
    "imgplot = plt.imshow(img)\n",
    "plt.axis('off')\n",
    "plt.tight_layout()"
   ]
  },
  {
   "cell_type": "code",
   "execution_count": null,
   "id": "activated-namibia",
   "metadata": {
    "ExecuteTime": {
     "end_time": "2022-04-06T10:23:02.398643Z",
     "start_time": "2022-04-06T10:23:02.196596Z"
    }
   },
   "outputs": [],
   "source": [
    "interfaces = gpd.read_file(file_path + 'interfaces20.shp')\n",
    "interfaces.head()"
   ]
  },
  {
   "cell_type": "markdown",
   "id": "prospective-drink",
   "metadata": {},
   "source": [
    "### Extracting Z coordinate from Digital Elevation Model"
   ]
  },
  {
   "cell_type": "code",
   "execution_count": null,
   "id": "stopped-saint",
   "metadata": {
    "ExecuteTime": {
     "end_time": "2022-04-06T10:23:02.446652Z",
     "start_time": "2022-04-06T10:23:02.401642Z"
    }
   },
   "outputs": [],
   "source": [
    "interfaces_coords = gg.vector.extract_xyz(gdf=interfaces, dem=None)\n",
    "interfaces_coords = interfaces_coords.sort_values(by='formation', ascending=False)\n",
    "interfaces_coords = interfaces_coords[interfaces_coords['formation'].isin(['Base', 'Top'])]\n",
    "interfaces_coords.head()"
   ]
  },
  {
   "cell_type": "markdown",
   "id": "valued-coast",
   "metadata": {},
   "source": [
    "### Plotting the Interface Points"
   ]
  },
  {
   "cell_type": "code",
   "execution_count": null,
   "id": "involved-association",
   "metadata": {
    "ExecuteTime": {
     "end_time": "2022-04-06T10:23:03.035790Z",
     "start_time": "2022-04-06T10:23:02.449653Z"
    }
   },
   "outputs": [],
   "source": [
    "fig, ax = plt.subplots(1, figsize=(10, 10))\n",
    "\n",
    "interfaces.plot(ax=ax, column='formation', legend=True, aspect='equal')\n",
    "interfaces_coords.plot(ax=ax, column='formation', legend=True, aspect='equal')\n",
    "plt.grid()\n",
    "ax.set_xlabel('X [m]')\n",
    "ax.set_ylabel('Y [m]')\n",
    "ax.set_xlim(0, 1381)\n",
    "ax.set_ylim(0, 1768)"
   ]
  },
  {
   "cell_type": "markdown",
   "id": "inner-mathematics",
   "metadata": {},
   "source": [
    "## Orientations from Borehole Observations\n",
    "\n",
    "Orientations of the sill will be calculated as it was a three point problem with `calculate_orientation_for_three_point_problem()`.\n",
    "\n"
   ]
  },
  {
   "cell_type": "code",
   "execution_count": null,
   "id": "sufficient-intention",
   "metadata": {
    "ExecuteTime": {
     "end_time": "2022-04-06T10:23:03.433879Z",
     "start_time": "2022-04-06T10:23:03.039792Z"
    }
   },
   "outputs": [],
   "source": [
    "import matplotlib.pyplot as plt\n",
    "import matplotlib.image as mpimg\n",
    "img = mpimg.imread('../data/images/example20/orientations_example20.png')\n",
    "plt.figure(figsize=(10, 10))\n",
    "imgplot = plt.imshow(img)\n",
    "plt.axis('off')\n",
    "plt.tight_layout()"
   ]
  },
  {
   "cell_type": "code",
   "execution_count": null,
   "id": "configured-evaluation",
   "metadata": {
    "ExecuteTime": {
     "end_time": "2022-04-06T10:23:03.465886Z",
     "start_time": "2022-04-06T10:23:03.437882Z"
    }
   },
   "outputs": [],
   "source": [
    "interfaces"
   ]
  },
  {
   "cell_type": "markdown",
   "id": "imposed-elite",
   "metadata": {},
   "source": [
    "### Calculate Orientations for each formation"
   ]
  },
  {
   "cell_type": "code",
   "execution_count": null,
   "id": "active-france",
   "metadata": {
    "ExecuteTime": {
     "end_time": "2022-04-06T10:23:03.497893Z",
     "start_time": "2022-04-06T10:23:03.470891Z"
    }
   },
   "outputs": [],
   "source": [
    "interfaces_base = interfaces[interfaces['formation'] == 'Base'].reset_index()\n",
    "interfaces_base"
   ]
  },
  {
   "cell_type": "code",
   "execution_count": null,
   "id": "working-manufacturer",
   "metadata": {
    "ExecuteTime": {
     "end_time": "2022-04-06T10:23:03.561908Z",
     "start_time": "2022-04-06T10:23:03.500894Z"
    }
   },
   "outputs": [],
   "source": [
    "orientations1 = gg.vector.calculate_orientation_for_three_point_problem(gdf=interfaces_base.loc[:2])\n",
    "orientations1['Z'] = orientations1['Z'].astype(float)\n",
    "orientations1['azimuth'] = orientations1['azimuth'].astype(float)\n",
    "orientations1['dip'] = orientations1['dip'].astype(float)\n",
    "orientations1['dip'] = 180 - orientations1['dip']\n",
    "orientations1['azimuth'] = 180 - orientations1['azimuth']\n",
    "orientations1['polarity'] = orientations1['polarity'].astype(float)\n",
    "orientations1['X'] = orientations1['X'].astype(float)\n",
    "orientations1['Y'] = orientations1['Y'].astype(float)\n",
    "orientations1"
   ]
  },
  {
   "cell_type": "code",
   "execution_count": null,
   "id": "prospective-access",
   "metadata": {
    "ExecuteTime": {
     "end_time": "2022-04-06T10:23:03.607922Z",
     "start_time": "2022-04-06T10:23:03.564909Z"
    }
   },
   "outputs": [],
   "source": [
    "orientations2 = gg.vector.calculate_orientation_for_three_point_problem(gdf=interfaces_base.loc[1:3])\n",
    "orientations2['azimuth'] = 360-orientations2['azimuth']\n",
    "orientations2"
   ]
  },
  {
   "cell_type": "code",
   "execution_count": null,
   "id": "lasting-thousand",
   "metadata": {
    "ExecuteTime": {
     "end_time": "2022-04-06T10:23:03.669934Z",
     "start_time": "2022-04-06T10:23:03.610921Z"
    }
   },
   "outputs": [],
   "source": [
    "orientations3 = gg.vector.calculate_orientation_for_three_point_problem(gdf=interfaces_base.loc[2:4])\n",
    "orientations3['Z'] = orientations3['Z'].astype(float)\n",
    "orientations3['azimuth'] = orientations3['azimuth'].astype(float)\n",
    "orientations3['dip'] = orientations3['dip'].astype(float)\n",
    "orientations3['dip'] = 180 - orientations3['dip']\n",
    "orientations3['azimuth'] = 180 - orientations3['azimuth']\n",
    "orientations3['polarity'] = orientations3['polarity'].astype(float)\n",
    "orientations3['X'] = orientations3['X'].astype(float)\n",
    "orientations3['Y'] = orientations3['Y'].astype(float)\n",
    "orientations3"
   ]
  },
  {
   "cell_type": "code",
   "execution_count": null,
   "id": "backed-integral",
   "metadata": {
    "ExecuteTime": {
     "end_time": "2022-04-06T10:23:03.731947Z",
     "start_time": "2022-04-06T10:23:03.672935Z"
    }
   },
   "outputs": [],
   "source": [
    "orientations4 = gg.vector.calculate_orientation_for_three_point_problem(gdf=interfaces_base.loc[3:5])\n",
    "orientations4['Z'] = orientations4['Z'].astype(float)\n",
    "orientations4['azimuth'] = orientations4['azimuth'].astype(float)\n",
    "orientations4['dip'] = orientations4['dip'].astype(float)\n",
    "orientations4['dip'] = 180 - orientations4['dip']\n",
    "orientations4['azimuth'] = 180 - orientations4['azimuth']\n",
    "orientations4['polarity'] = orientations4['polarity'].astype(float)\n",
    "orientations4['X'] = orientations4['X'].astype(float)\n",
    "orientations4['Y'] = orientations4['Y'].astype(float)\n",
    "orientations4"
   ]
  },
  {
   "cell_type": "code",
   "execution_count": null,
   "id": "moving-translation",
   "metadata": {
    "ExecuteTime": {
     "end_time": "2022-04-06T10:23:03.763960Z",
     "start_time": "2022-04-06T10:23:03.734950Z"
    }
   },
   "outputs": [],
   "source": [
    "interfaces_top = interfaces[interfaces['formation'] == 'Top'].reset_index()\n",
    "interfaces_top"
   ]
  },
  {
   "cell_type": "code",
   "execution_count": null,
   "id": "general-animal",
   "metadata": {
    "ExecuteTime": {
     "end_time": "2022-04-06T10:23:03.827990Z",
     "start_time": "2022-04-06T10:23:03.765957Z"
    }
   },
   "outputs": [],
   "source": [
    "orientations5 = gg.vector.calculate_orientation_for_three_point_problem(gdf=interfaces_top.loc[0:2])\n",
    "orientations5['azimuth'] = 360 - orientations5['azimuth']\n",
    "orientations5"
   ]
  },
  {
   "cell_type": "code",
   "execution_count": null,
   "id": "alternative-slovakia",
   "metadata": {
    "ExecuteTime": {
     "end_time": "2022-04-06T10:23:03.906991Z",
     "start_time": "2022-04-06T10:23:03.830973Z"
    }
   },
   "outputs": [],
   "source": [
    "orientations6 = gg.vector.calculate_orientation_for_three_point_problem(gdf=interfaces_top.loc[1:3])\n",
    "orientations6['azimuth'] = 180 - orientations6['azimuth']\n",
    "orientations6['dip'] = 180 - orientations6['dip']\n",
    "orientations6"
   ]
  },
  {
   "cell_type": "code",
   "execution_count": null,
   "id": "great-daisy",
   "metadata": {
    "ExecuteTime": {
     "end_time": "2022-04-06T10:23:03.971003Z",
     "start_time": "2022-04-06T10:23:03.913990Z"
    }
   },
   "outputs": [],
   "source": [
    "orientations7 = gg.vector.calculate_orientation_for_three_point_problem(gdf=interfaces_top.loc[[0, 2, 3]])\n",
    "orientations7['azimuth'] = 180 - orientations7['azimuth']\n",
    "orientations7['dip'] = 180 - orientations7['dip']\n",
    "orientations7"
   ]
  },
  {
   "cell_type": "code",
   "execution_count": null,
   "id": "latter-speed",
   "metadata": {
    "ExecuteTime": {
     "end_time": "2022-04-06T10:23:04.034018Z",
     "start_time": "2022-04-06T10:23:03.977003Z"
    }
   },
   "outputs": [],
   "source": [
    "orientations8 = gg.vector.calculate_orientation_for_three_point_problem(gdf=interfaces_top.loc[[0, 1, 3]])\n",
    "orientations8['azimuth'] = 360 - orientations8['azimuth']\n",
    "orientations8"
   ]
  },
  {
   "cell_type": "markdown",
   "id": "friendly-token",
   "metadata": {},
   "source": [
    "### Merging Orientations"
   ]
  },
  {
   "cell_type": "code",
   "execution_count": null,
   "id": "sitting-reproduction",
   "metadata": {
    "ExecuteTime": {
     "end_time": "2022-04-06T10:23:04.081030Z",
     "start_time": "2022-04-06T10:23:04.038018Z"
    }
   },
   "outputs": [],
   "source": [
    "import pandas as pd\n",
    "orientations = pd.concat([orientations1, orientations2, orientations3, orientations4, orientations5, orientations6, orientations7, orientations8]).reset_index()\n",
    "orientations = orientations[orientations['formation'].isin(['Base', 'Top'])]\n",
    "orientations['Z'] = orientations['Z'].astype(float)\n",
    "orientations['azimuth'] = orientations['azimuth'].astype(float)\n",
    "orientations['dip'] = orientations['dip'].astype(float)\n",
    "orientations['polarity'] = orientations['polarity'].astype(float)\n",
    "orientations['X'] = orientations['X'].astype(float)\n",
    "orientations['Y'] = orientations['Y'].astype(float)\n",
    "orientations"
   ]
  },
  {
   "cell_type": "markdown",
   "id": "textile-christianity",
   "metadata": {},
   "source": [
    "### Plotting the Orientations"
   ]
  },
  {
   "cell_type": "code",
   "execution_count": null,
   "id": "detected-certificate",
   "metadata": {
    "ExecuteTime": {
     "end_time": "2022-04-06T10:23:04.558344Z",
     "start_time": "2022-04-06T10:23:04.083030Z"
    }
   },
   "outputs": [],
   "source": [
    "fig, ax = plt.subplots(1, figsize=(10, 10))\n",
    "\n",
    "interfaces.plot(ax=ax, column='formation', legend=True, aspect='equal')\n",
    "interfaces_coords.plot(ax=ax, column='formation', legend=True, aspect='equal')\n",
    "orientations.plot(ax=ax, color='red', aspect='equal')\n",
    "plt.grid()\n",
    "ax.set_xlabel('X [m]')\n",
    "ax.set_ylabel('Y [m]')\n",
    "ax.set_xlim(0, 1381)\n",
    "ax.set_ylim(0, 1768)"
   ]
  },
  {
   "cell_type": "markdown",
   "id": "wired-vietnamese",
   "metadata": {},
   "source": [
    "## GemPy Model Construction\n",
    "\n",
    "The structural geological model will be constructed using the `GemPy` package. "
   ]
  },
  {
   "cell_type": "code",
   "execution_count": null,
   "id": "governing-brazilian",
   "metadata": {
    "ExecuteTime": {
     "end_time": "2022-04-06T10:23:07.317616Z",
     "start_time": "2022-04-06T10:23:04.558344Z"
    }
   },
   "outputs": [],
   "source": [
    "import gempy as gp"
   ]
  },
  {
   "cell_type": "markdown",
   "id": "optical-realtor",
   "metadata": {},
   "source": [
    "### Creating new Model"
   ]
  },
  {
   "cell_type": "code",
   "execution_count": null,
   "id": "binding-fishing",
   "metadata": {
    "ExecuteTime": {
     "end_time": "2022-04-06T10:23:08.574902Z",
     "start_time": "2022-04-06T10:23:07.320616Z"
    }
   },
   "outputs": [],
   "source": [
    "geo_model = gp.create_model('Model20')\n",
    "geo_model"
   ]
  },
  {
   "cell_type": "markdown",
   "id": "stopped-poster",
   "metadata": {},
   "source": [
    "### Initiate Data"
   ]
  },
  {
   "cell_type": "code",
   "execution_count": null,
   "id": "assisted-nothing",
   "metadata": {
    "ExecuteTime": {
     "end_time": "2022-04-06T10:23:08.987996Z",
     "start_time": "2022-04-06T10:23:08.577903Z"
    }
   },
   "outputs": [],
   "source": [
    "gp.init_data(geo_model, [0, 1381, 0, 1768, -500, 250], [100, 100, 100],\n",
    "             surface_points_df=interfaces_coords[interfaces_coords['Z'] != 0],\n",
    "             orientations_df=orientations,\n",
    "             default_values=True)"
   ]
  },
  {
   "cell_type": "markdown",
   "id": "integrated-pension",
   "metadata": {},
   "source": [
    "### Model Surfaces"
   ]
  },
  {
   "cell_type": "code",
   "execution_count": null,
   "id": "cutting-energy",
   "metadata": {
    "ExecuteTime": {
     "end_time": "2022-04-06T10:23:09.115026Z",
     "start_time": "2022-04-06T10:23:08.990997Z"
    }
   },
   "outputs": [],
   "source": [
    "geo_model.surfaces"
   ]
  },
  {
   "cell_type": "markdown",
   "id": "younger-young",
   "metadata": {},
   "source": [
    "### Mapping the Stack to Surfaces"
   ]
  },
  {
   "cell_type": "code",
   "execution_count": null,
   "id": "formed-thought",
   "metadata": {
    "ExecuteTime": {
     "end_time": "2022-04-06T10:23:09.305076Z",
     "start_time": "2022-04-06T10:23:09.118027Z"
    }
   },
   "outputs": [],
   "source": [
    "gp.map_stack_to_surfaces(geo_model,\n",
    "                         {\n",
    "                          'Strata1': ('Top'),   \n",
    "                          'Strata2': ('Base'),\n",
    "                         },\n",
    "                         remove_unused_series=True)\n",
    "geo_model.add_surfaces('Basement')"
   ]
  },
  {
   "cell_type": "markdown",
   "id": "subtle-techno",
   "metadata": {},
   "source": [
    "### Showing the Number of Data Points"
   ]
  },
  {
   "cell_type": "code",
   "execution_count": null,
   "id": "forty-treaty",
   "metadata": {
    "ExecuteTime": {
     "end_time": "2022-04-06T10:23:09.401090Z",
     "start_time": "2022-04-06T10:23:09.308072Z"
    }
   },
   "outputs": [],
   "source": [
    "gg.utils.show_number_of_data_points(geo_model=geo_model)"
   ]
  },
  {
   "cell_type": "markdown",
   "id": "medieval-deployment",
   "metadata": {},
   "source": [
    "### Loading Digital Elevation Model"
   ]
  },
  {
   "cell_type": "code",
   "execution_count": null,
   "id": "subsequent-technique",
   "metadata": {
    "ExecuteTime": {
     "end_time": "2022-04-06T10:23:09.749170Z",
     "start_time": "2022-04-06T10:23:09.403092Z"
    }
   },
   "outputs": [],
   "source": [
    "geo_model.set_topography(\n",
    "    source='gdal', filepath=file_path + 'raster20.tif')"
   ]
  },
  {
   "cell_type": "markdown",
   "id": "extreme-drink",
   "metadata": {},
   "source": [
    "### Plotting Input Data"
   ]
  },
  {
   "cell_type": "code",
   "execution_count": null,
   "id": "conservative-philip",
   "metadata": {
    "ExecuteTime": {
     "end_time": "2022-04-06T10:23:10.195289Z",
     "start_time": "2022-04-06T10:23:09.752174Z"
    }
   },
   "outputs": [],
   "source": [
    "gp.plot_2d(geo_model, direction='z', show_lith=False, show_boundaries=False)\n",
    "plt.grid()"
   ]
  },
  {
   "cell_type": "code",
   "execution_count": null,
   "id": "vocational-intranet",
   "metadata": {
    "ExecuteTime": {
     "end_time": "2022-04-06T10:23:10.989454Z",
     "start_time": "2022-04-06T10:23:10.198272Z"
    }
   },
   "outputs": [],
   "source": [
    "gp.plot_3d(geo_model, image=False, plotter_type='basic', notebook=True)"
   ]
  },
  {
   "cell_type": "markdown",
   "id": "geological-triple",
   "metadata": {},
   "source": [
    "### Setting the Interpolator"
   ]
  },
  {
   "cell_type": "code",
   "execution_count": null,
   "id": "external-clerk",
   "metadata": {
    "ExecuteTime": {
     "end_time": "2022-04-06T10:23:15.936192Z",
     "start_time": "2022-04-06T10:23:10.992455Z"
    }
   },
   "outputs": [],
   "source": [
    "gp.set_interpolator(geo_model,\n",
    "                    compile_theano=True,\n",
    "                    theano_optimizer='fast_compile',\n",
    "                    verbose=[],\n",
    "                    update_kriging=False\n",
    "                    )"
   ]
  },
  {
   "cell_type": "markdown",
   "id": "above-lending",
   "metadata": {},
   "source": [
    "### Computing Model"
   ]
  },
  {
   "cell_type": "code",
   "execution_count": null,
   "id": "impressed-adams",
   "metadata": {
    "ExecuteTime": {
     "end_time": "2022-04-06T10:23:32.094778Z",
     "start_time": "2022-04-06T10:23:15.939194Z"
    }
   },
   "outputs": [],
   "source": [
    "sol = gp.compute_model(geo_model, compute_mesh=True)"
   ]
  },
  {
   "cell_type": "markdown",
   "id": "developing-wallet",
   "metadata": {},
   "source": [
    "### Plotting Cross Sections"
   ]
  },
  {
   "cell_type": "code",
   "execution_count": null,
   "id": "champion-collectible",
   "metadata": {
    "ExecuteTime": {
     "end_time": "2022-04-06T10:23:33.624582Z",
     "start_time": "2022-04-06T10:23:32.096824Z"
    }
   },
   "outputs": [],
   "source": [
    "gp.plot_2d(geo_model, direction=['x', 'x', 'y', 'y'], cell_number=[25, 75, 25, 75], show_topography=True, show_data=False)"
   ]
  },
  {
   "cell_type": "markdown",
   "id": "intimate-connectivity",
   "metadata": {},
   "source": [
    "### Plotting 3D Model"
   ]
  },
  {
   "cell_type": "code",
   "execution_count": null,
   "id": "developing-comparison",
   "metadata": {
    "ExecuteTime": {
     "end_time": "2022-04-06T10:23:34.774440Z",
     "start_time": "2022-04-06T10:23:33.627582Z"
    }
   },
   "outputs": [],
   "source": [
    "gpv = gp.plot_3d(geo_model, image=False, show_topography=False,\n",
    "                 plotter_type='basic', notebook=True, show_lith=True)"
   ]
  },
  {
   "cell_type": "code",
   "execution_count": null,
   "id": "digital-maryland",
   "metadata": {},
   "outputs": [],
   "source": []
  }
 ],
 "metadata": {
  "hide_input": false,
  "kernelspec": {
   "display_name": "Python 3 (ipykernel)",
   "language": "python",
   "name": "python3"
  },
  "language_info": {
   "codemirror_mode": {
    "name": "ipython",
    "version": 3
   },
   "file_extension": ".py",
   "mimetype": "text/x-python",
   "name": "python",
   "nbconvert_exporter": "python",
   "pygments_lexer": "ipython3",
   "version": "3.9.15"
  },
  "varInspector": {
   "cols": {
    "lenName": 16,
    "lenType": 16,
    "lenVar": 40
   },
   "kernels_config": {
    "python": {
     "delete_cmd_postfix": "",
     "delete_cmd_prefix": "del ",
     "library": "var_list.py",
     "varRefreshCmd": "print(var_dic_list())"
    },
    "r": {
     "delete_cmd_postfix": ") ",
     "delete_cmd_prefix": "rm(",
     "library": "var_list.r",
     "varRefreshCmd": "cat(var_dic_list()) "
    }
   },
   "types_to_exclude": [
    "module",
    "function",
    "builtin_function_or_method",
    "instance",
    "_Feature"
   ],
   "window_display": false
  }
 },
 "nbformat": 4,
 "nbformat_minor": 5
}
