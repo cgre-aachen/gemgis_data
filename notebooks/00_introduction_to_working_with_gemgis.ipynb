{
 "cells": [
  {
   "cell_type": "markdown",
   "id": "b085b5ed",
   "metadata": {},
   "source": [
    "<img src=\"../data/images/gempy_logo.png\" />\n",
    "\n",
    "# <center> From Maps to Models - Tutorials for structural geological modeling using GemPy and GemGIS </center>\n",
    "\n",
    "\n",
    "Welcome to the main part of the course \"From Maps to Models - Tutorials for structural geological modeling using GemPy and GemGIS\". In this course, you will learn how to obtain and process spatial data with the Python open-source package [GemGIS](https://github.com/cgre-aachen/gemgis), how to create structural geological models using the Python open-source package [GemPy](https://github.com/cgre-aachen/gempy) and how to post process the models to obtain certain information from your models. Both packages were developed and are maintained by departments of Prof. Florian Wellmann at [RWTH Aachen University](https://www.cg3.rwth-aachen.de/cms/~qoyf/cg3/?lidx=1) and [Fraunhofer IEG](https://www.ieg.fraunhofer.de/de/geschaeftsbereiche/georessourcen.html). The course material is adapted from two undergraduate courses at RWTH Aachen University, Germany ([Geological methods and geological map](https://www.rwth-aachen.de/cms/root/studium/Vor-dem-Studium/Studiengaenge/Liste-Aktuelle-Studiengaenge/Studiengangbeschreibung/~bqxx/Angewandte-Geowissenschaften-B-Sc/?lidx=1) & [Introduction to geological maps](https://www.rwth-aachen.de/cms/root/studium/Vor-dem-Studium/Studiengaenge/Liste-Aktuelle-Studiengaenge/Studiengangbeschreibung/~bllm/Georessourcenmanagement-B-Sc/?lidx=1)) taught by [Prof. Stefan Back](https://www.geol.rwth-aachen.de/cms/geol/Das-Institut/Team-CMS-Artikel-/~gnfmi/Stefan-Back/?allou=1) and [Prof. Susanne Buiter](https://www.gfz-potsdam.de/staff/susanne.buiter/wv). The tutorials are part of the publication by [Jüstel et al. (2023)](10.21105/jose.00185) in [The Journal of Open Source Education](https://jose.theoj.org/).\n",
    "\n",
    "\n",
    "In case you have missed the first introduction to the course, [please go through this notebook](https://github.com/cgre-aachen/gemgis_data/blob/main/notebooks/00_introduction_to_structural_modeling.ipynb). \n",
    "\n",
    "\n",
    "In this notebook, an overview of the tasks performed with `GemGIS` and the different sections of the main part is provided. \n",
    "\n",
    "## Contents\n",
    "\n",
    "1. [Spatial Data Processing with GemGIS for Structural Modeling with GemPy](#spatial-data-processing-with-gemgis)\n",
    "    1. [Generation of vector input data for GemPy using QGIS and GemGIS](#generation-of-vector-input-data-for-gempy)\n",
    "    2. [Georeferencing a Map in QGIS](#georeferencing-a-map-in-qgis)\n",
    "    3. [Creating vector data in QGIS](#creating-vector-data)\n",
    "2. [Structural Geological Modeling using GemGIS and GemPy](#structural-geological-modeling-using-gemgis-and-gempy)\n",
    "    1. [Planar dipping layers](https://github.com/cgre-aachen/gemgis_data/tree/main/notebooks/02_planar_dipping_layers)\n",
    "    2. [Folded layers](https://github.com/cgre-aachen/gemgis_data/tree/main/notebooks/03_folded_layers)\n",
    "    3. [Faulted layers](https://github.com/cgre-aachen/gemgis_data/tree/main/notebooks/04_faulted_layers)\n",
    "    4. [Unconformal layers](https://github.com/cgre-aachen/gemgis_data/tree/main/notebooks/05_unconformal_layers)\n",
    "    5. [Combination of models](https://github.com/cgre-aachen/gemgis_data/tree/main/notebooks/06_combined_models)\n",
    "    6. [Special Case models](https://github.com/cgre-aachen/gemgis_data/tree/main/notebooks/07_special_models)"
   ]
  },
  {
   "cell_type": "markdown",
   "id": "365a2e56",
   "metadata": {},
   "source": [
    "<a id='spatial-data-processing-with-gemgis'></a>\n",
    "\n",
    "# Spatial Data Processing with GemGIS for Structural Modeling with GemPy\n",
    "\n",
    "The `GemGIS` package has been developed as an Add-On to `GemPy` to accelerate and simplify the processing of spatial data as input data for the structural geological modeling with GemPy. It is wrapping and extends the functionality of already well-known spatial data open-source Python packages such as [GeoPandas](https://geopandas.org/en/stable/docs.html) [(Bosche et al., 2022)](https://doi.org/10.5281/zenodo.2585848), [Rasterio](https://rasterio.readthedocs.io/en/latest/) (Gillies et al., 2019) or [PyVista](https://doi.org/10.21105/joss.01450). Within the framework of this course, the different functionalities of `GemGIS` are introduced. The course covers six different sections ranging from simple planar dipping models all the way to combinations of faulted-folded models and special case models such as well-known three-point-problems. Each model will have an additional task to be solved with `GemGIS`. Further, useful functions for visualization and post-processing are introduced in each notebook.\n",
    "\n",
    "<img src=\"../data/images/example1/cover.png\" />\n",
    "\n",
    "Fig. 1: From Maps to Models. \n",
    "Source: Powell, D. (1995): Interpretation geologischer Strukturen durch Karten - Eine praktische Anleitung mit Aufgaben und Lösungen, page 15, figure 10 A, Springer Verlag Berlin, Heidelberg, New York, ISBN: 978-3-540-58607-4."
   ]
  },
  {
   "cell_type": "markdown",
   "id": "2fcaa788",
   "metadata": {},
   "source": [
    "<a id='generation-of-vector-input-data-for-gempy'></a>\n",
    "## Generation of vector input data for GemPy using QGIS and GemGIS\n",
    "\n",
    "You should have basic knowledge in creating vector data (shape files) in geoinformation systems like [QGIS](https://www.qgis.org/en/site/). QGIS is used to georeference the provided maps, digitize the data included in these maps (topographic contour lines, stratigraphic boundaries, strike lines, orientations, etc.). The vector data types that are mostly used are points and lines. All data is saved as shape files and will be loaded into Python using GeoPandas. \n",
    "\n",
    "<img src=\"../data/images/intro_fig_qgis.png\" width=700/>\n",
    "Source: https://gisanalyse.de/category/gis-analyses"
   ]
  },
  {
   "cell_type": "markdown",
   "id": "4929fb4b",
   "metadata": {},
   "source": [
    "<a id='georeferencing-a-map-in-qgis'></a>\n",
    "## Georeferencing a map in QGIS\n",
    "\n",
    "Even though `GemPy` works spatially unaware, this is without considering a coordinate reference system (CRS), it is recommended to use a CRS to ensure that all data is projected correctly. As we are using sample models and no real world models, we mostly just use the CRS with the EPSG Code `4326`. EPSG stands for European Petroleum Survey Group Geodesy. EPSG 4326 is the World Geodetic System 1984 ensemble (Geodetic CRS: WGS 84) measured in longitude and latitude in degrees which is commonly used in GPS devices. However, we are not using the CRS for the correct projection but rather to only have defined a CRS.\n",
    "\n",
    "The maps used for the tutorial series are provided without a CRS and have to be georeferenced. We recommend using QGIS and the built-in georeferencer for this task. QGIS requires the four corner coordinates of the maps. If no scale is provided, the number of pixels may be used to define these points. Otherwise, you will have to convert the scale into real world coordinates. Once that is done, the digitalization of information on this map can start. \n",
    "\n",
    "There is also a [tutorial available for this task on the GemGIS Documentation page](https://gemgis.readthedocs.io/en/latest/getting_started/tutorial/00_generating_data_qgis.html).\n",
    "\n",
    "<img src=\"../data/images/intro_fig_georeferencing.PNG\" width=700/>\n",
    "Source: Powell, D. (1995): Interpretation geologischer Strukturen durch Karten - Eine praktische Anleitung mit Aufgaben und Lösungen, page 15, figure 10 A, Springer Verlag Berlin, Heidelberg, New York, ISBN: 978-3-540-58607-4."
   ]
  },
  {
   "cell_type": "markdown",
   "id": "6cfb7783",
   "metadata": {},
   "source": [
    "<a id='creating-vector-data'></a>\n",
    "## Creating Vector Data\n",
    "\n",
    "After georeferencing the vector data, you need to digitize the information from the geological map. In this example, we have digitized the topographic lines to create a topography later on. Here, it is important to create a column `Z` when creating the shape file to store the altitude of the respective contour line as number. The second dataset we created are the layer boundaries between sandy formations (white) and a clay formation (gray). Here, it is important to create a column `formation` to store the name of the formation the layer boundary belongs to. However, already at this point, you have to decide which boundary is the top or the bottom of a certain formation to ensure the right order of the stratigraphic pile that is needed as input for `GemPy`. The created vector data will then be opened using `GeoPandas` and processed using `GemGIS` to create the input data sets for `GemPy`. These procedures are ellaborated on in more detail in the upcoming tutorials. \n",
    "\n",
    "<img src=\"../data/images/intro_fig_vector_data.PNG\" width=700/>\n",
    "Source: Powell, D. (1995): Interpretation geologischer Strukturen durch Karten - Eine praktische Anleitung mit Aufgaben und Lösungen, page 15, figure 10 A, Springer Verlag Berlin, Heidelberg, New York, ISBN: 978-3-540-58607-4."
   ]
  },
  {
   "cell_type": "markdown",
   "id": "4faeebd4",
   "metadata": {},
   "source": [
    "<a id='structural-geological-modeling-using-gemgis-and-gempy'></a>\n",
    "\n",
    "# Structural Geological Modeling using GemGIS and GemPy\n",
    "The main part of this course comprises six sections with an increasing difficulty of model building as mentioned above. \n",
    "\n",
    "## Planar dipping Layers\n",
    "\n",
    "Planar dipping layers are the first type of models that are constructed from maps. \n",
    "\n",
    "[Take me to the notebooks on Github](https://github.com/cgre-aachen/gemgis_data/tree/main/notebooks/02_planar_dipping_layers)\n",
    "\n",
    "\n",
    "<img src=\"../data/images/example1/cover.png\" width=700/>\n",
    "Source: Powell, D. (1995): Interpretation geologischer Strukturen durch Karten - Eine praktische Anleitung mit Aufgaben und Lösungen, page 15, figure 10 A, Springer Verlag Berlin, Heidelberg, New York, ISBN: 978-3-540-58607-4.\n",
    "\n",
    "## Folded Layers\n",
    "\n",
    "The planar dipping layers are followed by folded layers. \n",
    "\n",
    "[Take me to the notebooks on Github](https://github.com/cgre-aachen/gemgis_data/tree/main/notebooks/03_folded_layers)\n",
    "\n",
    "\n",
    "<img src=\"../data/images/example28/cover.png\" width=700/>\n",
    "\n",
    "Source: Powell, D. (1995): Interpretation geologischer Strukturen durch Karten - Eine praktische Anleitung mit Aufgaben und Lösungen, page 31, figure 26 A, Springer Verlag Berlin, Heidelberg, New York, ISBN: 978-3-540-58607-4.\n",
    "\n",
    "## Faulted Layers\n",
    "\n",
    "The folded layers are followed by faulted layers. \n",
    "\n",
    "[Take me to the notebooks on Github](https://github.com/cgre-aachen/gemgis_data/tree/main/notebooks/04_faulted_layers)\n",
    "\n",
    "<img src=\"../data/images/example9/cover_example09.png\" width=700/>\n",
    "\n",
    "Source: Bennison, G.M. (1988): An Introduction to Geological Structures and Maps, page 34, figure 14, Springer Verlag Berlin, Heidelberg, New York, ISBN: 978-1-4615-9632-5\n",
    "\n",
    "\n",
    "\n",
    "## Unconformable Layers\n",
    "\n",
    "Unconformable layers somewhat challenging.\n",
    "\n",
    "[Take me to the notebooks on Github](https://github.com/cgre-aachen/gemgis_data/tree/main/notebooks/05_unconformal_layers)\n",
    "\n",
    "<img src=\"../data/images/example4/cover_example04.png\" width=700/>\n",
    "\n",
    "Source: Bennison, G.M. (1988): An Introduction to Geological Structures and Maps, page 17, figure 8, Springer Verlag Berlin, Heidelberg, New York, ISBN: 978-1-4615-9632-5\n",
    "\n",
    "## Combined Models\n",
    "\n",
    "But combinations of folded and faulted strata are fun!\n",
    "\n",
    "[Take me to the notebooks on Github](https://github.com/cgre-aachen/gemgis_data/tree/main/notebooks/06_combined_models)\n",
    "\n",
    "<img src=\"../data/images/example10/cover_example10.png\" width=700/>\n",
    "\n",
    "Source: Bennison, G.M. (1988): An Introduction to Geological Structures and Maps, page 38, figure 16, Springer Verlag Berlin, Heidelberg, New York, ISBN: 978-1-4615-9632-5\n",
    "\n",
    "## Special Case Models\n",
    "\n",
    "The tutorials are then concluded with some special case models. \n",
    "\n",
    "[Take me to the notebooks on Github](https://github.com/cgre-aachen/gemgis_data/tree/main/notebooks/07_special_models)\n",
    "\n",
    "<img src=\"../data/images/example13/cover_example13.png\" width=700/>\n",
    "\n",
    "Source: Bennison, G.M. (1988): An Introduction to Geological Structures and Maps, page 14, figure 6, Springer Verlag Berlin, Heidelberg, New York, ISBN: 978-1-4615-9632-5\n"
   ]
  },
  {
   "cell_type": "markdown",
   "id": "4eb33c55",
   "metadata": {},
   "source": [
    "# Next Notebooks\n",
    "\n",
    "In the next notebooks, the principles of `GemGIS` will be explained during the modeling of the planar dipping layers. Here, you will learn how to process the data that you digitized in QGIS using `GemGIS` to generate input data for `GemPy`. \n",
    "\n",
    "[Take me to the planar dipping modeling notebooks on Github](https://nbviewer.org/github/cgre-aachen/gemgis_data/tree/main/notebooks/02_planar_dipping_layers)\n",
    "\n",
    "[Take me to the planar dipping modeling notebooks locally](02_planar_dipping_layers)"
   ]
  },
  {
   "cell_type": "markdown",
   "id": "90f0639b",
   "metadata": {},
   "source": [
    "## Licensing\n",
    "\n",
    "Institute for Computational Geoscience, Geothermics and Reservoir Geophysics, RWTH Aachen University & Fraunhofer IEG, Fraunhofer Research Institution for Energy Infrastructures and Geothermal Systems IEG, Authors: Alexander Juestel. For more information contact: alexander.juestel(at)ieg.fraunhofer.de\n",
    "\n",
    "All notebooks are licensed under a Creative Commons Attribution 4.0 International License (CC BY 4.0, http://creativecommons.org/licenses/by/4.0/). References for each displayed map are provided. Most of the maps originate from the books of [Powell (1992)](https://link.springer.com/book/9783540586074) and [Bennison (1990)](https://link.springer.com/book/10.1007/978-1-4615-9630-1). References for maps with unknown origin will gladly be added."
   ]
  }
 ],
 "metadata": {
  "kernelspec": {
   "display_name": "Python 3 (ipykernel)",
   "language": "python",
   "name": "python3"
  },
  "language_info": {
   "codemirror_mode": {
    "name": "ipython",
    "version": 3
   },
   "file_extension": ".py",
   "mimetype": "text/x-python",
   "name": "python",
   "nbconvert_exporter": "python",
   "pygments_lexer": "ipython3",
   "version": "3.9.15"
  }
 },
 "nbformat": 4,
 "nbformat_minor": 5
}
