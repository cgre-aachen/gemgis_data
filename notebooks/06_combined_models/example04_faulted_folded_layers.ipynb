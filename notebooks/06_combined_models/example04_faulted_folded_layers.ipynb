{
 "cells": [
  {
   "cell_type": "markdown",
   "id": "arranged-tenant",
   "metadata": {},
   "source": [
    "# Example 19 - Faulted Folded Layers\n",
    "\n"
   ]
  },
  {
   "cell_type": "markdown",
   "id": "musical-relationship",
   "metadata": {},
   "source": [
    "This example will show how to convert the geological map below using ``GemGIS`` to a `GemPy` model. This example is based on digitized data. The area is 3990 m wide (W-E extent) and 2736 m high (N-S extent). The vertical model extent varies from 0 m to 1000 m. The model represents folded layers with a NW-SE striking fault running through the area and a Limestone unit unconformably overlaying the coal measures. \n",
    "\n",
    "The map has been georeferenced with QGIS. The stratigraphic boundaries were digitized in QGIS. Strikes lines were digitized in QGIS as well and will be used to calculate orientations for the `GemPy` model. The contour lines were also digitized and will be interpolated with `GemGIS` to create a topography for the model. \n",
    "\n",
    "Map Source: An Introduction to Geological Structures and Maps by G.M. Bennison"
   ]
  },
  {
   "cell_type": "code",
   "execution_count": null,
   "id": "ideal-warrior",
   "metadata": {
    "ExecuteTime": {
     "end_time": "2022-04-06T10:21:39.556625Z",
     "start_time": "2022-04-06T10:21:38.241422Z"
    }
   },
   "outputs": [],
   "source": [
    "import matplotlib.pyplot as plt\n",
    "import matplotlib.image as mpimg\n",
    "img = mpimg.imread('../data/images/example19/cover_example19.png')\n",
    "plt.figure(figsize=(10, 10))\n",
    "imgplot = plt.imshow(img)\n",
    "plt.axis('off')\n",
    "plt.tight_layout()"
   ]
  },
  {
   "cell_type": "markdown",
   "id": "alike-configuration",
   "metadata": {},
   "source": [
    "## Licensing\n",
    "\n",
    "Computational Geosciences and Reservoir Engineering, RWTH Aachen University, Authors: Alexander Juestel. For more information contact: alexander.juestel(at)rwth-aachen.de\n",
    "\n",
    "\n",
    "This work is licensed under a Creative Commons Attribution 4.0 International License (http://creativecommons.org/licenses/by/4.0/)"
   ]
  },
  {
   "cell_type": "markdown",
   "id": "allied-vessel",
   "metadata": {},
   "source": [
    "## Import GemGIS\n",
    "\n",
    "If you have installed ``GemGIS`` via pip or conda, you can import ``GemGIS`` like any other package. If you have downloaded the repository, append the path to the directory where the ``GemGIS`` repository is stored and then import ``GemGIS``. "
   ]
  },
  {
   "cell_type": "code",
   "execution_count": null,
   "id": "neither-funeral",
   "metadata": {
    "ExecuteTime": {
     "end_time": "2022-04-06T10:21:42.167363Z",
     "start_time": "2022-04-06T10:21:39.560620Z"
    }
   },
   "outputs": [],
   "source": [
    "import warnings\n",
    "warnings.filterwarnings(\"ignore\")\n",
    "import gemgis as gg"
   ]
  },
  {
   "cell_type": "markdown",
   "id": "latin-packaging",
   "metadata": {},
   "source": [
    "## Importing Libraries and loading Data\n",
    "\n",
    "All remaining packages can be loaded in order to prepare the data and to construct the model. The example data is downloaded from an external server using `pooch`. It will be stored in a data folder in the same directory where this notebook is stored.  "
   ]
  },
  {
   "cell_type": "code",
   "execution_count": null,
   "id": "polar-appliance",
   "metadata": {
    "ExecuteTime": {
     "end_time": "2022-04-06T10:21:42.183367Z",
     "start_time": "2022-04-06T10:21:42.171365Z"
    }
   },
   "outputs": [],
   "source": [
    "import geopandas as gpd\n",
    "import rasterio "
   ]
  },
  {
   "cell_type": "code",
   "execution_count": null,
   "id": "healthy-queens",
   "metadata": {
    "ExecuteTime": {
     "end_time": "2022-04-06T10:21:42.199371Z",
     "start_time": "2022-04-06T10:21:42.185368Z"
    }
   },
   "outputs": [],
   "source": [
    "file_path = '../data/example19_faulted_folded_layers/'"
   ]
  },
  {
   "cell_type": "markdown",
   "id": "impressed-database",
   "metadata": {},
   "source": [
    "## Creating Digital Elevation Model from Contour Lines\n",
    "\n",
    "The digital elevation model (DEM) will be created by interpolating contour lines digitized from the georeferenced map using the `SciPy` Radial Basis Function interpolation wrapped in `GemGIS`. The respective function used for that is `gg.vector.interpolate_raster()`. \n"
   ]
  },
  {
   "cell_type": "code",
   "execution_count": null,
   "id": "nominated-church",
   "metadata": {
    "ExecuteTime": {
     "end_time": "2022-04-06T10:21:42.565455Z",
     "start_time": "2022-04-06T10:21:42.201372Z"
    }
   },
   "outputs": [],
   "source": [
    "import matplotlib.pyplot as plt\n",
    "import matplotlib.image as mpimg\n",
    "img = mpimg.imread('../data/images/example19/dem_example19.png')\n",
    "plt.figure(figsize=(10, 10))\n",
    "imgplot = plt.imshow(img)\n",
    "plt.axis('off')\n",
    "plt.tight_layout()"
   ]
  },
  {
   "cell_type": "code",
   "execution_count": null,
   "id": "informed-tomorrow",
   "metadata": {
    "ExecuteTime": {
     "end_time": "2022-04-06T10:21:42.724491Z",
     "start_time": "2022-04-06T10:21:42.567456Z"
    }
   },
   "outputs": [],
   "source": [
    "topo = gpd.read_file(file_path + 'topo19.shp')\n",
    "topo.head()"
   ]
  },
  {
   "cell_type": "markdown",
   "id": "inclusive-florence",
   "metadata": {},
   "source": [
    "### Interpolating the contour lines"
   ]
  },
  {
   "cell_type": "code",
   "execution_count": null,
   "id": "revolutionary-calibration",
   "metadata": {
    "ExecuteTime": {
     "end_time": "2022-04-06T10:21:50.555776Z",
     "start_time": "2022-04-06T10:21:42.728492Z"
    }
   },
   "outputs": [],
   "source": [
    "topo_raster = gg.vector.interpolate_raster(gdf=topo, value='Z', method='rbf', res=10)"
   ]
  },
  {
   "cell_type": "markdown",
   "id": "experimental-press",
   "metadata": {},
   "source": [
    "### Plotting the raster"
   ]
  },
  {
   "cell_type": "code",
   "execution_count": null,
   "id": "frozen-gazette",
   "metadata": {
    "ExecuteTime": {
     "end_time": "2022-04-06T10:21:51.288296Z",
     "start_time": "2022-04-06T10:21:50.572212Z"
    }
   },
   "outputs": [],
   "source": [
    "import matplotlib.pyplot as plt\n",
    "from mpl_toolkits.axes_grid1 import make_axes_locatable\n",
    "\n",
    "fix, ax = plt.subplots(1, figsize=(10, 10))\n",
    "topo.plot(ax=ax, aspect='equal', column='Z', cmap='gist_earth')\n",
    "im = ax.imshow(topo_raster, origin='lower', extent=[0, 3990, 0, 2736], cmap='gist_earth')\n",
    "divider = make_axes_locatable(ax)\n",
    "cax = divider.append_axes(\"right\", size=\"5%\", pad=0.05)\n",
    "cbar = plt.colorbar(im, cax=cax)\n",
    "cbar.set_label('Altitude [m]')\n",
    "ax.set_xlabel('X [m]')\n",
    "ax.set_ylabel('Y [m]')\n",
    "ax.set_xlim(0, 3990)\n",
    "ax.set_ylim(0, 2736)"
   ]
  },
  {
   "cell_type": "markdown",
   "id": "common-franklin",
   "metadata": {},
   "source": [
    "### Saving the raster to disc\n",
    "\n",
    "After the interpolation of the contour lines, the raster is saved to disc using `gg.raster.save_as_tiff()`. The function will not be executed as a raster is already provided with the example data. "
   ]
  },
  {
   "cell_type": "raw",
   "id": "assured-hotel",
   "metadata": {
    "ExecuteTime": {
     "end_time": "2021-04-04T11:09:45.513345Z",
     "start_time": "2021-04-04T11:09:45.472133Z"
    }
   },
   "source": [
    "gg.raster.save_as_tiff(raster=topo_raster, path=file_path + 'raster19.tif', extent=[0, 3990, 0, 2736], crs='EPSG:4326', overwrite_file=True)"
   ]
  },
  {
   "cell_type": "markdown",
   "id": "under-pursuit",
   "metadata": {},
   "source": [
    "### Opening Raster\n",
    "\n",
    "The previously computed and saved raster can now be opened using rasterio. "
   ]
  },
  {
   "cell_type": "code",
   "execution_count": null,
   "id": "silver-defendant",
   "metadata": {
    "ExecuteTime": {
     "end_time": "2022-04-06T10:21:51.367315Z",
     "start_time": "2022-04-06T10:21:51.291299Z"
    }
   },
   "outputs": [],
   "source": [
    "topo_raster = rasterio.open(file_path + 'raster19.tif')"
   ]
  },
  {
   "cell_type": "markdown",
   "id": "central-option",
   "metadata": {
    "ExecuteTime": {
     "end_time": "2021-03-28T12:43:27.113805Z",
     "start_time": "2021-03-28T12:43:27.067793Z"
    }
   },
   "source": [
    "## Interface Points of stratigraphic boundaries\n",
    "\n",
    "The interface points will be extracted from LineStrings digitized from the georeferenced map using QGIS. It is important to provide a formation name for each layer boundary. The vertical position of the interface point will be extracted from the digital elevation model using the `GemGIS` function `gg.vector.extract_xyz()`. The resulting GeoDataFrame now contains single points including the information about the respective formation. \n",
    "\n"
   ]
  },
  {
   "cell_type": "code",
   "execution_count": null,
   "id": "tired-ambassador",
   "metadata": {
    "ExecuteTime": {
     "end_time": "2022-04-06T10:21:51.669392Z",
     "start_time": "2022-04-06T10:21:51.371317Z"
    }
   },
   "outputs": [],
   "source": [
    "import matplotlib.pyplot as plt\n",
    "import matplotlib.image as mpimg\n",
    "img = mpimg.imread('../data/images/example19/interfaces_example19.png')\n",
    "plt.figure(figsize=(10, 10))\n",
    "imgplot = plt.imshow(img)\n",
    "plt.axis('off')\n",
    "plt.tight_layout()"
   ]
  },
  {
   "cell_type": "code",
   "execution_count": null,
   "id": "activated-namibia",
   "metadata": {
    "ExecuteTime": {
     "end_time": "2022-04-06T10:21:51.781410Z",
     "start_time": "2022-04-06T10:21:51.672392Z"
    }
   },
   "outputs": [],
   "source": [
    "interfaces = gpd.read_file(file_path + 'interfaces19.shp')\n",
    "interfaces.head()"
   ]
  },
  {
   "cell_type": "markdown",
   "id": "prospective-drink",
   "metadata": {},
   "source": [
    "### Extracting Z coordinate from Digital Elevation Model"
   ]
  },
  {
   "cell_type": "code",
   "execution_count": null,
   "id": "stopped-saint",
   "metadata": {
    "ExecuteTime": {
     "end_time": "2022-04-06T10:21:51.989464Z",
     "start_time": "2022-04-06T10:21:51.784413Z"
    }
   },
   "outputs": [],
   "source": [
    "interfaces_coords = gg.vector.extract_xyz(gdf=interfaces, dem=topo_raster)\n",
    "interfaces_coords = interfaces_coords.sort_values(by='formation', ascending=False)\n",
    "interfaces_coords = interfaces_coords[interfaces_coords['formation'].isin(['Limestone', 'Fault', 'Layer2', 'Layer1', 'Coal'])]\n",
    "interfaces_coords.head()"
   ]
  },
  {
   "cell_type": "markdown",
   "id": "valued-coast",
   "metadata": {},
   "source": [
    "### Plotting the Interface Points"
   ]
  },
  {
   "cell_type": "code",
   "execution_count": null,
   "id": "involved-association",
   "metadata": {
    "ExecuteTime": {
     "end_time": "2022-04-06T10:21:52.612599Z",
     "start_time": "2022-04-06T10:21:51.994458Z"
    }
   },
   "outputs": [],
   "source": [
    "fig, ax = plt.subplots(1, figsize=(10, 10))\n",
    "\n",
    "interfaces.plot(ax=ax, column='formation', legend=True, aspect='equal')\n",
    "interfaces_coords.plot(ax=ax, column='formation', legend=True, aspect='equal')\n",
    "plt.grid()\n",
    "ax.set_xlabel('X [m]')\n",
    "ax.set_ylabel('Y [m]')\n",
    "ax.set_xlim(0, 3990)\n",
    "ax.set_ylim(0, 2736)"
   ]
  },
  {
   "cell_type": "markdown",
   "id": "inner-mathematics",
   "metadata": {},
   "source": [
    "## Orientations from Strike Lines\n",
    "\n",
    "Strike lines connect outcropping stratigraphic boundaries (interfaces) of the same altitude. In other words: the intersections between topographic contours and stratigraphic boundaries at the surface. The height difference and the horizontal difference between two digitized lines is used to calculate the dip and azimuth and hence an orientation that is necessary for `GemPy`. In order to calculate the orientations, each set of strikes lines/LineStrings for one formation must be given an id number next to the altitude of the strike line. The id field is already predefined in QGIS. The strike line with the lowest altitude gets the id number `1`, the strike line with the highest altitude the the number according to the number of digitized strike lines. It is currently recommended to use one set of strike lines for each structural element of one formation as illustrated. \n"
   ]
  },
  {
   "cell_type": "code",
   "execution_count": null,
   "id": "effective-advertising",
   "metadata": {
    "ExecuteTime": {
     "end_time": "2022-04-06T10:21:52.898667Z",
     "start_time": "2022-04-06T10:21:52.615601Z"
    }
   },
   "outputs": [],
   "source": [
    "import matplotlib.pyplot as plt\n",
    "import matplotlib.image as mpimg\n",
    "img = mpimg.imread('../data/images/example19/orientations_example19.png')\n",
    "plt.figure(figsize=(10, 10))\n",
    "imgplot = plt.imshow(img)\n",
    "plt.axis('off')\n",
    "plt.tight_layout()"
   ]
  },
  {
   "cell_type": "code",
   "execution_count": null,
   "id": "configured-evaluation",
   "metadata": {
    "ExecuteTime": {
     "end_time": "2022-04-06T10:21:52.992687Z",
     "start_time": "2022-04-06T10:21:52.902667Z"
    }
   },
   "outputs": [],
   "source": [
    "strikes = gpd.read_file(file_path + 'strikes19.shp')\n",
    "strikes.head()"
   ]
  },
  {
   "cell_type": "markdown",
   "id": "imposed-elite",
   "metadata": {},
   "source": [
    "### Calculate Orientations for each formation"
   ]
  },
  {
   "cell_type": "code",
   "execution_count": null,
   "id": "durable-fault",
   "metadata": {
    "ExecuteTime": {
     "end_time": "2022-04-06T10:21:53.104712Z",
     "start_time": "2022-04-06T10:21:52.994687Z"
    }
   },
   "outputs": [],
   "source": [
    "orientations_limestone = gg.vector.calculate_orientations_from_strike_lines(gdf=strikes[strikes['formation'] == 'Limestone'].sort_values(by='Z', ascending=True).reset_index())\n",
    "orientations_limestone"
   ]
  },
  {
   "cell_type": "code",
   "execution_count": null,
   "id": "satisfactory-monaco",
   "metadata": {
    "ExecuteTime": {
     "end_time": "2022-04-06T10:21:53.296757Z",
     "start_time": "2022-04-06T10:21:53.107714Z"
    }
   },
   "outputs": [],
   "source": [
    "orientations_fault = gg.vector.calculate_orientations_from_strike_lines(gdf=strikes[strikes['formation'] == 'Fault'].sort_values(by='Z', ascending=True).reset_index())\n",
    "orientations_fault"
   ]
  },
  {
   "cell_type": "code",
   "execution_count": null,
   "id": "after-kernel",
   "metadata": {
    "ExecuteTime": {
     "end_time": "2022-04-06T10:21:53.408782Z",
     "start_time": "2022-04-06T10:21:53.299758Z"
    }
   },
   "outputs": [],
   "source": [
    "orientations_layer2 = gg.vector.calculate_orientations_from_strike_lines(gdf=strikes[strikes['formation'] == 'Layer2'].sort_values(by='Z', ascending=True).reset_index())\n",
    "orientations_layer2"
   ]
  },
  {
   "cell_type": "code",
   "execution_count": null,
   "id": "pleasant-artwork",
   "metadata": {
    "ExecuteTime": {
     "end_time": "2022-04-06T10:21:53.520808Z",
     "start_time": "2022-04-06T10:21:53.412783Z"
    }
   },
   "outputs": [],
   "source": [
    "orientations_layer2a = gg.vector.calculate_orientations_from_strike_lines(gdf=strikes[strikes['formation'] == 'Layer2a'].sort_values(by='Z', ascending=True).reset_index())\n",
    "orientations_layer2a"
   ]
  },
  {
   "cell_type": "code",
   "execution_count": null,
   "id": "interstate-integration",
   "metadata": {
    "ExecuteTime": {
     "end_time": "2022-04-06T10:21:53.632834Z",
     "start_time": "2022-04-06T10:21:53.523809Z"
    }
   },
   "outputs": [],
   "source": [
    "orientations_layer2b = gg.vector.calculate_orientations_from_strike_lines(gdf=strikes[strikes['formation'] == 'Layer2b'].sort_values(by='Z', ascending=True).reset_index())\n",
    "orientations_layer2b"
   ]
  },
  {
   "cell_type": "code",
   "execution_count": null,
   "id": "exact-shade",
   "metadata": {
    "ExecuteTime": {
     "end_time": "2022-04-06T10:21:53.744859Z",
     "start_time": "2022-04-06T10:21:53.636835Z"
    }
   },
   "outputs": [],
   "source": [
    "orientations_layer2c = gg.vector.calculate_orientations_from_strike_lines(gdf=strikes[strikes['formation'] == 'Layer2c'].sort_values(by='Z', ascending=True).reset_index())\n",
    "orientations_layer2c"
   ]
  },
  {
   "cell_type": "code",
   "execution_count": null,
   "id": "included-radius",
   "metadata": {
    "ExecuteTime": {
     "end_time": "2022-04-06T10:21:53.872889Z",
     "start_time": "2022-04-06T10:21:53.755862Z"
    }
   },
   "outputs": [],
   "source": [
    "orientations_layer1a = gg.vector.calculate_orientations_from_strike_lines(gdf=strikes[strikes['formation'] == 'Layer1a'].sort_values(by='Z', ascending=True).reset_index())\n",
    "orientations_layer1a"
   ]
  },
  {
   "cell_type": "code",
   "execution_count": null,
   "id": "dated-turning",
   "metadata": {
    "ExecuteTime": {
     "end_time": "2022-04-06T10:21:54.000918Z",
     "start_time": "2022-04-06T10:21:53.877890Z"
    }
   },
   "outputs": [],
   "source": [
    "orientations_layer1b = gg.vector.calculate_orientations_from_strike_lines(gdf=strikes[strikes['formation'] == 'Layer1b'].sort_values(by='Z', ascending=True).reset_index())\n",
    "orientations_layer1b"
   ]
  },
  {
   "cell_type": "code",
   "execution_count": null,
   "id": "peripheral-evans",
   "metadata": {
    "ExecuteTime": {
     "end_time": "2022-04-06T10:21:54.096940Z",
     "start_time": "2022-04-06T10:21:54.003920Z"
    }
   },
   "outputs": [],
   "source": [
    "orientations_layer1c = gg.vector.calculate_orientations_from_strike_lines(gdf=strikes[strikes['formation'] == 'Layer1c'].sort_values(by='Z', ascending=True).reset_index())\n",
    "orientations_layer1c"
   ]
  },
  {
   "cell_type": "code",
   "execution_count": null,
   "id": "inappropriate-essay",
   "metadata": {
    "ExecuteTime": {
     "end_time": "2022-04-06T10:21:54.192985Z",
     "start_time": "2022-04-06T10:21:54.098941Z"
    }
   },
   "outputs": [],
   "source": [
    "orientations_layer1d = gg.vector.calculate_orientations_from_strike_lines(gdf=strikes[strikes['formation'] == 'Layer1d'].sort_values(by='Z', ascending=True).reset_index())\n",
    "orientations_layer1d"
   ]
  },
  {
   "cell_type": "code",
   "execution_count": null,
   "id": "abroad-language",
   "metadata": {
    "ExecuteTime": {
     "end_time": "2022-04-06T10:21:54.320992Z",
     "start_time": "2022-04-06T10:21:54.195975Z"
    }
   },
   "outputs": [],
   "source": [
    "orientations_coal = gg.vector.calculate_orientations_from_strike_lines(gdf=strikes[strikes['formation'] == 'Coal'].sort_values(by='Z', ascending=True).reset_index())\n",
    "orientations_coal"
   ]
  },
  {
   "cell_type": "code",
   "execution_count": null,
   "id": "brave-sleep",
   "metadata": {
    "ExecuteTime": {
     "end_time": "2022-04-06T10:21:54.417014Z",
     "start_time": "2022-04-06T10:21:54.323996Z"
    }
   },
   "outputs": [],
   "source": [
    "orientations_coal1 = gg.vector.calculate_orientations_from_strike_lines(gdf=strikes[strikes['formation'] == 'Coal1'].sort_values(by='Z', ascending=True).reset_index())\n",
    "orientations_coal1"
   ]
  },
  {
   "cell_type": "code",
   "execution_count": null,
   "id": "accessible-performer",
   "metadata": {
    "ExecuteTime": {
     "end_time": "2022-04-06T10:21:54.528039Z",
     "start_time": "2022-04-06T10:21:54.420015Z"
    }
   },
   "outputs": [],
   "source": [
    "orientations_coal2 = gg.vector.calculate_orientations_from_strike_lines(gdf=strikes[strikes['formation'] == 'Coal1'].sort_values(by='Z', ascending=True).reset_index())\n",
    "orientations_coal2"
   ]
  },
  {
   "cell_type": "code",
   "execution_count": null,
   "id": "entire-bouquet",
   "metadata": {
    "ExecuteTime": {
     "end_time": "2022-04-06T10:21:54.639065Z",
     "start_time": "2022-04-06T10:21:54.530041Z"
    }
   },
   "outputs": [],
   "source": [
    "orientations_coal3 = gg.vector.calculate_orientations_from_strike_lines(gdf=strikes[strikes['formation'] == 'Coal3'].sort_values(by='Z', ascending=True).reset_index())\n",
    "orientations_coal3"
   ]
  },
  {
   "cell_type": "markdown",
   "id": "friendly-token",
   "metadata": {},
   "source": [
    "### Merging Orientations"
   ]
  },
  {
   "cell_type": "code",
   "execution_count": null,
   "id": "sitting-reproduction",
   "metadata": {
    "ExecuteTime": {
     "end_time": "2022-04-06T10:21:54.703082Z",
     "start_time": "2022-04-06T10:21:54.641066Z"
    }
   },
   "outputs": [],
   "source": [
    "import pandas as pd\n",
    "orientations = pd.concat([orientations_limestone, orientations_fault, orientations_layer2, orientations_layer2a, orientations_layer2b, orientations_layer2c, orientations_layer1a, orientations_layer1b, orientations_layer1c,  orientations_layer1d,  orientations_coal,  orientations_coal1, orientations_coal2,  orientations_coal3]).reset_index()\n",
    "orientations['formation'] = ['Limestone', 'Fault', 'Fault', 'Fault', 'Fault', 'Fault', 'Fault', 'Fault', 'Layer2', 'Layer2', 'Layer2', 'Layer2', 'Layer2', 'Layer2', 'Layer1', 'Layer1', 'Layer1', 'Layer1', 'Layer1', 'Layer1', 'Layer1', 'Layer1', 'Layer1', 'Layer1', 'Layer1', 'Coal', 'Coal', 'Coal', 'Coal', 'Coal', 'Coal', 'Coal', 'Coal', 'Coal', 'Coal', 'Coal', 'Coal', 'Coal']\n",
    "orientations = orientations[orientations['formation'].isin(['Limestone', 'Fault', 'Layer2', 'Layer1', 'Coal'])]\n",
    "orientations"
   ]
  },
  {
   "cell_type": "markdown",
   "id": "textile-christianity",
   "metadata": {},
   "source": [
    "### Plotting the Orientations"
   ]
  },
  {
   "cell_type": "code",
   "execution_count": null,
   "id": "detected-certificate",
   "metadata": {
    "ExecuteTime": {
     "end_time": "2022-04-06T10:21:55.422245Z",
     "start_time": "2022-04-06T10:21:54.706082Z"
    }
   },
   "outputs": [],
   "source": [
    "fig, ax = plt.subplots(1, figsize=(10, 10))\n",
    "\n",
    "interfaces.plot(ax=ax, column='formation', legend=True, aspect='equal')\n",
    "interfaces_coords.plot(ax=ax, column='formation', legend=True, aspect='equal')\n",
    "orientations.plot(ax=ax, color='red', aspect='equal')\n",
    "plt.grid()\n",
    "ax.set_xlabel('X [m]')\n",
    "ax.set_ylabel('Y [m]')\n",
    "ax.set_xlim(0, 3990)\n",
    "ax.set_ylim(0, 2736)"
   ]
  },
  {
   "cell_type": "markdown",
   "id": "wired-vietnamese",
   "metadata": {},
   "source": [
    "## GemPy Model Construction\n",
    "\n",
    "The structural geological model will be constructed using the `GemPy` package. "
   ]
  },
  {
   "cell_type": "code",
   "execution_count": null,
   "id": "governing-brazilian",
   "metadata": {
    "ExecuteTime": {
     "end_time": "2022-04-06T10:21:58.292905Z",
     "start_time": "2022-04-06T10:21:55.425246Z"
    }
   },
   "outputs": [],
   "source": [
    "import gempy as gp"
   ]
  },
  {
   "cell_type": "markdown",
   "id": "optical-realtor",
   "metadata": {},
   "source": [
    "### Creating new Model"
   ]
  },
  {
   "cell_type": "code",
   "execution_count": null,
   "id": "binding-fishing",
   "metadata": {
    "ExecuteTime": {
     "end_time": "2022-04-06T10:21:59.585737Z",
     "start_time": "2022-04-06T10:21:58.295907Z"
    }
   },
   "outputs": [],
   "source": [
    "geo_model = gp.create_model('Model18')\n",
    "geo_model"
   ]
  },
  {
   "cell_type": "markdown",
   "id": "stopped-poster",
   "metadata": {},
   "source": [
    "### Initiate Data"
   ]
  },
  {
   "cell_type": "code",
   "execution_count": null,
   "id": "assisted-nothing",
   "metadata": {
    "ExecuteTime": {
     "end_time": "2022-04-06T10:21:59.903810Z",
     "start_time": "2022-04-06T10:21:59.588739Z"
    }
   },
   "outputs": [],
   "source": [
    "gp.init_data(geo_model, [0, 3990, 0, 2736, 0, 1000], [100, 100, 100],\n",
    "             surface_points_df=interfaces_coords[interfaces_coords['Z'] != 0],\n",
    "             orientations_df=orientations,\n",
    "             default_values=True)"
   ]
  },
  {
   "cell_type": "markdown",
   "id": "integrated-pension",
   "metadata": {},
   "source": [
    "### Model Surfaces"
   ]
  },
  {
   "cell_type": "code",
   "execution_count": null,
   "id": "cutting-energy",
   "metadata": {
    "ExecuteTime": {
     "end_time": "2022-04-06T10:22:00.030839Z",
     "start_time": "2022-04-06T10:21:59.906811Z"
    }
   },
   "outputs": [],
   "source": [
    "geo_model.surfaces"
   ]
  },
  {
   "cell_type": "markdown",
   "id": "younger-young",
   "metadata": {},
   "source": [
    "### Mapping the Stack to Surfaces"
   ]
  },
  {
   "cell_type": "code",
   "execution_count": null,
   "id": "formed-thought",
   "metadata": {
    "ExecuteTime": {
     "end_time": "2022-04-06T10:22:00.472941Z",
     "start_time": "2022-04-06T10:22:00.034841Z"
    }
   },
   "outputs": [],
   "source": [
    "gp.map_stack_to_surfaces(geo_model,\n",
    "                         {\n",
    "                          'Fault1': ('Fault'), \n",
    "                          'Strata1': ('Limestone'),   \n",
    "                          'Strata2': ('Coal', 'Layer1', 'Layer2'),\n",
    "                         },\n",
    "                         remove_unused_series=True)\n",
    "geo_model.add_surfaces('Basement')\n",
    "geo_model.set_is_fault(['Fault1'])"
   ]
  },
  {
   "cell_type": "markdown",
   "id": "subtle-techno",
   "metadata": {},
   "source": [
    "### Showing the Number of Data Points"
   ]
  },
  {
   "cell_type": "code",
   "execution_count": null,
   "id": "forty-treaty",
   "metadata": {
    "ExecuteTime": {
     "end_time": "2022-04-06T10:22:00.616975Z",
     "start_time": "2022-04-06T10:22:00.475941Z"
    }
   },
   "outputs": [],
   "source": [
    "gg.utils.show_number_of_data_points(geo_model=geo_model)"
   ]
  },
  {
   "cell_type": "markdown",
   "id": "medieval-deployment",
   "metadata": {},
   "source": [
    "### Loading Digital Elevation Model"
   ]
  },
  {
   "cell_type": "code",
   "execution_count": null,
   "id": "subsequent-technique",
   "metadata": {
    "ExecuteTime": {
     "end_time": "2022-04-06T10:22:01.255121Z",
     "start_time": "2022-04-06T10:22:00.620976Z"
    }
   },
   "outputs": [],
   "source": [
    "geo_model.set_topography(\n",
    "    source='gdal', filepath=file_path + 'raster19.tif')"
   ]
  },
  {
   "cell_type": "markdown",
   "id": "delayed-alberta",
   "metadata": {},
   "source": [
    "### Defining Custom Section"
   ]
  },
  {
   "cell_type": "code",
   "execution_count": null,
   "id": "bigger-consciousness",
   "metadata": {
    "ExecuteTime": {
     "end_time": "2022-04-06T10:22:01.844261Z",
     "start_time": "2022-04-06T10:22:01.260123Z"
    }
   },
   "outputs": [],
   "source": [
    "custom_section = gpd.read_file(file_path + 'customsection19.shp')\n",
    "custom_section_dict = gg.utils.to_section_dict(custom_section, section_column='name')\n",
    "geo_model.set_section_grid(custom_section_dict)"
   ]
  },
  {
   "cell_type": "code",
   "execution_count": null,
   "id": "valuable-turkish",
   "metadata": {
    "ExecuteTime": {
     "end_time": "2022-04-06T10:22:02.228345Z",
     "start_time": "2022-04-06T10:22:01.848257Z"
    }
   },
   "outputs": [],
   "source": [
    "gp.plot.plot_section_traces(geo_model)"
   ]
  },
  {
   "cell_type": "markdown",
   "id": "extreme-drink",
   "metadata": {},
   "source": [
    "### Plotting Input Data"
   ]
  },
  {
   "cell_type": "code",
   "execution_count": null,
   "id": "conservative-philip",
   "metadata": {
    "ExecuteTime": {
     "end_time": "2022-04-06T10:22:02.706453Z",
     "start_time": "2022-04-06T10:22:02.230345Z"
    }
   },
   "outputs": [],
   "source": [
    "gp.plot_2d(geo_model, direction='z', show_lith=False, show_boundaries=False)\n",
    "plt.grid()"
   ]
  },
  {
   "cell_type": "code",
   "execution_count": null,
   "id": "vocational-intranet",
   "metadata": {
    "ExecuteTime": {
     "end_time": "2022-04-06T10:22:03.627667Z",
     "start_time": "2022-04-06T10:22:02.710455Z"
    }
   },
   "outputs": [],
   "source": [
    "gp.plot_3d(geo_model, image=False, plotter_type='basic', notebook=True)"
   ]
  },
  {
   "cell_type": "markdown",
   "id": "geological-triple",
   "metadata": {},
   "source": [
    "### Setting the Interpolator"
   ]
  },
  {
   "cell_type": "code",
   "execution_count": null,
   "id": "external-clerk",
   "metadata": {
    "ExecuteTime": {
     "end_time": "2022-04-06T10:22:08.723532Z",
     "start_time": "2022-04-06T10:22:03.629665Z"
    }
   },
   "outputs": [],
   "source": [
    "gp.set_interpolator(geo_model,\n",
    "                    compile_theano=True,\n",
    "                    theano_optimizer='fast_compile',\n",
    "                    verbose=[],\n",
    "                    update_kriging=False\n",
    "                    )"
   ]
  },
  {
   "cell_type": "markdown",
   "id": "above-lending",
   "metadata": {},
   "source": [
    "### Computing Model"
   ]
  },
  {
   "cell_type": "code",
   "execution_count": null,
   "id": "impressed-adams",
   "metadata": {
    "ExecuteTime": {
     "end_time": "2022-04-06T10:26:20.918645Z",
     "start_time": "2022-04-06T10:22:08.725534Z"
    }
   },
   "outputs": [],
   "source": [
    "sol = gp.compute_model(geo_model, compute_mesh=True)"
   ]
  },
  {
   "cell_type": "markdown",
   "id": "developing-wallet",
   "metadata": {},
   "source": [
    "### Plotting Cross Sections"
   ]
  },
  {
   "cell_type": "code",
   "execution_count": null,
   "id": "intensive-portal",
   "metadata": {
    "ExecuteTime": {
     "end_time": "2022-04-06T10:26:21.363296Z",
     "start_time": "2022-04-06T10:26:20.930807Z"
    }
   },
   "outputs": [],
   "source": [
    "gp.plot_2d(geo_model, section_names=['Section1'], show_topography=True, show_data=False)"
   ]
  },
  {
   "cell_type": "code",
   "execution_count": null,
   "id": "champion-collectible",
   "metadata": {
    "ExecuteTime": {
     "end_time": "2022-04-06T10:26:22.386309Z",
     "start_time": "2022-04-06T10:26:21.367275Z"
    }
   },
   "outputs": [],
   "source": [
    "gp.plot_2d(geo_model, direction=['x', 'x', 'y', 'y'], cell_number=[25, 75, 25, 75], show_topography=True, show_data=False)"
   ]
  },
  {
   "cell_type": "markdown",
   "id": "intimate-connectivity",
   "metadata": {},
   "source": [
    "### Plotting 3D Model"
   ]
  },
  {
   "cell_type": "code",
   "execution_count": null,
   "id": "developing-comparison",
   "metadata": {
    "ExecuteTime": {
     "end_time": "2022-04-06T10:26:28.841389Z",
     "start_time": "2022-04-06T10:26:22.389312Z"
    }
   },
   "outputs": [],
   "source": [
    "gpv = gp.plot_3d(geo_model, image=False, show_topography=True,\n",
    "                 plotter_type='basic', notebook=True, show_lith=True)"
   ]
  },
  {
   "cell_type": "code",
   "execution_count": null,
   "id": "annual-clarity",
   "metadata": {},
   "outputs": [],
   "source": []
  }
 ],
 "metadata": {
  "hide_input": false,
  "kernelspec": {
   "display_name": "Python 3 (ipykernel)",
   "language": "python",
   "name": "python3"
  },
  "language_info": {
   "codemirror_mode": {
    "name": "ipython",
    "version": 3
   },
   "file_extension": ".py",
   "mimetype": "text/x-python",
   "name": "python",
   "nbconvert_exporter": "python",
   "pygments_lexer": "ipython3",
   "version": "3.9.15"
  },
  "varInspector": {
   "cols": {
    "lenName": 16,
    "lenType": 16,
    "lenVar": 40
   },
   "kernels_config": {
    "python": {
     "delete_cmd_postfix": "",
     "delete_cmd_prefix": "del ",
     "library": "var_list.py",
     "varRefreshCmd": "print(var_dic_list())"
    },
    "r": {
     "delete_cmd_postfix": ") ",
     "delete_cmd_prefix": "rm(",
     "library": "var_list.r",
     "varRefreshCmd": "cat(var_dic_list()) "
    }
   },
   "types_to_exclude": [
    "module",
    "function",
    "builtin_function_or_method",
    "instance",
    "_Feature"
   ],
   "window_display": false
  }
 },
 "nbformat": 4,
 "nbformat_minor": 5
}
