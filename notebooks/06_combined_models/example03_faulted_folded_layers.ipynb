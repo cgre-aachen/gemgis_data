{
 "cells": [
  {
   "cell_type": "markdown",
   "id": "arranged-tenant",
   "metadata": {},
   "source": [
    "<img src=\"../../data/images/gempy_logo.png\" />\n",
    "\n",
    "# <center> From Maps to Models - Tutorials for structural geological modeling using GemPy and GemGIS</center>\n",
    "\n",
    "# Example 3 - Faulted Folded Layers\n",
    "\n",
    "This example will show how to convert the geological map below using ``GemGIS`` to a `GemPy` model. This example is based on digitized data. The area is 4022 m wide (W-E extent) and 2761 m high (N-S extent). The vertical model extent varies between 0 m and 1000 m. The model represents folded layers which are cut by a roughly N-S trending fault. \n",
    "\n",
    "<div class=\"alert alert-block alert-success\">\n",
    "<b>In this tutorial, you will learn the following:</b> <br>\n",
    "- How to build your 15th GemPy model with input data generated through GemGIS<br>\n",
    "- How to create models consisting of combined structural elements like fold and faults\n",
    "</div>\n",
    "\n",
    "## Your Tasks\n",
    "\n",
    "\n",
    "1. Georeference the map in QGIS given the dimensions above using the coordinate reference system with the EPSG code 4326\n",
    "2. Digitize the layer boundaries (including a `formation` column) and the topographic lines (including a `Z` column)\n",
    "3. Digitize so-called strike lines for the different layers. The orientations used for `GemPy` will be calculated from the strike lines.\n",
    "\n",
    "## Contents\n",
    "\n",
    "1. [Installing GemPy and GemGIS](#installing-gempy)\n",
    "2. [Importing Libraries](#importing-libraries)\n",
    "3. [Data Preparation](#data-preparation)\n",
    "    1. [Creating Digital Elevation Model from Contour lines](#creating-digital-elevation-model-from-contour-lines)\n",
    "        1. [Loading Contour Lines](#loading-contour-lines)\n",
    "        2. [Plotting Contour Lines](#plotting-contour-lines)\n",
    "        3. [Interpolating Contour Lines](#interpolating-contour-lines)\n",
    "        4. [Plotting the raster](#plotting-the-raster)\n",
    "        5. [Saving the raster to disc](#saving-the-raster-to-disc)\n",
    "        6. [Opening raster](#opening-raster)\n",
    "    2. [Processing Stratigraphic Boundaries](#processing-stratigraphic-boundaries)\n",
    "        1. [Opening Stratigraphic Boundaries](#opening-stratigraphic-boundaries)\n",
    "        2. [Plotting Stratigraphic Boundaries](#plotting-stratigraphic-boundaries)\n",
    "        3. [Extracting Z coordinates from Digital Elevation Model](#extracting-z-coordinates-from-digital-elevation-model)\n",
    "        4. [Plotting the Interface Points](#plotting-the-interface-points)\n",
    "    3. [Processing Orientations](#processing-orientations)\n",
    "        1. [Orientations from Strike Lines](#orientations-strike-lines)\n",
    "        2. [Loading Strike Lines](#loading-strike-lines)\n",
    "        3. [Plotting Strike Lines](#plotting-strike-lines)\n",
    "        4. [Calculate Orientations for each formation](#calculate-orientations-for-each-formation)\n",
    "        5. [Merging Orientations for GemPy](#merging-orientations-for-gempy)\n",
    "        6. [Plotting Orientations](#plotting-the-orientations)\n",
    "4. [GemPy Model calculation](#gempy-model-calculation)\n",
    "    1. [Creating the GemPy Model](#creating-the-gempy-model)\n",
    "    2. [Data Initiation](#data-initiation)\n",
    "    3. [Inspecting the Surfaces](#inspecting-the-surfaces)\n",
    "    4. [Inspecting the Input Data](#inspecting-the-input-data)\n",
    "    5. [Map Stack to Surfaces](#map-stack-to-surfaces)\n",
    "    6. [Showing the Number of Data Points](#showing-the-number-of-data-points)\n",
    "    7. [Loading Digital Elevation Model](#loading-digital-elevation-model)\n",
    "    8. [Defining Custom Section](#defining-custom-section)\n",
    "    6. [Plotting Input Data in 2D](#plotting-the-input-data-in-2d)\n",
    "    7. [Plotting Input Data in 3D](#plotting-the-input-data-in-3d)\n",
    "    8. [Setting the Interpolator](#setting-the-interpolator)\n",
    "    9. [Computing the Model](#computing-the-model)\n",
    "5. [Model Visualization and Post-Processing](#model-visualization-and-post-processing)\n",
    "    1. [Visualizing the computed model in 2D](#visualizing-the-computed-model-in-2d)\n",
    "    2. [Visualizing the computed model in 3D](#visualizing-the-computed-model-in-3d)    \n",
    "    \n",
    " <img src=\"../../data/images/example18/cover_example18.png\" />\n",
    "Source: Bennison, G.M. (1988): An Introduction to Geological Structures and Maps, page 46, figure 19, Springer Verlag Berlin, Heidelberg, New York, ISBN: 978-1-4615-9632-5"
   ]
  },
  {
   "cell_type": "markdown",
   "id": "alike-configuration",
   "metadata": {},
   "source": [
    "<a id='installing-gempy'></a>\n",
    "\n",
    "# Installing GemPy and GemGIS\n",
    "\n",
    "If you have not installed `GemPy` yet, please follow the [GemPy installation instructions](https://docs.gempy.org/installation.html) and the [GemGIS installation instructions](https://gemgis.readthedocs.io/en/latest/getting_started/installation.html). If you encounter any issues, feel free to open a new discussion at [GemPy Discussions](https://github.com/cgre-aachen/gempy/discussions) or [GemGIS Discussions](https://github.com/cgre-aachen/gemgis/discussions). If you encounter an error in the installation process, feel free to also open an issue at [GemPy Issues](https://github.com/cgre-aachen/gempy/issues) or [GemGIS Issues](https://github.com/cgre-aachen/gemgis/issues). There, the `GemPy` and `GemGIS` development teams will help you out. "
   ]
  },
  {
   "cell_type": "markdown",
   "id": "allied-vessel",
   "metadata": {},
   "source": [
    "<a id='importing-libraries'></a>\n",
    "\n",
    "# Importing Libraries\n",
    "\n",
    "For this notebook, we need the `geopandas` library for the data preparation, `rasterio` for dealing with the created digital elevation model, `matplotlib` for plotting, `numpy` for some numerical calculations, `pandas` for manipulating `DataFrames` and of course the `gempy` and `gemgis` libraries. Any warnings that may appear can be ignored for now. The file path is set to load the data provided for this tutorial. "
   ]
  },
  {
   "cell_type": "code",
   "execution_count": null,
   "id": "polar-appliance",
   "metadata": {
    "ExecuteTime": {
     "end_time": "2022-04-06T10:20:00.022623Z",
     "start_time": "2022-04-06T10:20:00.009621Z"
    }
   },
   "outputs": [],
   "source": [
    "import geopandas as gpd\n",
    "import rasterio\n",
    "import warnings\n",
    "warnings.filterwarnings(\"ignore\")\n",
    "import gemgis as gg\n",
    "import matplotlib.pyplot as plt\n",
    "import numpy as np\n",
    "import gempy as gp\n",
    "import pyvista as pv\n",
    "import pandas as pd"
   ]
  },
  {
   "cell_type": "code",
   "execution_count": null,
   "id": "healthy-queens",
   "metadata": {
    "ExecuteTime": {
     "end_time": "2022-04-06T10:20:00.038626Z",
     "start_time": "2022-04-06T10:20:00.024623Z"
    }
   },
   "outputs": [],
   "source": [
    "file_path = '../../data/example18_faulted_folded_layers/'"
   ]
  },
  {
   "cell_type": "markdown",
   "id": "impressed-database",
   "metadata": {},
   "source": [
    "<a id='data-preparation'></a>\n",
    "# Data Preparation\n",
    "\n",
    "At his point, you should have the topographic contour lines (including a `Z` column) and the layer boundaries (including a `formation` column) digitized. If not, please generate the data before continuing with this tutorial. \n",
    "\n",
    "<a id='creating-digital-elevation-model-from-contour-lines'></a>\n",
    "## Creating Digital Elevation Model from Contour Lines\n",
    "\n",
    "The digital elevation model (DEM) will be created by interpolating the contour lines digitized from the georeferenced map using the `SciPy` [Radial Basis Function interpolation](https://docs.scipy.org/doc/scipy/reference/generated/scipy.interpolate.Rbf.html) wrapped in `GemGIS`. The respective function used for that is `gg.vector.interpolate_raster()`. \n",
    "\n",
    "There is also a [tutorial available for this task on the GemGIS Documentation page](https://gemgis.readthedocs.io/en/latest/getting_started/tutorial/05_interpolating_rasters.html).\n",
    "\n",
    "<img src=\"../../data/images/example18/dem_example18.png\" width=700/>\n",
    "Source: Bennison, G.M. (1988): An Introduction to Geological Structures and Maps, page 46, figure 19, Springer Verlag Berlin, Heidelberg, New York, ISBN: 978-1-4615-9632-5\n",
    "\n",
    "\n",
    "<a id='loading-contour-lines'></a>\n",
    "### Loading contour lines\n",
    "\n",
    "First, the contour lines are loaded using `GeoPandas`. Please provide here the name of your shape file containing the digitized topographic contour lines. "
   ]
  },
  {
   "cell_type": "code",
   "execution_count": null,
   "id": "informed-tomorrow",
   "metadata": {
    "ExecuteTime": {
     "end_time": "2022-04-06T10:20:00.389708Z",
     "start_time": "2022-04-06T10:20:00.264682Z"
    }
   },
   "outputs": [],
   "source": [
    "topo = gpd.read_file(file_path + 'topo18.shp')\n",
    "topo.head()"
   ]
  },
  {
   "cell_type": "markdown",
   "id": "d7a22758",
   "metadata": {},
   "source": [
    "<a id='plotting-contour-lines'></a>\n",
    "\n",
    "### Plotting the contour lines\n",
    "\n",
    "The contour lines are plotted using the built-in plotting function of `GeoPandas`. "
   ]
  },
  {
   "cell_type": "code",
   "execution_count": null,
   "id": "cf066517",
   "metadata": {},
   "outputs": [],
   "source": [
    "topo.plot(column='Z', aspect=1, legend=True, cmap='gist_earth')"
   ]
  },
  {
   "cell_type": "markdown",
   "id": "inclusive-florence",
   "metadata": {},
   "source": [
    "<a id='interpolating-contour-lines'></a>\n",
    "\n",
    "### Interpolating the contour lines\n",
    "\n",
    "The digital elevation model (DEM) will be created by interpolating the contour lines digitized from the georeferenced map using the `SciPy` [Radial Basis Function interpolation](https://docs.scipy.org/doc/scipy/reference/generated/scipy.interpolate.Rbf.html) wrapped in `GemGIS`. The respective function used for that is `gg.vector.interpolate_raster()`. \n"
   ]
  },
  {
   "cell_type": "code",
   "execution_count": null,
   "id": "revolutionary-calibration",
   "metadata": {
    "ExecuteTime": {
     "end_time": "2022-04-06T10:20:03.929106Z",
     "start_time": "2022-04-06T10:20:00.393710Z"
    }
   },
   "outputs": [],
   "source": [
    "topo_raster = gg.vector.interpolate_raster(gdf=topo, value='Z', method='rbf', res=10)"
   ]
  },
  {
   "cell_type": "markdown",
   "id": "experimental-press",
   "metadata": {},
   "source": [
    "<a id='plotting-the-raster'></a>\n",
    "\n",
    "### Plotting the raster\n",
    "\n",
    "The interpolated digital elevation model can be displayed using `matplotlib` and its `plt.imshow()` function and by providing the extent of the raster to align it with the contour lines. "
   ]
  },
  {
   "cell_type": "code",
   "execution_count": null,
   "id": "frozen-gazette",
   "metadata": {
    "ExecuteTime": {
     "end_time": "2022-04-06T10:20:04.501277Z",
     "start_time": "2022-04-06T10:20:03.933108Z"
    }
   },
   "outputs": [],
   "source": [
    "import matplotlib.pyplot as plt\n",
    "\n",
    "from mpl_toolkits.axes_grid1 import make_axes_locatable\n",
    "fix, ax = plt.subplots(1, figsize=(10, 10))\n",
    "topo.plot(ax=ax, aspect='equal', column='Z', cmap='gist_earth')\n",
    "im = plt.imshow(topo_raster, origin='lower', extent=[0, 4022, 0, 2761], cmap='gist_earth')\n",
    "divider = make_axes_locatable(ax)\n",
    "cax = divider.append_axes(\"right\", size=\"5%\", pad=0.05)\n",
    "cbar = plt.colorbar(im, cax=cax)\n",
    "cbar.set_label('Altitude [m]')\n",
    "ax.set_xlabel('X [m]')\n",
    "ax.set_ylabel('Y [m]')\n",
    "ax.set_xlim(0, 4022)\n",
    "ax.set_ylim(0, 2761)"
   ]
  },
  {
   "cell_type": "markdown",
   "id": "common-franklin",
   "metadata": {},
   "source": [
    "<a id='saving-the-raster-to-disc'></a>\n",
    "\n",
    "### Saving the raster to disc\n",
    "\n",
    "After the interpolation of the contour lines, the raster is saved to disc using `gg.raster.save_as_tiff()`. The function will not be executed as a raster is already provided with the example data. "
   ]
  },
  {
   "cell_type": "raw",
   "id": "expressed-rehabilitation",
   "metadata": {
    "ExecuteTime": {
     "end_time": "2021-04-04T07:48:03.186792Z",
     "start_time": "2021-04-04T07:48:03.151869Z"
    }
   },
   "source": [
    "gg.raster.save_as_tiff(raster=topo_raster, path=file_path + 'raster18.tif', extent=[0, 4022, 0, 2761], crs='EPSG:4326', overwrite_file=True)"
   ]
  },
  {
   "cell_type": "markdown",
   "id": "under-pursuit",
   "metadata": {},
   "source": [
    "<a id='opening-raster'></a>\n",
    "\n",
    "### Opening Raster\n",
    "\n",
    "The previously computed and saved raster can now be opened using rasterio. "
   ]
  },
  {
   "cell_type": "code",
   "execution_count": null,
   "id": "silver-defendant",
   "metadata": {
    "ExecuteTime": {
     "end_time": "2022-04-06T10:20:04.581297Z",
     "start_time": "2022-04-06T10:20:04.504278Z"
    }
   },
   "outputs": [],
   "source": [
    "topo_raster = rasterio.open(file_path + 'raster18.tif')"
   ]
  },
  {
   "cell_type": "markdown",
   "id": "central-option",
   "metadata": {
    "ExecuteTime": {
     "end_time": "2021-03-28T12:43:27.113805Z",
     "start_time": "2021-03-28T12:43:27.067793Z"
    }
   },
   "source": [
    "<a id='processing-stratigraphic-boundaries'></a>\n",
    "\n",
    "## Processing Stratigraphic Boundaries\n",
    "\n",
    "The interface points will be extracted from LineStrings digitized from the georeferenced map using QGIS. It is important to provide a `formation` name for each layer boundary. Up until now, only the `X` and `Y` position are stored in the vertices of the LineStrings. Using the digital elevation model created already, we will now sample the elevation model at the locations of the vertices to extract the height at this point as the stratigraphic boundary was mapped at the surface.\n",
    "\n",
    "<img src=\"../../data/images/example18/interfaces_example18.png\" width=700/>\n",
    "Source: Bennison, G.M. (1988): An Introduction to Geological Structures and Maps, page 46, figure 19, Springer Verlag Berlin, Heidelberg, New York, ISBN: 978-1-4615-9632-5"
   ]
  },
  {
   "cell_type": "markdown",
   "id": "1223575c",
   "metadata": {},
   "source": [
    "<a id='plotting-stratigraphic-boundaries'></a>\n",
    "\n",
    "### Plotting Stratigraphic Boundaries"
   ]
  },
  {
   "cell_type": "code",
   "execution_count": null,
   "id": "activated-namibia",
   "metadata": {
    "ExecuteTime": {
     "end_time": "2022-04-06T10:20:04.946380Z",
     "start_time": "2022-04-06T10:20:04.854360Z"
    }
   },
   "outputs": [],
   "source": [
    "interfaces = gpd.read_file(file_path + 'interfaces18.shp')\n",
    "interfaces.head()"
   ]
  },
  {
   "cell_type": "markdown",
   "id": "prospective-drink",
   "metadata": {},
   "source": [
    "<a id='extracting-z-coordinates-from-digital-elevation-model'></a>\n",
    "\n",
    "### Extracting Z coordinates from Digital Elevation Model\n",
    "\n",
    "The vertical position of the interface point will be extracted from the digital elevation model using the `GemGIS` function `gg.vector.extract_xyz()`. The resulting GeoDataFrame now contains single points including the information about the respective `formation` as well as the `X`, `Y`, and `Z` location. This is all we need as preparational steps to generate input data for `GemPy`. \n",
    "\n",
    "There is also a [tutorial available for this task on the GemGIS Documentation page](https://gemgis.readthedocs.io/en/latest/getting_started/tutorial/02_extract_xyz.html)."
   ]
  },
  {
   "cell_type": "code",
   "execution_count": null,
   "id": "stopped-saint",
   "metadata": {
    "ExecuteTime": {
     "end_time": "2022-04-06T10:20:05.164430Z",
     "start_time": "2022-04-06T10:20:04.950381Z"
    }
   },
   "outputs": [],
   "source": [
    "interfaces_coords = gg.vector.extract_xyz(gdf=interfaces, dem=topo_raster)\n",
    "interfaces_coords = interfaces_coords.sort_values(by='formation', ascending=False)\n",
    "interfaces_coords = interfaces_coords[interfaces_coords['formation'].isin(['Fault', 'D', 'C', 'B'])]\n",
    "interfaces_coords.head()"
   ]
  },
  {
   "cell_type": "markdown",
   "id": "valued-coast",
   "metadata": {},
   "source": [
    "<a id='plotting-the-interface-points'></a>\n",
    "\n",
    "### Plotting the Interface Points\n",
    "\n",
    "The interface points incuding their altitude (Z-) values and the digitized LineString can be plotted using `matplotlib`. "
   ]
  },
  {
   "cell_type": "code",
   "execution_count": null,
   "id": "involved-association",
   "metadata": {
    "ExecuteTime": {
     "end_time": "2022-04-06T10:20:05.717556Z",
     "start_time": "2022-04-06T10:20:05.167432Z"
    }
   },
   "outputs": [],
   "source": [
    "fig, ax = plt.subplots(1, figsize=(10, 10))\n",
    "\n",
    "interfaces.plot(ax=ax, column='formation', legend=True, aspect='equal')\n",
    "interfaces_coords.plot(ax=ax, column='formation', legend=True, aspect='equal')\n",
    "plt.grid()\n",
    "ax.set_xlabel('X [m]')\n",
    "ax.set_ylabel('Y [m]')\n",
    "ax.set_xlim(0, 4022)\n",
    "ax.set_ylim(0, 2761)"
   ]
  },
  {
   "cell_type": "markdown",
   "id": "inner-mathematics",
   "metadata": {},
   "source": [
    "<a id='processing-orientations'></a>\n",
    "\n",
    "## Processing Orientations\n",
    "\n",
    "For this example, orientations must be calculated yourself. They will be calculated using functions implemented in GemGIS and the previously digitized strike lines. \n",
    "\n",
    "<img src=\"../../data/images/example18/orientations_example18.png\" width=700/>\n",
    "Source: Bennison, G.M. (1988): An Introduction to Geological Structures and Maps, page 46, figure 19, Springer Verlag Berlin, Heidelberg, New York, ISBN: 978-1-4615-9632-5\n",
    "\n",
    "<a id='orientations-strike-lines'></a>\n",
    "### Orientations from Strike Lines\n",
    "\n",
    "Strike lines connect outcropping stratigraphic boundaries (interfaces) of the same altitude. In other words: the intersections between topographic contours and stratigraphic boundaries at the surface. The height difference and the horizontal difference between two digitized lines is used to calculate the dip and azimuth and hence an orientation that is necessary for `GemPy`.\n",
    "\n",
    "The calculation of orientations from strike lines has been implemented into `GemPy` for simple cases like these. In order to calculate the orientations, each set of strikes lines/LineStrings for one formation must be given an id number next to the altitude of the strike line. The id field is already predefined in QGIS. The strike line with the lowest altitude gets the id number `1`, the strike line with the highest altitude the the number according to the number of digitized strike lines. It is currently recommended to use one set of strike lines for each structural element of one formation as illustrated. \n",
    "\n",
    "<img src=\"../../data/images/fig3.png\" width=500/>\n",
    "\n",
    "By CrunchyRocks, after Karla Panchuck - https://openpress.usask.ca/physicalgeology/chapter/13-5-measuring-geological-structures/, CC BY 4.0, https://commons.wikimedia.org/w/index.php?curid=113554289\n",
    "\n",
    "\n",
    "<img src=\"../../data/images/model1_strike_lines.PNG\" width=500/>\n",
    "Source: Powell, D. (1995): Interpretation geologischer Strukturen durch Karten - Eine praktische Anleitung mit Aufgaben und Lösungen, page 14, figure 8, Springer Verlag Berlin, Heidelberg, New York, ISBN: 978-3-540-58607-4."
   ]
  },
  {
   "cell_type": "markdown",
   "id": "39f02832",
   "metadata": {},
   "source": [
    "<a id='loading-strike-lines'></a>\n",
    "### Loading Strike Lines\n",
    "\n",
    "We are using `GeoPandas` to load the strike lines. "
   ]
  },
  {
   "cell_type": "code",
   "execution_count": null,
   "id": "configured-evaluation",
   "metadata": {
    "ExecuteTime": {
     "end_time": "2022-04-06T10:20:06.162189Z",
     "start_time": "2022-04-06T10:20:06.036630Z"
    }
   },
   "outputs": [],
   "source": [
    "strikes = gpd.read_file(file_path + 'strikes18.shp')\n",
    "strikes.head()"
   ]
  },
  {
   "cell_type": "markdown",
   "id": "6b691beb",
   "metadata": {},
   "source": [
    "<a id='plotting-strike-lines'></a>\n",
    "\n",
    "### Plotting Strike Lines\n",
    "\n",
    "The strike lines can be plotted using `matplotlib`. "
   ]
  },
  {
   "cell_type": "code",
   "execution_count": null,
   "id": "d5a78e7c",
   "metadata": {},
   "outputs": [],
   "source": [
    "fig, ax = plt.subplots(1, figsize=(5,5))\n",
    "\n",
    "strikes.plot(ax=ax,column='id', aspect=1)\n",
    "interfaces.plot(ax=ax, column='formation', legend=True, aspect='equal')\n",
    "ax.set_xlabel('X [m]')\n",
    "ax.set_ylabel('Y [m]')\n",
    "\n",
    "\n",
    "ax.grid()"
   ]
  },
  {
   "cell_type": "markdown",
   "id": "imposed-elite",
   "metadata": {},
   "source": [
    "<a id='calculate-orientations-for-each-formation'></a>\n",
    "\n",
    "### Calculate Orientations for each formation\n",
    "\n",
    "The calculations will be calculated using the function `gg.vector.calculate_orientations_from_strike_lines()` where the strike lines for each single formation will be provided and calculated separately. The result is a `GeoDataFrame` ready to be used in `GemPy`."
   ]
  },
  {
   "cell_type": "code",
   "execution_count": null,
   "id": "durable-fault",
   "metadata": {
    "ExecuteTime": {
     "end_time": "2022-04-06T10:20:06.290219Z",
     "start_time": "2022-04-06T10:20:06.165191Z"
    }
   },
   "outputs": [],
   "source": [
    "orientations_d1 = gg.vector.calculate_orientations_from_strike_lines(gdf=strikes[strikes['formation'] == 'D1'].sort_values(by='Z', ascending=True).reset_index())\n",
    "orientations_d1"
   ]
  },
  {
   "cell_type": "code",
   "execution_count": null,
   "id": "satisfactory-monaco",
   "metadata": {
    "ExecuteTime": {
     "end_time": "2022-04-06T10:20:06.401244Z",
     "start_time": "2022-04-06T10:20:06.293220Z"
    }
   },
   "outputs": [],
   "source": [
    "orientations_d2 = gg.vector.calculate_orientations_from_strike_lines(gdf=strikes[strikes['formation'] == 'D2'].sort_values(by='Z', ascending=True).reset_index())\n",
    "orientations_d2"
   ]
  },
  {
   "cell_type": "code",
   "execution_count": null,
   "id": "after-kernel",
   "metadata": {
    "ExecuteTime": {
     "end_time": "2022-04-06T10:20:06.544279Z",
     "start_time": "2022-04-06T10:20:06.404246Z"
    }
   },
   "outputs": [],
   "source": [
    "orientations_d3 = gg.vector.calculate_orientations_from_strike_lines(gdf=strikes[strikes['formation'] == 'D3'].sort_values(by='Z', ascending=True).reset_index())\n",
    "orientations_d3"
   ]
  },
  {
   "cell_type": "code",
   "execution_count": null,
   "id": "promising-longitude",
   "metadata": {
    "ExecuteTime": {
     "end_time": "2022-04-06T10:20:06.684312Z",
     "start_time": "2022-04-06T10:20:06.548283Z"
    }
   },
   "outputs": [],
   "source": [
    "orientations_d4 = gg.vector.calculate_orientations_from_strike_lines(gdf=strikes[strikes['formation'] == 'D4'].sort_values(by='Z', ascending=True).reset_index())\n",
    "orientations_d4"
   ]
  },
  {
   "cell_type": "code",
   "execution_count": null,
   "id": "pleasant-artwork",
   "metadata": {
    "ExecuteTime": {
     "end_time": "2022-04-06T10:20:06.826345Z",
     "start_time": "2022-04-06T10:20:06.688312Z"
    }
   },
   "outputs": [],
   "source": [
    "orientations_c1 = gg.vector.calculate_orientations_from_strike_lines(gdf=strikes[strikes['formation'] == 'C1'].sort_values(by='Z', ascending=True).reset_index())\n",
    "orientations_c1"
   ]
  },
  {
   "cell_type": "code",
   "execution_count": null,
   "id": "interstate-integration",
   "metadata": {
    "ExecuteTime": {
     "end_time": "2022-04-06T10:20:06.970384Z",
     "start_time": "2022-04-06T10:20:06.830345Z"
    }
   },
   "outputs": [],
   "source": [
    "orientations_c2 = gg.vector.calculate_orientations_from_strike_lines(gdf=strikes[strikes['formation'] == 'C2'].sort_values(by='Z', ascending=True).reset_index())\n",
    "orientations_c2"
   ]
  },
  {
   "cell_type": "code",
   "execution_count": null,
   "id": "domestic-sydney",
   "metadata": {
    "ExecuteTime": {
     "end_time": "2022-04-06T10:20:07.143414Z",
     "start_time": "2022-04-06T10:20:06.979385Z"
    }
   },
   "outputs": [],
   "source": [
    "orientations_c3 = gg.vector.calculate_orientations_from_strike_lines(gdf=strikes[strikes['formation'] == 'C3'].sort_values(by='Z', ascending=True).reset_index())\n",
    "orientations_c3"
   ]
  },
  {
   "cell_type": "code",
   "execution_count": null,
   "id": "failing-curtis",
   "metadata": {
    "ExecuteTime": {
     "end_time": "2022-04-06T10:20:07.285447Z",
     "start_time": "2022-04-06T10:20:07.148419Z"
    }
   },
   "outputs": [],
   "source": [
    "orientations_c4 = gg.vector.calculate_orientations_from_strike_lines(gdf=strikes[strikes['formation'] == 'C4'].sort_values(by='Z', ascending=True).reset_index())\n",
    "orientations_c4"
   ]
  },
  {
   "cell_type": "code",
   "execution_count": null,
   "id": "critical-flight",
   "metadata": {
    "ExecuteTime": {
     "end_time": "2022-04-06T10:20:07.396474Z",
     "start_time": "2022-04-06T10:20:07.288452Z"
    }
   },
   "outputs": [],
   "source": [
    "orientations_c5 = gg.vector.calculate_orientations_from_strike_lines(gdf=strikes[strikes['formation'] == 'C5'].sort_values(by='Z', ascending=True).reset_index())\n",
    "orientations_c5"
   ]
  },
  {
   "cell_type": "code",
   "execution_count": null,
   "id": "exact-shade",
   "metadata": {
    "ExecuteTime": {
     "end_time": "2022-04-06T10:20:07.540506Z",
     "start_time": "2022-04-06T10:20:07.404488Z"
    }
   },
   "outputs": [],
   "source": [
    "orientations_b1 = gg.vector.calculate_orientations_from_strike_lines(gdf=strikes[strikes['formation'] == 'B1'].sort_values(by='Z', ascending=True).reset_index())\n",
    "orientations_b1"
   ]
  },
  {
   "cell_type": "code",
   "execution_count": null,
   "id": "active-france",
   "metadata": {
    "ExecuteTime": {
     "end_time": "2022-04-06T10:20:07.635530Z",
     "start_time": "2022-04-06T10:20:07.543506Z"
    }
   },
   "outputs": [],
   "source": [
    "orientations_b2 = gg.vector.calculate_orientations_from_strike_lines(gdf=strikes[strikes['formation'] == 'B2'].sort_values(by='Z', ascending=True).reset_index())\n",
    "orientations_b2"
   ]
  },
  {
   "cell_type": "code",
   "execution_count": null,
   "id": "empty-median",
   "metadata": {
    "ExecuteTime": {
     "end_time": "2022-04-06T10:20:07.763558Z",
     "start_time": "2022-04-06T10:20:07.638532Z"
    }
   },
   "outputs": [],
   "source": [
    "orientations_fault = gpd.read_file(file_path + 'orientations18_fault.shp')\n",
    "orientations_fault = gg.vector.extract_xyz(gdf=orientations_fault, dem=topo_raster)\n",
    "orientations_fault"
   ]
  },
  {
   "cell_type": "markdown",
   "id": "friendly-token",
   "metadata": {},
   "source": [
    "<a id='merging-orientations-for-gempy'></a>\n",
    "\n",
    "### Merging Orientations for GemPy\n",
    "\n",
    "Since `GemPy` only takes one `DataFrame` for the necessary orientations, the single `DataFrames` are concatenated using `pd.concat()`. "
   ]
  },
  {
   "cell_type": "code",
   "execution_count": null,
   "id": "sitting-reproduction",
   "metadata": {
    "ExecuteTime": {
     "end_time": "2022-04-06T10:20:07.811568Z",
     "start_time": "2022-04-06T10:20:07.765558Z"
    }
   },
   "outputs": [],
   "source": [
    "import pandas as pd\n",
    "orientations = pd.concat([orientations_fault, orientations_d1, orientations_d2, orientations_d3, orientations_d4, orientations_c1, orientations_c2, orientations_c3[:-1], orientations_c4, orientations_c5, orientations_b1, orientations_b2]).reset_index()\n",
    "orientations['formation'] = ['Fault', 'Fault', 'D', 'D', 'D', 'D', 'D', 'D', 'C', 'C', 'C', 'C', 'C', 'C', 'C', 'C', 'B', 'B']\n",
    "orientations = orientations[orientations['formation'].isin(['Fault', 'D', 'C', 'B'])]\n",
    "orientations"
   ]
  },
  {
   "cell_type": "markdown",
   "id": "textile-christianity",
   "metadata": {},
   "source": [
    "<a id='plotting-the-orientations'></a>\n",
    "\n",
    "### Plotting the Orientations\n",
    "\n",
    "The orientations can be plotted using `matplotlib`."
   ]
  },
  {
   "cell_type": "code",
   "execution_count": null,
   "id": "detected-certificate",
   "metadata": {
    "ExecuteTime": {
     "end_time": "2022-04-06T10:20:08.472720Z",
     "start_time": "2022-04-06T10:20:07.814569Z"
    }
   },
   "outputs": [],
   "source": [
    "fig, ax = plt.subplots(1, figsize=(10, 10))\n",
    "\n",
    "interfaces.plot(ax=ax, column='formation', legend=True, aspect='equal')\n",
    "interfaces_coords.plot(ax=ax, column='formation', legend=True, aspect='equal')\n",
    "orientations.plot(ax=ax, color='red', aspect='equal')\n",
    "plt.grid()\n",
    "ax.set_xlabel('X [m]')\n",
    "ax.set_ylabel('Y [m]')\n",
    "ax.set_xlim(0, 4022)\n",
    "ax.set_ylim(0, 2761)"
   ]
  },
  {
   "cell_type": "markdown",
   "id": "wired-vietnamese",
   "metadata": {},
   "source": [
    "<a id='gempy-model-calculation'></a>\n",
    "\n",
    "# GemPy Model Calculation\n",
    "\n",
    "\n",
    "The creation of a `GemPy` Model follows particular steps which will be performed in the following:\n",
    "\n",
    "1. Create new model: `gp.create_model()`\n",
    "2. Data Initiation: `gp.init_data()`\n",
    "3. Map Stack to Surfaces: `gp.map_stack_to_surfaces()`\n",
    "4. Set the fault: `geo_model.set_is_fault()`\n",
    "5. Set the Interpolator: `gp.set_interpolator()`\n",
    "6. Computing the Model: `gp.compute_model()`\n",
    "\n",
    "<a id='creating-the-gempy-model'></a>\n",
    "\n",
    "## Creating the GemPy Model\n",
    "\n",
    "The first step is to create a new empty `GemPy` model by providing a name for it. "
   ]
  },
  {
   "cell_type": "code",
   "execution_count": null,
   "id": "binding-fishing",
   "metadata": {
    "ExecuteTime": {
     "end_time": "2022-04-06T10:20:12.317413Z",
     "start_time": "2022-04-06T10:20:11.031248Z"
    }
   },
   "outputs": [],
   "source": [
    "geo_model = gp.create_model('Model18')\n",
    "geo_model"
   ]
  },
  {
   "cell_type": "markdown",
   "id": "stopped-poster",
   "metadata": {},
   "source": [
    "<a id='data-initiation'></a>\n",
    "\n",
    "## Data Initiation\n",
    "\n",
    "During this step, the `extent` of the model (`xmin`, `xmax`, `ymin`, `ymax`, `zmin`, `zmax`) and the `resolution` in `X`, `Y`and `Z` direction (`res_x`, `res_y`, `res_z`, equal to the number of cells in each direction) will be set using lists of values. \n",
    "\n",
    "The interface points (`surface_points_df`) and orientations (`orientations_df`) will be passed as `pandas` `DataFrames`. "
   ]
  },
  {
   "cell_type": "code",
   "execution_count": null,
   "id": "assisted-nothing",
   "metadata": {
    "ExecuteTime": {
     "end_time": "2022-04-06T10:20:12.683679Z",
     "start_time": "2022-04-06T10:20:12.320414Z"
    }
   },
   "outputs": [],
   "source": [
    "gp.init_data(geo_model, [0, 4022, 0, 2761, 0, 1000], [100, 100, 100],\n",
    "             surface_points_df=interfaces_coords[interfaces_coords['Z'] != 0],\n",
    "             orientations_df=orientations,\n",
    "             default_values=True)"
   ]
  },
  {
   "cell_type": "markdown",
   "id": "integrated-pension",
   "metadata": {},
   "source": [
    "<a id='inspecting-the-surfaces'></a>\n",
    "\n",
    "## Inspecting the Surfaces\n",
    "\n",
    "The model consists of three different layers or surfaces now which all belong to the `Default series`. During the next step, the proper `Series` will be assigned to the surfaces. Using the `surfaces`-attribute again, we can check which layers were loaded."
   ]
  },
  {
   "cell_type": "code",
   "execution_count": null,
   "id": "cutting-energy",
   "metadata": {
    "ExecuteTime": {
     "end_time": "2022-04-06T10:20:12.779700Z",
     "start_time": "2022-04-06T10:20:12.685670Z"
    }
   },
   "outputs": [],
   "source": [
    "geo_model.surfaces"
   ]
  },
  {
   "cell_type": "markdown",
   "id": "2c303daf",
   "metadata": {},
   "source": [
    "<a id='inspecting-the-input-data'></a>\n",
    "\n",
    "## Inspecting the Input Data\n",
    "\n",
    "The loaded interface points and orientations can again be inspected using the `surface_points`- and `orientations`-attributes. Using the `df`-attribute of this object will convert the displayed table in a `pandas` `DataFrame`."
   ]
  },
  {
   "cell_type": "code",
   "execution_count": null,
   "id": "5ab00c97",
   "metadata": {},
   "outputs": [],
   "source": [
    "geo_model.surface_points.df.head()"
   ]
  },
  {
   "cell_type": "code",
   "execution_count": null,
   "id": "38c83115",
   "metadata": {},
   "outputs": [],
   "source": [
    "geo_model.orientations.df.head()"
   ]
  },
  {
   "cell_type": "markdown",
   "id": "younger-young",
   "metadata": {},
   "source": [
    "<a id='map-stack-to-surfaces'></a>\n",
    "\n",
    "## Map Stack to Surfaces\n",
    "\n",
    "During this step, all the layers of the model are assigned to the `Strata1` series. This is because the layers are laying unconformable on top of each other. We will also add a `Basement` here (`geo_model.add_surfaces('Basement')`). The order within one series also defines the age relations within this series and has to be according to the depositional events of the layers. "
   ]
  },
  {
   "cell_type": "code",
   "execution_count": null,
   "id": "formed-thought",
   "metadata": {
    "ExecuteTime": {
     "end_time": "2022-04-06T10:20:13.000751Z",
     "start_time": "2022-04-06T10:20:12.782689Z"
    }
   },
   "outputs": [],
   "source": [
    "gp.map_stack_to_surfaces(geo_model,\n",
    "                         {\n",
    "                          'Fault1': ('Fault'), \n",
    "                          'Strata1': ('D', 'C', 'B'),   \n",
    "                         },\n",
    "                         remove_unused_series=True)\n",
    "geo_model.add_surfaces('A')"
   ]
  },
  {
   "cell_type": "markdown",
   "id": "c310b5dd",
   "metadata": {},
   "source": [
    "<a id='setting-faults'></a>\n",
    "\n",
    "## Setting Faults \n",
    "\n",
    "In addition to `Series` for the layers, we defined one `Series` containing the fault. We will also add a `Basement` here. In order for `GemPy` to recognize the faults as faults, we need to define them as faults (`set_is_fault`). "
   ]
  },
  {
   "cell_type": "code",
   "execution_count": null,
   "id": "9b837eb4",
   "metadata": {},
   "outputs": [],
   "source": [
    "geo_model.set_is_fault(['Fault1'])"
   ]
  },
  {
   "cell_type": "markdown",
   "id": "subtle-techno",
   "metadata": {},
   "source": [
    "<a id='showing-the-number-of-data-points'></a>\n",
    "\n",
    "## Showing the Number of Data Points\n",
    "\n",
    "You can also return the number of interfaces and orientations for each formation using `gg.utils.show_number_of_data_points()`"
   ]
  },
  {
   "cell_type": "code",
   "execution_count": null,
   "id": "forty-treaty",
   "metadata": {
    "ExecuteTime": {
     "end_time": "2022-04-06T10:20:13.095765Z",
     "start_time": "2022-04-06T10:20:13.002732Z"
    }
   },
   "outputs": [],
   "source": [
    "gg.utils.show_number_of_data_points(geo_model=geo_model)"
   ]
  },
  {
   "cell_type": "markdown",
   "id": "medieval-deployment",
   "metadata": {},
   "source": [
    "<a id='loading-digital-elevation-model'></a>\n",
    "\n",
    "## Loading Digital Elevation Model\n",
    "\n",
    "`GemPy` is capable of including a topography into the modeling process. Here, we use the topography that we have interpolated in one of the previous steps. `GemPy` takes the file path of the raster/digital elevation model and loads it as grid into the `geo_model` object."
   ]
  },
  {
   "cell_type": "code",
   "execution_count": null,
   "id": "subsequent-technique",
   "metadata": {
    "ExecuteTime": {
     "end_time": "2022-04-06T10:20:13.779300Z",
     "start_time": "2022-04-06T10:20:13.098754Z"
    }
   },
   "outputs": [],
   "source": [
    "geo_model.set_topography(\n",
    "    source='gdal', filepath=file_path + 'raster18.tif')"
   ]
  },
  {
   "cell_type": "markdown",
   "id": "extreme-drink",
   "metadata": {},
   "source": [
    "<a id='plotting-the-input-data-in-2d'></a>\n",
    "\n",
    "## Plotting the input data in 2D using Matplotlib\n",
    "\n",
    "The input data can now be visualized in 2D using `matplotlib`. This might for example be useful to check if all points and measurements are defined the way we want them to. Using the function `plot_2d()`, we attain a 2D projection of our data points onto a plane of chosen direction (we can choose this attribute to be either `'x'`, `'y'`, or `'z'`)."
   ]
  },
  {
   "cell_type": "code",
   "execution_count": null,
   "id": "conservative-philip",
   "metadata": {
    "ExecuteTime": {
     "end_time": "2022-04-06T10:20:14.175633Z",
     "start_time": "2022-04-06T10:20:13.782300Z"
    }
   },
   "outputs": [],
   "source": [
    "gp.plot_2d(geo_model, direction='z', show_lith=False, show_boundaries=False)\n",
    "plt.grid()"
   ]
  },
  {
   "cell_type": "markdown",
   "id": "bd6f73be",
   "metadata": {},
   "source": [
    "<a id='plotting-the-input-data-in-3d'></a>\n",
    "\n",
    "## Plotting the input data in 3D using PyVista\n",
    "\n",
    "The input data can also be viszualized using the `pyvista` package. In this view, the interface points are visible as well as the orientations (marked as arrows) which indicate the normals of each orientation value. \n",
    "\n",
    "The `pyvista` package requires the Visualization Toolkit (VTK) to be installed."
   ]
  },
  {
   "cell_type": "code",
   "execution_count": null,
   "id": "vocational-intranet",
   "metadata": {
    "ExecuteTime": {
     "end_time": "2022-04-06T10:20:15.026832Z",
     "start_time": "2022-04-06T10:20:14.177633Z"
    }
   },
   "outputs": [],
   "source": [
    "gp.plot_3d(geo_model, image=False, plotter_type='basic', notebook=True)"
   ]
  },
  {
   "cell_type": "markdown",
   "id": "geological-triple",
   "metadata": {},
   "source": [
    "<a id='setting-the-interpolator'></a>\n",
    "## Setting the interpolator\n",
    "\n",
    "Once we have made sure that we have defined all our primary information, we can continue with the next step towards creating our geological model: preparing the input data for interpolation.\n",
    "\n",
    "Setting the interpolator is necessary before computing the actual model. Here, the most important kriging parameters can be defined. "
   ]
  },
  {
   "cell_type": "code",
   "execution_count": null,
   "id": "external-clerk",
   "metadata": {
    "ExecuteTime": {
     "end_time": "2022-04-06T10:20:19.416214Z",
     "start_time": "2022-04-06T10:20:15.028832Z"
    }
   },
   "outputs": [],
   "source": [
    "gp.set_interpolator(geo_model,\n",
    "                    compile_theano=True,\n",
    "                    theano_optimizer='fast_compile',\n",
    "                    verbose=[],\n",
    "                    update_kriging=False\n",
    "                    )"
   ]
  },
  {
   "cell_type": "markdown",
   "id": "above-lending",
   "metadata": {},
   "source": [
    "<a id='computing-the-model'></a>\n",
    "\n",
    "## Computing the model\n",
    "\n",
    "At this point, we have all we need to compute our full model via `gp.compute_model()`. By default, this will return two separate solutions in the form of arrays. The first provides information on the lithological formations, the second on the fault network in the model, which is not present in this example. "
   ]
  },
  {
   "cell_type": "code",
   "execution_count": null,
   "id": "impressed-adams",
   "metadata": {
    "ExecuteTime": {
     "end_time": "2022-04-06T10:24:18.727127Z",
     "start_time": "2022-04-06T10:20:19.418215Z"
    }
   },
   "outputs": [],
   "source": [
    "sol = gp.compute_model(geo_model, compute_mesh=True)"
   ]
  },
  {
   "cell_type": "code",
   "execution_count": null,
   "id": "b5aecf89",
   "metadata": {},
   "outputs": [],
   "source": [
    "sol"
   ]
  },
  {
   "cell_type": "code",
   "execution_count": null,
   "id": "9510e2e1",
   "metadata": {},
   "outputs": [],
   "source": [
    "geo_model.solutions"
   ]
  },
  {
   "cell_type": "markdown",
   "id": "developing-wallet",
   "metadata": {},
   "source": [
    "<a id='model-visualization-and-post-processing'></a>\n",
    "\n",
    "# Model Visualization and Post-Processing\n",
    "\n",
    "<a id='visualizing-the-computed-model-in-2d'></a>\n",
    "\n",
    "## Visulazing Cross Sections of the computed model\n",
    "\n",
    "Cross sections in different `direction`s and at different `cell_number`s can be displayed. Here, we see the horizontal layers in the one direction and the faulted layers in the other direction."
   ]
  },
  {
   "cell_type": "code",
   "execution_count": null,
   "id": "champion-collectible",
   "metadata": {
    "ExecuteTime": {
     "end_time": "2022-04-06T10:24:19.916422Z",
     "start_time": "2022-04-06T10:24:18.740130Z"
    }
   },
   "outputs": [],
   "source": [
    "gp.plot_2d(geo_model, direction=['x', 'x', 'y', 'y'], cell_number=[25, 75, 25, 75], show_topography=True, show_data=False)"
   ]
  },
  {
   "cell_type": "markdown",
   "id": "97779199",
   "metadata": {},
   "source": [
    "Next to the lithology data, we can also plot the calculated scalar field."
   ]
  },
  {
   "cell_type": "code",
   "execution_count": null,
   "id": "8de8d64c",
   "metadata": {},
   "outputs": [],
   "source": [
    "gp.plot_2d(geo_model, direction='x', show_data=False, show_scalar=True, show_lith=False)"
   ]
  },
  {
   "cell_type": "markdown",
   "id": "intimate-connectivity",
   "metadata": {},
   "source": [
    "<a id='visualizing-the-computed-model-in-3d'></a>\n",
    "\n",
    "# Visualizing the computed model in 3D\n",
    "\n",
    "The computed model can be visualized in 3D using the `pyvista` library. Setting `notebook=False` will open an interactive windows and the model can be rotated and zooming is possible. "
   ]
  },
  {
   "cell_type": "code",
   "execution_count": null,
   "id": "developing-comparison",
   "metadata": {
    "ExecuteTime": {
     "end_time": "2022-04-06T10:24:24.250099Z",
     "start_time": "2022-04-06T10:24:19.919439Z"
    }
   },
   "outputs": [],
   "source": [
    "gpv = gp.plot_3d(geo_model, image=False, show_topography=True,\n",
    "                 plotter_type='basic', notebook=True, show_lith=True)"
   ]
  },
  {
   "cell_type": "markdown",
   "id": "43d51119",
   "metadata": {},
   "source": [
    "<a id='conclusions'></a>\n",
    "# Conclusions\n",
    "\n",
    "<div class=\"alert alert-block alert-success\">\n",
    "<b>In this tutorial, you have learnt the following:</b> <br>\n",
    "- How to build your 15th GemPy model with input data generated through GemGIS<br>\n",
    "- How to create models consisting of combined structural elements like fold and faults\n",
    "</div>\n",
    "\n",
    "<a id='outlook'></a>\n",
    "# Outlook\n",
    "\n",
    "<div class=\"alert alert-block alert-success\">\n",
    "<b>In the next tutorial, you will learn the following:</b> <br>\n",
    "- How to build your 16th GemPy model with input data generated through GemGIS<br>\n",
    "- How to create models from a three-point-problem\n",
    "</div>\n",
    "\n",
    "[Take me to the next notebook on Github](https://nbviewer.org/github/cgre-aachen/gemgis_data/blob/main/notebooks/07_special_models/example01_three_point_problem.ipynb)\n",
    "\n",
    "[Take me to the next notebook locally](../07_special_models/example01_three_point_problem.ipynb)\n",
    "\n",
    "<img src=\"../../data/images/example12/cover_example12.png\" />\n",
    "Source: Bennison, G.M. (1988): An Introduction to Geological Structures and Maps, page 12, figure 5, Springer Verlag Berlin, Heidelberg, New York, ISBN: 978-1-4615-9632-5\n",
    "\n",
    "\n",
    "<a id='licensing'></a>\n",
    "\n",
    "## Licensing\n",
    "\n",
    "Institute for Computational Geoscience, Geothermics and Reservoir Geophysics, RWTH Aachen University & Fraunhofer IEG, Fraunhofer Research Institution for Energy Infrastructures and Geotechnologies IEG, Authors: Alexander Juestel. For more information contact: alexander.juestel(at)ieg.fraunhofer.de\n",
    "\n",
    "All notebooks are licensed under a Creative Commons Attribution 4.0 International License (CC BY 4.0, http://creativecommons.org/licenses/by/4.0/). References for each displayed map are provided. Most of the maps originate from the books of [Powell (1992)](https://link.springer.com/book/9783540586074) and [Bennison (1990)](https://link.springer.com/book/10.1007/978-1-4615-9630-1). References for maps with unknown origin will gladly be added."
   ]
  }
 ],
 "metadata": {
  "hide_input": false,
  "kernelspec": {
   "display_name": "Python 3 (ipykernel)",
   "language": "python",
   "name": "python3"
  },
  "language_info": {
   "codemirror_mode": {
    "name": "ipython",
    "version": 3
   },
   "file_extension": ".py",
   "mimetype": "text/x-python",
   "name": "python",
   "nbconvert_exporter": "python",
   "pygments_lexer": "ipython3",
   "version": "3.9.15"
  },
  "varInspector": {
   "cols": {
    "lenName": 16,
    "lenType": 16,
    "lenVar": 40
   },
   "kernels_config": {
    "python": {
     "delete_cmd_postfix": "",
     "delete_cmd_prefix": "del ",
     "library": "var_list.py",
     "varRefreshCmd": "print(var_dic_list())"
    },
    "r": {
     "delete_cmd_postfix": ") ",
     "delete_cmd_prefix": "rm(",
     "library": "var_list.r",
     "varRefreshCmd": "cat(var_dic_list()) "
    }
   },
   "types_to_exclude": [
    "module",
    "function",
    "builtin_function_or_method",
    "instance",
    "_Feature"
   ],
   "window_display": false
  }
 },
 "nbformat": 4,
 "nbformat_minor": 5
}
