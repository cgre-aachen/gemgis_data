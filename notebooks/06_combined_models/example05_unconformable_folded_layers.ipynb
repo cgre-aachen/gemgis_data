{
 "cells": [
  {
   "cell_type": "markdown",
   "id": "arranged-tenant",
   "metadata": {},
   "source": [
    "# Example 26 - Unconformable Folded Layers\n",
    "\n",
    "This example will show how to convert the geological map below using ``GemGIS`` to a `GemPy` model. This example is based on digitized data. The area is 1022 m wide (W-E extent) and 1172 m high (N-S extent). The model represents unconformable folded layers.\n",
    "\n",
    "The map has been georeferenced with QGIS. The stratigraphic boundaries were digitized in QGIS. Strikes lines were digitized in QGIS as well and will be used to calculate orientations for the `GemPy` model. The contour lines were also digitized and will be interpolated with `GemGIS` to create a topography for the model. \n",
    "\n",
    "\n",
    "Map Source: Unknown"
   ]
  },
  {
   "cell_type": "code",
   "execution_count": null,
   "id": "incoming-consultancy",
   "metadata": {
    "ExecuteTime": {
     "end_time": "2022-04-11T06:27:41.481811Z",
     "start_time": "2022-04-11T06:27:40.911493Z"
    }
   },
   "outputs": [],
   "source": [
    "import matplotlib.pyplot as plt\n",
    "import matplotlib.image as mpimg\n",
    "img = mpimg.imread('../data/images/example26/cover_example26.png')\n",
    "plt.figure(figsize=(10, 10))\n",
    "imgplot = plt.imshow(img)\n",
    "plt.axis('off')\n",
    "plt.tight_layout()"
   ]
  },
  {
   "cell_type": "markdown",
   "id": "strong-registrar",
   "metadata": {},
   "source": [
    "## Licensing\n",
    "\n",
    "Computational Geosciences and Reservoir Engineering, RWTH Aachen University, Authors: Alexander Juestel. For more information contact: alexander.juestel(at)rwth-aachen.de\n",
    "\n",
    "\n",
    "This work is licensed under a Creative Commons Attribution 4.0 International License (http://creativecommons.org/licenses/by/4.0/)"
   ]
  },
  {
   "cell_type": "markdown",
   "id": "allied-vessel",
   "metadata": {},
   "source": [
    "## Import GemGIS\n",
    "\n",
    "If you have installed ``GemGIS`` via pip, you can import ``GemGIS`` like any other package. If you have downloaded the repository, append the path to the directory where the ``GemGIS`` repository is stored and then import ``GemGIS``. "
   ]
  },
  {
   "cell_type": "code",
   "execution_count": null,
   "id": "neither-funeral",
   "metadata": {
    "ExecuteTime": {
     "end_time": "2022-04-11T06:27:42.320730Z",
     "start_time": "2022-04-11T06:27:41.483813Z"
    }
   },
   "outputs": [],
   "source": [
    "import warnings\n",
    "warnings.filterwarnings(\"ignore\")\n",
    "import gemgis as gg"
   ]
  },
  {
   "cell_type": "markdown",
   "id": "latin-packaging",
   "metadata": {},
   "source": [
    "## Importing Libraries and loading Data\n",
    "\n",
    "All remaining packages can be loaded in order to prepare the data and to construct the model. The example data is downloaded form an external server using `pooch`. It will be stored in a data folder in the same directory where this notebook is stored.  "
   ]
  },
  {
   "cell_type": "code",
   "execution_count": null,
   "id": "polar-appliance",
   "metadata": {
    "ExecuteTime": {
     "end_time": "2022-04-11T06:27:42.336312Z",
     "start_time": "2022-04-11T06:27:42.322753Z"
    }
   },
   "outputs": [],
   "source": [
    "import geopandas as gpd\n",
    "import rasterio "
   ]
  },
  {
   "cell_type": "code",
   "execution_count": null,
   "id": "healthy-queens",
   "metadata": {
    "ExecuteTime": {
     "end_time": "2022-04-11T06:27:42.352603Z",
     "start_time": "2022-04-11T06:27:42.338312Z"
    }
   },
   "outputs": [],
   "source": [
    "file_path = '../data/example26_unconformable_folded_layers/'"
   ]
  },
  {
   "cell_type": "markdown",
   "id": "impressed-database",
   "metadata": {},
   "source": [
    "## Creating Digital Elevation Model from Contour Lines\n",
    "\n",
    "The digital elevation model (DEM) will be created by interpolating contour lines digitized from the georeferenced map using the `SciPy` Radial Basis Function interpolation wrapped in `GemGIS`. The respective function used for that is `gg.vector.interpolate_raster()`. \n"
   ]
  },
  {
   "cell_type": "code",
   "execution_count": null,
   "id": "derived-safety",
   "metadata": {
    "ExecuteTime": {
     "end_time": "2022-04-11T06:27:42.542664Z",
     "start_time": "2022-04-11T06:27:42.354622Z"
    }
   },
   "outputs": [],
   "source": [
    "import matplotlib.pyplot as plt\n",
    "import matplotlib.image as mpimg\n",
    "img = mpimg.imread('../data/images/example26/dem_example26.png')\n",
    "plt.figure(figsize=(10, 10))\n",
    "imgplot = plt.imshow(img)\n",
    "plt.axis('off')\n",
    "plt.tight_layout()"
   ]
  },
  {
   "cell_type": "code",
   "execution_count": null,
   "id": "informed-tomorrow",
   "metadata": {
    "ExecuteTime": {
     "end_time": "2022-04-11T06:27:42.590682Z",
     "start_time": "2022-04-11T06:27:42.545665Z"
    }
   },
   "outputs": [],
   "source": [
    "topo = gpd.read_file(file_path + 'topo26.shp')\n",
    "topo['Z'] = topo['Z']*0.5\n",
    "topo.head()"
   ]
  },
  {
   "cell_type": "markdown",
   "id": "inclusive-florence",
   "metadata": {},
   "source": [
    "### Interpolating the contour lines"
   ]
  },
  {
   "cell_type": "code",
   "execution_count": null,
   "id": "revolutionary-calibration",
   "metadata": {
    "ExecuteTime": {
     "end_time": "2022-04-11T06:27:43.225093Z",
     "start_time": "2022-04-11T06:27:42.592669Z"
    }
   },
   "outputs": [],
   "source": [
    "topo_raster = gg.vector.interpolate_raster(gdf=topo, value='Z', method='rbf', res=5)"
   ]
  },
  {
   "cell_type": "markdown",
   "id": "experimental-press",
   "metadata": {},
   "source": [
    "### Plotting the raster"
   ]
  },
  {
   "cell_type": "code",
   "execution_count": null,
   "id": "frozen-gazette",
   "metadata": {
    "ExecuteTime": {
     "end_time": "2022-04-11T06:27:43.528207Z",
     "start_time": "2022-04-11T06:27:43.228097Z"
    }
   },
   "outputs": [],
   "source": [
    "import matplotlib.pyplot as plt\n",
    "\n",
    "from mpl_toolkits.axes_grid1 import make_axes_locatable\n",
    "\n",
    "fix, ax = plt.subplots(1, figsize=(10,10))\n",
    "topo.plot(ax=ax, aspect='equal', column='Z', cmap='gist_earth')\n",
    "im = ax.imshow(topo_raster, origin='lower', extent=[0,1022,0,1172], cmap='gist_earth')\n",
    "divider = make_axes_locatable(ax)\n",
    "cax = divider.append_axes(\"right\", size=\"5%\", pad=0.05)\n",
    "cbar = plt.colorbar(im, cax=cax)\n",
    "cbar.set_label('Altitude [m]')\n",
    "ax.set_xlabel('X [m]')\n",
    "ax.set_ylabel('Y [m]')"
   ]
  },
  {
   "cell_type": "markdown",
   "id": "common-franklin",
   "metadata": {},
   "source": [
    "### Saving the raster to disc\n",
    "\n",
    "After the interpolation of the contour lines, the raster is saved to disc using `gg.raster.save_as_tiff()`. The function will not be executed as as raster is already provided with the example data. "
   ]
  },
  {
   "cell_type": "raw",
   "id": "swedish-miniature",
   "metadata": {
    "ExecuteTime": {
     "end_time": "2022-04-11T06:27:29.661926Z",
     "start_time": "2022-04-11T06:27:29.641859Z"
    }
   },
   "source": [
    "gg.raster.save_as_tiff(raster=topo_raster, path=file_path + 'raster26.tif', extent=[0,1022,0,1172], crs='EPSG:4326', overwrite_file=True)"
   ]
  },
  {
   "cell_type": "markdown",
   "id": "under-pursuit",
   "metadata": {},
   "source": [
    "### Opening Raster\n",
    "\n",
    "The previously computed and saved raster can now be opened using rasterio. "
   ]
  },
  {
   "cell_type": "code",
   "execution_count": null,
   "id": "silver-defendant",
   "metadata": {
    "ExecuteTime": {
     "end_time": "2022-04-11T06:27:43.576221Z",
     "start_time": "2022-04-11T06:27:43.530209Z"
    }
   },
   "outputs": [],
   "source": [
    "topo_raster = rasterio.open(file_path + 'raster26.tif')"
   ]
  },
  {
   "cell_type": "markdown",
   "id": "central-option",
   "metadata": {
    "ExecuteTime": {
     "end_time": "2021-03-28T12:43:27.113805Z",
     "start_time": "2021-03-28T12:43:27.067793Z"
    }
   },
   "source": [
    "## Interface Points of stratigraphic boundaries\n",
    "\n",
    "The interface points will be extracted from LineStrings digitized from the georeferenced map using QGIS. It is important to provide a formation name for each layer boundary. The vertical position of the interface point will be extracted from the digital elevation model using the `GemGIS` function `gg.vector.extract_xyz()`. The resulting GeoDataFrame now contains single points including the information about the respective formation. \n",
    "\n"
   ]
  },
  {
   "cell_type": "code",
   "execution_count": null,
   "id": "rubber-music",
   "metadata": {
    "ExecuteTime": {
     "end_time": "2022-04-11T06:27:43.734202Z",
     "start_time": "2022-04-11T06:27:43.578234Z"
    }
   },
   "outputs": [],
   "source": [
    "import matplotlib.pyplot as plt\n",
    "import matplotlib.image as mpimg\n",
    "img = mpimg.imread('../data/images/example26/interfaces_example26.png')\n",
    "plt.figure(figsize=(10, 10))\n",
    "imgplot = plt.imshow(img)\n",
    "plt.axis('off')\n",
    "plt.tight_layout()"
   ]
  },
  {
   "cell_type": "code",
   "execution_count": null,
   "id": "activated-namibia",
   "metadata": {
    "ExecuteTime": {
     "end_time": "2022-04-11T06:27:43.766190Z",
     "start_time": "2022-04-11T06:27:43.736190Z"
    }
   },
   "outputs": [],
   "source": [
    "interfaces = gpd.read_file(file_path + 'interfaces26.shp')\n",
    "interfaces.head()"
   ]
  },
  {
   "cell_type": "markdown",
   "id": "prospective-drink",
   "metadata": {},
   "source": [
    "### Extracting XY coordinates from Digital Elevation Model"
   ]
  },
  {
   "cell_type": "code",
   "execution_count": null,
   "id": "stopped-saint",
   "metadata": {
    "ExecuteTime": {
     "end_time": "2022-04-11T06:27:43.830224Z",
     "start_time": "2022-04-11T06:27:43.768197Z"
    }
   },
   "outputs": [],
   "source": [
    "interfaces_coords = gg.vector.extract_xyz(gdf=interfaces, dem=topo_raster)\n",
    "interfaces_coords = interfaces_coords.sort_values(by='formation', ascending=False)\n",
    "interfaces_coords.head()"
   ]
  },
  {
   "cell_type": "markdown",
   "id": "valued-coast",
   "metadata": {},
   "source": [
    "### Plotting the Interface Points"
   ]
  },
  {
   "cell_type": "code",
   "execution_count": null,
   "id": "involved-association",
   "metadata": {
    "ExecuteTime": {
     "end_time": "2022-04-11T06:27:44.052272Z",
     "start_time": "2022-04-11T06:27:43.831211Z"
    }
   },
   "outputs": [],
   "source": [
    "fig, ax = plt.subplots(1, figsize=(10,10))\n",
    "\n",
    "interfaces.plot(ax=ax, column='formation', legend=True, aspect='equal')\n",
    "interfaces_coords.plot(ax=ax, column='formation', legend=True, aspect='equal')\n",
    "plt.grid()\n",
    "plt.xlabel('X [m]')\n",
    "plt.ylabel('Y [m]')\n",
    "plt.xlim(0,1022)\n",
    "plt.ylim(0,1172)"
   ]
  },
  {
   "cell_type": "markdown",
   "id": "inner-mathematics",
   "metadata": {},
   "source": [
    "## Orientations from Strike Lines\n",
    "\n",
    "Strike lines connect outcropping stratigraphic boundaries (interfaces) of the same altitude. In other words: the intersections between topographic contours and stratigraphic boundaries at the surface. The height difference and the horizontal difference between two digitized lines is used to calculate the dip and azimuth and hence an orientation that is necessary for `GemPy`. In order to calculate the orientations, each set of strikes lines/LineStrings for one formation must be given an id number next to the altitude of the strike line. The id field is already predefined in QGIS. The strike line with the lowest altitude gets the id number `1`, the strike line with the highest altitude the the number according to the number of digitized strike lines. It is currently recommended to use one set of strike lines for each structural element of one formation as illustrated. \n"
   ]
  },
  {
   "cell_type": "code",
   "execution_count": null,
   "id": "parliamentary-northeast",
   "metadata": {
    "ExecuteTime": {
     "end_time": "2022-04-11T06:27:44.212348Z",
     "start_time": "2022-04-11T06:27:44.054262Z"
    }
   },
   "outputs": [],
   "source": [
    "import matplotlib.pyplot as plt\n",
    "import matplotlib.image as mpimg\n",
    "img = mpimg.imread('../data/images/example26/orientations_example26.png')\n",
    "plt.figure(figsize=(10, 10))\n",
    "imgplot = plt.imshow(img)\n",
    "plt.axis('off')\n",
    "plt.tight_layout()"
   ]
  },
  {
   "cell_type": "code",
   "execution_count": null,
   "id": "configured-evaluation",
   "metadata": {
    "ExecuteTime": {
     "end_time": "2022-04-11T06:27:44.260346Z",
     "start_time": "2022-04-11T06:27:44.213343Z"
    }
   },
   "outputs": [],
   "source": [
    "strikes = gpd.read_file(file_path + 'strikes26.shp')\n",
    "strikes['Z'] = strikes['Z']*0.5\n",
    "strikes"
   ]
  },
  {
   "cell_type": "markdown",
   "id": "imposed-elite",
   "metadata": {},
   "source": [
    "### Calculate Orientations for each formation"
   ]
  },
  {
   "cell_type": "code",
   "execution_count": null,
   "id": "durable-fault",
   "metadata": {
    "ExecuteTime": {
     "end_time": "2022-04-11T06:27:44.324379Z",
     "start_time": "2022-04-11T06:27:44.262351Z"
    }
   },
   "outputs": [],
   "source": [
    "orientations_claystone1 = gg.vector.calculate_orientations_from_strike_lines(gdf=strikes[strikes['formation']=='Claystone1'].sort_values(by='Z', ascending=True).reset_index())\n",
    "orientations_claystone1"
   ]
  },
  {
   "cell_type": "code",
   "execution_count": null,
   "id": "professional-basin",
   "metadata": {
    "ExecuteTime": {
     "end_time": "2022-04-11T06:27:44.387535Z",
     "start_time": "2022-04-11T06:27:44.326374Z"
    }
   },
   "outputs": [],
   "source": [
    "orientations_claystone2 = gg.vector.calculate_orientations_from_strike_lines(gdf=strikes[strikes['formation']=='Claystone2'].sort_values(by='Z', ascending=True).reset_index())\n",
    "orientations_claystone2"
   ]
  },
  {
   "cell_type": "code",
   "execution_count": null,
   "id": "compact-bouquet",
   "metadata": {
    "ExecuteTime": {
     "end_time": "2022-04-11T06:27:44.434556Z",
     "start_time": "2022-04-11T06:27:44.389539Z"
    }
   },
   "outputs": [],
   "source": [
    "orientations_claystone3 = gg.vector.calculate_orientations_from_strike_lines(gdf=strikes[strikes['formation']=='Claystone3'].sort_values(by='Z', ascending=True).reset_index())\n",
    "orientations_claystone3"
   ]
  },
  {
   "cell_type": "code",
   "execution_count": null,
   "id": "marked-subscription",
   "metadata": {
    "ExecuteTime": {
     "end_time": "2022-04-11T06:27:44.482560Z",
     "start_time": "2022-04-11T06:27:44.435547Z"
    }
   },
   "outputs": [],
   "source": [
    "orientations_limestone1 = gg.vector.calculate_orientations_from_strike_lines(gdf=strikes[strikes['formation']=='Limestone1'].sort_values(by='Z', ascending=True).reset_index())\n",
    "orientations_limestone1"
   ]
  },
  {
   "cell_type": "code",
   "execution_count": null,
   "id": "through-handbook",
   "metadata": {
    "ExecuteTime": {
     "end_time": "2022-04-11T06:27:44.530568Z",
     "start_time": "2022-04-11T06:27:44.484567Z"
    }
   },
   "outputs": [],
   "source": [
    "orientations_limestone2 = gg.vector.calculate_orientations_from_strike_lines(gdf=strikes[strikes['formation']=='Limestone2'].sort_values(by='Z', ascending=True).reset_index())\n",
    "orientations_limestone2"
   ]
  },
  {
   "cell_type": "markdown",
   "id": "friendly-token",
   "metadata": {},
   "source": [
    "### Merging Orientations"
   ]
  },
  {
   "cell_type": "code",
   "execution_count": null,
   "id": "sitting-reproduction",
   "metadata": {
    "ExecuteTime": {
     "end_time": "2022-04-11T06:27:44.561573Z",
     "start_time": "2022-04-11T06:27:44.531572Z"
    }
   },
   "outputs": [],
   "source": [
    "import pandas as pd\n",
    "orientations = pd.concat([orientations_claystone1, orientations_claystone2, orientations_claystone3, orientations_limestone1, orientations_limestone2]).reset_index()\n",
    "orientations['formation'] = ['Claystone', 'Claystone', 'Claystone', 'Claystone', 'Claystone', 'Claystone', 'Limestone', 'Limestone']\n",
    "orientations"
   ]
  },
  {
   "cell_type": "markdown",
   "id": "textile-christianity",
   "metadata": {},
   "source": [
    "### Plotting the Orientations"
   ]
  },
  {
   "cell_type": "code",
   "execution_count": null,
   "id": "detected-certificate",
   "metadata": {
    "ExecuteTime": {
     "end_time": "2022-04-11T06:27:44.833631Z",
     "start_time": "2022-04-11T06:27:44.565575Z"
    }
   },
   "outputs": [],
   "source": [
    "fig, ax = plt.subplots(1, figsize=(10,10))\n",
    "\n",
    "interfaces.plot(ax=ax, column='formation', legend=True, aspect='equal')\n",
    "interfaces_coords.plot(ax=ax, column='formation', legend=True, aspect='equal')\n",
    "orientations.plot(ax=ax, color='red', aspect='equal')\n",
    "plt.grid()\n",
    "plt.xlabel('X [m]')\n",
    "plt.ylabel('Y [m]')\n",
    "plt.xlim(0,1022)\n",
    "plt.ylim(0,1172)"
   ]
  },
  {
   "cell_type": "markdown",
   "id": "wired-vietnamese",
   "metadata": {},
   "source": [
    "## GemPy Model Construction\n",
    "\n",
    "The structural geological model will be constructed using the `GemPy` package. "
   ]
  },
  {
   "cell_type": "code",
   "execution_count": null,
   "id": "governing-brazilian",
   "metadata": {
    "ExecuteTime": {
     "end_time": "2022-04-11T06:27:45.897892Z",
     "start_time": "2022-04-11T06:27:44.835633Z"
    }
   },
   "outputs": [],
   "source": [
    "import gempy as gp"
   ]
  },
  {
   "cell_type": "markdown",
   "id": "optical-realtor",
   "metadata": {},
   "source": [
    "### Creating new Model"
   ]
  },
  {
   "cell_type": "code",
   "execution_count": null,
   "id": "binding-fishing",
   "metadata": {
    "ExecuteTime": {
     "end_time": "2022-04-11T06:27:46.552529Z",
     "start_time": "2022-04-11T06:27:45.899879Z"
    }
   },
   "outputs": [],
   "source": [
    "geo_model = gp.create_model('Model26')\n",
    "geo_model"
   ]
  },
  {
   "cell_type": "markdown",
   "id": "stopped-poster",
   "metadata": {},
   "source": [
    "### Initiate Data"
   ]
  },
  {
   "cell_type": "code",
   "execution_count": null,
   "id": "assisted-nothing",
   "metadata": {
    "ExecuteTime": {
     "end_time": "2022-04-11T06:27:46.742310Z",
     "start_time": "2022-04-11T06:27:46.554547Z"
    }
   },
   "outputs": [],
   "source": [
    "gp.init_data(geo_model, [0,1022,0,1172,0,900], [100,100,100],\n",
    "             surface_points_df = interfaces_coords[interfaces_coords['Z']!=0],\n",
    "             orientations_df = orientations,\n",
    "             default_values=True)"
   ]
  },
  {
   "cell_type": "markdown",
   "id": "integrated-pension",
   "metadata": {},
   "source": [
    "### Model Surfaces"
   ]
  },
  {
   "cell_type": "code",
   "execution_count": null,
   "id": "cutting-energy",
   "metadata": {
    "ExecuteTime": {
     "end_time": "2022-04-11T06:27:46.805756Z",
     "start_time": "2022-04-11T06:27:46.745323Z"
    }
   },
   "outputs": [],
   "source": [
    "geo_model.surfaces"
   ]
  },
  {
   "cell_type": "markdown",
   "id": "younger-young",
   "metadata": {},
   "source": [
    "### Mapping the Stack to Surfaces"
   ]
  },
  {
   "cell_type": "code",
   "execution_count": null,
   "id": "formed-thought",
   "metadata": {
    "ExecuteTime": {
     "end_time": "2022-04-11T06:27:46.900780Z",
     "start_time": "2022-04-11T06:27:46.807758Z"
    }
   },
   "outputs": [],
   "source": [
    "gp.map_stack_to_surfaces(geo_model,\n",
    "                         {\n",
    "                          'Strata1': ('Limestone'),\n",
    "                          'Strata2': ('Claystone')\n",
    "                         },\n",
    "                         remove_unused_series=True)\n",
    "geo_model.add_surfaces('Sandstone')"
   ]
  },
  {
   "cell_type": "markdown",
   "id": "romance-denver",
   "metadata": {},
   "source": [
    "### Adding additional Orientations"
   ]
  },
  {
   "cell_type": "code",
   "execution_count": null,
   "id": "entitled-handling",
   "metadata": {
    "ExecuteTime": {
     "end_time": "2022-04-11T06:27:47.155836Z",
     "start_time": "2022-04-11T06:27:46.902780Z"
    }
   },
   "outputs": [],
   "source": [
    "geo_model.add_orientations(X=250, Y=1000, Z=300, surface='Limestone', orientation = [0,0,1])\n",
    "geo_model.add_orientations(X=750, Y=1000, Z=300, surface='Limestone', orientation = [0,0,1])\n",
    "geo_model.add_orientations(X=250, Y=200, Z=300, surface='Limestone', orientation = [0,0,1])\n",
    "geo_model.add_orientations(X=750, Y=200, Z=300, surface='Limestone', orientation = [0,0,1])\n",
    "geo_model.add_orientations(X=500, Y=50, Z=100, surface='Claystone', orientation = [0,0,1])\n",
    "geo_model.add_orientations(X=500, Y=600, Z=350, surface='Claystone', orientation = [0,0,1])\n",
    "geo_model.add_orientations(X=500, Y=1000, Z=150, surface='Claystone', orientation = [0,0,1])"
   ]
  },
  {
   "cell_type": "markdown",
   "id": "subtle-techno",
   "metadata": {},
   "source": [
    "### Showing the Number of Data Points"
   ]
  },
  {
   "cell_type": "code",
   "execution_count": null,
   "id": "forty-treaty",
   "metadata": {
    "ExecuteTime": {
     "end_time": "2022-04-11T06:27:47.219851Z",
     "start_time": "2022-04-11T06:27:47.157829Z"
    }
   },
   "outputs": [],
   "source": [
    "gg.utils.show_number_of_data_points(geo_model=geo_model)"
   ]
  },
  {
   "cell_type": "markdown",
   "id": "medieval-deployment",
   "metadata": {},
   "source": [
    "### Loading Digital Elevation Model"
   ]
  },
  {
   "cell_type": "code",
   "execution_count": null,
   "id": "subsequent-technique",
   "metadata": {
    "ExecuteTime": {
     "end_time": "2022-04-11T06:27:47.425891Z",
     "start_time": "2022-04-11T06:27:47.220844Z"
    }
   },
   "outputs": [],
   "source": [
    "geo_model.set_topography(\n",
    "    source='gdal', filepath=file_path + 'raster26.tif')"
   ]
  },
  {
   "cell_type": "markdown",
   "id": "delayed-alberta",
   "metadata": {},
   "source": [
    "### Defining Custom Section"
   ]
  },
  {
   "cell_type": "code",
   "execution_count": null,
   "id": "bigger-consciousness",
   "metadata": {
    "ExecuteTime": {
     "end_time": "2022-04-11T06:27:47.677956Z",
     "start_time": "2022-04-11T06:27:47.427890Z"
    }
   },
   "outputs": [],
   "source": [
    "custom_section = gpd.read_file(file_path + 'customsection26.shp')\n",
    "custom_section_dict = gg.utils.to_section_dict(custom_section, section_column='name')\n",
    "geo_model.set_section_grid(custom_section_dict)"
   ]
  },
  {
   "cell_type": "code",
   "execution_count": null,
   "id": "valuable-turkish",
   "metadata": {
    "ExecuteTime": {
     "end_time": "2022-04-11T06:27:47.869000Z",
     "start_time": "2022-04-11T06:27:47.680949Z"
    }
   },
   "outputs": [],
   "source": [
    "gp.plot.plot_section_traces(geo_model)"
   ]
  },
  {
   "cell_type": "markdown",
   "id": "extreme-drink",
   "metadata": {},
   "source": [
    "### Plotting Input Data"
   ]
  },
  {
   "cell_type": "code",
   "execution_count": null,
   "id": "conservative-philip",
   "metadata": {
    "ExecuteTime": {
     "end_time": "2022-04-11T06:27:48.092047Z",
     "start_time": "2022-04-11T06:27:47.871991Z"
    }
   },
   "outputs": [],
   "source": [
    "gp.plot_2d(geo_model, direction='z', show_lith=False, show_boundaries=False)\n",
    "plt.grid()"
   ]
  },
  {
   "cell_type": "code",
   "execution_count": null,
   "id": "vocational-intranet",
   "metadata": {
    "ExecuteTime": {
     "end_time": "2022-04-11T06:27:48.475134Z",
     "start_time": "2022-04-11T06:27:48.093047Z"
    }
   },
   "outputs": [],
   "source": [
    "gp.plot_3d(geo_model, image=False, plotter_type='basic', notebook=True)"
   ]
  },
  {
   "cell_type": "markdown",
   "id": "geological-triple",
   "metadata": {},
   "source": [
    "### Setting the Interpolator"
   ]
  },
  {
   "cell_type": "code",
   "execution_count": null,
   "id": "external-clerk",
   "metadata": {
    "ExecuteTime": {
     "end_time": "2022-04-11T06:27:51.009697Z",
     "start_time": "2022-04-11T06:27:48.477132Z"
    }
   },
   "outputs": [],
   "source": [
    "gp.set_interpolator(geo_model,\n",
    "                    compile_theano=True,\n",
    "                    theano_optimizer='fast_compile',\n",
    "                    verbose=[],\n",
    "                    update_kriging = False\n",
    "                    )"
   ]
  },
  {
   "cell_type": "markdown",
   "id": "above-lending",
   "metadata": {},
   "source": [
    "### Computing Model"
   ]
  },
  {
   "cell_type": "code",
   "execution_count": null,
   "id": "impressed-adams",
   "metadata": {
    "ExecuteTime": {
     "end_time": "2022-04-11T06:29:19.932541Z",
     "start_time": "2022-04-11T06:27:51.011699Z"
    }
   },
   "outputs": [],
   "source": [
    "sol = gp.compute_model(geo_model, compute_mesh=True)"
   ]
  },
  {
   "cell_type": "markdown",
   "id": "developing-wallet",
   "metadata": {},
   "source": [
    "### Plotting Cross Sections"
   ]
  },
  {
   "cell_type": "code",
   "execution_count": null,
   "id": "medical-engineer",
   "metadata": {
    "ExecuteTime": {
     "end_time": "2022-04-11T06:29:20.155608Z",
     "start_time": "2022-04-11T06:29:19.934552Z"
    }
   },
   "outputs": [],
   "source": [
    "gp.plot_2d(geo_model, section_names=['Section1'], show_topography=True, show_data=False)"
   ]
  },
  {
   "cell_type": "code",
   "execution_count": null,
   "id": "champion-collectible",
   "metadata": {
    "ExecuteTime": {
     "end_time": "2022-04-11T06:29:21.018786Z",
     "start_time": "2022-04-11T06:29:20.157596Z"
    }
   },
   "outputs": [],
   "source": [
    "gp.plot_2d(geo_model, direction=['x', 'x', 'y', 'y'], cell_number=[25,75,25,75], show_topography=True, show_data=False)"
   ]
  },
  {
   "cell_type": "markdown",
   "id": "intimate-connectivity",
   "metadata": {},
   "source": [
    "### Plotting 3D Model"
   ]
  },
  {
   "cell_type": "code",
   "execution_count": null,
   "id": "developing-comparison",
   "metadata": {
    "ExecuteTime": {
     "end_time": "2022-04-11T06:29:22.484806Z",
     "start_time": "2022-04-11T06:29:21.020787Z"
    }
   },
   "outputs": [],
   "source": [
    "gpv = gp.plot_3d(geo_model, image=False, show_topography=True,\n",
    "                 plotter_type='basic', notebook=True, show_lith=True)"
   ]
  },
  {
   "cell_type": "code",
   "execution_count": null,
   "id": "annual-clarity",
   "metadata": {},
   "outputs": [],
   "source": []
  }
 ],
 "metadata": {
  "hide_input": false,
  "kernelspec": {
   "display_name": "Python 3 (ipykernel)",
   "language": "python",
   "name": "python3"
  },
  "language_info": {
   "codemirror_mode": {
    "name": "ipython",
    "version": 3
   },
   "file_extension": ".py",
   "mimetype": "text/x-python",
   "name": "python",
   "nbconvert_exporter": "python",
   "pygments_lexer": "ipython3",
   "version": "3.9.15"
  },
  "varInspector": {
   "cols": {
    "lenName": 16,
    "lenType": 16,
    "lenVar": 40
   },
   "kernels_config": {
    "python": {
     "delete_cmd_postfix": "",
     "delete_cmd_prefix": "del ",
     "library": "var_list.py",
     "varRefreshCmd": "print(var_dic_list())"
    },
    "r": {
     "delete_cmd_postfix": ") ",
     "delete_cmd_prefix": "rm(",
     "library": "var_list.r",
     "varRefreshCmd": "cat(var_dic_list()) "
    }
   },
   "types_to_exclude": [
    "module",
    "function",
    "builtin_function_or_method",
    "instance",
    "_Feature"
   ],
   "window_display": false
  }
 },
 "nbformat": 4,
 "nbformat_minor": 5
}
